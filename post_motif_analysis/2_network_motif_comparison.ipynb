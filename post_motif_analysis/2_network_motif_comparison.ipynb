{
 "cells": [
  {
   "cell_type": "code",
   "execution_count": 1,
   "id": "7755c48d-5178-4d32-8303-bdc7765dae00",
   "metadata": {},
   "outputs": [],
   "source": [
    "import os\n",
    "# running from Root directory\n",
    "os.chdir(\"..\")"
   ]
  },
  {
   "cell_type": "code",
   "execution_count": 2,
   "id": "7e5d3d60-e214-4270-89d6-592f6225b344",
   "metadata": {},
   "outputs": [],
   "source": [
    "from motif_search_main import load_network_from_args\n",
    "from utils.export_import import import_results\n",
    "from utils.logs import log_motif_criteria_args, log_motif_results, log_sub_graph_args, log_randomizer_args, log_motifs_table\n",
    "from utils.types import MotifCriteriaArgs, MotifType, MotifName, Motif\n",
    "import matplotlib.pyplot as plt\n",
    "import networkx as nx\n",
    "from typing import Union\n",
    "import numpy as np\n",
    "from collections import defaultdict\n",
    "from isomorphic.isomorphic import get_sub_graph_mapping_to_motif\n",
    "from post_motif_analysis.network_utils import draw_sub_graph, draw_neighbors, node_properties\n",
    "from matplotlib.patches import ArrowStyle \n",
    "import matplotlib.patches as patches\n",
    "from networks.network import Network\n",
    "from numpy import linalg as LA\n",
    "import plotly.express as px"
   ]
  },
  {
   "cell_type": "code",
   "execution_count": 3,
   "id": "8a2d5758-e875-409f-a347-49e08954b5f5",
   "metadata": {},
   "outputs": [],
   "source": [
    "three_sub_graphs_mapping = {\n",
    "    14: \"mutual out\",\n",
    "    38: \"feed forward\",\n",
    "    46: \"regulating mutual\",\n",
    "    74: \"mutual in\",\n",
    "    78: \"bi-mutual\",\n",
    "    102: \"mutual cascade\",\n",
    "    108: \"regulated mutual\",\n",
    "    110: \"semi clique\",\n",
    "    6: \"fan out\",\n",
    "    12: \"cascade\",\n",
    "    36: \"fan in\",\n",
    "    98: \"feed backward\",\n",
    "    238: \"clique\"\n",
    "}\n",
    "\n",
    "three_sub_graphs_colors = {\n",
    "    14: \"#1f77b4\",\n",
    "    38: \"#ff7f0e\",\n",
    "    46: \"#2ca02c\",\n",
    "    74: \"#d62728\",\n",
    "    78: \"#9467bd\",\n",
    "    102: \"#8c564b\",\n",
    "    108: \"#e377c2\",\n",
    "    110: \"#7f7f7f\",\n",
    "    6: \"#bcbd22\",\n",
    "    12: \"#17becf\",\n",
    "    36: \"red\",\n",
    "    98: \"green\",\n",
    "    238: \"black\"\n",
    "}"
   ]
  },
  {
   "cell_type": "code",
   "execution_count": 4,
   "id": "1e84ff96-97c7-4f96-943c-2f3f354d8489",
   "metadata": {},
   "outputs": [],
   "source": [
    "def get_polarity_motifs_list(motifs: dict):\n",
    "    polarity_motifs = []\n",
    "    for m in motifs.values():\n",
    "        polarity_motifs.extend(m.polarity_motifs)\n",
    "    return polarity_motifs"
   ]
  },
  {
   "cell_type": "code",
   "execution_count": 5,
   "id": "41ba9cf5-a4b4-4f6e-aed9-53135a720ad7",
   "metadata": {},
   "outputs": [],
   "source": [
    "def draw_graph_on_plot(graph, center_x, center_y, range_x, range_y, factor, ax, edge_color, label):\n",
    "    node_positions = nx.circular_layout(graph)\n",
    "    for node in node_positions:\n",
    "        x = node_positions[node][0]\n",
    "        y = node_positions[node][1]\n",
    "        \n",
    "        new_x = x * range_x/factor + center_x\n",
    "        new_y = y * range_y/factor + center_y\n",
    "        node_positions[node] = (new_x, new_y)\n",
    "        \n",
    "    node_pos = [node_positions[v] for v in graph.nodes()]\n",
    "    for node, pos in node_positions.items():\n",
    "        ax.text(pos[0], pos[1], str(node), fontsize=10, ha='center', va='center')  # Node labels\n",
    "    \n",
    "    for u, v in graph.edges():\n",
    "        ax.annotate(\"\", xy=node_positions[v], xytext=node_positions[u],\n",
    "                    arrowprops=dict(arrowstyle=\"->\", linewidth=1.5, color=edge_color))\n",
    "\n",
    "    ax.text(pos[0], pos[1]/2, label, fontsize=10, ha='center', va='center') \n",
    "\n",
    "def draw_graphs(motifs: dict):\n",
    "    fig, ax = plt.subplots()\n",
    "    fig.set_size_inches(13, 3)\n",
    "    step = 18\n",
    "    ax.set_ylim(ymin=0, ymax=step)\n",
    "    ax.set_xlim(xmin=0, xmax=(step+2) * 13)\n",
    "\n",
    "    range_x = 13 * step\n",
    "    range_y = 3  * step\n",
    "    for i, m in enumerate(motifs.values()):\n",
    "        color = three_sub_graphs_colors[m.id]\n",
    "        cx = (i+1) * step\n",
    "        graph = nx.DiGraph(m.role_pattern)\n",
    "        \n",
    "        label = three_sub_graphs_mapping[int(m.id)]\n",
    "        label=m.id\n",
    "        draw_graph_on_plot(graph, cx, step/2, range_x, range_y, step*1.5, ax, color, label)"
   ]
  },
  {
   "cell_type": "code",
   "execution_count": 6,
   "id": "8f244119-af40-4194-b36b-7f1c5049b846",
   "metadata": {},
   "outputs": [],
   "source": [
    "def get_ids(motifs: list[Motif]):\n",
    "    ids_ = [str(m.id) for m in motifs]\n",
    "    return [i.replace('complex', 'c') for i in ids_]\n",
    "\n",
    "def symmetrize_y_axis(axes):\n",
    "    y_max = np.max(np.abs(axes.get_ylim()))\n",
    "    axes.set_ylim(ymin=-y_max, ymax=y_max)\n",
    "\n",
    "def symmetrize_x_axis(axes):\n",
    "    x_max = np.max(np.abs(axes.get_xlim()))\n",
    "    axes.set_xlim(xmin=-x_max, xmax=x_max)\n",
    "\n",
    "def z_score_compare(motifs1: list[Motif], motifs2: list[Motif], use_full_name=False, filter_th=0, norm=True):\n",
    "    ids1 = get_ids(motifs1)\n",
    "    ids2 = get_ids(motifs2)\n",
    "    if not ids2 == ids1:\n",
    "        print('networks dont match for comparison')\n",
    "        return\n",
    "    print(f'Comparing {len(ids1)} motifs')\n",
    "    \n",
    "    z_scores1 = [round(m.motif_criteria.z_score, 2) for m in motifs1]\n",
    "    z_scores2 = [round(m.motif_criteria.z_score, 2) for m in motifs2]\n",
    "\n",
    "    if norm:\n",
    "        z_scores1 = np.array(z_scores1) / LA.norm(z_scores1)\n",
    "        z_scores2 = np.array(z_scores2) / LA.norm(z_scores2)\n",
    "\n",
    "    colors = []\n",
    "    for id_ in ids1:\n",
    "        if use_full_name:\n",
    "            colors.append(three_sub_graphs_mapping[int(id_)])\n",
    "        else:\n",
    "            colors.append(id_)\n",
    "            \n",
    "    fig = px.scatter(x=z_scores1,\n",
    "                     y=z_scores2,\n",
    "                     color=colors,\n",
    "                     labels={\n",
    "                         \"x\": name1,\n",
    "                         \"y\": name2\n",
    "                     },\n",
    "                    ).show()\n",
    "    \n",
    "    fig, ax = plt.subplots()\n",
    "    plt.axhline(0, color='black', linestyle =\"--\")\n",
    "    plt.axvline(0, color='black', linestyle =\"--\")\n",
    "\n",
    "    for i, (id_, z1, z2) in enumerate(zip(ids1, z_scores1, z_scores2)):\n",
    "        if not norm:\n",
    "            if abs(z1) <= filter_th and abs(z2) <= filter_th:\n",
    "                continue\n",
    "                \n",
    "        if use_full_name:\n",
    "            label = three_sub_graphs_mapping[int(id_)]\n",
    "        else:\n",
    "            label = id_\n",
    "            \n",
    "        id_num = int(id_.split()[0])\n",
    "        ax.scatter(z1, z2, label=label, color=three_sub_graphs_colors[id_num])\n",
    "        \n",
    "    legend_cols = 2 if len(ids1) < 100 else 4\n",
    "    lgd = ax.legend(loc='best', ncol=legend_cols, title=\"subgraph\", fontsize=8, bbox_to_anchor=(1.1, 1.05))\n",
    "    ax.grid(True)\n",
    "    \n",
    "    plt.ylabel(f'Z-score: {name2}')\n",
    "    plt.xlabel(f'Z-score: {name1}')\n",
    "\n",
    "    # symmetrize_y_axis(ax)\n",
    "    # symmetrize_x_axis(ax)"
   ]
  },
  {
   "cell_type": "code",
   "execution_count": 13,
   "id": "7f19dc56-e09d-409d-951a-1f11044a7269",
   "metadata": {},
   "outputs": [
    {
     "name": "stdout",
     "output_type": "stream",
     "text": [
      "Comparing 13 motifs\n"
     ]
    },
    {
     "data": {
      "application/vnd.plotly.v1+json": {
       "config": {
        "plotlyServerURL": "https://plot.ly"
       },
       "data": [
        {
         "hovertemplate": "color=fan out<br>cook_si2_male_gap_k3_m5_nerve_ring_sf200=%{x}<br>cook_si2_male_gap_k3_m5_nerve_ring_bio_rand_sf200=%{y}<extra></extra>",
         "legendgroup": "fan out",
         "marker": {
          "color": "#636efa",
          "symbol": "circle"
         },
         "mode": "markers",
         "name": "fan out",
         "orientation": "v",
         "showlegend": true,
         "type": "scatter",
         "x": [
          -4.7
         ],
         "xaxis": "x",
         "y": [
          -3.3
         ],
         "yaxis": "y"
        },
        {
         "hovertemplate": "color=cascade<br>cook_si2_male_gap_k3_m5_nerve_ring_sf200=%{x}<br>cook_si2_male_gap_k3_m5_nerve_ring_bio_rand_sf200=%{y}<extra></extra>",
         "legendgroup": "cascade",
         "marker": {
          "color": "#EF553B",
          "symbol": "circle"
         },
         "mode": "markers",
         "name": "cascade",
         "orientation": "v",
         "showlegend": true,
         "type": "scatter",
         "x": [
          -7.12
         ],
         "xaxis": "x",
         "y": [
          -5.52
         ],
         "yaxis": "y"
        },
        {
         "hovertemplate": "color=mutual out<br>cook_si2_male_gap_k3_m5_nerve_ring_sf200=%{x}<br>cook_si2_male_gap_k3_m5_nerve_ring_bio_rand_sf200=%{y}<extra></extra>",
         "legendgroup": "mutual out",
         "marker": {
          "color": "#00cc96",
          "symbol": "circle"
         },
         "mode": "markers",
         "name": "mutual out",
         "orientation": "v",
         "showlegend": true,
         "type": "scatter",
         "x": [
          -2.45
         ],
         "xaxis": "x",
         "y": [
          -5.07
         ],
         "yaxis": "y"
        },
        {
         "hovertemplate": "color=fan in<br>cook_si2_male_gap_k3_m5_nerve_ring_sf200=%{x}<br>cook_si2_male_gap_k3_m5_nerve_ring_bio_rand_sf200=%{y}<extra></extra>",
         "legendgroup": "fan in",
         "marker": {
          "color": "#ab63fa",
          "symbol": "circle"
         },
         "mode": "markers",
         "name": "fan in",
         "orientation": "v",
         "showlegend": true,
         "type": "scatter",
         "x": [
          -4.69
         ],
         "xaxis": "x",
         "y": [
          -3.29
         ],
         "yaxis": "y"
        },
        {
         "hovertemplate": "color=feed forward<br>cook_si2_male_gap_k3_m5_nerve_ring_sf200=%{x}<br>cook_si2_male_gap_k3_m5_nerve_ring_bio_rand_sf200=%{y}<extra></extra>",
         "legendgroup": "feed forward",
         "marker": {
          "color": "#FFA15A",
          "symbol": "circle"
         },
         "mode": "markers",
         "name": "feed forward",
         "orientation": "v",
         "showlegend": true,
         "type": "scatter",
         "x": [
          -1.45
         ],
         "xaxis": "x",
         "y": [
          -1.19
         ],
         "yaxis": "y"
        },
        {
         "hovertemplate": "color=regulating mutual<br>cook_si2_male_gap_k3_m5_nerve_ring_sf200=%{x}<br>cook_si2_male_gap_k3_m5_nerve_ring_bio_rand_sf200=%{y}<extra></extra>",
         "legendgroup": "regulating mutual",
         "marker": {
          "color": "#19d3f3",
          "symbol": "circle"
         },
         "mode": "markers",
         "name": "regulating mutual",
         "orientation": "v",
         "showlegend": true,
         "type": "scatter",
         "x": [
          -0.58
         ],
         "xaxis": "x",
         "y": [
          -0.8
         ],
         "yaxis": "y"
        },
        {
         "hovertemplate": "color=mutual in<br>cook_si2_male_gap_k3_m5_nerve_ring_sf200=%{x}<br>cook_si2_male_gap_k3_m5_nerve_ring_bio_rand_sf200=%{y}<extra></extra>",
         "legendgroup": "mutual in",
         "marker": {
          "color": "#FF6692",
          "symbol": "circle"
         },
         "mode": "markers",
         "name": "mutual in",
         "orientation": "v",
         "showlegend": true,
         "type": "scatter",
         "x": [
          -2.46
         ],
         "xaxis": "x",
         "y": [
          -5.01
         ],
         "yaxis": "y"
        },
        {
         "hovertemplate": "color=bi-mutual<br>cook_si2_male_gap_k3_m5_nerve_ring_sf200=%{x}<br>cook_si2_male_gap_k3_m5_nerve_ring_bio_rand_sf200=%{y}<extra></extra>",
         "legendgroup": "bi-mutual",
         "marker": {
          "color": "#B6E880",
          "symbol": "circle"
         },
         "mode": "markers",
         "name": "bi-mutual",
         "orientation": "v",
         "showlegend": true,
         "type": "scatter",
         "x": [
          20.94
         ],
         "xaxis": "x",
         "y": [
          9.53
         ],
         "yaxis": "y"
        },
        {
         "hovertemplate": "color=feed backward<br>cook_si2_male_gap_k3_m5_nerve_ring_sf200=%{x}<br>cook_si2_male_gap_k3_m5_nerve_ring_bio_rand_sf200=%{y}<extra></extra>",
         "legendgroup": "feed backward",
         "marker": {
          "color": "#FF97FF",
          "symbol": "circle"
         },
         "mode": "markers",
         "name": "feed backward",
         "orientation": "v",
         "showlegend": true,
         "type": "scatter",
         "x": [
          -1.85
         ],
         "xaxis": "x",
         "y": [
          -1.72
         ],
         "yaxis": "y"
        },
        {
         "hovertemplate": "color=mutual cascade<br>cook_si2_male_gap_k3_m5_nerve_ring_sf200=%{x}<br>cook_si2_male_gap_k3_m5_nerve_ring_bio_rand_sf200=%{y}<extra></extra>",
         "legendgroup": "mutual cascade",
         "marker": {
          "color": "#FECB52",
          "symbol": "circle"
         },
         "mode": "markers",
         "name": "mutual cascade",
         "orientation": "v",
         "showlegend": true,
         "type": "scatter",
         "x": [
          -1.09
         ],
         "xaxis": "x",
         "y": [
          -1.84
         ],
         "yaxis": "y"
        },
        {
         "hovertemplate": "color=regulated mutual<br>cook_si2_male_gap_k3_m5_nerve_ring_sf200=%{x}<br>cook_si2_male_gap_k3_m5_nerve_ring_bio_rand_sf200=%{y}<extra></extra>",
         "legendgroup": "regulated mutual",
         "marker": {
          "color": "#636efa",
          "symbol": "circle"
         },
         "mode": "markers",
         "name": "regulated mutual",
         "orientation": "v",
         "showlegend": true,
         "type": "scatter",
         "x": [
          -0.54
         ],
         "xaxis": "x",
         "y": [
          -0.84
         ],
         "yaxis": "y"
        },
        {
         "hovertemplate": "color=semi clique<br>cook_si2_male_gap_k3_m5_nerve_ring_sf200=%{x}<br>cook_si2_male_gap_k3_m5_nerve_ring_bio_rand_sf200=%{y}<extra></extra>",
         "legendgroup": "semi clique",
         "marker": {
          "color": "#EF553B",
          "symbol": "circle"
         },
         "mode": "markers",
         "name": "semi clique",
         "orientation": "v",
         "showlegend": true,
         "type": "scatter",
         "x": [
          -0.45
         ],
         "xaxis": "x",
         "y": [
          -1.12
         ],
         "yaxis": "y"
        },
        {
         "hovertemplate": "color=clique<br>cook_si2_male_gap_k3_m5_nerve_ring_sf200=%{x}<br>cook_si2_male_gap_k3_m5_nerve_ring_bio_rand_sf200=%{y}<extra></extra>",
         "legendgroup": "clique",
         "marker": {
          "color": "#00cc96",
          "symbol": "circle"
         },
         "mode": "markers",
         "name": "clique",
         "orientation": "v",
         "showlegend": true,
         "type": "scatter",
         "x": [
          71.88
         ],
         "xaxis": "x",
         "y": [
          13.79
         ],
         "yaxis": "y"
        }
       ],
       "layout": {
        "autosize": true,
        "legend": {
         "title": {
          "text": "color"
         },
         "tracegroupgap": 0
        },
        "margin": {
         "t": 60
        },
        "template": {
         "data": {
          "bar": [
           {
            "error_x": {
             "color": "#2a3f5f"
            },
            "error_y": {
             "color": "#2a3f5f"
            },
            "marker": {
             "line": {
              "color": "#E5ECF6",
              "width": 0.5
             },
             "pattern": {
              "fillmode": "overlay",
              "size": 10,
              "solidity": 0.2
             }
            },
            "type": "bar"
           }
          ],
          "barpolar": [
           {
            "marker": {
             "line": {
              "color": "#E5ECF6",
              "width": 0.5
             },
             "pattern": {
              "fillmode": "overlay",
              "size": 10,
              "solidity": 0.2
             }
            },
            "type": "barpolar"
           }
          ],
          "carpet": [
           {
            "aaxis": {
             "endlinecolor": "#2a3f5f",
             "gridcolor": "white",
             "linecolor": "white",
             "minorgridcolor": "white",
             "startlinecolor": "#2a3f5f"
            },
            "baxis": {
             "endlinecolor": "#2a3f5f",
             "gridcolor": "white",
             "linecolor": "white",
             "minorgridcolor": "white",
             "startlinecolor": "#2a3f5f"
            },
            "type": "carpet"
           }
          ],
          "choropleth": [
           {
            "colorbar": {
             "outlinewidth": 0,
             "ticks": ""
            },
            "type": "choropleth"
           }
          ],
          "contour": [
           {
            "colorbar": {
             "outlinewidth": 0,
             "ticks": ""
            },
            "colorscale": [
             [
              0,
              "#0d0887"
             ],
             [
              0.1111111111111111,
              "#46039f"
             ],
             [
              0.2222222222222222,
              "#7201a8"
             ],
             [
              0.3333333333333333,
              "#9c179e"
             ],
             [
              0.4444444444444444,
              "#bd3786"
             ],
             [
              0.5555555555555556,
              "#d8576b"
             ],
             [
              0.6666666666666666,
              "#ed7953"
             ],
             [
              0.7777777777777778,
              "#fb9f3a"
             ],
             [
              0.8888888888888888,
              "#fdca26"
             ],
             [
              1,
              "#f0f921"
             ]
            ],
            "type": "contour"
           }
          ],
          "contourcarpet": [
           {
            "colorbar": {
             "outlinewidth": 0,
             "ticks": ""
            },
            "type": "contourcarpet"
           }
          ],
          "heatmap": [
           {
            "colorbar": {
             "outlinewidth": 0,
             "ticks": ""
            },
            "colorscale": [
             [
              0,
              "#0d0887"
             ],
             [
              0.1111111111111111,
              "#46039f"
             ],
             [
              0.2222222222222222,
              "#7201a8"
             ],
             [
              0.3333333333333333,
              "#9c179e"
             ],
             [
              0.4444444444444444,
              "#bd3786"
             ],
             [
              0.5555555555555556,
              "#d8576b"
             ],
             [
              0.6666666666666666,
              "#ed7953"
             ],
             [
              0.7777777777777778,
              "#fb9f3a"
             ],
             [
              0.8888888888888888,
              "#fdca26"
             ],
             [
              1,
              "#f0f921"
             ]
            ],
            "type": "heatmap"
           }
          ],
          "heatmapgl": [
           {
            "colorbar": {
             "outlinewidth": 0,
             "ticks": ""
            },
            "colorscale": [
             [
              0,
              "#0d0887"
             ],
             [
              0.1111111111111111,
              "#46039f"
             ],
             [
              0.2222222222222222,
              "#7201a8"
             ],
             [
              0.3333333333333333,
              "#9c179e"
             ],
             [
              0.4444444444444444,
              "#bd3786"
             ],
             [
              0.5555555555555556,
              "#d8576b"
             ],
             [
              0.6666666666666666,
              "#ed7953"
             ],
             [
              0.7777777777777778,
              "#fb9f3a"
             ],
             [
              0.8888888888888888,
              "#fdca26"
             ],
             [
              1,
              "#f0f921"
             ]
            ],
            "type": "heatmapgl"
           }
          ],
          "histogram": [
           {
            "marker": {
             "pattern": {
              "fillmode": "overlay",
              "size": 10,
              "solidity": 0.2
             }
            },
            "type": "histogram"
           }
          ],
          "histogram2d": [
           {
            "colorbar": {
             "outlinewidth": 0,
             "ticks": ""
            },
            "colorscale": [
             [
              0,
              "#0d0887"
             ],
             [
              0.1111111111111111,
              "#46039f"
             ],
             [
              0.2222222222222222,
              "#7201a8"
             ],
             [
              0.3333333333333333,
              "#9c179e"
             ],
             [
              0.4444444444444444,
              "#bd3786"
             ],
             [
              0.5555555555555556,
              "#d8576b"
             ],
             [
              0.6666666666666666,
              "#ed7953"
             ],
             [
              0.7777777777777778,
              "#fb9f3a"
             ],
             [
              0.8888888888888888,
              "#fdca26"
             ],
             [
              1,
              "#f0f921"
             ]
            ],
            "type": "histogram2d"
           }
          ],
          "histogram2dcontour": [
           {
            "colorbar": {
             "outlinewidth": 0,
             "ticks": ""
            },
            "colorscale": [
             [
              0,
              "#0d0887"
             ],
             [
              0.1111111111111111,
              "#46039f"
             ],
             [
              0.2222222222222222,
              "#7201a8"
             ],
             [
              0.3333333333333333,
              "#9c179e"
             ],
             [
              0.4444444444444444,
              "#bd3786"
             ],
             [
              0.5555555555555556,
              "#d8576b"
             ],
             [
              0.6666666666666666,
              "#ed7953"
             ],
             [
              0.7777777777777778,
              "#fb9f3a"
             ],
             [
              0.8888888888888888,
              "#fdca26"
             ],
             [
              1,
              "#f0f921"
             ]
            ],
            "type": "histogram2dcontour"
           }
          ],
          "mesh3d": [
           {
            "colorbar": {
             "outlinewidth": 0,
             "ticks": ""
            },
            "type": "mesh3d"
           }
          ],
          "parcoords": [
           {
            "line": {
             "colorbar": {
              "outlinewidth": 0,
              "ticks": ""
             }
            },
            "type": "parcoords"
           }
          ],
          "pie": [
           {
            "automargin": true,
            "type": "pie"
           }
          ],
          "scatter": [
           {
            "fillpattern": {
             "fillmode": "overlay",
             "size": 10,
             "solidity": 0.2
            },
            "type": "scatter"
           }
          ],
          "scatter3d": [
           {
            "line": {
             "colorbar": {
              "outlinewidth": 0,
              "ticks": ""
             }
            },
            "marker": {
             "colorbar": {
              "outlinewidth": 0,
              "ticks": ""
             }
            },
            "type": "scatter3d"
           }
          ],
          "scattercarpet": [
           {
            "marker": {
             "colorbar": {
              "outlinewidth": 0,
              "ticks": ""
             }
            },
            "type": "scattercarpet"
           }
          ],
          "scattergeo": [
           {
            "marker": {
             "colorbar": {
              "outlinewidth": 0,
              "ticks": ""
             }
            },
            "type": "scattergeo"
           }
          ],
          "scattergl": [
           {
            "marker": {
             "colorbar": {
              "outlinewidth": 0,
              "ticks": ""
             }
            },
            "type": "scattergl"
           }
          ],
          "scattermapbox": [
           {
            "marker": {
             "colorbar": {
              "outlinewidth": 0,
              "ticks": ""
             }
            },
            "type": "scattermapbox"
           }
          ],
          "scatterpolar": [
           {
            "marker": {
             "colorbar": {
              "outlinewidth": 0,
              "ticks": ""
             }
            },
            "type": "scatterpolar"
           }
          ],
          "scatterpolargl": [
           {
            "marker": {
             "colorbar": {
              "outlinewidth": 0,
              "ticks": ""
             }
            },
            "type": "scatterpolargl"
           }
          ],
          "scatterternary": [
           {
            "marker": {
             "colorbar": {
              "outlinewidth": 0,
              "ticks": ""
             }
            },
            "type": "scatterternary"
           }
          ],
          "surface": [
           {
            "colorbar": {
             "outlinewidth": 0,
             "ticks": ""
            },
            "colorscale": [
             [
              0,
              "#0d0887"
             ],
             [
              0.1111111111111111,
              "#46039f"
             ],
             [
              0.2222222222222222,
              "#7201a8"
             ],
             [
              0.3333333333333333,
              "#9c179e"
             ],
             [
              0.4444444444444444,
              "#bd3786"
             ],
             [
              0.5555555555555556,
              "#d8576b"
             ],
             [
              0.6666666666666666,
              "#ed7953"
             ],
             [
              0.7777777777777778,
              "#fb9f3a"
             ],
             [
              0.8888888888888888,
              "#fdca26"
             ],
             [
              1,
              "#f0f921"
             ]
            ],
            "type": "surface"
           }
          ],
          "table": [
           {
            "cells": {
             "fill": {
              "color": "#EBF0F8"
             },
             "line": {
              "color": "white"
             }
            },
            "header": {
             "fill": {
              "color": "#C8D4E3"
             },
             "line": {
              "color": "white"
             }
            },
            "type": "table"
           }
          ]
         },
         "layout": {
          "annotationdefaults": {
           "arrowcolor": "#2a3f5f",
           "arrowhead": 0,
           "arrowwidth": 1
          },
          "autotypenumbers": "strict",
          "coloraxis": {
           "colorbar": {
            "outlinewidth": 0,
            "ticks": ""
           }
          },
          "colorscale": {
           "diverging": [
            [
             0,
             "#8e0152"
            ],
            [
             0.1,
             "#c51b7d"
            ],
            [
             0.2,
             "#de77ae"
            ],
            [
             0.3,
             "#f1b6da"
            ],
            [
             0.4,
             "#fde0ef"
            ],
            [
             0.5,
             "#f7f7f7"
            ],
            [
             0.6,
             "#e6f5d0"
            ],
            [
             0.7,
             "#b8e186"
            ],
            [
             0.8,
             "#7fbc41"
            ],
            [
             0.9,
             "#4d9221"
            ],
            [
             1,
             "#276419"
            ]
           ],
           "sequential": [
            [
             0,
             "#0d0887"
            ],
            [
             0.1111111111111111,
             "#46039f"
            ],
            [
             0.2222222222222222,
             "#7201a8"
            ],
            [
             0.3333333333333333,
             "#9c179e"
            ],
            [
             0.4444444444444444,
             "#bd3786"
            ],
            [
             0.5555555555555556,
             "#d8576b"
            ],
            [
             0.6666666666666666,
             "#ed7953"
            ],
            [
             0.7777777777777778,
             "#fb9f3a"
            ],
            [
             0.8888888888888888,
             "#fdca26"
            ],
            [
             1,
             "#f0f921"
            ]
           ],
           "sequentialminus": [
            [
             0,
             "#0d0887"
            ],
            [
             0.1111111111111111,
             "#46039f"
            ],
            [
             0.2222222222222222,
             "#7201a8"
            ],
            [
             0.3333333333333333,
             "#9c179e"
            ],
            [
             0.4444444444444444,
             "#bd3786"
            ],
            [
             0.5555555555555556,
             "#d8576b"
            ],
            [
             0.6666666666666666,
             "#ed7953"
            ],
            [
             0.7777777777777778,
             "#fb9f3a"
            ],
            [
             0.8888888888888888,
             "#fdca26"
            ],
            [
             1,
             "#f0f921"
            ]
           ]
          },
          "colorway": [
           "#636efa",
           "#EF553B",
           "#00cc96",
           "#ab63fa",
           "#FFA15A",
           "#19d3f3",
           "#FF6692",
           "#B6E880",
           "#FF97FF",
           "#FECB52"
          ],
          "font": {
           "color": "#2a3f5f"
          },
          "geo": {
           "bgcolor": "white",
           "lakecolor": "white",
           "landcolor": "#E5ECF6",
           "showlakes": true,
           "showland": true,
           "subunitcolor": "white"
          },
          "hoverlabel": {
           "align": "left"
          },
          "hovermode": "closest",
          "mapbox": {
           "style": "light"
          },
          "paper_bgcolor": "white",
          "plot_bgcolor": "#E5ECF6",
          "polar": {
           "angularaxis": {
            "gridcolor": "white",
            "linecolor": "white",
            "ticks": ""
           },
           "bgcolor": "#E5ECF6",
           "radialaxis": {
            "gridcolor": "white",
            "linecolor": "white",
            "ticks": ""
           }
          },
          "scene": {
           "xaxis": {
            "backgroundcolor": "#E5ECF6",
            "gridcolor": "white",
            "gridwidth": 2,
            "linecolor": "white",
            "showbackground": true,
            "ticks": "",
            "zerolinecolor": "white"
           },
           "yaxis": {
            "backgroundcolor": "#E5ECF6",
            "gridcolor": "white",
            "gridwidth": 2,
            "linecolor": "white",
            "showbackground": true,
            "ticks": "",
            "zerolinecolor": "white"
           },
           "zaxis": {
            "backgroundcolor": "#E5ECF6",
            "gridcolor": "white",
            "gridwidth": 2,
            "linecolor": "white",
            "showbackground": true,
            "ticks": "",
            "zerolinecolor": "white"
           }
          },
          "shapedefaults": {
           "line": {
            "color": "#2a3f5f"
           }
          },
          "ternary": {
           "aaxis": {
            "gridcolor": "white",
            "linecolor": "white",
            "ticks": ""
           },
           "baxis": {
            "gridcolor": "white",
            "linecolor": "white",
            "ticks": ""
           },
           "bgcolor": "#E5ECF6",
           "caxis": {
            "gridcolor": "white",
            "linecolor": "white",
            "ticks": ""
           }
          },
          "title": {
           "x": 0.05
          },
          "xaxis": {
           "automargin": true,
           "gridcolor": "white",
           "linecolor": "white",
           "ticks": "",
           "title": {
            "standoff": 15
           },
           "zerolinecolor": "white",
           "zerolinewidth": 2
          },
          "yaxis": {
           "automargin": true,
           "gridcolor": "white",
           "linecolor": "white",
           "ticks": "",
           "title": {
            "standoff": 15
           },
           "zerolinecolor": "white",
           "zerolinewidth": 2
          }
         }
        },
        "xaxis": {
         "anchor": "y",
         "autorange": false,
         "domain": [
          0,
          1
         ],
         "range": [
          -9.053191878346208,
          2.1994705284695524
         ],
         "title": {
          "text": "cook_si2_male_gap_k3_m5_nerve_ring_sf200"
         },
         "type": "linear"
        },
        "yaxis": {
         "anchor": "x",
         "autorange": false,
         "domain": [
          0,
          1
         ],
         "range": [
          -7.0151312335958,
          1.3221259842519695
         ],
         "title": {
          "text": "cook_si2_male_gap_k3_m5_nerve_ring_bio_rand_sf200"
         },
         "type": "linear"
        }
       }
      },
      "image/png": "[encoded data removed]",
      "text/html": [
       "<div>                            <div id=\"574c86b1-b7d4-443a-8431-fd6f1caf00ca\" class=\"plotly-graph-div\" style=\"height:525px; width:100%;\"></div>            <script type=\"text/javascript\">                require([\"plotly\"], function(Plotly) {                    window.PLOTLYENV=window.PLOTLYENV || {};                                    if (document.getElementById(\"574c86b1-b7d4-443a-8431-fd6f1caf00ca\")) {                    Plotly.newPlot(                        \"574c86b1-b7d4-443a-8431-fd6f1caf00ca\",                        [{\"hovertemplate\":\"color=fan out\\u003cbr\\u003ecook_si2_male_gap_k3_m5_nerve_ring_sf200=%{x}\\u003cbr\\u003ecook_si2_male_gap_k3_m5_nerve_ring_bio_rand_sf200=%{y}\\u003cextra\\u003e\\u003c\\u002fextra\\u003e\",\"legendgroup\":\"fan out\",\"marker\":{\"color\":\"#636efa\",\"symbol\":\"circle\"},\"mode\":\"markers\",\"name\":\"fan out\",\"orientation\":\"v\",\"showlegend\":true,\"x\":[-4.7],\"xaxis\":\"x\",\"y\":[-3.3],\"yaxis\":\"y\",\"type\":\"scatter\"},{\"hovertemplate\":\"color=cascade\\u003cbr\\u003ecook_si2_male_gap_k3_m5_nerve_ring_sf200=%{x}\\u003cbr\\u003ecook_si2_male_gap_k3_m5_nerve_ring_bio_rand_sf200=%{y}\\u003cextra\\u003e\\u003c\\u002fextra\\u003e\",\"legendgroup\":\"cascade\",\"marker\":{\"color\":\"#EF553B\",\"symbol\":\"circle\"},\"mode\":\"markers\",\"name\":\"cascade\",\"orientation\":\"v\",\"showlegend\":true,\"x\":[-7.12],\"xaxis\":\"x\",\"y\":[-5.52],\"yaxis\":\"y\",\"type\":\"scatter\"},{\"hovertemplate\":\"color=mutual out\\u003cbr\\u003ecook_si2_male_gap_k3_m5_nerve_ring_sf200=%{x}\\u003cbr\\u003ecook_si2_male_gap_k3_m5_nerve_ring_bio_rand_sf200=%{y}\\u003cextra\\u003e\\u003c\\u002fextra\\u003e\",\"legendgroup\":\"mutual out\",\"marker\":{\"color\":\"#00cc96\",\"symbol\":\"circle\"},\"mode\":\"markers\",\"name\":\"mutual out\",\"orientation\":\"v\",\"showlegend\":true,\"x\":[-2.45],\"xaxis\":\"x\",\"y\":[-5.07],\"yaxis\":\"y\",\"type\":\"scatter\"},{\"hovertemplate\":\"color=fan in\\u003cbr\\u003ecook_si2_male_gap_k3_m5_nerve_ring_sf200=%{x}\\u003cbr\\u003ecook_si2_male_gap_k3_m5_nerve_ring_bio_rand_sf200=%{y}\\u003cextra\\u003e\\u003c\\u002fextra\\u003e\",\"legendgroup\":\"fan in\",\"marker\":{\"color\":\"#ab63fa\",\"symbol\":\"circle\"},\"mode\":\"markers\",\"name\":\"fan in\",\"orientation\":\"v\",\"showlegend\":true,\"x\":[-4.69],\"xaxis\":\"x\",\"y\":[-3.29],\"yaxis\":\"y\",\"type\":\"scatter\"},{\"hovertemplate\":\"color=feed forward\\u003cbr\\u003ecook_si2_male_gap_k3_m5_nerve_ring_sf200=%{x}\\u003cbr\\u003ecook_si2_male_gap_k3_m5_nerve_ring_bio_rand_sf200=%{y}\\u003cextra\\u003e\\u003c\\u002fextra\\u003e\",\"legendgroup\":\"feed forward\",\"marker\":{\"color\":\"#FFA15A\",\"symbol\":\"circle\"},\"mode\":\"markers\",\"name\":\"feed forward\",\"orientation\":\"v\",\"showlegend\":true,\"x\":[-1.45],\"xaxis\":\"x\",\"y\":[-1.19],\"yaxis\":\"y\",\"type\":\"scatter\"},{\"hovertemplate\":\"color=regulating mutual\\u003cbr\\u003ecook_si2_male_gap_k3_m5_nerve_ring_sf200=%{x}\\u003cbr\\u003ecook_si2_male_gap_k3_m5_nerve_ring_bio_rand_sf200=%{y}\\u003cextra\\u003e\\u003c\\u002fextra\\u003e\",\"legendgroup\":\"regulating mutual\",\"marker\":{\"color\":\"#19d3f3\",\"symbol\":\"circle\"},\"mode\":\"markers\",\"name\":\"regulating mutual\",\"orientation\":\"v\",\"showlegend\":true,\"x\":[-0.58],\"xaxis\":\"x\",\"y\":[-0.8],\"yaxis\":\"y\",\"type\":\"scatter\"},{\"hovertemplate\":\"color=mutual in\\u003cbr\\u003ecook_si2_male_gap_k3_m5_nerve_ring_sf200=%{x}\\u003cbr\\u003ecook_si2_male_gap_k3_m5_nerve_ring_bio_rand_sf200=%{y}\\u003cextra\\u003e\\u003c\\u002fextra\\u003e\",\"legendgroup\":\"mutual in\",\"marker\":{\"color\":\"#FF6692\",\"symbol\":\"circle\"},\"mode\":\"markers\",\"name\":\"mutual in\",\"orientation\":\"v\",\"showlegend\":true,\"x\":[-2.46],\"xaxis\":\"x\",\"y\":[-5.01],\"yaxis\":\"y\",\"type\":\"scatter\"},{\"hovertemplate\":\"color=bi-mutual\\u003cbr\\u003ecook_si2_male_gap_k3_m5_nerve_ring_sf200=%{x}\\u003cbr\\u003ecook_si2_male_gap_k3_m5_nerve_ring_bio_rand_sf200=%{y}\\u003cextra\\u003e\\u003c\\u002fextra\\u003e\",\"legendgroup\":\"bi-mutual\",\"marker\":{\"color\":\"#B6E880\",\"symbol\":\"circle\"},\"mode\":\"markers\",\"name\":\"bi-mutual\",\"orientation\":\"v\",\"showlegend\":true,\"x\":[20.94],\"xaxis\":\"x\",\"y\":[9.53],\"yaxis\":\"y\",\"type\":\"scatter\"},{\"hovertemplate\":\"color=feed backward\\u003cbr\\u003ecook_si2_male_gap_k3_m5_nerve_ring_sf200=%{x}\\u003cbr\\u003ecook_si2_male_gap_k3_m5_nerve_ring_bio_rand_sf200=%{y}\\u003cextra\\u003e\\u003c\\u002fextra\\u003e\",\"legendgroup\":\"feed backward\",\"marker\":{\"color\":\"#FF97FF\",\"symbol\":\"circle\"},\"mode\":\"markers\",\"name\":\"feed backward\",\"orientation\":\"v\",\"showlegend\":true,\"x\":[-1.85],\"xaxis\":\"x\",\"y\":[-1.72],\"yaxis\":\"y\",\"type\":\"scatter\"},{\"hovertemplate\":\"color=mutual cascade\\u003cbr\\u003ecook_si2_male_gap_k3_m5_nerve_ring_sf200=%{x}\\u003cbr\\u003ecook_si2_male_gap_k3_m5_nerve_ring_bio_rand_sf200=%{y}\\u003cextra\\u003e\\u003c\\u002fextra\\u003e\",\"legendgroup\":\"mutual cascade\",\"marker\":{\"color\":\"#FECB52\",\"symbol\":\"circle\"},\"mode\":\"markers\",\"name\":\"mutual cascade\",\"orientation\":\"v\",\"showlegend\":true,\"x\":[-1.09],\"xaxis\":\"x\",\"y\":[-1.84],\"yaxis\":\"y\",\"type\":\"scatter\"},{\"hovertemplate\":\"color=regulated mutual\\u003cbr\\u003ecook_si2_male_gap_k3_m5_nerve_ring_sf200=%{x}\\u003cbr\\u003ecook_si2_male_gap_k3_m5_nerve_ring_bio_rand_sf200=%{y}\\u003cextra\\u003e\\u003c\\u002fextra\\u003e\",\"legendgroup\":\"regulated mutual\",\"marker\":{\"color\":\"#636efa\",\"symbol\":\"circle\"},\"mode\":\"markers\",\"name\":\"regulated mutual\",\"orientation\":\"v\",\"showlegend\":true,\"x\":[-0.54],\"xaxis\":\"x\",\"y\":[-0.84],\"yaxis\":\"y\",\"type\":\"scatter\"},{\"hovertemplate\":\"color=semi clique\\u003cbr\\u003ecook_si2_male_gap_k3_m5_nerve_ring_sf200=%{x}\\u003cbr\\u003ecook_si2_male_gap_k3_m5_nerve_ring_bio_rand_sf200=%{y}\\u003cextra\\u003e\\u003c\\u002fextra\\u003e\",\"legendgroup\":\"semi clique\",\"marker\":{\"color\":\"#EF553B\",\"symbol\":\"circle\"},\"mode\":\"markers\",\"name\":\"semi clique\",\"orientation\":\"v\",\"showlegend\":true,\"x\":[-0.45],\"xaxis\":\"x\",\"y\":[-1.12],\"yaxis\":\"y\",\"type\":\"scatter\"},{\"hovertemplate\":\"color=clique\\u003cbr\\u003ecook_si2_male_gap_k3_m5_nerve_ring_sf200=%{x}\\u003cbr\\u003ecook_si2_male_gap_k3_m5_nerve_ring_bio_rand_sf200=%{y}\\u003cextra\\u003e\\u003c\\u002fextra\\u003e\",\"legendgroup\":\"clique\",\"marker\":{\"color\":\"#00cc96\",\"symbol\":\"circle\"},\"mode\":\"markers\",\"name\":\"clique\",\"orientation\":\"v\",\"showlegend\":true,\"x\":[71.88],\"xaxis\":\"x\",\"y\":[13.79],\"yaxis\":\"y\",\"type\":\"scatter\"}],                        {\"template\":{\"data\":{\"histogram2dcontour\":[{\"type\":\"histogram2dcontour\",\"colorbar\":{\"outlinewidth\":0,\"ticks\":\"\"},\"colorscale\":[[0.0,\"#0d0887\"],[0.1111111111111111,\"#46039f\"],[0.2222222222222222,\"#7201a8\"],[0.3333333333333333,\"#9c179e\"],[0.4444444444444444,\"#bd3786\"],[0.5555555555555556,\"#d8576b\"],[0.6666666666666666,\"#ed7953\"],[0.7777777777777778,\"#fb9f3a\"],[0.8888888888888888,\"#fdca26\"],[1.0,\"#f0f921\"]]}],\"choropleth\":[{\"type\":\"choropleth\",\"colorbar\":{\"outlinewidth\":0,\"ticks\":\"\"}}],\"histogram2d\":[{\"type\":\"histogram2d\",\"colorbar\":{\"outlinewidth\":0,\"ticks\":\"\"},\"colorscale\":[[0.0,\"#0d0887\"],[0.1111111111111111,\"#46039f\"],[0.2222222222222222,\"#7201a8\"],[0.3333333333333333,\"#9c179e\"],[0.4444444444444444,\"#bd3786\"],[0.5555555555555556,\"#d8576b\"],[0.6666666666666666,\"#ed7953\"],[0.7777777777777778,\"#fb9f3a\"],[0.8888888888888888,\"#fdca26\"],[1.0,\"#f0f921\"]]}],\"heatmap\":[{\"type\":\"heatmap\",\"colorbar\":{\"outlinewidth\":0,\"ticks\":\"\"},\"colorscale\":[[0.0,\"#0d0887\"],[0.1111111111111111,\"#46039f\"],[0.2222222222222222,\"#7201a8\"],[0.3333333333333333,\"#9c179e\"],[0.4444444444444444,\"#bd3786\"],[0.5555555555555556,\"#d8576b\"],[0.6666666666666666,\"#ed7953\"],[0.7777777777777778,\"#fb9f3a\"],[0.8888888888888888,\"#fdca26\"],[1.0,\"#f0f921\"]]}],\"heatmapgl\":[{\"type\":\"heatmapgl\",\"colorbar\":{\"outlinewidth\":0,\"ticks\":\"\"},\"colorscale\":[[0.0,\"#0d0887\"],[0.1111111111111111,\"#46039f\"],[0.2222222222222222,\"#7201a8\"],[0.3333333333333333,\"#9c179e\"],[0.4444444444444444,\"#bd3786\"],[0.5555555555555556,\"#d8576b\"],[0.6666666666666666,\"#ed7953\"],[0.7777777777777778,\"#fb9f3a\"],[0.8888888888888888,\"#fdca26\"],[1.0,\"#f0f921\"]]}],\"contourcarpet\":[{\"type\":\"contourcarpet\",\"colorbar\":{\"outlinewidth\":0,\"ticks\":\"\"}}],\"contour\":[{\"type\":\"contour\",\"colorbar\":{\"outlinewidth\":0,\"ticks\":\"\"},\"colorscale\":[[0.0,\"#0d0887\"],[0.1111111111111111,\"#46039f\"],[0.2222222222222222,\"#7201a8\"],[0.3333333333333333,\"#9c179e\"],[0.4444444444444444,\"#bd3786\"],[0.5555555555555556,\"#d8576b\"],[0.6666666666666666,\"#ed7953\"],[0.7777777777777778,\"#fb9f3a\"],[0.8888888888888888,\"#fdca26\"],[1.0,\"#f0f921\"]]}],\"surface\":[{\"type\":\"surface\",\"colorbar\":{\"outlinewidth\":0,\"ticks\":\"\"},\"colorscale\":[[0.0,\"#0d0887\"],[0.1111111111111111,\"#46039f\"],[0.2222222222222222,\"#7201a8\"],[0.3333333333333333,\"#9c179e\"],[0.4444444444444444,\"#bd3786\"],[0.5555555555555556,\"#d8576b\"],[0.6666666666666666,\"#ed7953\"],[0.7777777777777778,\"#fb9f3a\"],[0.8888888888888888,\"#fdca26\"],[1.0,\"#f0f921\"]]}],\"mesh3d\":[{\"type\":\"mesh3d\",\"colorbar\":{\"outlinewidth\":0,\"ticks\":\"\"}}],\"scatter\":[{\"fillpattern\":{\"fillmode\":\"overlay\",\"size\":10,\"solidity\":0.2},\"type\":\"scatter\"}],\"parcoords\":[{\"type\":\"parcoords\",\"line\":{\"colorbar\":{\"outlinewidth\":0,\"ticks\":\"\"}}}],\"scatterpolargl\":[{\"type\":\"scatterpolargl\",\"marker\":{\"colorbar\":{\"outlinewidth\":0,\"ticks\":\"\"}}}],\"bar\":[{\"error_x\":{\"color\":\"#2a3f5f\"},\"error_y\":{\"color\":\"#2a3f5f\"},\"marker\":{\"line\":{\"color\":\"#E5ECF6\",\"width\":0.5},\"pattern\":{\"fillmode\":\"overlay\",\"size\":10,\"solidity\":0.2}},\"type\":\"bar\"}],\"scattergeo\":[{\"type\":\"scattergeo\",\"marker\":{\"colorbar\":{\"outlinewidth\":0,\"ticks\":\"\"}}}],\"scatterpolar\":[{\"type\":\"scatterpolar\",\"marker\":{\"colorbar\":{\"outlinewidth\":0,\"ticks\":\"\"}}}],\"histogram\":[{\"marker\":{\"pattern\":{\"fillmode\":\"overlay\",\"size\":10,\"solidity\":0.2}},\"type\":\"histogram\"}],\"scattergl\":[{\"type\":\"scattergl\",\"marker\":{\"colorbar\":{\"outlinewidth\":0,\"ticks\":\"\"}}}],\"scatter3d\":[{\"type\":\"scatter3d\",\"line\":{\"colorbar\":{\"outlinewidth\":0,\"ticks\":\"\"}},\"marker\":{\"colorbar\":{\"outlinewidth\":0,\"ticks\":\"\"}}}],\"scattermapbox\":[{\"type\":\"scattermapbox\",\"marker\":{\"colorbar\":{\"outlinewidth\":0,\"ticks\":\"\"}}}],\"scatterternary\":[{\"type\":\"scatterternary\",\"marker\":{\"colorbar\":{\"outlinewidth\":0,\"ticks\":\"\"}}}],\"scattercarpet\":[{\"type\":\"scattercarpet\",\"marker\":{\"colorbar\":{\"outlinewidth\":0,\"ticks\":\"\"}}}],\"carpet\":[{\"aaxis\":{\"endlinecolor\":\"#2a3f5f\",\"gridcolor\":\"white\",\"linecolor\":\"white\",\"minorgridcolor\":\"white\",\"startlinecolor\":\"#2a3f5f\"},\"baxis\":{\"endlinecolor\":\"#2a3f5f\",\"gridcolor\":\"white\",\"linecolor\":\"white\",\"minorgridcolor\":\"white\",\"startlinecolor\":\"#2a3f5f\"},\"type\":\"carpet\"}],\"table\":[{\"cells\":{\"fill\":{\"color\":\"#EBF0F8\"},\"line\":{\"color\":\"white\"}},\"header\":{\"fill\":{\"color\":\"#C8D4E3\"},\"line\":{\"color\":\"white\"}},\"type\":\"table\"}],\"barpolar\":[{\"marker\":{\"line\":{\"color\":\"#E5ECF6\",\"width\":0.5},\"pattern\":{\"fillmode\":\"overlay\",\"size\":10,\"solidity\":0.2}},\"type\":\"barpolar\"}],\"pie\":[{\"automargin\":true,\"type\":\"pie\"}]},\"layout\":{\"autotypenumbers\":\"strict\",\"colorway\":[\"#636efa\",\"#EF553B\",\"#00cc96\",\"#ab63fa\",\"#FFA15A\",\"#19d3f3\",\"#FF6692\",\"#B6E880\",\"#FF97FF\",\"#FECB52\"],\"font\":{\"color\":\"#2a3f5f\"},\"hovermode\":\"closest\",\"hoverlabel\":{\"align\":\"left\"},\"paper_bgcolor\":\"white\",\"plot_bgcolor\":\"#E5ECF6\",\"polar\":{\"bgcolor\":\"#E5ECF6\",\"angularaxis\":{\"gridcolor\":\"white\",\"linecolor\":\"white\",\"ticks\":\"\"},\"radialaxis\":{\"gridcolor\":\"white\",\"linecolor\":\"white\",\"ticks\":\"\"}},\"ternary\":{\"bgcolor\":\"#E5ECF6\",\"aaxis\":{\"gridcolor\":\"white\",\"linecolor\":\"white\",\"ticks\":\"\"},\"baxis\":{\"gridcolor\":\"white\",\"linecolor\":\"white\",\"ticks\":\"\"},\"caxis\":{\"gridcolor\":\"white\",\"linecolor\":\"white\",\"ticks\":\"\"}},\"coloraxis\":{\"colorbar\":{\"outlinewidth\":0,\"ticks\":\"\"}},\"colorscale\":{\"sequential\":[[0.0,\"#0d0887\"],[0.1111111111111111,\"#46039f\"],[0.2222222222222222,\"#7201a8\"],[0.3333333333333333,\"#9c179e\"],[0.4444444444444444,\"#bd3786\"],[0.5555555555555556,\"#d8576b\"],[0.6666666666666666,\"#ed7953\"],[0.7777777777777778,\"#fb9f3a\"],[0.8888888888888888,\"#fdca26\"],[1.0,\"#f0f921\"]],\"sequentialminus\":[[0.0,\"#0d0887\"],[0.1111111111111111,\"#46039f\"],[0.2222222222222222,\"#7201a8\"],[0.3333333333333333,\"#9c179e\"],[0.4444444444444444,\"#bd3786\"],[0.5555555555555556,\"#d8576b\"],[0.6666666666666666,\"#ed7953\"],[0.7777777777777778,\"#fb9f3a\"],[0.8888888888888888,\"#fdca26\"],[1.0,\"#f0f921\"]],\"diverging\":[[0,\"#8e0152\"],[0.1,\"#c51b7d\"],[0.2,\"#de77ae\"],[0.3,\"#f1b6da\"],[0.4,\"#fde0ef\"],[0.5,\"#f7f7f7\"],[0.6,\"#e6f5d0\"],[0.7,\"#b8e186\"],[0.8,\"#7fbc41\"],[0.9,\"#4d9221\"],[1,\"#276419\"]]},\"xaxis\":{\"gridcolor\":\"white\",\"linecolor\":\"white\",\"ticks\":\"\",\"title\":{\"standoff\":15},\"zerolinecolor\":\"white\",\"automargin\":true,\"zerolinewidth\":2},\"yaxis\":{\"gridcolor\":\"white\",\"linecolor\":\"white\",\"ticks\":\"\",\"title\":{\"standoff\":15},\"zerolinecolor\":\"white\",\"automargin\":true,\"zerolinewidth\":2},\"scene\":{\"xaxis\":{\"backgroundcolor\":\"#E5ECF6\",\"gridcolor\":\"white\",\"linecolor\":\"white\",\"showbackground\":true,\"ticks\":\"\",\"zerolinecolor\":\"white\",\"gridwidth\":2},\"yaxis\":{\"backgroundcolor\":\"#E5ECF6\",\"gridcolor\":\"white\",\"linecolor\":\"white\",\"showbackground\":true,\"ticks\":\"\",\"zerolinecolor\":\"white\",\"gridwidth\":2},\"zaxis\":{\"backgroundcolor\":\"#E5ECF6\",\"gridcolor\":\"white\",\"linecolor\":\"white\",\"showbackground\":true,\"ticks\":\"\",\"zerolinecolor\":\"white\",\"gridwidth\":2}},\"shapedefaults\":{\"line\":{\"color\":\"#2a3f5f\"}},\"annotationdefaults\":{\"arrowcolor\":\"#2a3f5f\",\"arrowhead\":0,\"arrowwidth\":1},\"geo\":{\"bgcolor\":\"white\",\"landcolor\":\"#E5ECF6\",\"subunitcolor\":\"white\",\"showland\":true,\"showlakes\":true,\"lakecolor\":\"white\"},\"title\":{\"x\":0.05},\"mapbox\":{\"style\":\"light\"}}},\"xaxis\":{\"anchor\":\"y\",\"domain\":[0.0,1.0],\"title\":{\"text\":\"cook_si2_male_gap_k3_m5_nerve_ring_sf200\"}},\"yaxis\":{\"anchor\":\"x\",\"domain\":[0.0,1.0],\"title\":{\"text\":\"cook_si2_male_gap_k3_m5_nerve_ring_bio_rand_sf200\"}},\"legend\":{\"title\":{\"text\":\"color\"},\"tracegroupgap\":0},\"margin\":{\"t\":60}},                        {\"responsive\": true}                    ).then(function(){\n",
       "                            \n",
       "var gd = document.getElementById('574c86b1-b7d4-443a-8431-fd6f1caf00ca');\n",
       "var x = new MutationObserver(function (mutations, observer) {{\n",
       "        var display = window.getComputedStyle(gd).display;\n",
       "        if (!display || display === 'none') {{\n",
       "            console.log([gd, 'removed!']);\n",
       "            Plotly.purge(gd);\n",
       "            observer.disconnect();\n",
       "        }}\n",
       "}});\n",
       "\n",
       "// Listen for the removal of the full notebook cells\n",
       "var notebookContainer = gd.closest('#notebook-container');\n",
       "if (notebookContainer) {{\n",
       "    x.observe(notebookContainer, {childList: true});\n",
       "}}\n",
       "\n",
       "// Listen for the clearing of the current output cell\n",
       "var outputEl = gd.closest('.output');\n",
       "if (outputEl) {{\n",
       "    x.observe(outputEl, {childList: true});\n",
       "}}\n",
       "\n",
       "                        })                };                });            </script>        </div>"
      ]
     },
     "metadata": {},
     "output_type": "display_data"
    },
    {
     "data": {
      "image/png": "[encoded data removed]",
      "text/plain": [
       "<Figure size 1300x300 with 1 Axes>"
      ]
     },
     "metadata": {},
     "output_type": "display_data"
    },
    {
     "data": {
      "image/png": "[encoded data removed]",
      "text/plain": [
       "<Figure size 640x480 with 1 Axes>"
      ]
     },
     "metadata": {},
     "output_type": "display_data"
    }
   ],
   "source": [
    "# conclustion so far:\n",
    "# 1. sf200 is important (there are changes) only for the nerve ring (NR) + bio-rand\n",
    "# 2. intresting comparisons would be: a) NR vs NR with bio-rand b) full connectone vs NR\n",
    "\n",
    "# results of a) are in the 'lost motifs' google doc\n",
    "# results of b): on polartiy data: ffl on NR is not a Motif, and clicqe is\n",
    "\n",
    "name1 = 'pol_k3_m5_nerve_ring_sf200'\n",
    "# name2 = 'pol_k3_m5_nerve_ring_bio_rand_sf200'\n",
    "name2 = 'pol_k3_m5_sf200'\n",
    "\n",
    "# name1 = 'cook_si2_herm_all_k3_m5_nerve_ring_sf200'\n",
    "# name2 = 'cook_si2_herm_all_k3_m5_nerve_ring_bio_rand_sf200'\n",
    "\n",
    "# name1 = 'cook_si2_herm_chem_k3_m5_nerve_ring_sf200'\n",
    "# name2 = 'cook_si2_herm_chem_k3_m5_nerve_ring_bio_rand_sf200'\n",
    "\n",
    "# name1 = 'cook_si2_herm_gap_k3_m5_nerve_ring_sf200'\n",
    "# name2 = 'cook_si2_herm_gap_k3_m5_nerve_ring_bio_rand_sf200'\n",
    "\n",
    "# MALE\n",
    "\n",
    "# name1 = 'cook_si2_male_chem_k3_m5_nerve_ring_sf200'\n",
    "# name2 = 'cook_si2_male_chem_k3_m5_nerve_ring_bio_rand_sf200'\n",
    "\n",
    "name1 = 'cook_si2_male_gap_k3_m5_nerve_ring_sf200'\n",
    "name2 = 'cook_si2_male_gap_k3_m5_nerve_ring_bio_rand_sf200'\n",
    "\n",
    "\n",
    "### compare the SF - conclusion: sf200 is sufficient \n",
    "# name1 = 'pol_k3_m5_nerve_ring_bio_rand' #sf10\n",
    "# name1 = 'pol_k3_m5_nerve_ring_bio_rand_sf200'\n",
    "# name1 = 'pol_k3_m5_nerve_ring_bio_rand_sf300'\n",
    "# name2 = 'pol_k3_m5_nerve_ring_bio_rand_sf400'\n",
    "\n",
    "# name1 = 'pol_k3_m5_nerve_ring_bio_rand_sf200'\n",
    "# name2 = 'pol_k3_m5_nerve_ring_bio_rand_sf1000'\n",
    "\n",
    "d1 = import_results(f'results/{name1}.bin')\n",
    "d2 = import_results(f'results/{name2}.bin')\n",
    "\n",
    "motifs1 = d1['motifs']\n",
    "motifs2 = d2['motifs']\n",
    "\n",
    "# polarity_motifs1 = get_polarity_motifs_list(motifs1)\n",
    "# polarity_motifs2 = get_polarity_motifs_list(motifs2)\n",
    "\n",
    "draw_graphs(motifs1)\n",
    "z_score_compare(list(motifs1.values()), list(motifs2.values()), use_full_name=True, filter_th=0, norm=False)\n",
    "# z_score_compare(polarity_motifs1, polarity_motifs2, use_full_name=False, filter_th=2.0, norm=False)"
   ]
  },
  {
   "cell_type": "code",
   "execution_count": 8,
   "id": "3a20adc4-020c-4024-89af-ad641807cf62",
   "metadata": {},
   "outputs": [
    {
     "data": {
      "text/plain": [
       "2"
      ]
     },
     "execution_count": 8,
     "metadata": {},
     "output_type": "execute_result"
    }
   ],
   "source": [
    "motifs1[238].n_real"
   ]
  },
  {
   "cell_type": "code",
   "execution_count": 9,
   "id": "4faad7dc-c6b7-4837-b318-4795c634d4fa",
   "metadata": {},
   "outputs": [
    {
     "data": {
      "text/plain": [
       "2"
      ]
     },
     "execution_count": 9,
     "metadata": {},
     "output_type": "execute_result"
    }
   ],
   "source": [
    "motifs2[238].n_real"
   ]
  }
 ],
 "metadata": {
  "kernelspec": {
   "display_name": "Python 3 (ipykernel)",
   "language": "python",
   "name": "python3"
  },
  "language_info": {
   "codemirror_mode": {
    "name": "ipython",
    "version": 3
   },
   "file_extension": ".py",
   "mimetype": "text/x-python",
   "name": "python",
   "nbconvert_exporter": "python",
   "pygments_lexer": "ipython3",
   "version": "3.9.13"
  }
 },
 "nbformat": 4,
 "nbformat_minor": 5
}
