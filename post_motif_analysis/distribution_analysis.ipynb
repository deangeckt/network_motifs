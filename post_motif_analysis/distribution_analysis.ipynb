{
 "cells": [
  {
   "cell_type": "code",
   "execution_count": 1,
   "id": "a82dac7c-15fc-441c-a7cf-562e1301a1b7",
   "metadata": {},
   "outputs": [],
   "source": [
    "import os\n",
    "# running from Root directory\n",
    "os.chdir(\"..\")"
   ]
  },
  {
   "cell_type": "code",
   "execution_count": 2,
   "id": "6cd07aea-42b7-49e2-8b0c-bcdb7d35b9ba",
   "metadata": {},
   "outputs": [],
   "source": [
    "import networkx as nx\n",
    "\n",
    "from networks.loaders.network_loader import NetworkLoader\n",
    "from random_networks.barabasi_albert_forced_edges import BarabasiAlbertForcedEdges\n",
    "from random_networks.markov_chain_switching import MarkovChainSwitching\n",
    "from utils.types import NetworkInputType, NetworkLoaderArgs\n",
    "\n",
    "simple_input_args = NetworkLoaderArgs(\n",
    "    synapse_threshold=5,\n",
    "    filter_polarity=['+', '-'],\n",
    "    filter_prim_nt=['GABA', 'Glu', 'ACh', 0]\n",
    ")"
   ]
  },
  {
   "cell_type": "code",
   "execution_count": 3,
   "id": "0d15e6fe-5c35-4933-86e1-70532cf0905c",
   "metadata": {
    "scrolled": true
   },
   "outputs": [
    {
     "name": "stdout",
     "output_type": "stream",
     "text": [
      "erdos_renyi\n",
      "\n",
      "Network properties:\n",
      "\tNodes: 1000\n",
      "\tEdges: 4120\n",
      "\tAverage clustering coefficient: 0.004\n",
      "\tAverage shortest path (undirected): 3.517\n",
      "\tDensity: 0.004\n",
      "\tDegree: Mean: 8.24 Std: 2.909 Median: 8.0 Max: 19 (node: 463)\n",
      "\tIn-Degree: Mean: 4.12 Std: 2.091 Median: 4.0 Max: 12 (node: 306)\n",
      "\tOut-Degree: Mean: 4.12 Std: 2.053 Median: 4.0 Max: 12 (node: 367)\n",
      "watts_strogatz\n",
      "\n",
      "Network properties:\n",
      "\tNodes: 1000\n",
      "\tEdges: 10000\n",
      "\tAverage clustering coefficient: 0.667\n",
      "\tAverage shortest path (undirected): 50.45\n",
      "\tDensity: 0.01\n",
      "\tDegree: Mean: 20.0 Std: 0.0 Median: 20.0 Max: 20 (node: 0)\n",
      "\tIn-Degree: Mean: 10.0 Std: 0.0 Median: 10.0 Max: 10 (node: 0)\n",
      "\tOut-Degree: Mean: 10.0 Std: 0.0 Median: 10.0 Max: 10 (node: 0)\n",
      "barabasi_albert\n",
      "\n",
      "Network properties:\n",
      "\tNodes: 1000\n",
      "\tEdges: 3992\n",
      "\tAverage clustering coefficient: 0.017\n",
      "\tAverage shortest path (undirected): 4.202\n",
      "\tDensity: 0.004\n",
      "\tDegree: Mean: 7.984 Std: 9.419 Median: 6.0 Max: 116 (node: 5)\n",
      "\tIn-Degree: Mean: 3.992 Std: 4.709 Median: 3.0 Max: 58 (node: 5)\n",
      "\tOut-Degree: Mean: 3.992 Std: 4.709 Median: 3.0 Max: 58 (node: 5)\n",
      "scale_free_graph\n",
      "\n",
      "Network properties:\n",
      "\tNodes: 1000\n",
      "\tEdges: 1687\n",
      "\tAverage clustering coefficient: 0.084\n",
      "\tAverage shortest path (undirected): 3.137\n",
      "\tDensity: 0.002\n",
      "\tDegree: Mean: 3.374 Std: 14.588 Median: 1.0 Max: 319 (node: 0)\n",
      "\tIn-Degree: Mean: 1.687 Std: 13.443 Median: 0.0 Max: 290 (node: 0)\n",
      "\tOut-Degree: Mean: 1.687 Std: 2.29 Median: 1.0 Max: 34 (node: 19)\n"
     ]
    },
    {
     "data": {
      "text/plain": [
       "<networks.network.Network at 0x282f05ce460>"
      ]
     },
     "execution_count": 3,
     "metadata": {},
     "output_type": "execute_result"
    }
   ],
   "source": [
    "# graph_generators_comparison\n",
    "\n",
    "loader = NetworkLoader(simple_input_args)\n",
    "\n",
    "n = 1000\n",
    "e = 4000\n",
    "p = e / (n * (n - 1))\n",
    "er_graph = nx.erdos_renyi_graph(n=n, p=p, directed=True)  # random\n",
    "\n",
    "# small world (high clustering coefficient), but not scale free (power law) i.e: no hubs.\n",
    "# undirected. with |E| = n * k/2\n",
    "ws_graph = nx.DiGraph(nx.watts_strogatz_graph(n=n, k=10, p=0))\n",
    "\n",
    "# small world + scale free but undirected. with |E| = n * m.\n",
    "ba_graph = nx.DiGraph(nx.barabasi_albert_graph(n=n, m=2))\n",
    "\n",
    "# small world + scale free and directed, but can't control |E|\n",
    "scale_free_graph = nx.DiGraph(nx.scale_free_graph(n=n))\n",
    "\n",
    "print('erdos_renyi')\n",
    "loader.load_graph(er_graph)\n",
    "print('watts_strogatz')\n",
    "loader.load_graph(ws_graph)\n",
    "print('barabasi_albert')\n",
    "loader.load_graph(ba_graph)\n",
    "print('scale_free_graph')\n",
    "loader.load_graph(scale_free_graph)"
   ]
  },
  {
   "cell_type": "code",
   "execution_count": 4,
   "id": "c32f61dc-c57e-4ca0-a33e-b0781312a99d",
   "metadata": {},
   "outputs": [
    {
     "name": "stdout",
     "output_type": "stream",
     "text": [
      "Network file name: s1_data.xlsx\n",
      "Filtering Neurons with polarity: ['+', '-']\n",
      "Filtering Neurons with primary neurotransmitter: ['GABA', 'Glu', 'ACh', 0]\n",
      "Polarity E/I ratio (before filtering): 3.122\n",
      "\n",
      "Network properties:\n",
      "\tNeurons: 283\n",
      "\tNeurons with a Synapse: 283\n",
      "\tSynapses in the network: 11650\n",
      "\n",
      "\tParticipating Nodes are neurons in a tuple with at least: 5 synapses\n",
      "\tSynapses in the graph: 9515\n",
      "\tNodes: 259\n",
      "\tEdges: 661\n",
      "\tAverage clustering coefficient: 0.06\n",
      "\tAverage shortest path (undirected): 2.038\n",
      "\tDensity: 0.01\n",
      "\tPolarity E/I ratio: 3.721\n",
      "\tDegree: Mean: 5.104 Std: 4.445 Median: 4.0 Max: 25 (node: RIAL)\n",
      "\tIn-Degree: Mean: 2.552 Std: 3.973 Median: 1.0 Max: 23 (node: AVBL)\n",
      "\tOut-Degree: Mean: 2.552 Std: 2.283 Median: 2.0 Max: 13 (node: RIML)\n",
      "Markov chain iterations: 6610\n"
     ]
    },
    {
     "name": "stderr",
     "output_type": "stream",
     "text": [
      "100%|████████████████████████████████████████████████████████████████████████████████████████████████████████████████████████████████████████████████████████████████████████████████████████████████████████████████████████████████████████████████████████████████████████████████| 1/1 [00:00<00:00,  3.15it/s]\n"
     ]
    },
    {
     "name": "stdout",
     "output_type": "stream",
     "text": [
      "Markov chain success ratio: 0.89667\n",
      "average # edges of all random networks: 661.0\n",
      "\n",
      "Network properties:\n",
      "\tNodes: 259\n",
      "\tEdges: 661\n",
      "\tAverage clustering coefficient: 0.013\n",
      "\tAverage shortest path (undirected): 3.431\n",
      "\tDensity: 0.01\n",
      "\tPolarity E/I ratio: 3.721\n",
      "\tDegree: Mean: 5.104 Std: 4.445 Median: 4.0 Max: 25 (node: 172)\n",
      "\tIn-Degree: Mean: 2.552 Std: 3.973 Median: 1.0 Max: 23 (node: 53)\n",
      "\tOut-Degree: Mean: 2.552 Std: 2.283 Median: 2.0 Max: 13 (node: 184)\n",
      "m (# of edges to attach): 3\n"
     ]
    },
    {
     "name": "stderr",
     "output_type": "stream",
     "text": [
      "100%|███████████████████████████████████████████████████████████████████████████████████████████████████████████████████████████████████████████████████████████████████████████████████████████████████████████████████████████████████████████████████████████████████████████████| 1/1 [00:00<00:00, 284.77it/s]"
     ]
    },
    {
     "name": "stdout",
     "output_type": "stream",
     "text": [
      "average # edges of all random networks: 661.0\n",
      "\n",
      "Network properties:\n",
      "\tNodes: 259\n",
      "\tEdges: 661\n",
      "\tAverage clustering coefficient: 0.031\n",
      "\tAverage shortest path (undirected): 3.179\n",
      "\tDensity: 0.01\n",
      "\tPolarity E/I ratio: 3.721\n",
      "\tDegree: Mean: 5.104 Std: 5.211 Median: 3.0 Max: 43 (node: 4)\n",
      "\tIn-Degree: Mean: 2.552 Std: 2.95 Median: 2.0 Max: 26 (node: 0)\n",
      "\tOut-Degree: Mean: 2.552 Std: 2.694 Median: 2.0 Max: 20 (node: 4)\n"
     ]
    },
    {
     "name": "stderr",
     "output_type": "stream",
     "text": [
      "\n"
     ]
    },
    {
     "data": {
      "text/plain": [
       "<networks.network.Network at 0x282f26d3d00>"
      ]
     },
     "execution_count": 4,
     "metadata": {},
     "output_type": "execute_result"
    }
   ],
   "source": [
    "# compare_to_orig_network\n",
    "loader = NetworkLoader(simple_input_args)\n",
    "network = loader.load_network_file(file_path=\"networks/data/polarity_2020/s1_data.xlsx\",\n",
    "                                   sheet_name='5. Sign prediction',\n",
    "                                   input_type=NetworkInputType.polarity_xlsx)\n",
    "\n",
    "markov_chain = MarkovChainSwitching(network, switch_factor=10)\n",
    "loader.load_graph(markov_chain.generate(amount=1)[0])\n",
    "\n",
    "barabasi_albert = BarabasiAlbertForcedEdges(network)\n",
    "loader.load_graph(barabasi_albert.generate(amount=1)[0])"
   ]
  }
 ],
 "metadata": {
  "kernelspec": {
   "display_name": "Python 3 (ipykernel)",
   "language": "python",
   "name": "python3"
  },
  "language_info": {
   "codemirror_mode": {
    "name": "ipython",
    "version": 3
   },
   "file_extension": ".py",
   "mimetype": "text/x-python",
   "name": "python",
   "nbconvert_exporter": "python",
   "pygments_lexer": "ipython3",
   "version": "3.9.13"
  }
 },
 "nbformat": 4,
 "nbformat_minor": 5
}
