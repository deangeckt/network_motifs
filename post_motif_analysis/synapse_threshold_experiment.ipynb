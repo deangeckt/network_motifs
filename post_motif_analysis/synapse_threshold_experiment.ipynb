{
 "cells": [
  {
   "cell_type": "code",
   "execution_count": 1,
   "id": "376df888-bd43-491a-87e4-c82544717b34",
   "metadata": {},
   "outputs": [],
   "source": [
    "import os\n",
    "# running from Root directory\n",
    "os.chdir(\"..\")"
   ]
  },
  {
   "cell_type": "code",
   "execution_count": 19,
   "id": "cef06365-9485-4c0b-aacc-64f5f4ef0427",
   "metadata": {},
   "outputs": [],
   "source": [
    "from motif_search_main import load_network_from_args\n",
    "from utils.export_import import import_results\n",
    "from utils.logs import log_motif_criteria_args, log_motif_results, log_sub_graph_args, log_randomizer_args, log_motifs_table\n",
    "from utils.types import MotifCriteriaArgs, MotifType, MotifName\n",
    "import matplotlib.pyplot as plt\n",
    "import networkx as nx\n",
    "from typing import Union\n",
    "import numpy as np\n",
    "from collections import defaultdict\n",
    "import plotly.express as px\n",
    "import pandas as pd\n",
    "from utils.simple_logger import Logger\n",
    "\n",
    "logger = Logger()\n",
    "logger.toggle(False)"
   ]
  },
  {
   "cell_type": "code",
   "execution_count": 72,
   "id": "97a3c67e-97ad-4ed4-bd46-8535364c5167",
   "metadata": {},
   "outputs": [],
   "source": [
    "dir_ = 'results/synapse_threshold_experiment/'\n",
    "\n",
    "def plot_(df, net_experiment: str):\n",
    "    fig = px.scatter(df,\n",
    "                     x='m',\n",
    "                     y='value',\n",
    "                     color='variable',\n",
    "                     labels={\n",
    "                         \"m\": \"M - synapse_threshold\",\n",
    "                         \"value\": \"Z score\",\n",
    "                         \"variable\": \"Motif Id\"\n",
    "                     },\n",
    "                     hover_data=['m', 'edges', 'nodes', 'variable', 'value'],\n",
    "                     title=f'Z-score as a function of M. network: {net_experiment}')\n",
    "    \n",
    "    fig.show()\n",
    "\n",
    "\n",
    "def read_z_scores_as_func_of_m(net_experiment: str):\n",
    "    df = pd.DataFrame()\n",
    "    for file in os.listdir(dir_):\n",
    "        if not file.startswith(net_experiment):\n",
    "            continue\n",
    "            \n",
    "        data = import_results(f'{dir_}/{file}')\n",
    "        args = data['args']\n",
    "        motifs = data['motifs']\n",
    "\n",
    "        if args.input_network_file.startswith('../'):\n",
    "            args.input_network_file = \"/\".join(args.input_network_file.strip(\"/\").split('/')[1:])\n",
    "\n",
    "        network = load_network_from_args(args)\n",
    "        edges = len(network.graph.edges)\n",
    "        nodes = len(network.graph.nodes)\n",
    "        \n",
    "        row_ = {'m' : args.synapse_threshold}\n",
    "        for motif_id in motifs: \n",
    "            motif = motifs[motif_id]\n",
    "            title_name =  f'{motif.name.value}-{motif.id}' if motif.name.value != MotifName.na else motif.id\n",
    "            row_[str(title_name)] = motif.motif_criteria.z_score\n",
    "            row_['edges'] = edges\n",
    "            row_['nodes'] = nodes\n",
    "    \n",
    "        df = pd.concat([df, pd.DataFrame.from_dict(row_, orient='index').T], ignore_index=True)\n",
    "\n",
    "    melt_list = ['m', 'edges', 'nodes']\n",
    "    cols = list(df.columns)\n",
    "    cols = [c for c in cols if c not in melt_list]\n",
    "    df_ = df.melt(id_vars=melt_list, value_vars=cols)\n",
    "    plot_(df_, net_experiment)"
   ]
  },
  {
   "cell_type": "code",
   "execution_count": null,
   "id": "f7fb66fb-a792-419f-a131-780766124a52",
   "metadata": {},
   "outputs": [],
   "source": []
  },
  {
   "cell_type": "code",
   "execution_count": null,
   "id": "0424ad84-8dd3-433d-af56-32cfea399b76",
   "metadata": {},
   "outputs": [],
   "source": []
  },
  {
   "cell_type": "code",
   "execution_count": null,
   "id": "16457c40-32db-4c64-ba88-c2c8ce1d1c20",
   "metadata": {},
   "outputs": [],
   "source": []
  },
  {
   "cell_type": "code",
   "execution_count": 76,
   "id": "bb795ebd-9637-483f-9105-149b4c883e3a",
   "metadata": {},
   "outputs": [
    {
     "data": {
      "application/vnd.plotly.v1+json": {
       "config": {
        "plotlyServerURL": "https://plot.ly"
       },
       "data": [
        {
         "customdata": [
          [
           3390,
           272,
           "fan_out-6"
          ],
          [
           599,
           260,
           "fan_out-6"
          ],
          [
           520,
           252,
           "fan_out-6"
          ],
          [
           465,
           242,
           "fan_out-6"
          ],
          [
           417,
           227,
           "fan_out-6"
          ],
          [
           377,
           219,
           "fan_out-6"
          ],
          [
           343,
           214,
           "fan_out-6"
          ],
          [
           318,
           208,
           "fan_out-6"
          ],
          [
           293,
           200,
           "fan_out-6"
          ],
          [
           264,
           190,
           "fan_out-6"
          ],
          [
           240,
           180,
           "fan_out-6"
          ],
          [
           2371,
           272,
           "fan_out-6"
          ],
          [
           216,
           163,
           "fan_out-6"
          ],
          [
           1758,
           271,
           "fan_out-6"
          ],
          [
           1385,
           271,
           "fan_out-6"
          ],
          [
           1179,
           271,
           "fan_out-6"
          ],
          [
           993,
           269,
           "fan_out-6"
          ],
          [
           855,
           268,
           "fan_out-6"
          ],
          [
           765,
           267,
           "fan_out-6"
          ],
          [
           682,
           265,
           "fan_out-6"
          ]
         ],
         "hovertemplate": "Motif Id=%{customdata[2]}<br>M - synapse_threshold=%{x}<br>Z score=%{y}<br>edges=%{customdata[0]}<br>nodes=%{customdata[1]}<extra></extra>",
         "legendgroup": "fan_out-6",
         "marker": {
          "color": "#636efa",
          "symbol": "circle"
         },
         "mode": "markers",
         "name": "fan_out-6",
         "orientation": "v",
         "showlegend": true,
         "type": "scatter",
         "x": [
          1,
          10,
          11,
          12,
          13,
          14,
          15,
          16,
          17,
          18,
          19,
          2,
          20,
          3,
          4,
          5,
          6,
          7,
          8,
          9
         ],
         "xaxis": "x",
         "y": [
          -37.13169143731276,
          -12.914736858097344,
          -12.542857365797921,
          -11.26793293821622,
          -11.78071077664448,
          -10.186441040830863,
          -8.167389477721349,
          -8.05409606862758,
          -7.297001933318833,
          -6.6728836800939835,
          -6.645925881695965,
          -26.79322732939035,
          -6.514310116530785,
          -24.0585544559594,
          -18.61658411779026,
          -15.434792409072074,
          -12.289264703211424,
          -13.258559737401567,
          -13.931953518151653,
          -13.928576166956843
         ],
         "yaxis": "y"
        },
        {
         "customdata": [
          [
           3390,
           272,
           "cascade-12"
          ],
          [
           599,
           260,
           "cascade-12"
          ],
          [
           520,
           252,
           "cascade-12"
          ],
          [
           465,
           242,
           "cascade-12"
          ],
          [
           417,
           227,
           "cascade-12"
          ],
          [
           377,
           219,
           "cascade-12"
          ],
          [
           343,
           214,
           "cascade-12"
          ],
          [
           318,
           208,
           "cascade-12"
          ],
          [
           293,
           200,
           "cascade-12"
          ],
          [
           264,
           190,
           "cascade-12"
          ],
          [
           240,
           180,
           "cascade-12"
          ],
          [
           2371,
           272,
           "cascade-12"
          ],
          [
           216,
           163,
           "cascade-12"
          ],
          [
           1758,
           271,
           "cascade-12"
          ],
          [
           1385,
           271,
           "cascade-12"
          ],
          [
           1179,
           271,
           "cascade-12"
          ],
          [
           993,
           269,
           "cascade-12"
          ],
          [
           855,
           268,
           "cascade-12"
          ],
          [
           765,
           267,
           "cascade-12"
          ],
          [
           682,
           265,
           "cascade-12"
          ]
         ],
         "hovertemplate": "Motif Id=%{customdata[2]}<br>M - synapse_threshold=%{x}<br>Z score=%{y}<br>edges=%{customdata[0]}<br>nodes=%{customdata[1]}<extra></extra>",
         "legendgroup": "cascade-12",
         "marker": {
          "color": "#EF553B",
          "symbol": "circle"
         },
         "mode": "markers",
         "name": "cascade-12",
         "orientation": "v",
         "showlegend": true,
         "type": "scatter",
         "x": [
          1,
          10,
          11,
          12,
          13,
          14,
          15,
          16,
          17,
          18,
          19,
          2,
          20,
          3,
          4,
          5,
          6,
          7,
          8,
          9
         ],
         "xaxis": "x",
         "y": [
          -30.76084596863804,
          -9.87273863717101,
          -9.822054302913779,
          -8.46979122341938,
          -9.353047700697903,
          -8.565674069984677,
          -6.96531216181254,
          -6.884897773315077,
          -5.759520080789179,
          -5.383350827018033,
          -5.281034526088617,
          -22.042560941265286,
          -5.158415428031584,
          -17.63889532540967,
          -12.995628510094287,
          -10.988477027346825,
          -9.36652716466081,
          -9.752164198090245,
          -10.265610917559096,
          -10.130945093790194
         ],
         "yaxis": "y"
        },
        {
         "customdata": [
          [
           3390,
           272,
           "14"
          ],
          [
           599,
           260,
           "14"
          ],
          [
           520,
           252,
           "14"
          ],
          [
           465,
           242,
           "14"
          ],
          [
           417,
           227,
           "14"
          ],
          [
           377,
           219,
           "14"
          ],
          [
           343,
           214,
           "14"
          ],
          [
           318,
           208,
           "14"
          ],
          [
           293,
           200,
           "14"
          ],
          [
           264,
           190,
           "14"
          ],
          [
           240,
           180,
           "14"
          ],
          [
           2371,
           272,
           "14"
          ],
          [
           216,
           163,
           "14"
          ],
          [
           1758,
           271,
           "14"
          ],
          [
           1385,
           271,
           "14"
          ],
          [
           1179,
           271,
           "14"
          ],
          [
           993,
           269,
           "14"
          ],
          [
           855,
           268,
           "14"
          ],
          [
           765,
           267,
           "14"
          ],
          [
           682,
           265,
           "14"
          ]
         ],
         "hovertemplate": "Motif Id=%{customdata[2]}<br>M - synapse_threshold=%{x}<br>Z score=%{y}<br>edges=%{customdata[0]}<br>nodes=%{customdata[1]}<extra></extra>",
         "legendgroup": "14",
         "marker": {
          "color": "#00cc96",
          "symbol": "circle"
         },
         "mode": "markers",
         "name": "14",
         "orientation": "v",
         "showlegend": true,
         "type": "scatter",
         "x": [
          1,
          10,
          11,
          12,
          13,
          14,
          15,
          16,
          17,
          18,
          19,
          2,
          20,
          3,
          4,
          5,
          6,
          7,
          8,
          9
         ],
         "xaxis": "x",
         "y": [
          16.31544414666967,
          4.359670939172796,
          4.48808222943818,
          4.1267941481068515,
          4.927535510519352,
          4.374899921995596,
          3.5035177240000506,
          3.2552856849705583,
          2.65088795669477,
          2.231335379055596,
          2.159779268096474,
          12.690578496088918,
          2.2442672616225345,
          10.55061898255474,
          8.029462940929784,
          6.0975726165167,
          4.327581342757668,
          4.730680236279076,
          4.832890006111113,
          4.346361489849178
         ],
         "yaxis": "y"
        },
        {
         "customdata": [
          [
           3390,
           272,
           "fan_in-36"
          ],
          [
           599,
           260,
           "fan_in-36"
          ],
          [
           520,
           252,
           "fan_in-36"
          ],
          [
           465,
           242,
           "fan_in-36"
          ],
          [
           417,
           227,
           "fan_in-36"
          ],
          [
           377,
           219,
           "fan_in-36"
          ],
          [
           343,
           214,
           "fan_in-36"
          ],
          [
           318,
           208,
           "fan_in-36"
          ],
          [
           293,
           200,
           "fan_in-36"
          ],
          [
           264,
           190,
           "fan_in-36"
          ],
          [
           240,
           180,
           "fan_in-36"
          ],
          [
           2371,
           272,
           "fan_in-36"
          ],
          [
           216,
           163,
           "fan_in-36"
          ],
          [
           1758,
           271,
           "fan_in-36"
          ],
          [
           1385,
           271,
           "fan_in-36"
          ],
          [
           1179,
           271,
           "fan_in-36"
          ],
          [
           993,
           269,
           "fan_in-36"
          ],
          [
           855,
           268,
           "fan_in-36"
          ],
          [
           765,
           267,
           "fan_in-36"
          ],
          [
           682,
           265,
           "fan_in-36"
          ]
         ],
         "hovertemplate": "Motif Id=%{customdata[2]}<br>M - synapse_threshold=%{x}<br>Z score=%{y}<br>edges=%{customdata[0]}<br>nodes=%{customdata[1]}<extra></extra>",
         "legendgroup": "fan_in-36",
         "marker": {
          "color": "#ab63fa",
          "symbol": "circle"
         },
         "mode": "markers",
         "name": "fan_in-36",
         "orientation": "v",
         "showlegend": true,
         "type": "scatter",
         "x": [
          1,
          10,
          11,
          12,
          13,
          14,
          15,
          16,
          17,
          18,
          19,
          2,
          20,
          3,
          4,
          5,
          6,
          7,
          8,
          9
         ],
         "xaxis": "x",
         "y": [
          -30.38151193990753,
          -9.88034741802299,
          -9.629310439784991,
          -8.557057151426283,
          -8.738935978644376,
          -8.160483192023825,
          -7.415545816095859,
          -7.435750206921969,
          -6.507799547945275,
          -6.29591874603391,
          -6.426404218619852,
          -22.852010324980725,
          -6.089794863049492,
          -17.722929722258097,
          -13.033739900274922,
          -11.62763226775918,
          -10.454446206779204,
          -10.279273635135572,
          -10.634629208090388,
          -10.354572638993462
         ],
         "yaxis": "y"
        },
        {
         "customdata": [
          [
           3390,
           272,
           "feed_forward-38"
          ],
          [
           599,
           260,
           "feed_forward-38"
          ],
          [
           520,
           252,
           "feed_forward-38"
          ],
          [
           465,
           242,
           "feed_forward-38"
          ],
          [
           417,
           227,
           "feed_forward-38"
          ],
          [
           377,
           219,
           "feed_forward-38"
          ],
          [
           343,
           214,
           "feed_forward-38"
          ],
          [
           318,
           208,
           "feed_forward-38"
          ],
          [
           293,
           200,
           "feed_forward-38"
          ],
          [
           264,
           190,
           "feed_forward-38"
          ],
          [
           240,
           180,
           "feed_forward-38"
          ],
          [
           2371,
           272,
           "feed_forward-38"
          ],
          [
           216,
           163,
           "feed_forward-38"
          ],
          [
           1758,
           271,
           "feed_forward-38"
          ],
          [
           1385,
           271,
           "feed_forward-38"
          ],
          [
           1179,
           271,
           "feed_forward-38"
          ],
          [
           993,
           269,
           "feed_forward-38"
          ],
          [
           855,
           268,
           "feed_forward-38"
          ],
          [
           765,
           267,
           "feed_forward-38"
          ],
          [
           682,
           265,
           "feed_forward-38"
          ]
         ],
         "hovertemplate": "Motif Id=%{customdata[2]}<br>M - synapse_threshold=%{x}<br>Z score=%{y}<br>edges=%{customdata[0]}<br>nodes=%{customdata[1]}<extra></extra>",
         "legendgroup": "feed_forward-38",
         "marker": {
          "color": "#FFA15A",
          "symbol": "circle"
         },
         "mode": "markers",
         "name": "feed_forward-38",
         "orientation": "v",
         "showlegend": true,
         "type": "scatter",
         "x": [
          1,
          10,
          11,
          12,
          13,
          14,
          15,
          16,
          17,
          18,
          19,
          2,
          20,
          3,
          4,
          5,
          6,
          7,
          8,
          9
         ],
         "xaxis": "x",
         "y": [
          -9.942647749706033,
          10.961397892151718,
          9.266304441858217,
          9.253739255673606,
          6.5498128872002885,
          4.930747473728936,
          5.056354024110743,
          5.210750646051605,
          5.67090490757163,
          6.042078530190386,
          6.112263572769933,
          -2.779953584471101,
          5.305388827634464,
          4.591473604758859,
          8.60124503309838,
          9.62178470286565,
          9.895279173622217,
          9.397135822693237,
          11.644147089678743,
          11.274821197859255
         ],
         "yaxis": "y"
        },
        {
         "customdata": [
          [
           3390,
           272,
           "46"
          ],
          [
           599,
           260,
           "46"
          ],
          [
           520,
           252,
           "46"
          ],
          [
           465,
           242,
           "46"
          ],
          [
           417,
           227,
           "46"
          ],
          [
           377,
           219,
           "46"
          ],
          [
           343,
           214,
           "46"
          ],
          [
           318,
           208,
           "46"
          ],
          [
           293,
           200,
           "46"
          ],
          [
           264,
           190,
           "46"
          ],
          [
           240,
           180,
           "46"
          ],
          [
           2371,
           272,
           "46"
          ],
          [
           216,
           163,
           "46"
          ],
          [
           1758,
           271,
           "46"
          ],
          [
           1385,
           271,
           "46"
          ],
          [
           1179,
           271,
           "46"
          ],
          [
           993,
           269,
           "46"
          ],
          [
           855,
           268,
           "46"
          ],
          [
           765,
           267,
           "46"
          ],
          [
           682,
           265,
           "46"
          ]
         ],
         "hovertemplate": "Motif Id=%{customdata[2]}<br>M - synapse_threshold=%{x}<br>Z score=%{y}<br>edges=%{customdata[0]}<br>nodes=%{customdata[1]}<extra></extra>",
         "legendgroup": "46",
         "marker": {
          "color": "#19d3f3",
          "symbol": "circle"
         },
         "mode": "markers",
         "name": "46",
         "orientation": "v",
         "showlegend": true,
         "type": "scatter",
         "x": [
          1,
          10,
          11,
          12,
          13,
          14,
          15,
          16,
          17,
          18,
          19,
          2,
          20,
          3,
          4,
          5,
          6,
          7,
          8,
          9
         ],
         "xaxis": "x",
         "y": [
          52.376778881811816,
          14.32688723470145,
          14.226260806845602,
          10.774974393305571,
          11.376819118216595,
          10.702319993532196,
          10.687142862160957,
          10.279919539241922,
          12.62776071828045,
          11.206227412213178,
          12.478337587694275,
          45.469802170225464,
          10.52985311641735,
          39.78063634977345,
          32.413988601796135,
          24.99778248032756,
          20.79273600200878,
          21.111830238935454,
          19.735987391871472,
          16.965720424500617
         ],
         "yaxis": "y"
        },
        {
         "customdata": [
          [
           3390,
           272,
           "74"
          ],
          [
           599,
           260,
           "74"
          ],
          [
           520,
           252,
           "74"
          ],
          [
           465,
           242,
           "74"
          ],
          [
           417,
           227,
           "74"
          ],
          [
           377,
           219,
           "74"
          ],
          [
           343,
           214,
           "74"
          ],
          [
           318,
           208,
           "74"
          ],
          [
           293,
           200,
           "74"
          ],
          [
           264,
           190,
           "74"
          ],
          [
           240,
           180,
           "74"
          ],
          [
           2371,
           272,
           "74"
          ],
          [
           216,
           163,
           "74"
          ],
          [
           1758,
           271,
           "74"
          ],
          [
           1385,
           271,
           "74"
          ],
          [
           1179,
           271,
           "74"
          ],
          [
           993,
           269,
           "74"
          ],
          [
           855,
           268,
           "74"
          ],
          [
           765,
           267,
           "74"
          ],
          [
           682,
           265,
           "74"
          ]
         ],
         "hovertemplate": "Motif Id=%{customdata[2]}<br>M - synapse_threshold=%{x}<br>Z score=%{y}<br>edges=%{customdata[0]}<br>nodes=%{customdata[1]}<extra></extra>",
         "legendgroup": "74",
         "marker": {
          "color": "#FF6692",
          "symbol": "circle"
         },
         "mode": "markers",
         "name": "74",
         "orientation": "v",
         "showlegend": true,
         "type": "scatter",
         "x": [
          1,
          10,
          11,
          12,
          13,
          14,
          15,
          16,
          17,
          18,
          19,
          2,
          20,
          3,
          4,
          5,
          6,
          7,
          8,
          9
         ],
         "xaxis": "x",
         "y": [
          13.877574314400931,
          5.216786572045342,
          5.038516910547276,
          4.419933696871078,
          4.963120434234786,
          4.761468498691769,
          4.295662738470525,
          4.156801114444285,
          3.1127436504721397,
          3.228918938376017,
          2.9453417111495725,
          11.359983767156303,
          2.8980159705158552,
          8.013734053264432,
          6.093394334652916,
          5.636081987589871,
          5.278883226332929,
          5.108705414855114,
          5.642874549679016,
          5.250032902677306
         ],
         "yaxis": "y"
        },
        {
         "customdata": [
          [
           3390,
           272,
           "78"
          ],
          [
           599,
           260,
           "78"
          ],
          [
           520,
           252,
           "78"
          ],
          [
           465,
           242,
           "78"
          ],
          [
           417,
           227,
           "78"
          ],
          [
           377,
           219,
           "78"
          ],
          [
           343,
           214,
           "78"
          ],
          [
           318,
           208,
           "78"
          ],
          [
           293,
           200,
           "78"
          ],
          [
           264,
           190,
           "78"
          ],
          [
           240,
           180,
           "78"
          ],
          [
           2371,
           272,
           "78"
          ],
          [
           216,
           163,
           "78"
          ],
          [
           1758,
           271,
           "78"
          ],
          [
           1385,
           271,
           "78"
          ],
          [
           1179,
           271,
           "78"
          ],
          [
           993,
           269,
           "78"
          ],
          [
           855,
           268,
           "78"
          ],
          [
           765,
           267,
           "78"
          ],
          [
           682,
           265,
           "78"
          ]
         ],
         "hovertemplate": "Motif Id=%{customdata[2]}<br>M - synapse_threshold=%{x}<br>Z score=%{y}<br>edges=%{customdata[0]}<br>nodes=%{customdata[1]}<extra></extra>",
         "legendgroup": "78",
         "marker": {
          "color": "#B6E880",
          "symbol": "circle"
         },
         "mode": "markers",
         "name": "78",
         "orientation": "v",
         "showlegend": true,
         "type": "scatter",
         "x": [
          1,
          10,
          11,
          12,
          13,
          14,
          15,
          16,
          17,
          18,
          19,
          2,
          20,
          3,
          4,
          5,
          6,
          7,
          8,
          9
         ],
         "xaxis": "x",
         "y": [
          35.3296381319896,
          14.462856351984454,
          13.921100663559837,
          15.156669742432188,
          17.52860654368181,
          17.53259850287172,
          4.949307001344488,
          5.417481002326575,
          2.5483757311075443,
          3.8072109822031575,
          4.71525204429167,
          18.72965187944349,
          6.6299478041894115,
          14.751685870721722,
          9.225501367302728,
          7.606495948347335,
          6.233136595604062,
          8.259029090113064,
          12.836033302857823,
          15.560067290785502
         ],
         "yaxis": "y"
        },
        {
         "customdata": [
          [
           3390,
           272,
           "98"
          ],
          [
           599,
           260,
           "98"
          ],
          [
           520,
           252,
           "98"
          ],
          [
           465,
           242,
           "98"
          ],
          [
           417,
           227,
           "98"
          ],
          [
           377,
           219,
           "98"
          ],
          [
           343,
           214,
           "98"
          ],
          [
           318,
           208,
           "98"
          ],
          [
           293,
           200,
           "98"
          ],
          [
           264,
           190,
           "98"
          ],
          [
           240,
           180,
           "98"
          ],
          [
           2371,
           272,
           "98"
          ],
          [
           216,
           163,
           "98"
          ],
          [
           1758,
           271,
           "98"
          ],
          [
           1385,
           271,
           "98"
          ],
          [
           1179,
           271,
           "98"
          ],
          [
           993,
           269,
           "98"
          ],
          [
           855,
           268,
           "98"
          ],
          [
           765,
           267,
           "98"
          ],
          [
           682,
           265,
           "98"
          ]
         ],
         "hovertemplate": "Motif Id=%{customdata[2]}<br>M - synapse_threshold=%{x}<br>Z score=%{y}<br>edges=%{customdata[0]}<br>nodes=%{customdata[1]}<extra></extra>",
         "legendgroup": "98",
         "marker": {
          "color": "#FF97FF",
          "symbol": "circle"
         },
         "mode": "markers",
         "name": "98",
         "orientation": "v",
         "showlegend": true,
         "type": "scatter",
         "x": [
          1,
          10,
          11,
          12,
          13,
          14,
          15,
          16,
          17,
          18,
          19,
          2,
          20,
          3,
          4,
          5,
          6,
          7,
          8,
          9
         ],
         "xaxis": "x",
         "y": [
          -15.987244734759969,
          0.4794709572342432,
          1.4303316162461601,
          0.6707211543339554,
          1.0810556771299689,
          1.3119179249052577,
          0.17215078948007265,
          0.4329848721508192,
          -0.9945692452327327,
          -0.9418444877113066,
          -0.9614746661652542,
          -11.492626692368463,
          -0.9568590565633823,
          -8.641976697297554,
          -6.067243941694833,
          -4.82046926034511,
          -2.573463988651974,
          -1.6723644630440677,
          -1.3321360919683962,
          -0.42531247173870856
         ],
         "yaxis": "y"
        },
        {
         "customdata": [
          [
           3390,
           272,
           "102"
          ],
          [
           599,
           260,
           "102"
          ],
          [
           520,
           252,
           "102"
          ],
          [
           465,
           242,
           "102"
          ],
          [
           417,
           227,
           "102"
          ],
          [
           377,
           219,
           "102"
          ],
          [
           343,
           214,
           "102"
          ],
          [
           318,
           208,
           "102"
          ],
          [
           293,
           200,
           "102"
          ],
          [
           264,
           190,
           "102"
          ],
          [
           240,
           180,
           "102"
          ],
          [
           2371,
           272,
           "102"
          ],
          [
           216,
           163,
           "102"
          ],
          [
           1758,
           271,
           "102"
          ],
          [
           1385,
           271,
           "102"
          ],
          [
           1179,
           271,
           "102"
          ],
          [
           993,
           269,
           "102"
          ],
          [
           855,
           268,
           "102"
          ],
          [
           765,
           267,
           "102"
          ],
          [
           682,
           265,
           "102"
          ]
         ],
         "hovertemplate": "Motif Id=%{customdata[2]}<br>M - synapse_threshold=%{x}<br>Z score=%{y}<br>edges=%{customdata[0]}<br>nodes=%{customdata[1]}<extra></extra>",
         "legendgroup": "102",
         "marker": {
          "color": "#FECB52",
          "symbol": "circle"
         },
         "mode": "markers",
         "name": "102",
         "orientation": "v",
         "showlegend": true,
         "type": "scatter",
         "x": [
          1,
          10,
          11,
          12,
          13,
          14,
          15,
          16,
          17,
          18,
          19,
          2,
          20,
          3,
          4,
          5,
          6,
          7,
          8,
          9
         ],
         "xaxis": "x",
         "y": [
          6.331524511854911,
          4.771957438543701,
          1.7069815577173373,
          0.9865790175111901,
          0.4032088933646227,
          0.33568731624624004,
          2.2952662432287148,
          2.256143343322306,
          1.284264213991865,
          -0.5055022277955361,
          -0.45021326380552174,
          4.53481643596524,
          -0.521798499313379,
          4.829098966979364,
          5.522354847864867,
          4.9104659569680065,
          3.529260488172682,
          3.750730796353,
          2.5152068058047083,
          3.490746728627323
         ],
         "yaxis": "y"
        },
        {
         "customdata": [
          [
           3390,
           272,
           "108"
          ],
          [
           599,
           260,
           "108"
          ],
          [
           520,
           252,
           "108"
          ],
          [
           465,
           242,
           "108"
          ],
          [
           417,
           227,
           "108"
          ],
          [
           377,
           219,
           "108"
          ],
          [
           343,
           214,
           "108"
          ],
          [
           318,
           208,
           "108"
          ],
          [
           293,
           200,
           "108"
          ],
          [
           264,
           190,
           "108"
          ],
          [
           240,
           180,
           "108"
          ],
          [
           2371,
           272,
           "108"
          ],
          [
           216,
           163,
           "108"
          ],
          [
           1758,
           271,
           "108"
          ],
          [
           1385,
           271,
           "108"
          ],
          [
           1179,
           271,
           "108"
          ],
          [
           993,
           269,
           "108"
          ],
          [
           855,
           268,
           "108"
          ],
          [
           765,
           267,
           "108"
          ],
          [
           682,
           265,
           "108"
          ]
         ],
         "hovertemplate": "Motif Id=%{customdata[2]}<br>M - synapse_threshold=%{x}<br>Z score=%{y}<br>edges=%{customdata[0]}<br>nodes=%{customdata[1]}<extra></extra>",
         "legendgroup": "108",
         "marker": {
          "color": "#636efa",
          "symbol": "circle"
         },
         "mode": "markers",
         "name": "108",
         "orientation": "v",
         "showlegend": true,
         "type": "scatter",
         "x": [
          1,
          10,
          11,
          12,
          13,
          14,
          15,
          16,
          17,
          18,
          19,
          2,
          20,
          3,
          4,
          5,
          6,
          7,
          8,
          9
         ],
         "xaxis": "x",
         "y": [
          30.173366315520383,
          8.841667994484283,
          9.10408754052131,
          7.489835167146189,
          8.737971541172444,
          9.1605438960316,
          12.467441867562712,
          10.716888627257587,
          11.625618142708044,
          10.105144355936984,
          12.160873613158621,
          30.07340995878143,
          9.420516572200714,
          25.75319190610717,
          17.316019079956643,
          15.530457914041222,
          12.071760391406437,
          15.783352594881515,
          9.117079061389457,
          8.246854260120353
         ],
         "yaxis": "y"
        },
        {
         "customdata": [
          [
           3390,
           272,
           "110"
          ],
          [
           599,
           260,
           "110"
          ],
          [
           520,
           252,
           "110"
          ],
          [
           465,
           242,
           "110"
          ],
          [
           417,
           227,
           "110"
          ],
          [
           377,
           219,
           "110"
          ],
          [
           343,
           214,
           "110"
          ],
          [
           318,
           208,
           "110"
          ],
          [
           293,
           200,
           "110"
          ],
          [
           264,
           190,
           "110"
          ],
          [
           240,
           180,
           "110"
          ],
          [
           2371,
           272,
           "110"
          ],
          [
           216,
           163,
           "110"
          ],
          [
           1758,
           271,
           "110"
          ],
          [
           1385,
           271,
           "110"
          ],
          [
           1179,
           271,
           "110"
          ],
          [
           993,
           269,
           "110"
          ],
          [
           855,
           268,
           "110"
          ],
          [
           765,
           267,
           "110"
          ],
          [
           682,
           265,
           "110"
          ]
         ],
         "hovertemplate": "Motif Id=%{customdata[2]}<br>M - synapse_threshold=%{x}<br>Z score=%{y}<br>edges=%{customdata[0]}<br>nodes=%{customdata[1]}<extra></extra>",
         "legendgroup": "110",
         "marker": {
          "color": "#EF553B",
          "symbol": "circle"
         },
         "mode": "markers",
         "name": "110",
         "orientation": "v",
         "showlegend": true,
         "type": "scatter",
         "x": [
          1,
          10,
          11,
          12,
          13,
          14,
          15,
          16,
          17,
          18,
          19,
          2,
          20,
          3,
          4,
          5,
          6,
          7,
          8,
          9
         ],
         "xaxis": "x",
         "y": [
          53.19700152862808,
          9.372484380640808,
          14.36065459309473,
          9.777530768710548,
          12.643849402016652,
          11.683414437430757,
          14.047538337136983,
          13.772843287660958,
          19.624047034581668,
          15.870069419671056,
          19.419720171850706,
          37.500398403888845,
          11.734281430391487,
          27.583389683609578,
          16.354766897263122,
          10.385442786660567,
          10.179405527648099,
          8.37477896578615,
          3.58862577675017,
          3.3059991081834252
         ],
         "yaxis": "y"
        },
        {
         "customdata": [
          [
           3390,
           272,
           "238"
          ],
          [
           599,
           260,
           "238"
          ],
          [
           520,
           252,
           "238"
          ],
          [
           465,
           242,
           "238"
          ],
          [
           417,
           227,
           "238"
          ],
          [
           377,
           219,
           "238"
          ],
          [
           343,
           214,
           "238"
          ],
          [
           318,
           208,
           "238"
          ],
          [
           293,
           200,
           "238"
          ],
          [
           264,
           190,
           "238"
          ],
          [
           240,
           180,
           "238"
          ],
          [
           2371,
           272,
           "238"
          ],
          [
           216,
           163,
           "238"
          ],
          [
           1758,
           271,
           "238"
          ],
          [
           1385,
           271,
           "238"
          ],
          [
           1179,
           271,
           "238"
          ],
          [
           993,
           269,
           "238"
          ],
          [
           855,
           268,
           "238"
          ],
          [
           765,
           267,
           "238"
          ],
          [
           682,
           265,
           "238"
          ]
         ],
         "hovertemplate": "Motif Id=%{customdata[2]}<br>M - synapse_threshold=%{x}<br>Z score=%{y}<br>edges=%{customdata[0]}<br>nodes=%{customdata[1]}<extra></extra>",
         "legendgroup": "238",
         "marker": {
          "color": "#00cc96",
          "symbol": "circle"
         },
         "mode": "markers",
         "name": "238",
         "orientation": "v",
         "showlegend": true,
         "type": "scatter",
         "x": [
          1,
          10,
          11,
          12,
          13,
          14,
          15,
          16,
          17,
          18,
          19,
          2,
          20,
          3,
          4,
          5,
          6,
          7,
          8,
          9
         ],
         "xaxis": "x",
         "y": [
          114.60710728594258,
          0,
          126.52276083380808,
          126.5227608338081,
          0,
          126.52276083380808,
          0,
          31.606961258558215,
          0,
          0,
          0,
          68.28302025451335,
          0,
          46.440900555961925,
          42.21628443175682,
          55.1240305493302,
          42.591519414044456,
          73.91870277060697,
          95.20284255777092,
          110.83837141673119
         ],
         "yaxis": "y"
        }
       ],
       "layout": {
        "autosize": true,
        "legend": {
         "title": {
          "text": "Motif Id"
         },
         "tracegroupgap": 0
        },
        "template": {
         "data": {
          "bar": [
           {
            "error_x": {
             "color": "#2a3f5f"
            },
            "error_y": {
             "color": "#2a3f5f"
            },
            "marker": {
             "line": {
              "color": "#E5ECF6",
              "width": 0.5
             },
             "pattern": {
              "fillmode": "overlay",
              "size": 10,
              "solidity": 0.2
             }
            },
            "type": "bar"
           }
          ],
          "barpolar": [
           {
            "marker": {
             "line": {
              "color": "#E5ECF6",
              "width": 0.5
             },
             "pattern": {
              "fillmode": "overlay",
              "size": 10,
              "solidity": 0.2
             }
            },
            "type": "barpolar"
           }
          ],
          "carpet": [
           {
            "aaxis": {
             "endlinecolor": "#2a3f5f",
             "gridcolor": "white",
             "linecolor": "white",
             "minorgridcolor": "white",
             "startlinecolor": "#2a3f5f"
            },
            "baxis": {
             "endlinecolor": "#2a3f5f",
             "gridcolor": "white",
             "linecolor": "white",
             "minorgridcolor": "white",
             "startlinecolor": "#2a3f5f"
            },
            "type": "carpet"
           }
          ],
          "choropleth": [
           {
            "colorbar": {
             "outlinewidth": 0,
             "ticks": ""
            },
            "type": "choropleth"
           }
          ],
          "contour": [
           {
            "colorbar": {
             "outlinewidth": 0,
             "ticks": ""
            },
            "colorscale": [
             [
              0,
              "#0d0887"
             ],
             [
              0.1111111111111111,
              "#46039f"
             ],
             [
              0.2222222222222222,
              "#7201a8"
             ],
             [
              0.3333333333333333,
              "#9c179e"
             ],
             [
              0.4444444444444444,
              "#bd3786"
             ],
             [
              0.5555555555555556,
              "#d8576b"
             ],
             [
              0.6666666666666666,
              "#ed7953"
             ],
             [
              0.7777777777777778,
              "#fb9f3a"
             ],
             [
              0.8888888888888888,
              "#fdca26"
             ],
             [
              1,
              "#f0f921"
             ]
            ],
            "type": "contour"
           }
          ],
          "contourcarpet": [
           {
            "colorbar": {
             "outlinewidth": 0,
             "ticks": ""
            },
            "type": "contourcarpet"
           }
          ],
          "heatmap": [
           {
            "colorbar": {
             "outlinewidth": 0,
             "ticks": ""
            },
            "colorscale": [
             [
              0,
              "#0d0887"
             ],
             [
              0.1111111111111111,
              "#46039f"
             ],
             [
              0.2222222222222222,
              "#7201a8"
             ],
             [
              0.3333333333333333,
              "#9c179e"
             ],
             [
              0.4444444444444444,
              "#bd3786"
             ],
             [
              0.5555555555555556,
              "#d8576b"
             ],
             [
              0.6666666666666666,
              "#ed7953"
             ],
             [
              0.7777777777777778,
              "#fb9f3a"
             ],
             [
              0.8888888888888888,
              "#fdca26"
             ],
             [
              1,
              "#f0f921"
             ]
            ],
            "type": "heatmap"
           }
          ],
          "heatmapgl": [
           {
            "colorbar": {
             "outlinewidth": 0,
             "ticks": ""
            },
            "colorscale": [
             [
              0,
              "#0d0887"
             ],
             [
              0.1111111111111111,
              "#46039f"
             ],
             [
              0.2222222222222222,
              "#7201a8"
             ],
             [
              0.3333333333333333,
              "#9c179e"
             ],
             [
              0.4444444444444444,
              "#bd3786"
             ],
             [
              0.5555555555555556,
              "#d8576b"
             ],
             [
              0.6666666666666666,
              "#ed7953"
             ],
             [
              0.7777777777777778,
              "#fb9f3a"
             ],
             [
              0.8888888888888888,
              "#fdca26"
             ],
             [
              1,
              "#f0f921"
             ]
            ],
            "type": "heatmapgl"
           }
          ],
          "histogram": [
           {
            "marker": {
             "pattern": {
              "fillmode": "overlay",
              "size": 10,
              "solidity": 0.2
             }
            },
            "type": "histogram"
           }
          ],
          "histogram2d": [
           {
            "colorbar": {
             "outlinewidth": 0,
             "ticks": ""
            },
            "colorscale": [
             [
              0,
              "#0d0887"
             ],
             [
              0.1111111111111111,
              "#46039f"
             ],
             [
              0.2222222222222222,
              "#7201a8"
             ],
             [
              0.3333333333333333,
              "#9c179e"
             ],
             [
              0.4444444444444444,
              "#bd3786"
             ],
             [
              0.5555555555555556,
              "#d8576b"
             ],
             [
              0.6666666666666666,
              "#ed7953"
             ],
             [
              0.7777777777777778,
              "#fb9f3a"
             ],
             [
              0.8888888888888888,
              "#fdca26"
             ],
             [
              1,
              "#f0f921"
             ]
            ],
            "type": "histogram2d"
           }
          ],
          "histogram2dcontour": [
           {
            "colorbar": {
             "outlinewidth": 0,
             "ticks": ""
            },
            "colorscale": [
             [
              0,
              "#0d0887"
             ],
             [
              0.1111111111111111,
              "#46039f"
             ],
             [
              0.2222222222222222,
              "#7201a8"
             ],
             [
              0.3333333333333333,
              "#9c179e"
             ],
             [
              0.4444444444444444,
              "#bd3786"
             ],
             [
              0.5555555555555556,
              "#d8576b"
             ],
             [
              0.6666666666666666,
              "#ed7953"
             ],
             [
              0.7777777777777778,
              "#fb9f3a"
             ],
             [
              0.8888888888888888,
              "#fdca26"
             ],
             [
              1,
              "#f0f921"
             ]
            ],
            "type": "histogram2dcontour"
           }
          ],
          "mesh3d": [
           {
            "colorbar": {
             "outlinewidth": 0,
             "ticks": ""
            },
            "type": "mesh3d"
           }
          ],
          "parcoords": [
           {
            "line": {
             "colorbar": {
              "outlinewidth": 0,
              "ticks": ""
             }
            },
            "type": "parcoords"
           }
          ],
          "pie": [
           {
            "automargin": true,
            "type": "pie"
           }
          ],
          "scatter": [
           {
            "fillpattern": {
             "fillmode": "overlay",
             "size": 10,
             "solidity": 0.2
            },
            "type": "scatter"
           }
          ],
          "scatter3d": [
           {
            "line": {
             "colorbar": {
              "outlinewidth": 0,
              "ticks": ""
             }
            },
            "marker": {
             "colorbar": {
              "outlinewidth": 0,
              "ticks": ""
             }
            },
            "type": "scatter3d"
           }
          ],
          "scattercarpet": [
           {
            "marker": {
             "colorbar": {
              "outlinewidth": 0,
              "ticks": ""
             }
            },
            "type": "scattercarpet"
           }
          ],
          "scattergeo": [
           {
            "marker": {
             "colorbar": {
              "outlinewidth": 0,
              "ticks": ""
             }
            },
            "type": "scattergeo"
           }
          ],
          "scattergl": [
           {
            "marker": {
             "colorbar": {
              "outlinewidth": 0,
              "ticks": ""
             }
            },
            "type": "scattergl"
           }
          ],
          "scattermapbox": [
           {
            "marker": {
             "colorbar": {
              "outlinewidth": 0,
              "ticks": ""
             }
            },
            "type": "scattermapbox"
           }
          ],
          "scatterpolar": [
           {
            "marker": {
             "colorbar": {
              "outlinewidth": 0,
              "ticks": ""
             }
            },
            "type": "scatterpolar"
           }
          ],
          "scatterpolargl": [
           {
            "marker": {
             "colorbar": {
              "outlinewidth": 0,
              "ticks": ""
             }
            },
            "type": "scatterpolargl"
           }
          ],
          "scatterternary": [
           {
            "marker": {
             "colorbar": {
              "outlinewidth": 0,
              "ticks": ""
             }
            },
            "type": "scatterternary"
           }
          ],
          "surface": [
           {
            "colorbar": {
             "outlinewidth": 0,
             "ticks": ""
            },
            "colorscale": [
             [
              0,
              "#0d0887"
             ],
             [
              0.1111111111111111,
              "#46039f"
             ],
             [
              0.2222222222222222,
              "#7201a8"
             ],
             [
              0.3333333333333333,
              "#9c179e"
             ],
             [
              0.4444444444444444,
              "#bd3786"
             ],
             [
              0.5555555555555556,
              "#d8576b"
             ],
             [
              0.6666666666666666,
              "#ed7953"
             ],
             [
              0.7777777777777778,
              "#fb9f3a"
             ],
             [
              0.8888888888888888,
              "#fdca26"
             ],
             [
              1,
              "#f0f921"
             ]
            ],
            "type": "surface"
           }
          ],
          "table": [
           {
            "cells": {
             "fill": {
              "color": "#EBF0F8"
             },
             "line": {
              "color": "white"
             }
            },
            "header": {
             "fill": {
              "color": "#C8D4E3"
             },
             "line": {
              "color": "white"
             }
            },
            "type": "table"
           }
          ]
         },
         "layout": {
          "annotationdefaults": {
           "arrowcolor": "#2a3f5f",
           "arrowhead": 0,
           "arrowwidth": 1
          },
          "autotypenumbers": "strict",
          "coloraxis": {
           "colorbar": {
            "outlinewidth": 0,
            "ticks": ""
           }
          },
          "colorscale": {
           "diverging": [
            [
             0,
             "#8e0152"
            ],
            [
             0.1,
             "#c51b7d"
            ],
            [
             0.2,
             "#de77ae"
            ],
            [
             0.3,
             "#f1b6da"
            ],
            [
             0.4,
             "#fde0ef"
            ],
            [
             0.5,
             "#f7f7f7"
            ],
            [
             0.6,
             "#e6f5d0"
            ],
            [
             0.7,
             "#b8e186"
            ],
            [
             0.8,
             "#7fbc41"
            ],
            [
             0.9,
             "#4d9221"
            ],
            [
             1,
             "#276419"
            ]
           ],
           "sequential": [
            [
             0,
             "#0d0887"
            ],
            [
             0.1111111111111111,
             "#46039f"
            ],
            [
             0.2222222222222222,
             "#7201a8"
            ],
            [
             0.3333333333333333,
             "#9c179e"
            ],
            [
             0.4444444444444444,
             "#bd3786"
            ],
            [
             0.5555555555555556,
             "#d8576b"
            ],
            [
             0.6666666666666666,
             "#ed7953"
            ],
            [
             0.7777777777777778,
             "#fb9f3a"
            ],
            [
             0.8888888888888888,
             "#fdca26"
            ],
            [
             1,
             "#f0f921"
            ]
           ],
           "sequentialminus": [
            [
             0,
             "#0d0887"
            ],
            [
             0.1111111111111111,
             "#46039f"
            ],
            [
             0.2222222222222222,
             "#7201a8"
            ],
            [
             0.3333333333333333,
             "#9c179e"
            ],
            [
             0.4444444444444444,
             "#bd3786"
            ],
            [
             0.5555555555555556,
             "#d8576b"
            ],
            [
             0.6666666666666666,
             "#ed7953"
            ],
            [
             0.7777777777777778,
             "#fb9f3a"
            ],
            [
             0.8888888888888888,
             "#fdca26"
            ],
            [
             1,
             "#f0f921"
            ]
           ]
          },
          "colorway": [
           "#636efa",
           "#EF553B",
           "#00cc96",
           "#ab63fa",
           "#FFA15A",
           "#19d3f3",
           "#FF6692",
           "#B6E880",
           "#FF97FF",
           "#FECB52"
          ],
          "font": {
           "color": "#2a3f5f"
          },
          "geo": {
           "bgcolor": "white",
           "lakecolor": "white",
           "landcolor": "#E5ECF6",
           "showlakes": true,
           "showland": true,
           "subunitcolor": "white"
          },
          "hoverlabel": {
           "align": "left"
          },
          "hovermode": "closest",
          "mapbox": {
           "style": "light"
          },
          "paper_bgcolor": "white",
          "plot_bgcolor": "#E5ECF6",
          "polar": {
           "angularaxis": {
            "gridcolor": "white",
            "linecolor": "white",
            "ticks": ""
           },
           "bgcolor": "#E5ECF6",
           "radialaxis": {
            "gridcolor": "white",
            "linecolor": "white",
            "ticks": ""
           }
          },
          "scene": {
           "xaxis": {
            "backgroundcolor": "#E5ECF6",
            "gridcolor": "white",
            "gridwidth": 2,
            "linecolor": "white",
            "showbackground": true,
            "ticks": "",
            "zerolinecolor": "white"
           },
           "yaxis": {
            "backgroundcolor": "#E5ECF6",
            "gridcolor": "white",
            "gridwidth": 2,
            "linecolor": "white",
            "showbackground": true,
            "ticks": "",
            "zerolinecolor": "white"
           },
           "zaxis": {
            "backgroundcolor": "#E5ECF6",
            "gridcolor": "white",
            "gridwidth": 2,
            "linecolor": "white",
            "showbackground": true,
            "ticks": "",
            "zerolinecolor": "white"
           }
          },
          "shapedefaults": {
           "line": {
            "color": "#2a3f5f"
           }
          },
          "ternary": {
           "aaxis": {
            "gridcolor": "white",
            "linecolor": "white",
            "ticks": ""
           },
           "baxis": {
            "gridcolor": "white",
            "linecolor": "white",
            "ticks": ""
           },
           "bgcolor": "#E5ECF6",
           "caxis": {
            "gridcolor": "white",
            "linecolor": "white",
            "ticks": ""
           }
          },
          "title": {
           "x": 0.05
          },
          "xaxis": {
           "automargin": true,
           "gridcolor": "white",
           "linecolor": "white",
           "ticks": "",
           "title": {
            "standoff": 15
           },
           "zerolinecolor": "white",
           "zerolinewidth": 2
          },
          "yaxis": {
           "automargin": true,
           "gridcolor": "white",
           "linecolor": "white",
           "ticks": "",
           "title": {
            "standoff": 15
           },
           "zerolinecolor": "white",
           "zerolinewidth": 2
          }
         }
        },
        "title": {
         "text": "Z-score as a function of M. network: cook_si5"
        },
        "xaxis": {
         "anchor": "y",
         "autorange": true,
         "domain": [
          0,
          1
         ],
         "range": [
          -0.16006600660066006,
          21.16006600660066
         ],
         "title": {
          "text": "M - synapse_threshold"
         },
         "type": "linear"
        },
        "yaxis": {
         "anchor": "x",
         "autorange": true,
         "domain": [
          0,
          1
         ],
         "range": [
          -50.63715594512371,
          140.02822534161905
         ],
         "title": {
          "text": "Z score"
         },
         "type": "linear"
        }
       }
      },
      "image/png": "[encoded data removed]",
      "text/html": [
       "<div>                            <div id=\"40e02f15-1ac9-4310-8f72-cb15ad887760\" class=\"plotly-graph-div\" style=\"height:525px; width:100%;\"></div>            <script type=\"text/javascript\">                require([\"plotly\"], function(Plotly) {                    window.PLOTLYENV=window.PLOTLYENV || {};                                    if (document.getElementById(\"40e02f15-1ac9-4310-8f72-cb15ad887760\")) {                    Plotly.newPlot(                        \"40e02f15-1ac9-4310-8f72-cb15ad887760\",                        [{\"customdata\":[[3390.0,272.0,\"fan_out-6\"],[599.0,260.0,\"fan_out-6\"],[520.0,252.0,\"fan_out-6\"],[465.0,242.0,\"fan_out-6\"],[417.0,227.0,\"fan_out-6\"],[377.0,219.0,\"fan_out-6\"],[343.0,214.0,\"fan_out-6\"],[318.0,208.0,\"fan_out-6\"],[293.0,200.0,\"fan_out-6\"],[264.0,190.0,\"fan_out-6\"],[240.0,180.0,\"fan_out-6\"],[2371.0,272.0,\"fan_out-6\"],[216.0,163.0,\"fan_out-6\"],[1758.0,271.0,\"fan_out-6\"],[1385.0,271.0,\"fan_out-6\"],[1179.0,271.0,\"fan_out-6\"],[993.0,269.0,\"fan_out-6\"],[855.0,268.0,\"fan_out-6\"],[765.0,267.0,\"fan_out-6\"],[682.0,265.0,\"fan_out-6\"]],\"hovertemplate\":\"Motif Id=%{customdata[2]}\\u003cbr\\u003eM - synapse_threshold=%{x}\\u003cbr\\u003eZ score=%{y}\\u003cbr\\u003eedges=%{customdata[0]}\\u003cbr\\u003enodes=%{customdata[1]}\\u003cextra\\u003e\\u003c\\u002fextra\\u003e\",\"legendgroup\":\"fan_out-6\",\"marker\":{\"color\":\"#636efa\",\"symbol\":\"circle\"},\"mode\":\"markers\",\"name\":\"fan_out-6\",\"orientation\":\"v\",\"showlegend\":true,\"x\":[1.0,10.0,11.0,12.0,13.0,14.0,15.0,16.0,17.0,18.0,19.0,2.0,20.0,3.0,4.0,5.0,6.0,7.0,8.0,9.0],\"xaxis\":\"x\",\"y\":[-37.13169143731276,-12.914736858097344,-12.542857365797921,-11.26793293821622,-11.78071077664448,-10.186441040830863,-8.167389477721349,-8.05409606862758,-7.297001933318833,-6.6728836800939835,-6.645925881695965,-26.79322732939035,-6.514310116530785,-24.0585544559594,-18.61658411779026,-15.434792409072074,-12.289264703211424,-13.258559737401567,-13.931953518151653,-13.928576166956843],\"yaxis\":\"y\",\"type\":\"scatter\"},{\"customdata\":[[3390.0,272.0,\"cascade-12\"],[599.0,260.0,\"cascade-12\"],[520.0,252.0,\"cascade-12\"],[465.0,242.0,\"cascade-12\"],[417.0,227.0,\"cascade-12\"],[377.0,219.0,\"cascade-12\"],[343.0,214.0,\"cascade-12\"],[318.0,208.0,\"cascade-12\"],[293.0,200.0,\"cascade-12\"],[264.0,190.0,\"cascade-12\"],[240.0,180.0,\"cascade-12\"],[2371.0,272.0,\"cascade-12\"],[216.0,163.0,\"cascade-12\"],[1758.0,271.0,\"cascade-12\"],[1385.0,271.0,\"cascade-12\"],[1179.0,271.0,\"cascade-12\"],[993.0,269.0,\"cascade-12\"],[855.0,268.0,\"cascade-12\"],[765.0,267.0,\"cascade-12\"],[682.0,265.0,\"cascade-12\"]],\"hovertemplate\":\"Motif Id=%{customdata[2]}\\u003cbr\\u003eM - synapse_threshold=%{x}\\u003cbr\\u003eZ score=%{y}\\u003cbr\\u003eedges=%{customdata[0]}\\u003cbr\\u003enodes=%{customdata[1]}\\u003cextra\\u003e\\u003c\\u002fextra\\u003e\",\"legendgroup\":\"cascade-12\",\"marker\":{\"color\":\"#EF553B\",\"symbol\":\"circle\"},\"mode\":\"markers\",\"name\":\"cascade-12\",\"orientation\":\"v\",\"showlegend\":true,\"x\":[1.0,10.0,11.0,12.0,13.0,14.0,15.0,16.0,17.0,18.0,19.0,2.0,20.0,3.0,4.0,5.0,6.0,7.0,8.0,9.0],\"xaxis\":\"x\",\"y\":[-30.76084596863804,-9.87273863717101,-9.822054302913779,-8.46979122341938,-9.353047700697903,-8.565674069984677,-6.96531216181254,-6.884897773315077,-5.759520080789179,-5.383350827018033,-5.281034526088617,-22.042560941265286,-5.158415428031584,-17.63889532540967,-12.995628510094287,-10.988477027346825,-9.36652716466081,-9.752164198090245,-10.265610917559096,-10.130945093790194],\"yaxis\":\"y\",\"type\":\"scatter\"},{\"customdata\":[[3390.0,272.0,\"14\"],[599.0,260.0,\"14\"],[520.0,252.0,\"14\"],[465.0,242.0,\"14\"],[417.0,227.0,\"14\"],[377.0,219.0,\"14\"],[343.0,214.0,\"14\"],[318.0,208.0,\"14\"],[293.0,200.0,\"14\"],[264.0,190.0,\"14\"],[240.0,180.0,\"14\"],[2371.0,272.0,\"14\"],[216.0,163.0,\"14\"],[1758.0,271.0,\"14\"],[1385.0,271.0,\"14\"],[1179.0,271.0,\"14\"],[993.0,269.0,\"14\"],[855.0,268.0,\"14\"],[765.0,267.0,\"14\"],[682.0,265.0,\"14\"]],\"hovertemplate\":\"Motif Id=%{customdata[2]}\\u003cbr\\u003eM - synapse_threshold=%{x}\\u003cbr\\u003eZ score=%{y}\\u003cbr\\u003eedges=%{customdata[0]}\\u003cbr\\u003enodes=%{customdata[1]}\\u003cextra\\u003e\\u003c\\u002fextra\\u003e\",\"legendgroup\":\"14\",\"marker\":{\"color\":\"#00cc96\",\"symbol\":\"circle\"},\"mode\":\"markers\",\"name\":\"14\",\"orientation\":\"v\",\"showlegend\":true,\"x\":[1.0,10.0,11.0,12.0,13.0,14.0,15.0,16.0,17.0,18.0,19.0,2.0,20.0,3.0,4.0,5.0,6.0,7.0,8.0,9.0],\"xaxis\":\"x\",\"y\":[16.31544414666967,4.359670939172796,4.48808222943818,4.1267941481068515,4.927535510519352,4.374899921995596,3.5035177240000506,3.2552856849705583,2.65088795669477,2.231335379055596,2.159779268096474,12.690578496088918,2.2442672616225345,10.55061898255474,8.029462940929784,6.0975726165167,4.327581342757668,4.730680236279076,4.832890006111113,4.346361489849178],\"yaxis\":\"y\",\"type\":\"scatter\"},{\"customdata\":[[3390.0,272.0,\"fan_in-36\"],[599.0,260.0,\"fan_in-36\"],[520.0,252.0,\"fan_in-36\"],[465.0,242.0,\"fan_in-36\"],[417.0,227.0,\"fan_in-36\"],[377.0,219.0,\"fan_in-36\"],[343.0,214.0,\"fan_in-36\"],[318.0,208.0,\"fan_in-36\"],[293.0,200.0,\"fan_in-36\"],[264.0,190.0,\"fan_in-36\"],[240.0,180.0,\"fan_in-36\"],[2371.0,272.0,\"fan_in-36\"],[216.0,163.0,\"fan_in-36\"],[1758.0,271.0,\"fan_in-36\"],[1385.0,271.0,\"fan_in-36\"],[1179.0,271.0,\"fan_in-36\"],[993.0,269.0,\"fan_in-36\"],[855.0,268.0,\"fan_in-36\"],[765.0,267.0,\"fan_in-36\"],[682.0,265.0,\"fan_in-36\"]],\"hovertemplate\":\"Motif Id=%{customdata[2]}\\u003cbr\\u003eM - synapse_threshold=%{x}\\u003cbr\\u003eZ score=%{y}\\u003cbr\\u003eedges=%{customdata[0]}\\u003cbr\\u003enodes=%{customdata[1]}\\u003cextra\\u003e\\u003c\\u002fextra\\u003e\",\"legendgroup\":\"fan_in-36\",\"marker\":{\"color\":\"#ab63fa\",\"symbol\":\"circle\"},\"mode\":\"markers\",\"name\":\"fan_in-36\",\"orientation\":\"v\",\"showlegend\":true,\"x\":[1.0,10.0,11.0,12.0,13.0,14.0,15.0,16.0,17.0,18.0,19.0,2.0,20.0,3.0,4.0,5.0,6.0,7.0,8.0,9.0],\"xaxis\":\"x\",\"y\":[-30.38151193990753,-9.88034741802299,-9.629310439784991,-8.557057151426283,-8.738935978644376,-8.160483192023825,-7.415545816095859,-7.435750206921969,-6.507799547945275,-6.29591874603391,-6.426404218619852,-22.852010324980725,-6.089794863049492,-17.722929722258097,-13.033739900274922,-11.62763226775918,-10.454446206779204,-10.279273635135572,-10.634629208090388,-10.354572638993462],\"yaxis\":\"y\",\"type\":\"scatter\"},{\"customdata\":[[3390.0,272.0,\"feed_forward-38\"],[599.0,260.0,\"feed_forward-38\"],[520.0,252.0,\"feed_forward-38\"],[465.0,242.0,\"feed_forward-38\"],[417.0,227.0,\"feed_forward-38\"],[377.0,219.0,\"feed_forward-38\"],[343.0,214.0,\"feed_forward-38\"],[318.0,208.0,\"feed_forward-38\"],[293.0,200.0,\"feed_forward-38\"],[264.0,190.0,\"feed_forward-38\"],[240.0,180.0,\"feed_forward-38\"],[2371.0,272.0,\"feed_forward-38\"],[216.0,163.0,\"feed_forward-38\"],[1758.0,271.0,\"feed_forward-38\"],[1385.0,271.0,\"feed_forward-38\"],[1179.0,271.0,\"feed_forward-38\"],[993.0,269.0,\"feed_forward-38\"],[855.0,268.0,\"feed_forward-38\"],[765.0,267.0,\"feed_forward-38\"],[682.0,265.0,\"feed_forward-38\"]],\"hovertemplate\":\"Motif Id=%{customdata[2]}\\u003cbr\\u003eM - synapse_threshold=%{x}\\u003cbr\\u003eZ score=%{y}\\u003cbr\\u003eedges=%{customdata[0]}\\u003cbr\\u003enodes=%{customdata[1]}\\u003cextra\\u003e\\u003c\\u002fextra\\u003e\",\"legendgroup\":\"feed_forward-38\",\"marker\":{\"color\":\"#FFA15A\",\"symbol\":\"circle\"},\"mode\":\"markers\",\"name\":\"feed_forward-38\",\"orientation\":\"v\",\"showlegend\":true,\"x\":[1.0,10.0,11.0,12.0,13.0,14.0,15.0,16.0,17.0,18.0,19.0,2.0,20.0,3.0,4.0,5.0,6.0,7.0,8.0,9.0],\"xaxis\":\"x\",\"y\":[-9.942647749706033,10.961397892151718,9.266304441858217,9.253739255673606,6.5498128872002885,4.930747473728936,5.056354024110743,5.210750646051605,5.67090490757163,6.042078530190386,6.112263572769933,-2.779953584471101,5.305388827634464,4.591473604758859,8.60124503309838,9.62178470286565,9.895279173622217,9.397135822693237,11.644147089678743,11.274821197859255],\"yaxis\":\"y\",\"type\":\"scatter\"},{\"customdata\":[[3390.0,272.0,\"46\"],[599.0,260.0,\"46\"],[520.0,252.0,\"46\"],[465.0,242.0,\"46\"],[417.0,227.0,\"46\"],[377.0,219.0,\"46\"],[343.0,214.0,\"46\"],[318.0,208.0,\"46\"],[293.0,200.0,\"46\"],[264.0,190.0,\"46\"],[240.0,180.0,\"46\"],[2371.0,272.0,\"46\"],[216.0,163.0,\"46\"],[1758.0,271.0,\"46\"],[1385.0,271.0,\"46\"],[1179.0,271.0,\"46\"],[993.0,269.0,\"46\"],[855.0,268.0,\"46\"],[765.0,267.0,\"46\"],[682.0,265.0,\"46\"]],\"hovertemplate\":\"Motif Id=%{customdata[2]}\\u003cbr\\u003eM - synapse_threshold=%{x}\\u003cbr\\u003eZ score=%{y}\\u003cbr\\u003eedges=%{customdata[0]}\\u003cbr\\u003enodes=%{customdata[1]}\\u003cextra\\u003e\\u003c\\u002fextra\\u003e\",\"legendgroup\":\"46\",\"marker\":{\"color\":\"#19d3f3\",\"symbol\":\"circle\"},\"mode\":\"markers\",\"name\":\"46\",\"orientation\":\"v\",\"showlegend\":true,\"x\":[1.0,10.0,11.0,12.0,13.0,14.0,15.0,16.0,17.0,18.0,19.0,2.0,20.0,3.0,4.0,5.0,6.0,7.0,8.0,9.0],\"xaxis\":\"x\",\"y\":[52.376778881811816,14.32688723470145,14.226260806845602,10.774974393305571,11.376819118216595,10.702319993532196,10.687142862160957,10.279919539241922,12.62776071828045,11.206227412213178,12.478337587694275,45.469802170225464,10.52985311641735,39.78063634977345,32.413988601796135,24.99778248032756,20.79273600200878,21.111830238935454,19.735987391871472,16.965720424500617],\"yaxis\":\"y\",\"type\":\"scatter\"},{\"customdata\":[[3390.0,272.0,\"74\"],[599.0,260.0,\"74\"],[520.0,252.0,\"74\"],[465.0,242.0,\"74\"],[417.0,227.0,\"74\"],[377.0,219.0,\"74\"],[343.0,214.0,\"74\"],[318.0,208.0,\"74\"],[293.0,200.0,\"74\"],[264.0,190.0,\"74\"],[240.0,180.0,\"74\"],[2371.0,272.0,\"74\"],[216.0,163.0,\"74\"],[1758.0,271.0,\"74\"],[1385.0,271.0,\"74\"],[1179.0,271.0,\"74\"],[993.0,269.0,\"74\"],[855.0,268.0,\"74\"],[765.0,267.0,\"74\"],[682.0,265.0,\"74\"]],\"hovertemplate\":\"Motif Id=%{customdata[2]}\\u003cbr\\u003eM - synapse_threshold=%{x}\\u003cbr\\u003eZ score=%{y}\\u003cbr\\u003eedges=%{customdata[0]}\\u003cbr\\u003enodes=%{customdata[1]}\\u003cextra\\u003e\\u003c\\u002fextra\\u003e\",\"legendgroup\":\"74\",\"marker\":{\"color\":\"#FF6692\",\"symbol\":\"circle\"},\"mode\":\"markers\",\"name\":\"74\",\"orientation\":\"v\",\"showlegend\":true,\"x\":[1.0,10.0,11.0,12.0,13.0,14.0,15.0,16.0,17.0,18.0,19.0,2.0,20.0,3.0,4.0,5.0,6.0,7.0,8.0,9.0],\"xaxis\":\"x\",\"y\":[13.877574314400931,5.216786572045342,5.038516910547276,4.419933696871078,4.963120434234786,4.761468498691769,4.295662738470525,4.156801114444285,3.1127436504721397,3.228918938376017,2.9453417111495725,11.359983767156303,2.8980159705158552,8.013734053264432,6.093394334652916,5.636081987589871,5.278883226332929,5.108705414855114,5.642874549679016,5.250032902677306],\"yaxis\":\"y\",\"type\":\"scatter\"},{\"customdata\":[[3390.0,272.0,\"78\"],[599.0,260.0,\"78\"],[520.0,252.0,\"78\"],[465.0,242.0,\"78\"],[417.0,227.0,\"78\"],[377.0,219.0,\"78\"],[343.0,214.0,\"78\"],[318.0,208.0,\"78\"],[293.0,200.0,\"78\"],[264.0,190.0,\"78\"],[240.0,180.0,\"78\"],[2371.0,272.0,\"78\"],[216.0,163.0,\"78\"],[1758.0,271.0,\"78\"],[1385.0,271.0,\"78\"],[1179.0,271.0,\"78\"],[993.0,269.0,\"78\"],[855.0,268.0,\"78\"],[765.0,267.0,\"78\"],[682.0,265.0,\"78\"]],\"hovertemplate\":\"Motif Id=%{customdata[2]}\\u003cbr\\u003eM - synapse_threshold=%{x}\\u003cbr\\u003eZ score=%{y}\\u003cbr\\u003eedges=%{customdata[0]}\\u003cbr\\u003enodes=%{customdata[1]}\\u003cextra\\u003e\\u003c\\u002fextra\\u003e\",\"legendgroup\":\"78\",\"marker\":{\"color\":\"#B6E880\",\"symbol\":\"circle\"},\"mode\":\"markers\",\"name\":\"78\",\"orientation\":\"v\",\"showlegend\":true,\"x\":[1.0,10.0,11.0,12.0,13.0,14.0,15.0,16.0,17.0,18.0,19.0,2.0,20.0,3.0,4.0,5.0,6.0,7.0,8.0,9.0],\"xaxis\":\"x\",\"y\":[35.3296381319896,14.462856351984454,13.921100663559837,15.156669742432188,17.52860654368181,17.53259850287172,4.949307001344488,5.417481002326575,2.5483757311075443,3.8072109822031575,4.71525204429167,18.72965187944349,6.6299478041894115,14.751685870721722,9.225501367302728,7.606495948347335,6.233136595604062,8.259029090113064,12.836033302857823,15.560067290785502],\"yaxis\":\"y\",\"type\":\"scatter\"},{\"customdata\":[[3390.0,272.0,\"98\"],[599.0,260.0,\"98\"],[520.0,252.0,\"98\"],[465.0,242.0,\"98\"],[417.0,227.0,\"98\"],[377.0,219.0,\"98\"],[343.0,214.0,\"98\"],[318.0,208.0,\"98\"],[293.0,200.0,\"98\"],[264.0,190.0,\"98\"],[240.0,180.0,\"98\"],[2371.0,272.0,\"98\"],[216.0,163.0,\"98\"],[1758.0,271.0,\"98\"],[1385.0,271.0,\"98\"],[1179.0,271.0,\"98\"],[993.0,269.0,\"98\"],[855.0,268.0,\"98\"],[765.0,267.0,\"98\"],[682.0,265.0,\"98\"]],\"hovertemplate\":\"Motif Id=%{customdata[2]}\\u003cbr\\u003eM - synapse_threshold=%{x}\\u003cbr\\u003eZ score=%{y}\\u003cbr\\u003eedges=%{customdata[0]}\\u003cbr\\u003enodes=%{customdata[1]}\\u003cextra\\u003e\\u003c\\u002fextra\\u003e\",\"legendgroup\":\"98\",\"marker\":{\"color\":\"#FF97FF\",\"symbol\":\"circle\"},\"mode\":\"markers\",\"name\":\"98\",\"orientation\":\"v\",\"showlegend\":true,\"x\":[1.0,10.0,11.0,12.0,13.0,14.0,15.0,16.0,17.0,18.0,19.0,2.0,20.0,3.0,4.0,5.0,6.0,7.0,8.0,9.0],\"xaxis\":\"x\",\"y\":[-15.987244734759969,0.4794709572342432,1.4303316162461601,0.6707211543339554,1.0810556771299689,1.3119179249052577,0.17215078948007265,0.4329848721508192,-0.9945692452327327,-0.9418444877113066,-0.9614746661652542,-11.492626692368463,-0.9568590565633823,-8.641976697297554,-6.067243941694833,-4.82046926034511,-2.573463988651974,-1.6723644630440677,-1.3321360919683962,-0.42531247173870856],\"yaxis\":\"y\",\"type\":\"scatter\"},{\"customdata\":[[3390.0,272.0,\"102\"],[599.0,260.0,\"102\"],[520.0,252.0,\"102\"],[465.0,242.0,\"102\"],[417.0,227.0,\"102\"],[377.0,219.0,\"102\"],[343.0,214.0,\"102\"],[318.0,208.0,\"102\"],[293.0,200.0,\"102\"],[264.0,190.0,\"102\"],[240.0,180.0,\"102\"],[2371.0,272.0,\"102\"],[216.0,163.0,\"102\"],[1758.0,271.0,\"102\"],[1385.0,271.0,\"102\"],[1179.0,271.0,\"102\"],[993.0,269.0,\"102\"],[855.0,268.0,\"102\"],[765.0,267.0,\"102\"],[682.0,265.0,\"102\"]],\"hovertemplate\":\"Motif Id=%{customdata[2]}\\u003cbr\\u003eM - synapse_threshold=%{x}\\u003cbr\\u003eZ score=%{y}\\u003cbr\\u003eedges=%{customdata[0]}\\u003cbr\\u003enodes=%{customdata[1]}\\u003cextra\\u003e\\u003c\\u002fextra\\u003e\",\"legendgroup\":\"102\",\"marker\":{\"color\":\"#FECB52\",\"symbol\":\"circle\"},\"mode\":\"markers\",\"name\":\"102\",\"orientation\":\"v\",\"showlegend\":true,\"x\":[1.0,10.0,11.0,12.0,13.0,14.0,15.0,16.0,17.0,18.0,19.0,2.0,20.0,3.0,4.0,5.0,6.0,7.0,8.0,9.0],\"xaxis\":\"x\",\"y\":[6.331524511854911,4.771957438543701,1.7069815577173373,0.9865790175111901,0.4032088933646227,0.33568731624624004,2.2952662432287148,2.256143343322306,1.284264213991865,-0.5055022277955361,-0.45021326380552174,4.53481643596524,-0.521798499313379,4.829098966979364,5.522354847864867,4.9104659569680065,3.529260488172682,3.750730796353,2.5152068058047083,3.490746728627323],\"yaxis\":\"y\",\"type\":\"scatter\"},{\"customdata\":[[3390.0,272.0,\"108\"],[599.0,260.0,\"108\"],[520.0,252.0,\"108\"],[465.0,242.0,\"108\"],[417.0,227.0,\"108\"],[377.0,219.0,\"108\"],[343.0,214.0,\"108\"],[318.0,208.0,\"108\"],[293.0,200.0,\"108\"],[264.0,190.0,\"108\"],[240.0,180.0,\"108\"],[2371.0,272.0,\"108\"],[216.0,163.0,\"108\"],[1758.0,271.0,\"108\"],[1385.0,271.0,\"108\"],[1179.0,271.0,\"108\"],[993.0,269.0,\"108\"],[855.0,268.0,\"108\"],[765.0,267.0,\"108\"],[682.0,265.0,\"108\"]],\"hovertemplate\":\"Motif Id=%{customdata[2]}\\u003cbr\\u003eM - synapse_threshold=%{x}\\u003cbr\\u003eZ score=%{y}\\u003cbr\\u003eedges=%{customdata[0]}\\u003cbr\\u003enodes=%{customdata[1]}\\u003cextra\\u003e\\u003c\\u002fextra\\u003e\",\"legendgroup\":\"108\",\"marker\":{\"color\":\"#636efa\",\"symbol\":\"circle\"},\"mode\":\"markers\",\"name\":\"108\",\"orientation\":\"v\",\"showlegend\":true,\"x\":[1.0,10.0,11.0,12.0,13.0,14.0,15.0,16.0,17.0,18.0,19.0,2.0,20.0,3.0,4.0,5.0,6.0,7.0,8.0,9.0],\"xaxis\":\"x\",\"y\":[30.173366315520383,8.841667994484283,9.10408754052131,7.489835167146189,8.737971541172444,9.1605438960316,12.467441867562712,10.716888627257587,11.625618142708044,10.105144355936984,12.160873613158621,30.07340995878143,9.420516572200714,25.75319190610717,17.316019079956643,15.530457914041222,12.071760391406437,15.783352594881515,9.117079061389457,8.246854260120353],\"yaxis\":\"y\",\"type\":\"scatter\"},{\"customdata\":[[3390.0,272.0,\"110\"],[599.0,260.0,\"110\"],[520.0,252.0,\"110\"],[465.0,242.0,\"110\"],[417.0,227.0,\"110\"],[377.0,219.0,\"110\"],[343.0,214.0,\"110\"],[318.0,208.0,\"110\"],[293.0,200.0,\"110\"],[264.0,190.0,\"110\"],[240.0,180.0,\"110\"],[2371.0,272.0,\"110\"],[216.0,163.0,\"110\"],[1758.0,271.0,\"110\"],[1385.0,271.0,\"110\"],[1179.0,271.0,\"110\"],[993.0,269.0,\"110\"],[855.0,268.0,\"110\"],[765.0,267.0,\"110\"],[682.0,265.0,\"110\"]],\"hovertemplate\":\"Motif Id=%{customdata[2]}\\u003cbr\\u003eM - synapse_threshold=%{x}\\u003cbr\\u003eZ score=%{y}\\u003cbr\\u003eedges=%{customdata[0]}\\u003cbr\\u003enodes=%{customdata[1]}\\u003cextra\\u003e\\u003c\\u002fextra\\u003e\",\"legendgroup\":\"110\",\"marker\":{\"color\":\"#EF553B\",\"symbol\":\"circle\"},\"mode\":\"markers\",\"name\":\"110\",\"orientation\":\"v\",\"showlegend\":true,\"x\":[1.0,10.0,11.0,12.0,13.0,14.0,15.0,16.0,17.0,18.0,19.0,2.0,20.0,3.0,4.0,5.0,6.0,7.0,8.0,9.0],\"xaxis\":\"x\",\"y\":[53.19700152862808,9.372484380640808,14.36065459309473,9.777530768710548,12.643849402016652,11.683414437430757,14.047538337136983,13.772843287660958,19.624047034581668,15.870069419671056,19.419720171850706,37.500398403888845,11.734281430391487,27.583389683609578,16.354766897263122,10.385442786660567,10.179405527648099,8.37477896578615,3.58862577675017,3.3059991081834252],\"yaxis\":\"y\",\"type\":\"scatter\"},{\"customdata\":[[3390.0,272.0,\"238\"],[599.0,260.0,\"238\"],[520.0,252.0,\"238\"],[465.0,242.0,\"238\"],[417.0,227.0,\"238\"],[377.0,219.0,\"238\"],[343.0,214.0,\"238\"],[318.0,208.0,\"238\"],[293.0,200.0,\"238\"],[264.0,190.0,\"238\"],[240.0,180.0,\"238\"],[2371.0,272.0,\"238\"],[216.0,163.0,\"238\"],[1758.0,271.0,\"238\"],[1385.0,271.0,\"238\"],[1179.0,271.0,\"238\"],[993.0,269.0,\"238\"],[855.0,268.0,\"238\"],[765.0,267.0,\"238\"],[682.0,265.0,\"238\"]],\"hovertemplate\":\"Motif Id=%{customdata[2]}\\u003cbr\\u003eM - synapse_threshold=%{x}\\u003cbr\\u003eZ score=%{y}\\u003cbr\\u003eedges=%{customdata[0]}\\u003cbr\\u003enodes=%{customdata[1]}\\u003cextra\\u003e\\u003c\\u002fextra\\u003e\",\"legendgroup\":\"238\",\"marker\":{\"color\":\"#00cc96\",\"symbol\":\"circle\"},\"mode\":\"markers\",\"name\":\"238\",\"orientation\":\"v\",\"showlegend\":true,\"x\":[1.0,10.0,11.0,12.0,13.0,14.0,15.0,16.0,17.0,18.0,19.0,2.0,20.0,3.0,4.0,5.0,6.0,7.0,8.0,9.0],\"xaxis\":\"x\",\"y\":[114.60710728594258,0.0,126.52276083380808,126.5227608338081,0.0,126.52276083380808,0.0,31.606961258558215,0.0,0.0,0.0,68.28302025451335,0.0,46.440900555961925,42.21628443175682,55.1240305493302,42.591519414044456,73.91870277060697,95.20284255777092,110.83837141673119],\"yaxis\":\"y\",\"type\":\"scatter\"}],                        {\"template\":{\"data\":{\"histogram2dcontour\":[{\"type\":\"histogram2dcontour\",\"colorbar\":{\"outlinewidth\":0,\"ticks\":\"\"},\"colorscale\":[[0.0,\"#0d0887\"],[0.1111111111111111,\"#46039f\"],[0.2222222222222222,\"#7201a8\"],[0.3333333333333333,\"#9c179e\"],[0.4444444444444444,\"#bd3786\"],[0.5555555555555556,\"#d8576b\"],[0.6666666666666666,\"#ed7953\"],[0.7777777777777778,\"#fb9f3a\"],[0.8888888888888888,\"#fdca26\"],[1.0,\"#f0f921\"]]}],\"choropleth\":[{\"type\":\"choropleth\",\"colorbar\":{\"outlinewidth\":0,\"ticks\":\"\"}}],\"histogram2d\":[{\"type\":\"histogram2d\",\"colorbar\":{\"outlinewidth\":0,\"ticks\":\"\"},\"colorscale\":[[0.0,\"#0d0887\"],[0.1111111111111111,\"#46039f\"],[0.2222222222222222,\"#7201a8\"],[0.3333333333333333,\"#9c179e\"],[0.4444444444444444,\"#bd3786\"],[0.5555555555555556,\"#d8576b\"],[0.6666666666666666,\"#ed7953\"],[0.7777777777777778,\"#fb9f3a\"],[0.8888888888888888,\"#fdca26\"],[1.0,\"#f0f921\"]]}],\"heatmap\":[{\"type\":\"heatmap\",\"colorbar\":{\"outlinewidth\":0,\"ticks\":\"\"},\"colorscale\":[[0.0,\"#0d0887\"],[0.1111111111111111,\"#46039f\"],[0.2222222222222222,\"#7201a8\"],[0.3333333333333333,\"#9c179e\"],[0.4444444444444444,\"#bd3786\"],[0.5555555555555556,\"#d8576b\"],[0.6666666666666666,\"#ed7953\"],[0.7777777777777778,\"#fb9f3a\"],[0.8888888888888888,\"#fdca26\"],[1.0,\"#f0f921\"]]}],\"heatmapgl\":[{\"type\":\"heatmapgl\",\"colorbar\":{\"outlinewidth\":0,\"ticks\":\"\"},\"colorscale\":[[0.0,\"#0d0887\"],[0.1111111111111111,\"#46039f\"],[0.2222222222222222,\"#7201a8\"],[0.3333333333333333,\"#9c179e\"],[0.4444444444444444,\"#bd3786\"],[0.5555555555555556,\"#d8576b\"],[0.6666666666666666,\"#ed7953\"],[0.7777777777777778,\"#fb9f3a\"],[0.8888888888888888,\"#fdca26\"],[1.0,\"#f0f921\"]]}],\"contourcarpet\":[{\"type\":\"contourcarpet\",\"colorbar\":{\"outlinewidth\":0,\"ticks\":\"\"}}],\"contour\":[{\"type\":\"contour\",\"colorbar\":{\"outlinewidth\":0,\"ticks\":\"\"},\"colorscale\":[[0.0,\"#0d0887\"],[0.1111111111111111,\"#46039f\"],[0.2222222222222222,\"#7201a8\"],[0.3333333333333333,\"#9c179e\"],[0.4444444444444444,\"#bd3786\"],[0.5555555555555556,\"#d8576b\"],[0.6666666666666666,\"#ed7953\"],[0.7777777777777778,\"#fb9f3a\"],[0.8888888888888888,\"#fdca26\"],[1.0,\"#f0f921\"]]}],\"surface\":[{\"type\":\"surface\",\"colorbar\":{\"outlinewidth\":0,\"ticks\":\"\"},\"colorscale\":[[0.0,\"#0d0887\"],[0.1111111111111111,\"#46039f\"],[0.2222222222222222,\"#7201a8\"],[0.3333333333333333,\"#9c179e\"],[0.4444444444444444,\"#bd3786\"],[0.5555555555555556,\"#d8576b\"],[0.6666666666666666,\"#ed7953\"],[0.7777777777777778,\"#fb9f3a\"],[0.8888888888888888,\"#fdca26\"],[1.0,\"#f0f921\"]]}],\"mesh3d\":[{\"type\":\"mesh3d\",\"colorbar\":{\"outlinewidth\":0,\"ticks\":\"\"}}],\"scatter\":[{\"fillpattern\":{\"fillmode\":\"overlay\",\"size\":10,\"solidity\":0.2},\"type\":\"scatter\"}],\"parcoords\":[{\"type\":\"parcoords\",\"line\":{\"colorbar\":{\"outlinewidth\":0,\"ticks\":\"\"}}}],\"scatterpolargl\":[{\"type\":\"scatterpolargl\",\"marker\":{\"colorbar\":{\"outlinewidth\":0,\"ticks\":\"\"}}}],\"bar\":[{\"error_x\":{\"color\":\"#2a3f5f\"},\"error_y\":{\"color\":\"#2a3f5f\"},\"marker\":{\"line\":{\"color\":\"#E5ECF6\",\"width\":0.5},\"pattern\":{\"fillmode\":\"overlay\",\"size\":10,\"solidity\":0.2}},\"type\":\"bar\"}],\"scattergeo\":[{\"type\":\"scattergeo\",\"marker\":{\"colorbar\":{\"outlinewidth\":0,\"ticks\":\"\"}}}],\"scatterpolar\":[{\"type\":\"scatterpolar\",\"marker\":{\"colorbar\":{\"outlinewidth\":0,\"ticks\":\"\"}}}],\"histogram\":[{\"marker\":{\"pattern\":{\"fillmode\":\"overlay\",\"size\":10,\"solidity\":0.2}},\"type\":\"histogram\"}],\"scattergl\":[{\"type\":\"scattergl\",\"marker\":{\"colorbar\":{\"outlinewidth\":0,\"ticks\":\"\"}}}],\"scatter3d\":[{\"type\":\"scatter3d\",\"line\":{\"colorbar\":{\"outlinewidth\":0,\"ticks\":\"\"}},\"marker\":{\"colorbar\":{\"outlinewidth\":0,\"ticks\":\"\"}}}],\"scattermapbox\":[{\"type\":\"scattermapbox\",\"marker\":{\"colorbar\":{\"outlinewidth\":0,\"ticks\":\"\"}}}],\"scatterternary\":[{\"type\":\"scatterternary\",\"marker\":{\"colorbar\":{\"outlinewidth\":0,\"ticks\":\"\"}}}],\"scattercarpet\":[{\"type\":\"scattercarpet\",\"marker\":{\"colorbar\":{\"outlinewidth\":0,\"ticks\":\"\"}}}],\"carpet\":[{\"aaxis\":{\"endlinecolor\":\"#2a3f5f\",\"gridcolor\":\"white\",\"linecolor\":\"white\",\"minorgridcolor\":\"white\",\"startlinecolor\":\"#2a3f5f\"},\"baxis\":{\"endlinecolor\":\"#2a3f5f\",\"gridcolor\":\"white\",\"linecolor\":\"white\",\"minorgridcolor\":\"white\",\"startlinecolor\":\"#2a3f5f\"},\"type\":\"carpet\"}],\"table\":[{\"cells\":{\"fill\":{\"color\":\"#EBF0F8\"},\"line\":{\"color\":\"white\"}},\"header\":{\"fill\":{\"color\":\"#C8D4E3\"},\"line\":{\"color\":\"white\"}},\"type\":\"table\"}],\"barpolar\":[{\"marker\":{\"line\":{\"color\":\"#E5ECF6\",\"width\":0.5},\"pattern\":{\"fillmode\":\"overlay\",\"size\":10,\"solidity\":0.2}},\"type\":\"barpolar\"}],\"pie\":[{\"automargin\":true,\"type\":\"pie\"}]},\"layout\":{\"autotypenumbers\":\"strict\",\"colorway\":[\"#636efa\",\"#EF553B\",\"#00cc96\",\"#ab63fa\",\"#FFA15A\",\"#19d3f3\",\"#FF6692\",\"#B6E880\",\"#FF97FF\",\"#FECB52\"],\"font\":{\"color\":\"#2a3f5f\"},\"hovermode\":\"closest\",\"hoverlabel\":{\"align\":\"left\"},\"paper_bgcolor\":\"white\",\"plot_bgcolor\":\"#E5ECF6\",\"polar\":{\"bgcolor\":\"#E5ECF6\",\"angularaxis\":{\"gridcolor\":\"white\",\"linecolor\":\"white\",\"ticks\":\"\"},\"radialaxis\":{\"gridcolor\":\"white\",\"linecolor\":\"white\",\"ticks\":\"\"}},\"ternary\":{\"bgcolor\":\"#E5ECF6\",\"aaxis\":{\"gridcolor\":\"white\",\"linecolor\":\"white\",\"ticks\":\"\"},\"baxis\":{\"gridcolor\":\"white\",\"linecolor\":\"white\",\"ticks\":\"\"},\"caxis\":{\"gridcolor\":\"white\",\"linecolor\":\"white\",\"ticks\":\"\"}},\"coloraxis\":{\"colorbar\":{\"outlinewidth\":0,\"ticks\":\"\"}},\"colorscale\":{\"sequential\":[[0.0,\"#0d0887\"],[0.1111111111111111,\"#46039f\"],[0.2222222222222222,\"#7201a8\"],[0.3333333333333333,\"#9c179e\"],[0.4444444444444444,\"#bd3786\"],[0.5555555555555556,\"#d8576b\"],[0.6666666666666666,\"#ed7953\"],[0.7777777777777778,\"#fb9f3a\"],[0.8888888888888888,\"#fdca26\"],[1.0,\"#f0f921\"]],\"sequentialminus\":[[0.0,\"#0d0887\"],[0.1111111111111111,\"#46039f\"],[0.2222222222222222,\"#7201a8\"],[0.3333333333333333,\"#9c179e\"],[0.4444444444444444,\"#bd3786\"],[0.5555555555555556,\"#d8576b\"],[0.6666666666666666,\"#ed7953\"],[0.7777777777777778,\"#fb9f3a\"],[0.8888888888888888,\"#fdca26\"],[1.0,\"#f0f921\"]],\"diverging\":[[0,\"#8e0152\"],[0.1,\"#c51b7d\"],[0.2,\"#de77ae\"],[0.3,\"#f1b6da\"],[0.4,\"#fde0ef\"],[0.5,\"#f7f7f7\"],[0.6,\"#e6f5d0\"],[0.7,\"#b8e186\"],[0.8,\"#7fbc41\"],[0.9,\"#4d9221\"],[1,\"#276419\"]]},\"xaxis\":{\"gridcolor\":\"white\",\"linecolor\":\"white\",\"ticks\":\"\",\"title\":{\"standoff\":15},\"zerolinecolor\":\"white\",\"automargin\":true,\"zerolinewidth\":2},\"yaxis\":{\"gridcolor\":\"white\",\"linecolor\":\"white\",\"ticks\":\"\",\"title\":{\"standoff\":15},\"zerolinecolor\":\"white\",\"automargin\":true,\"zerolinewidth\":2},\"scene\":{\"xaxis\":{\"backgroundcolor\":\"#E5ECF6\",\"gridcolor\":\"white\",\"linecolor\":\"white\",\"showbackground\":true,\"ticks\":\"\",\"zerolinecolor\":\"white\",\"gridwidth\":2},\"yaxis\":{\"backgroundcolor\":\"#E5ECF6\",\"gridcolor\":\"white\",\"linecolor\":\"white\",\"showbackground\":true,\"ticks\":\"\",\"zerolinecolor\":\"white\",\"gridwidth\":2},\"zaxis\":{\"backgroundcolor\":\"#E5ECF6\",\"gridcolor\":\"white\",\"linecolor\":\"white\",\"showbackground\":true,\"ticks\":\"\",\"zerolinecolor\":\"white\",\"gridwidth\":2}},\"shapedefaults\":{\"line\":{\"color\":\"#2a3f5f\"}},\"annotationdefaults\":{\"arrowcolor\":\"#2a3f5f\",\"arrowhead\":0,\"arrowwidth\":1},\"geo\":{\"bgcolor\":\"white\",\"landcolor\":\"#E5ECF6\",\"subunitcolor\":\"white\",\"showland\":true,\"showlakes\":true,\"lakecolor\":\"white\"},\"title\":{\"x\":0.05},\"mapbox\":{\"style\":\"light\"}}},\"xaxis\":{\"anchor\":\"y\",\"domain\":[0.0,1.0],\"title\":{\"text\":\"M - synapse_threshold\"}},\"yaxis\":{\"anchor\":\"x\",\"domain\":[0.0,1.0],\"title\":{\"text\":\"Z score\"}},\"legend\":{\"title\":{\"text\":\"Motif Id\"},\"tracegroupgap\":0},\"title\":{\"text\":\"Z-score as a function of M. network: cook_si5\"}},                        {\"responsive\": true}                    ).then(function(){\n",
       "                            \n",
       "var gd = document.getElementById('40e02f15-1ac9-4310-8f72-cb15ad887760');\n",
       "var x = new MutationObserver(function (mutations, observer) {{\n",
       "        var display = window.getComputedStyle(gd).display;\n",
       "        if (!display || display === 'none') {{\n",
       "            console.log([gd, 'removed!']);\n",
       "            Plotly.purge(gd);\n",
       "            observer.disconnect();\n",
       "        }}\n",
       "}});\n",
       "\n",
       "// Listen for the removal of the full notebook cells\n",
       "var notebookContainer = gd.closest('#notebook-container');\n",
       "if (notebookContainer) {{\n",
       "    x.observe(notebookContainer, {childList: true});\n",
       "}}\n",
       "\n",
       "// Listen for the clearing of the current output cell\n",
       "var outputEl = gd.closest('.output');\n",
       "if (outputEl) {{\n",
       "    x.observe(outputEl, {childList: true});\n",
       "}}\n",
       "\n",
       "                        })                };                });            </script>        </div>"
      ]
     },
     "metadata": {},
     "output_type": "display_data"
    },
    {
     "data": {
      "text/html": [
       "<div>\n",
       "<style scoped>\n",
       "    .dataframe tbody tr th:only-of-type {\n",
       "        vertical-align: middle;\n",
       "    }\n",
       "\n",
       "    .dataframe tbody tr th {\n",
       "        vertical-align: top;\n",
       "    }\n",
       "\n",
       "    .dataframe thead th {\n",
       "        text-align: right;\n",
       "    }\n",
       "</style>\n",
       "<table border=\"1\" class=\"dataframe\">\n",
       "  <thead>\n",
       "    <tr style=\"text-align: right;\">\n",
       "      <th></th>\n",
       "      <th>m</th>\n",
       "      <th>edges</th>\n",
       "      <th>nodes</th>\n",
       "      <th>variable</th>\n",
       "      <th>value</th>\n",
       "    </tr>\n",
       "  </thead>\n",
       "  <tbody>\n",
       "    <tr>\n",
       "      <th>0</th>\n",
       "      <td>1.0</td>\n",
       "      <td>3390.0</td>\n",
       "      <td>272.0</td>\n",
       "      <td>fan_out-6</td>\n",
       "      <td>-37.131691</td>\n",
       "    </tr>\n",
       "    <tr>\n",
       "      <th>1</th>\n",
       "      <td>10.0</td>\n",
       "      <td>599.0</td>\n",
       "      <td>260.0</td>\n",
       "      <td>fan_out-6</td>\n",
       "      <td>-12.914737</td>\n",
       "    </tr>\n",
       "    <tr>\n",
       "      <th>2</th>\n",
       "      <td>11.0</td>\n",
       "      <td>520.0</td>\n",
       "      <td>252.0</td>\n",
       "      <td>fan_out-6</td>\n",
       "      <td>-12.542857</td>\n",
       "    </tr>\n",
       "    <tr>\n",
       "      <th>3</th>\n",
       "      <td>12.0</td>\n",
       "      <td>465.0</td>\n",
       "      <td>242.0</td>\n",
       "      <td>fan_out-6</td>\n",
       "      <td>-11.267933</td>\n",
       "    </tr>\n",
       "    <tr>\n",
       "      <th>4</th>\n",
       "      <td>13.0</td>\n",
       "      <td>417.0</td>\n",
       "      <td>227.0</td>\n",
       "      <td>fan_out-6</td>\n",
       "      <td>-11.780711</td>\n",
       "    </tr>\n",
       "    <tr>\n",
       "      <th>...</th>\n",
       "      <td>...</td>\n",
       "      <td>...</td>\n",
       "      <td>...</td>\n",
       "      <td>...</td>\n",
       "      <td>...</td>\n",
       "    </tr>\n",
       "    <tr>\n",
       "      <th>255</th>\n",
       "      <td>5.0</td>\n",
       "      <td>1179.0</td>\n",
       "      <td>271.0</td>\n",
       "      <td>238</td>\n",
       "      <td>55.124031</td>\n",
       "    </tr>\n",
       "    <tr>\n",
       "      <th>256</th>\n",
       "      <td>6.0</td>\n",
       "      <td>993.0</td>\n",
       "      <td>269.0</td>\n",
       "      <td>238</td>\n",
       "      <td>42.591519</td>\n",
       "    </tr>\n",
       "    <tr>\n",
       "      <th>257</th>\n",
       "      <td>7.0</td>\n",
       "      <td>855.0</td>\n",
       "      <td>268.0</td>\n",
       "      <td>238</td>\n",
       "      <td>73.918703</td>\n",
       "    </tr>\n",
       "    <tr>\n",
       "      <th>258</th>\n",
       "      <td>8.0</td>\n",
       "      <td>765.0</td>\n",
       "      <td>267.0</td>\n",
       "      <td>238</td>\n",
       "      <td>95.202843</td>\n",
       "    </tr>\n",
       "    <tr>\n",
       "      <th>259</th>\n",
       "      <td>9.0</td>\n",
       "      <td>682.0</td>\n",
       "      <td>265.0</td>\n",
       "      <td>238</td>\n",
       "      <td>110.838371</td>\n",
       "    </tr>\n",
       "  </tbody>\n",
       "</table>\n",
       "<p>260 rows × 5 columns</p>\n",
       "</div>"
      ],
      "text/plain": [
       "        m   edges  nodes   variable       value\n",
       "0     1.0  3390.0  272.0  fan_out-6  -37.131691\n",
       "1    10.0   599.0  260.0  fan_out-6  -12.914737\n",
       "2    11.0   520.0  252.0  fan_out-6  -12.542857\n",
       "3    12.0   465.0  242.0  fan_out-6  -11.267933\n",
       "4    13.0   417.0  227.0  fan_out-6  -11.780711\n",
       "..    ...     ...    ...        ...         ...\n",
       "255   5.0  1179.0  271.0        238   55.124031\n",
       "256   6.0   993.0  269.0        238   42.591519\n",
       "257   7.0   855.0  268.0        238   73.918703\n",
       "258   8.0   765.0  267.0        238   95.202843\n",
       "259   9.0   682.0  265.0        238  110.838371\n",
       "\n",
       "[260 rows x 5 columns]"
      ]
     },
     "execution_count": 76,
     "metadata": {},
     "output_type": "execute_result"
    }
   ],
   "source": [
    "read_z_scores_as_func_of_m('cook_si5')"
   ]
  },
  {
   "cell_type": "code",
   "execution_count": 73,
   "id": "66b45761-be79-449b-ad86-b7390a73743a",
   "metadata": {},
   "outputs": [
    {
     "data": {
      "application/vnd.plotly.v1+json": {
       "config": {
        "plotlyServerURL": "https://plot.ly"
       },
       "data": [
        {
         "customdata": [
          [
           2982,
           250,
           "fan_out-6"
          ],
          [
           202,
           152,
           "fan_out-6"
          ],
          [
           169,
           135,
           "fan_out-6"
          ],
          [
           138,
           117,
           "fan_out-6"
          ],
          [
           115,
           105,
           "fan_out-6"
          ],
          [
           93,
           97,
           "fan_out-6"
          ],
          [
           80,
           87,
           "fan_out-6"
          ],
          [
           66,
           80,
           "fan_out-6"
          ],
          [
           57,
           71,
           "fan_out-6"
          ],
          [
           51,
           65,
           "fan_out-6"
          ],
          [
           41,
           52,
           "fan_out-6"
          ],
          [
           1589,
           249,
           "fan_out-6"
          ],
          [
           33,
           46,
           "fan_out-6"
          ],
          [
           1075,
           245,
           "fan_out-6"
          ],
          [
           757,
           239,
           "fan_out-6"
          ],
          [
           592,
           232,
           "fan_out-6"
          ],
          [
           467,
           220,
           "fan_out-6"
          ],
          [
           371,
           211,
           "fan_out-6"
          ],
          [
           304,
           193,
           "fan_out-6"
          ],
          [
           259,
           180,
           "fan_out-6"
          ]
         ],
         "hovertemplate": "Motif Id=%{customdata[2]}<br>M - synapse_threshold=%{x}<br>Z score=%{y}<br>edges=%{customdata[0]}<br>nodes=%{customdata[1]}<extra></extra>",
         "legendgroup": "fan_out-6",
         "marker": {
          "color": "#636efa",
          "symbol": "circle"
         },
         "mode": "markers",
         "name": "fan_out-6",
         "orientation": "v",
         "showlegend": true,
         "type": "scatter",
         "x": [
          1,
          10,
          11,
          12,
          13,
          14,
          15,
          16,
          17,
          18,
          19,
          2,
          20,
          3,
          4,
          5,
          6,
          7,
          8,
          9
         ],
         "xaxis": "x",
         "y": [
          -37.44876404989448,
          -6.058278242018165,
          -4.659355971058273,
          -4.716413813314285,
          -4.397415386438907,
          -3.639063895933299,
          -2.890402088523266,
          -3.524502774682766,
          -3.4954672979039785,
          -3.078377537084612,
          -2.858511588774979,
          -24.4630051325811,
          -0.9186639743956151,
          -18.820990032679415,
          -12.331761889337292,
          -10.739744579370472,
          -9.025720928610246,
          -10.076897187940915,
          -7.855323686023378,
          -7.4533546986058115
         ],
         "yaxis": "y"
        },
        {
         "customdata": [
          [
           2982,
           250,
           "cascade-12"
          ],
          [
           202,
           152,
           "cascade-12"
          ],
          [
           169,
           135,
           "cascade-12"
          ],
          [
           138,
           117,
           "cascade-12"
          ],
          [
           115,
           105,
           "cascade-12"
          ],
          [
           93,
           97,
           "cascade-12"
          ],
          [
           80,
           87,
           "cascade-12"
          ],
          [
           66,
           80,
           "cascade-12"
          ],
          [
           57,
           71,
           "cascade-12"
          ],
          [
           51,
           65,
           "cascade-12"
          ],
          [
           41,
           52,
           "cascade-12"
          ],
          [
           1589,
           249,
           "cascade-12"
          ],
          [
           33,
           46,
           "cascade-12"
          ],
          [
           1075,
           245,
           "cascade-12"
          ],
          [
           757,
           239,
           "cascade-12"
          ],
          [
           592,
           232,
           "cascade-12"
          ],
          [
           467,
           220,
           "cascade-12"
          ],
          [
           371,
           211,
           "cascade-12"
          ],
          [
           304,
           193,
           "cascade-12"
          ],
          [
           259,
           180,
           "cascade-12"
          ]
         ],
         "hovertemplate": "Motif Id=%{customdata[2]}<br>M - synapse_threshold=%{x}<br>Z score=%{y}<br>edges=%{customdata[0]}<br>nodes=%{customdata[1]}<extra></extra>",
         "legendgroup": "cascade-12",
         "marker": {
          "color": "#EF553B",
          "symbol": "circle"
         },
         "mode": "markers",
         "name": "cascade-12",
         "orientation": "v",
         "showlegend": true,
         "type": "scatter",
         "x": [
          1,
          10,
          11,
          12,
          13,
          14,
          15,
          16,
          17,
          18,
          19,
          2,
          20,
          3,
          4,
          5,
          6,
          7,
          8,
          9
         ],
         "xaxis": "x",
         "y": [
          -30.79279711194421,
          -5.298240583124781,
          -3.975910053505278,
          -3.939348099387471,
          -4.180066962471013,
          -3.233458087935131,
          -2.7315998993928456,
          -2.748673403840285,
          -2.8479089580536625,
          -2.5602960730555777,
          -2.2569580802498943,
          -17.808686569126237,
          -0.48684606995702084,
          -13.16683168742382,
          -8.483882884765732,
          -7.9677471907559205,
          -6.8539180023149475,
          -7.420109243212313,
          -5.929069247887287,
          -5.852104745095382
         ],
         "yaxis": "y"
        },
        {
         "customdata": [
          [
           2982,
           250,
           "14"
          ],
          [
           202,
           152,
           "14"
          ],
          [
           169,
           135,
           "14"
          ],
          [
           138,
           117,
           "14"
          ],
          [
           115,
           105,
           "14"
          ],
          [
           93,
           97,
           "14"
          ],
          [
           80,
           87,
           "14"
          ],
          [
           66,
           80,
           "14"
          ],
          [
           57,
           71,
           "14"
          ],
          [
           51,
           65,
           "14"
          ],
          [
           41,
           52,
           "14"
          ],
          [
           1589,
           249,
           "14"
          ],
          [
           33,
           46,
           "14"
          ],
          [
           1075,
           245,
           "14"
          ],
          [
           757,
           239,
           "14"
          ],
          [
           592,
           232,
           "14"
          ],
          [
           467,
           220,
           "14"
          ],
          [
           371,
           211,
           "14"
          ],
          [
           304,
           193,
           "14"
          ],
          [
           259,
           180,
           "14"
          ]
         ],
         "hovertemplate": "Motif Id=%{customdata[2]}<br>M - synapse_threshold=%{x}<br>Z score=%{y}<br>edges=%{customdata[0]}<br>nodes=%{customdata[1]}<extra></extra>",
         "legendgroup": "14",
         "marker": {
          "color": "#00cc96",
          "symbol": "circle"
         },
         "mode": "markers",
         "name": "14",
         "orientation": "v",
         "showlegend": true,
         "type": "scatter",
         "x": [
          1,
          10,
          11,
          12,
          13,
          14,
          15,
          16,
          17,
          18,
          19,
          2,
          20,
          3,
          4,
          5,
          6,
          7,
          8,
          9
         ],
         "xaxis": "x",
         "y": [
          16.495588649243768,
          2.71566072484957,
          1.9456561031601496,
          2.0884247381297136,
          2.318979679502054,
          2.73550053993956,
          2.2451978509938892,
          1.9461807778954165,
          2.0551982301330027,
          1.7513126496136882,
          1.1498786408252526,
          10.619385948270763,
          -0.1901042864909089,
          8.062782824970403,
          3.817270531657642,
          4.029957506548427,
          3.3087460890654725,
          4.749151076650627,
          2.935615929555625,
          2.48078816729051
         ],
         "yaxis": "y"
        },
        {
         "customdata": [
          [
           2982,
           250,
           "fan_in-36"
          ],
          [
           202,
           152,
           "fan_in-36"
          ],
          [
           169,
           135,
           "fan_in-36"
          ],
          [
           138,
           117,
           "fan_in-36"
          ],
          [
           115,
           105,
           "fan_in-36"
          ],
          [
           93,
           97,
           "fan_in-36"
          ],
          [
           80,
           87,
           "fan_in-36"
          ],
          [
           66,
           80,
           "fan_in-36"
          ],
          [
           57,
           71,
           "fan_in-36"
          ],
          [
           51,
           65,
           "fan_in-36"
          ],
          [
           41,
           52,
           "fan_in-36"
          ],
          [
           1589,
           249,
           "fan_in-36"
          ],
          [
           33,
           46,
           "fan_in-36"
          ],
          [
           1075,
           245,
           "fan_in-36"
          ],
          [
           757,
           239,
           "fan_in-36"
          ],
          [
           592,
           232,
           "fan_in-36"
          ],
          [
           467,
           220,
           "fan_in-36"
          ],
          [
           371,
           211,
           "fan_in-36"
          ],
          [
           304,
           193,
           "fan_in-36"
          ],
          [
           259,
           180,
           "fan_in-36"
          ]
         ],
         "hovertemplate": "Motif Id=%{customdata[2]}<br>M - synapse_threshold=%{x}<br>Z score=%{y}<br>edges=%{customdata[0]}<br>nodes=%{customdata[1]}<extra></extra>",
         "legendgroup": "fan_in-36",
         "marker": {
          "color": "#ab63fa",
          "symbol": "circle"
         },
         "mode": "markers",
         "name": "fan_in-36",
         "orientation": "v",
         "showlegend": true,
         "type": "scatter",
         "x": [
          1,
          10,
          11,
          12,
          13,
          14,
          15,
          16,
          17,
          18,
          19,
          2,
          20,
          3,
          4,
          5,
          6,
          7,
          8,
          9
         ],
         "xaxis": "x",
         "y": [
          -29.831897757555602,
          -5.765151052833322,
          -4.651754479630699,
          -4.191546524602286,
          -4.404581013998296,
          -2.8382496109288162,
          -2.475450482916818,
          -4.479655145263533,
          -4.450072216541128,
          -4.510538720550081,
          -4.6607664175171895,
          -17.560722140017173,
          -2.2540849103635026,
          -13.337667935700624,
          -9.302215533158511,
          -8.431945644137217,
          -6.715908594787769,
          -7.196111033097015,
          -6.152790928242743,
          -6.477356628222383
         ],
         "yaxis": "y"
        },
        {
         "customdata": [
          [
           2982,
           250,
           "feed_forward-38"
          ],
          [
           202,
           152,
           "feed_forward-38"
          ],
          [
           169,
           135,
           "feed_forward-38"
          ],
          [
           138,
           117,
           "feed_forward-38"
          ],
          [
           115,
           105,
           "feed_forward-38"
          ],
          [
           93,
           97,
           "feed_forward-38"
          ],
          [
           80,
           87,
           "feed_forward-38"
          ],
          [
           66,
           80,
           "feed_forward-38"
          ],
          [
           57,
           71,
           "feed_forward-38"
          ],
          [
           51,
           65,
           "feed_forward-38"
          ],
          [
           41,
           52,
           "feed_forward-38"
          ],
          [
           1589,
           249,
           "feed_forward-38"
          ],
          [
           33,
           46,
           "feed_forward-38"
          ],
          [
           1075,
           245,
           "feed_forward-38"
          ],
          [
           757,
           239,
           "feed_forward-38"
          ],
          [
           592,
           232,
           "feed_forward-38"
          ],
          [
           467,
           220,
           "feed_forward-38"
          ],
          [
           371,
           211,
           "feed_forward-38"
          ],
          [
           304,
           193,
           "feed_forward-38"
          ],
          [
           259,
           180,
           "feed_forward-38"
          ]
         ],
         "hovertemplate": "Motif Id=%{customdata[2]}<br>M - synapse_threshold=%{x}<br>Z score=%{y}<br>edges=%{customdata[0]}<br>nodes=%{customdata[1]}<extra></extra>",
         "legendgroup": "feed_forward-38",
         "marker": {
          "color": "#FFA15A",
          "symbol": "circle"
         },
         "mode": "markers",
         "name": "feed_forward-38",
         "orientation": "v",
         "showlegend": true,
         "type": "scatter",
         "x": [
          1,
          10,
          11,
          12,
          13,
          14,
          15,
          16,
          17,
          18,
          19,
          2,
          20,
          3,
          4,
          5,
          6,
          7,
          8,
          9
         ],
         "xaxis": "x",
         "y": [
          -11.12209681764452,
          3.7370426709658187,
          2.713261299389997,
          2.2551796970814633,
          0.03955964867319927,
          3.058768589091818,
          3.5451523457967977,
          5.989919115584215,
          5.215632735170619,
          5.159899668931759,
          6.510988647054845,
          1.3288673164842875,
          2.442547963153949,
          6.546982586656992,
          7.336736734932976,
          5.114493034730756,
          3.5805483521100863,
          4.449360210569827,
          6.860866532574652,
          6.614461599136561
         ],
         "yaxis": "y"
        },
        {
         "customdata": [
          [
           2982,
           250,
           "46"
          ],
          [
           202,
           152,
           "46"
          ],
          [
           169,
           135,
           "46"
          ],
          [
           138,
           117,
           "46"
          ],
          [
           115,
           105,
           "46"
          ],
          [
           93,
           97,
           "46"
          ],
          [
           80,
           87,
           "46"
          ],
          [
           66,
           80,
           "46"
          ],
          [
           57,
           71,
           "46"
          ],
          [
           51,
           65,
           "46"
          ],
          [
           41,
           52,
           "46"
          ],
          [
           1589,
           249,
           "46"
          ],
          [
           33,
           46,
           "46"
          ],
          [
           1075,
           245,
           "46"
          ],
          [
           757,
           239,
           "46"
          ],
          [
           592,
           232,
           "46"
          ],
          [
           467,
           220,
           "46"
          ],
          [
           371,
           211,
           "46"
          ],
          [
           304,
           193,
           "46"
          ],
          [
           259,
           180,
           "46"
          ]
         ],
         "hovertemplate": "Motif Id=%{customdata[2]}<br>M - synapse_threshold=%{x}<br>Z score=%{y}<br>edges=%{customdata[0]}<br>nodes=%{customdata[1]}<extra></extra>",
         "legendgroup": "46",
         "marker": {
          "color": "#19d3f3",
          "symbol": "circle"
         },
         "mode": "markers",
         "name": "46",
         "orientation": "v",
         "showlegend": true,
         "type": "scatter",
         "x": [
          1,
          10,
          11,
          12,
          13,
          14,
          15,
          16,
          17,
          18,
          19,
          2,
          20,
          3,
          4,
          5,
          6,
          7,
          8,
          9
         ],
         "xaxis": "x",
         "y": [
          47.87618694034417,
          5.2983189055956075,
          8.561730439128103,
          8.856838839464483,
          8.573381317434837,
          -0.2481118850920685,
          -0.23122695089517292,
          -0.11386818846191439,
          -0.112333378713562,
          -0.12751534261266764,
          -0.10492264806007326,
          40.57353674318089,
          0,
          33.39954541563602,
          21.025069063406892,
          13.236353198924931,
          17.197995315926622,
          11.135555017539946,
          9.612332310092917,
          9.134391528586056
         ],
         "yaxis": "y"
        },
        {
         "customdata": [
          [
           2982,
           250,
           "74"
          ],
          [
           202,
           152,
           "74"
          ],
          [
           169,
           135,
           "74"
          ],
          [
           138,
           117,
           "74"
          ],
          [
           115,
           105,
           "74"
          ],
          [
           93,
           97,
           "74"
          ],
          [
           80,
           87,
           "74"
          ],
          [
           66,
           80,
           "74"
          ],
          [
           57,
           71,
           "74"
          ],
          [
           51,
           65,
           "74"
          ],
          [
           41,
           52,
           "74"
          ],
          [
           1589,
           249,
           "74"
          ],
          [
           33,
           46,
           "74"
          ],
          [
           1075,
           245,
           "74"
          ],
          [
           757,
           239,
           "74"
          ],
          [
           592,
           232,
           "74"
          ],
          [
           467,
           220,
           "74"
          ],
          [
           371,
           211,
           "74"
          ],
          [
           304,
           193,
           "74"
          ],
          [
           259,
           180,
           "74"
          ]
         ],
         "hovertemplate": "Motif Id=%{customdata[2]}<br>M - synapse_threshold=%{x}<br>Z score=%{y}<br>edges=%{customdata[0]}<br>nodes=%{customdata[1]}<extra></extra>",
         "legendgroup": "74",
         "marker": {
          "color": "#FF6692",
          "symbol": "circle"
         },
         "mode": "markers",
         "name": "74",
         "orientation": "v",
         "showlegend": true,
         "type": "scatter",
         "x": [
          1,
          10,
          11,
          12,
          13,
          14,
          15,
          16,
          17,
          18,
          19,
          2,
          20,
          3,
          4,
          5,
          6,
          7,
          8,
          9
         ],
         "xaxis": "x",
         "y": [
          13.649159753887039,
          3.3118761866927104,
          2.4269140761158794,
          1.576340179601286,
          2.2182264183962563,
          1.4477286308324067,
          1.2950791376804927,
          0.729295055686722,
          1.0786597577556654,
          1.0876386125496256,
          0.9495042121155283,
          8.41339410731308,
          -0.13916893275819883,
          6.878448420403953,
          4.638348283927874,
          4.681712536623187,
          3.4636837573698323,
          3.6626770408976967,
          3.1327201681031904,
          3.3120595412279186
         ],
         "yaxis": "y"
        },
        {
         "customdata": [
          [
           2982,
           250,
           "78"
          ],
          [
           202,
           152,
           "78"
          ],
          [
           169,
           135,
           "78"
          ],
          [
           138,
           117,
           "78"
          ],
          [
           115,
           105,
           "78"
          ],
          [
           93,
           97,
           "78"
          ],
          [
           80,
           87,
           "78"
          ],
          [
           66,
           80,
           "78"
          ],
          [
           57,
           71,
           "78"
          ],
          [
           51,
           65,
           "78"
          ],
          [
           41,
           52,
           "78"
          ],
          [
           1589,
           249,
           "78"
          ],
          [
           33,
           46,
           "78"
          ],
          [
           1075,
           245,
           "78"
          ],
          [
           757,
           239,
           "78"
          ],
          [
           592,
           232,
           "78"
          ],
          [
           467,
           220,
           "78"
          ],
          [
           371,
           211,
           "78"
          ],
          [
           304,
           193,
           "78"
          ],
          [
           259,
           180,
           "78"
          ]
         ],
         "hovertemplate": "Motif Id=%{customdata[2]}<br>M - synapse_threshold=%{x}<br>Z score=%{y}<br>edges=%{customdata[0]}<br>nodes=%{customdata[1]}<extra></extra>",
         "legendgroup": "78",
         "marker": {
          "color": "#B6E880",
          "symbol": "circle"
         },
         "mode": "markers",
         "name": "78",
         "orientation": "v",
         "showlegend": true,
         "type": "scatter",
         "x": [
          1,
          10,
          11,
          12,
          13,
          14,
          15,
          16,
          17,
          18,
          19,
          2,
          20,
          3,
          4,
          5,
          6,
          7,
          8,
          9
         ],
         "xaxis": "x",
         "y": [
          36.71108375389786,
          10.253108251038922,
          2.5206166593521706,
          5.4464772169233635,
          5.5333187477332135,
          4.504830430624028,
          -0.13981680465000706,
          -0.05485459945386285,
          -0.03163859985841663,
          -0.06337242505244779,
          -0.07088812050083358,
          16.47661073447522,
          0,
          13.878753686756975,
          5.751795148387336,
          6.513842985591707,
          9.732735913636024,
          11.344565084906915,
          8.06579906330691,
          9.267907493826776
         ],
         "yaxis": "y"
        },
        {
         "customdata": [
          [
           2982,
           250,
           "98"
          ],
          [
           202,
           152,
           "98"
          ],
          [
           169,
           135,
           "98"
          ],
          [
           138,
           117,
           "98"
          ],
          [
           115,
           105,
           "98"
          ],
          [
           93,
           97,
           "98"
          ],
          [
           80,
           87,
           "98"
          ],
          [
           66,
           80,
           "98"
          ],
          [
           57,
           71,
           "98"
          ],
          [
           51,
           65,
           "98"
          ],
          [
           41,
           52,
           "98"
          ],
          [
           1589,
           249,
           "98"
          ],
          [
           33,
           46,
           "98"
          ],
          [
           1075,
           245,
           "98"
          ],
          [
           757,
           239,
           "98"
          ],
          [
           592,
           232,
           "98"
          ],
          [
           467,
           220,
           "98"
          ],
          [
           371,
           211,
           "98"
          ],
          [
           304,
           193,
           "98"
          ],
          [
           259,
           180,
           "98"
          ]
         ],
         "hovertemplate": "Motif Id=%{customdata[2]}<br>M - synapse_threshold=%{x}<br>Z score=%{y}<br>edges=%{customdata[0]}<br>nodes=%{customdata[1]}<extra></extra>",
         "legendgroup": "98",
         "marker": {
          "color": "#FF97FF",
          "symbol": "circle"
         },
         "mode": "markers",
         "name": "98",
         "orientation": "v",
         "showlegend": true,
         "type": "scatter",
         "x": [
          1,
          10,
          11,
          12,
          13,
          14,
          15,
          16,
          17,
          18,
          19,
          2,
          20,
          3,
          4,
          5,
          6,
          7,
          8,
          9
         ],
         "xaxis": "x",
         "y": [
          -16.617686426890657,
          -0.943066554753875,
          -0.7810226159133271,
          -0.603010154047336,
          -0.5092527012862501,
          -0.386591273268488,
          2.4403183035214826,
          -0.21866270583345174,
          -0.20676766567910423,
          -0.17318976288085866,
          -0.21453462331873252,
          -8.68049434370401,
          -0.08396038004871989,
          -5.778151846304837,
          -3.8300159682077686,
          -3.201125993657554,
          0.47788029343138855,
          -1.2595311223956926,
          -1.4592517734942556,
          -1.2230541612216403
         ],
         "yaxis": "y"
        },
        {
         "customdata": [
          [
           2982,
           250,
           "102"
          ],
          [
           202,
           152,
           "102"
          ],
          [
           169,
           135,
           "102"
          ],
          [
           138,
           117,
           "102"
          ],
          [
           115,
           105,
           "102"
          ],
          [
           93,
           97,
           "102"
          ],
          [
           80,
           87,
           "102"
          ],
          [
           66,
           80,
           "102"
          ],
          [
           57,
           71,
           "102"
          ],
          [
           51,
           65,
           "102"
          ],
          [
           41,
           52,
           "102"
          ],
          [
           1589,
           249,
           "102"
          ],
          [
           33,
           46,
           "102"
          ],
          [
           1075,
           245,
           "102"
          ],
          [
           757,
           239,
           "102"
          ],
          [
           592,
           232,
           "102"
          ],
          [
           467,
           220,
           "102"
          ],
          [
           371,
           211,
           "102"
          ],
          [
           304,
           193,
           "102"
          ],
          [
           259,
           180,
           "102"
          ]
         ],
         "hovertemplate": "Motif Id=%{customdata[2]}<br>M - synapse_threshold=%{x}<br>Z score=%{y}<br>edges=%{customdata[0]}<br>nodes=%{customdata[1]}<extra></extra>",
         "legendgroup": "102",
         "marker": {
          "color": "#FECB52",
          "symbol": "circle"
         },
         "mode": "markers",
         "name": "102",
         "orientation": "v",
         "showlegend": true,
         "type": "scatter",
         "x": [
          1,
          10,
          11,
          12,
          13,
          14,
          15,
          16,
          17,
          18,
          19,
          2,
          20,
          3,
          4,
          5,
          6,
          7,
          8,
          9
         ],
         "xaxis": "x",
         "y": [
          4.70727706705934,
          -0.55962076543112,
          -0.4805444323330146,
          -0.3529805508593287,
          -0.30815191118091906,
          4.776178513007948,
          -0.20069785042142732,
          -0.04476614810358452,
          -0.04246464226290538,
          -0.07088812050083357,
          -0.06337242505244779,
          3.372352309666962,
          0,
          4.231998460277443,
          4.379224639416852,
          4.842032804131877,
          -0.13703539921661986,
          -0.022043416519686495,
          -0.7708833169545805,
          -0.6507918357417588
         ],
         "yaxis": "y"
        },
        {
         "customdata": [
          [
           2982,
           250,
           "108"
          ],
          [
           202,
           152,
           "108"
          ],
          [
           169,
           135,
           "108"
          ],
          [
           138,
           117,
           "108"
          ],
          [
           115,
           105,
           "108"
          ],
          [
           93,
           97,
           "108"
          ],
          [
           80,
           87,
           "108"
          ],
          [
           66,
           80,
           "108"
          ],
          [
           57,
           71,
           "108"
          ],
          [
           51,
           65,
           "108"
          ],
          [
           41,
           52,
           "108"
          ],
          [
           1589,
           249,
           "108"
          ],
          [
           33,
           46,
           "108"
          ],
          [
           1075,
           245,
           "108"
          ],
          [
           757,
           239,
           "108"
          ],
          [
           592,
           232,
           "108"
          ],
          [
           467,
           220,
           "108"
          ],
          [
           371,
           211,
           "108"
          ],
          [
           304,
           193,
           "108"
          ],
          [
           259,
           180,
           "108"
          ]
         ],
         "hovertemplate": "Motif Id=%{customdata[2]}<br>M - synapse_threshold=%{x}<br>Z score=%{y}<br>edges=%{customdata[0]}<br>nodes=%{customdata[1]}<extra></extra>",
         "legendgroup": "108",
         "marker": {
          "color": "#636efa",
          "symbol": "circle"
         },
         "mode": "markers",
         "name": "108",
         "orientation": "v",
         "showlegend": true,
         "type": "scatter",
         "x": [
          1,
          10,
          11,
          12,
          13,
          14,
          15,
          16,
          17,
          18,
          19,
          2,
          20,
          3,
          4,
          5,
          6,
          7,
          8,
          9
         ],
         "xaxis": "x",
         "y": [
          25.664480601910235,
          2.312509668764921,
          3.654583650571511,
          5.105379197979542,
          4.453666973119295,
          -0.13772614261276048,
          -0.13150664608837076,
          -0.08396038004871989,
          -0.04476614810358452,
          -0.07088812050083357,
          -0.05485459945386285,
          23.591919341162182,
          0,
          15.027490341259432,
          11.678488801010486,
          12.619338266396193,
          11.21362222244702,
          16.221185915772097,
          6.747678402750891,
          7.537063011128544
         ],
         "yaxis": "y"
        },
        {
         "customdata": [
          [
           2982,
           250,
           "110"
          ],
          [
           202,
           152,
           "110"
          ],
          [
           169,
           135,
           "110"
          ],
          [
           138,
           117,
           "110"
          ],
          [
           115,
           105,
           "110"
          ],
          [
           93,
           97,
           "110"
          ],
          [
           80,
           87,
           "110"
          ],
          [
           66,
           80,
           "110"
          ],
          [
           57,
           71,
           "110"
          ],
          [
           51,
           65,
           "110"
          ],
          [
           41,
           52,
           "110"
          ],
          [
           1589,
           249,
           "110"
          ],
          [
           33,
           46,
           "110"
          ],
          [
           1075,
           245,
           "110"
          ],
          [
           757,
           239,
           "110"
          ],
          [
           592,
           232,
           "110"
          ],
          [
           467,
           220,
           "110"
          ],
          [
           371,
           211,
           "110"
          ],
          [
           304,
           193,
           "110"
          ],
          [
           259,
           180,
           "110"
          ]
         ],
         "hovertemplate": "Motif Id=%{customdata[2]}<br>M - synapse_threshold=%{x}<br>Z score=%{y}<br>edges=%{customdata[0]}<br>nodes=%{customdata[1]}<extra></extra>",
         "legendgroup": "110",
         "marker": {
          "color": "#EF553B",
          "symbol": "circle"
         },
         "mode": "markers",
         "name": "110",
         "orientation": "v",
         "showlegend": true,
         "type": "scatter",
         "x": [
          1,
          10,
          11,
          12,
          13,
          14,
          15,
          16,
          17,
          18,
          19,
          2,
          20,
          3,
          4,
          5,
          6,
          7,
          8,
          9
         ],
         "xaxis": "x",
         "y": [
          50.19148551459359,
          12.536624586327793,
          9.751364464057891,
          16.903505095016452,
          19.069543413049182,
          -0.04476614810358452,
          -0.05485459945386285,
          0,
          0,
          0,
          0,
          28.591058104384352,
          0,
          14.61440284427599,
          11.07206641658374,
          8.467742732607002,
          4.250432715458599,
          4.980057025309045,
          7.757864523108939,
          9.040409857033517
         ],
         "yaxis": "y"
        },
        {
         "customdata": [
          [
           2982,
           250,
           "238"
          ],
          [
           202,
           152,
           "238"
          ],
          [
           169,
           135,
           "238"
          ],
          [
           138,
           117,
           "238"
          ],
          [
           115,
           105,
           "238"
          ],
          [
           93,
           97,
           "238"
          ],
          [
           80,
           87,
           "238"
          ],
          [
           66,
           80,
           "238"
          ],
          [
           57,
           71,
           "238"
          ],
          [
           51,
           65,
           "238"
          ],
          [
           41,
           52,
           "238"
          ],
          [
           1589,
           249,
           "238"
          ],
          [
           33,
           46,
           "238"
          ],
          [
           1075,
           245,
           "238"
          ],
          [
           757,
           239,
           "238"
          ],
          [
           592,
           232,
           "238"
          ],
          [
           467,
           220,
           "238"
          ],
          [
           371,
           211,
           "238"
          ],
          [
           304,
           193,
           "238"
          ],
          [
           259,
           180,
           "238"
          ]
         ],
         "hovertemplate": "Motif Id=%{customdata[2]}<br>M - synapse_threshold=%{x}<br>Z score=%{y}<br>edges=%{customdata[0]}<br>nodes=%{customdata[1]}<extra></extra>",
         "legendgroup": "238",
         "marker": {
          "color": "#00cc96",
          "symbol": "circle"
         },
         "mode": "markers",
         "name": "238",
         "orientation": "v",
         "showlegend": true,
         "type": "scatter",
         "x": [
          1,
          10,
          11,
          12,
          13,
          14,
          15,
          16,
          17,
          18,
          19,
          2,
          20,
          3,
          4,
          5,
          6,
          7,
          8,
          9
         ],
         "xaxis": "x",
         "y": [
          103.97561680276497,
          44.721381955480936,
          31.606961258558215,
          0,
          0,
          0,
          0,
          0,
          0,
          0,
          0,
          57.5745143168837,
          0,
          56.093256082196596,
          62.46506595409653,
          59.88527184086443,
          64.66655430857227,
          47.46594636428339,
          63.245561116974834,
          44.721381955480936
         ],
         "yaxis": "y"
        }
       ],
       "layout": {
        "autosize": true,
        "legend": {
         "title": {
          "text": "Motif Id"
         },
         "tracegroupgap": 0
        },
        "template": {
         "data": {
          "bar": [
           {
            "error_x": {
             "color": "#2a3f5f"
            },
            "error_y": {
             "color": "#2a3f5f"
            },
            "marker": {
             "line": {
              "color": "#E5ECF6",
              "width": 0.5
             },
             "pattern": {
              "fillmode": "overlay",
              "size": 10,
              "solidity": 0.2
             }
            },
            "type": "bar"
           }
          ],
          "barpolar": [
           {
            "marker": {
             "line": {
              "color": "#E5ECF6",
              "width": 0.5
             },
             "pattern": {
              "fillmode": "overlay",
              "size": 10,
              "solidity": 0.2
             }
            },
            "type": "barpolar"
           }
          ],
          "carpet": [
           {
            "aaxis": {
             "endlinecolor": "#2a3f5f",
             "gridcolor": "white",
             "linecolor": "white",
             "minorgridcolor": "white",
             "startlinecolor": "#2a3f5f"
            },
            "baxis": {
             "endlinecolor": "#2a3f5f",
             "gridcolor": "white",
             "linecolor": "white",
             "minorgridcolor": "white",
             "startlinecolor": "#2a3f5f"
            },
            "type": "carpet"
           }
          ],
          "choropleth": [
           {
            "colorbar": {
             "outlinewidth": 0,
             "ticks": ""
            },
            "type": "choropleth"
           }
          ],
          "contour": [
           {
            "colorbar": {
             "outlinewidth": 0,
             "ticks": ""
            },
            "colorscale": [
             [
              0,
              "#0d0887"
             ],
             [
              0.1111111111111111,
              "#46039f"
             ],
             [
              0.2222222222222222,
              "#7201a8"
             ],
             [
              0.3333333333333333,
              "#9c179e"
             ],
             [
              0.4444444444444444,
              "#bd3786"
             ],
             [
              0.5555555555555556,
              "#d8576b"
             ],
             [
              0.6666666666666666,
              "#ed7953"
             ],
             [
              0.7777777777777778,
              "#fb9f3a"
             ],
             [
              0.8888888888888888,
              "#fdca26"
             ],
             [
              1,
              "#f0f921"
             ]
            ],
            "type": "contour"
           }
          ],
          "contourcarpet": [
           {
            "colorbar": {
             "outlinewidth": 0,
             "ticks": ""
            },
            "type": "contourcarpet"
           }
          ],
          "heatmap": [
           {
            "colorbar": {
             "outlinewidth": 0,
             "ticks": ""
            },
            "colorscale": [
             [
              0,
              "#0d0887"
             ],
             [
              0.1111111111111111,
              "#46039f"
             ],
             [
              0.2222222222222222,
              "#7201a8"
             ],
             [
              0.3333333333333333,
              "#9c179e"
             ],
             [
              0.4444444444444444,
              "#bd3786"
             ],
             [
              0.5555555555555556,
              "#d8576b"
             ],
             [
              0.6666666666666666,
              "#ed7953"
             ],
             [
              0.7777777777777778,
              "#fb9f3a"
             ],
             [
              0.8888888888888888,
              "#fdca26"
             ],
             [
              1,
              "#f0f921"
             ]
            ],
            "type": "heatmap"
           }
          ],
          "heatmapgl": [
           {
            "colorbar": {
             "outlinewidth": 0,
             "ticks": ""
            },
            "colorscale": [
             [
              0,
              "#0d0887"
             ],
             [
              0.1111111111111111,
              "#46039f"
             ],
             [
              0.2222222222222222,
              "#7201a8"
             ],
             [
              0.3333333333333333,
              "#9c179e"
             ],
             [
              0.4444444444444444,
              "#bd3786"
             ],
             [
              0.5555555555555556,
              "#d8576b"
             ],
             [
              0.6666666666666666,
              "#ed7953"
             ],
             [
              0.7777777777777778,
              "#fb9f3a"
             ],
             [
              0.8888888888888888,
              "#fdca26"
             ],
             [
              1,
              "#f0f921"
             ]
            ],
            "type": "heatmapgl"
           }
          ],
          "histogram": [
           {
            "marker": {
             "pattern": {
              "fillmode": "overlay",
              "size": 10,
              "solidity": 0.2
             }
            },
            "type": "histogram"
           }
          ],
          "histogram2d": [
           {
            "colorbar": {
             "outlinewidth": 0,
             "ticks": ""
            },
            "colorscale": [
             [
              0,
              "#0d0887"
             ],
             [
              0.1111111111111111,
              "#46039f"
             ],
             [
              0.2222222222222222,
              "#7201a8"
             ],
             [
              0.3333333333333333,
              "#9c179e"
             ],
             [
              0.4444444444444444,
              "#bd3786"
             ],
             [
              0.5555555555555556,
              "#d8576b"
             ],
             [
              0.6666666666666666,
              "#ed7953"
             ],
             [
              0.7777777777777778,
              "#fb9f3a"
             ],
             [
              0.8888888888888888,
              "#fdca26"
             ],
             [
              1,
              "#f0f921"
             ]
            ],
            "type": "histogram2d"
           }
          ],
          "histogram2dcontour": [
           {
            "colorbar": {
             "outlinewidth": 0,
             "ticks": ""
            },
            "colorscale": [
             [
              0,
              "#0d0887"
             ],
             [
              0.1111111111111111,
              "#46039f"
             ],
             [
              0.2222222222222222,
              "#7201a8"
             ],
             [
              0.3333333333333333,
              "#9c179e"
             ],
             [
              0.4444444444444444,
              "#bd3786"
             ],
             [
              0.5555555555555556,
              "#d8576b"
             ],
             [
              0.6666666666666666,
              "#ed7953"
             ],
             [
              0.7777777777777778,
              "#fb9f3a"
             ],
             [
              0.8888888888888888,
              "#fdca26"
             ],
             [
              1,
              "#f0f921"
             ]
            ],
            "type": "histogram2dcontour"
           }
          ],
          "mesh3d": [
           {
            "colorbar": {
             "outlinewidth": 0,
             "ticks": ""
            },
            "type": "mesh3d"
           }
          ],
          "parcoords": [
           {
            "line": {
             "colorbar": {
              "outlinewidth": 0,
              "ticks": ""
             }
            },
            "type": "parcoords"
           }
          ],
          "pie": [
           {
            "automargin": true,
            "type": "pie"
           }
          ],
          "scatter": [
           {
            "fillpattern": {
             "fillmode": "overlay",
             "size": 10,
             "solidity": 0.2
            },
            "type": "scatter"
           }
          ],
          "scatter3d": [
           {
            "line": {
             "colorbar": {
              "outlinewidth": 0,
              "ticks": ""
             }
            },
            "marker": {
             "colorbar": {
              "outlinewidth": 0,
              "ticks": ""
             }
            },
            "type": "scatter3d"
           }
          ],
          "scattercarpet": [
           {
            "marker": {
             "colorbar": {
              "outlinewidth": 0,
              "ticks": ""
             }
            },
            "type": "scattercarpet"
           }
          ],
          "scattergeo": [
           {
            "marker": {
             "colorbar": {
              "outlinewidth": 0,
              "ticks": ""
             }
            },
            "type": "scattergeo"
           }
          ],
          "scattergl": [
           {
            "marker": {
             "colorbar": {
              "outlinewidth": 0,
              "ticks": ""
             }
            },
            "type": "scattergl"
           }
          ],
          "scattermapbox": [
           {
            "marker": {
             "colorbar": {
              "outlinewidth": 0,
              "ticks": ""
             }
            },
            "type": "scattermapbox"
           }
          ],
          "scatterpolar": [
           {
            "marker": {
             "colorbar": {
              "outlinewidth": 0,
              "ticks": ""
             }
            },
            "type": "scatterpolar"
           }
          ],
          "scatterpolargl": [
           {
            "marker": {
             "colorbar": {
              "outlinewidth": 0,
              "ticks": ""
             }
            },
            "type": "scatterpolargl"
           }
          ],
          "scatterternary": [
           {
            "marker": {
             "colorbar": {
              "outlinewidth": 0,
              "ticks": ""
             }
            },
            "type": "scatterternary"
           }
          ],
          "surface": [
           {
            "colorbar": {
             "outlinewidth": 0,
             "ticks": ""
            },
            "colorscale": [
             [
              0,
              "#0d0887"
             ],
             [
              0.1111111111111111,
              "#46039f"
             ],
             [
              0.2222222222222222,
              "#7201a8"
             ],
             [
              0.3333333333333333,
              "#9c179e"
             ],
             [
              0.4444444444444444,
              "#bd3786"
             ],
             [
              0.5555555555555556,
              "#d8576b"
             ],
             [
              0.6666666666666666,
              "#ed7953"
             ],
             [
              0.7777777777777778,
              "#fb9f3a"
             ],
             [
              0.8888888888888888,
              "#fdca26"
             ],
             [
              1,
              "#f0f921"
             ]
            ],
            "type": "surface"
           }
          ],
          "table": [
           {
            "cells": {
             "fill": {
              "color": "#EBF0F8"
             },
             "line": {
              "color": "white"
             }
            },
            "header": {
             "fill": {
              "color": "#C8D4E3"
             },
             "line": {
              "color": "white"
             }
            },
            "type": "table"
           }
          ]
         },
         "layout": {
          "annotationdefaults": {
           "arrowcolor": "#2a3f5f",
           "arrowhead": 0,
           "arrowwidth": 1
          },
          "autotypenumbers": "strict",
          "coloraxis": {
           "colorbar": {
            "outlinewidth": 0,
            "ticks": ""
           }
          },
          "colorscale": {
           "diverging": [
            [
             0,
             "#8e0152"
            ],
            [
             0.1,
             "#c51b7d"
            ],
            [
             0.2,
             "#de77ae"
            ],
            [
             0.3,
             "#f1b6da"
            ],
            [
             0.4,
             "#fde0ef"
            ],
            [
             0.5,
             "#f7f7f7"
            ],
            [
             0.6,
             "#e6f5d0"
            ],
            [
             0.7,
             "#b8e186"
            ],
            [
             0.8,
             "#7fbc41"
            ],
            [
             0.9,
             "#4d9221"
            ],
            [
             1,
             "#276419"
            ]
           ],
           "sequential": [
            [
             0,
             "#0d0887"
            ],
            [
             0.1111111111111111,
             "#46039f"
            ],
            [
             0.2222222222222222,
             "#7201a8"
            ],
            [
             0.3333333333333333,
             "#9c179e"
            ],
            [
             0.4444444444444444,
             "#bd3786"
            ],
            [
             0.5555555555555556,
             "#d8576b"
            ],
            [
             0.6666666666666666,
             "#ed7953"
            ],
            [
             0.7777777777777778,
             "#fb9f3a"
            ],
            [
             0.8888888888888888,
             "#fdca26"
            ],
            [
             1,
             "#f0f921"
            ]
           ],
           "sequentialminus": [
            [
             0,
             "#0d0887"
            ],
            [
             0.1111111111111111,
             "#46039f"
            ],
            [
             0.2222222222222222,
             "#7201a8"
            ],
            [
             0.3333333333333333,
             "#9c179e"
            ],
            [
             0.4444444444444444,
             "#bd3786"
            ],
            [
             0.5555555555555556,
             "#d8576b"
            ],
            [
             0.6666666666666666,
             "#ed7953"
            ],
            [
             0.7777777777777778,
             "#fb9f3a"
            ],
            [
             0.8888888888888888,
             "#fdca26"
            ],
            [
             1,
             "#f0f921"
            ]
           ]
          },
          "colorway": [
           "#636efa",
           "#EF553B",
           "#00cc96",
           "#ab63fa",
           "#FFA15A",
           "#19d3f3",
           "#FF6692",
           "#B6E880",
           "#FF97FF",
           "#FECB52"
          ],
          "font": {
           "color": "#2a3f5f"
          },
          "geo": {
           "bgcolor": "white",
           "lakecolor": "white",
           "landcolor": "#E5ECF6",
           "showlakes": true,
           "showland": true,
           "subunitcolor": "white"
          },
          "hoverlabel": {
           "align": "left"
          },
          "hovermode": "closest",
          "mapbox": {
           "style": "light"
          },
          "paper_bgcolor": "white",
          "plot_bgcolor": "#E5ECF6",
          "polar": {
           "angularaxis": {
            "gridcolor": "white",
            "linecolor": "white",
            "ticks": ""
           },
           "bgcolor": "#E5ECF6",
           "radialaxis": {
            "gridcolor": "white",
            "linecolor": "white",
            "ticks": ""
           }
          },
          "scene": {
           "xaxis": {
            "backgroundcolor": "#E5ECF6",
            "gridcolor": "white",
            "gridwidth": 2,
            "linecolor": "white",
            "showbackground": true,
            "ticks": "",
            "zerolinecolor": "white"
           },
           "yaxis": {
            "backgroundcolor": "#E5ECF6",
            "gridcolor": "white",
            "gridwidth": 2,
            "linecolor": "white",
            "showbackground": true,
            "ticks": "",
            "zerolinecolor": "white"
           },
           "zaxis": {
            "backgroundcolor": "#E5ECF6",
            "gridcolor": "white",
            "gridwidth": 2,
            "linecolor": "white",
            "showbackground": true,
            "ticks": "",
            "zerolinecolor": "white"
           }
          },
          "shapedefaults": {
           "line": {
            "color": "#2a3f5f"
           }
          },
          "ternary": {
           "aaxis": {
            "gridcolor": "white",
            "linecolor": "white",
            "ticks": ""
           },
           "baxis": {
            "gridcolor": "white",
            "linecolor": "white",
            "ticks": ""
           },
           "bgcolor": "#E5ECF6",
           "caxis": {
            "gridcolor": "white",
            "linecolor": "white",
            "ticks": ""
           }
          },
          "title": {
           "x": 0.05
          },
          "xaxis": {
           "automargin": true,
           "gridcolor": "white",
           "linecolor": "white",
           "ticks": "",
           "title": {
            "standoff": 15
           },
           "zerolinecolor": "white",
           "zerolinewidth": 2
          },
          "yaxis": {
           "automargin": true,
           "gridcolor": "white",
           "linecolor": "white",
           "ticks": "",
           "title": {
            "standoff": 15
           },
           "zerolinecolor": "white",
           "zerolinewidth": 2
          }
         }
        },
        "title": {
         "text": "Z-score as a function of M. network: cook_si2"
        },
        "xaxis": {
         "anchor": "y",
         "autorange": true,
         "domain": [
          0,
          1
         ],
         "range": [
          -0.16006600660066006,
          21.16006600660066
         ],
         "title": {
          "text": "M - synapse_threshold"
         },
         "type": "linear"
        },
        "yaxis": {
         "anchor": "x",
         "autorange": true,
         "domain": [
          0,
          1
         ],
         "range": [
          -49.119708100842104,
          115.6465608537126
         ],
         "title": {
          "text": "Z score"
         },
         "type": "linear"
        }
       }
      },
      "image/png": "[encoded data removed]",
      "text/html": [
       "<div>                            <div id=\"17467b02-cdca-4499-af74-26a996eaec64\" class=\"plotly-graph-div\" style=\"height:525px; width:100%;\"></div>            <script type=\"text/javascript\">                require([\"plotly\"], function(Plotly) {                    window.PLOTLYENV=window.PLOTLYENV || {};                                    if (document.getElementById(\"17467b02-cdca-4499-af74-26a996eaec64\")) {                    Plotly.newPlot(                        \"17467b02-cdca-4499-af74-26a996eaec64\",                        [{\"customdata\":[[2982.0,250.0,\"fan_out-6\"],[202.0,152.0,\"fan_out-6\"],[169.0,135.0,\"fan_out-6\"],[138.0,117.0,\"fan_out-6\"],[115.0,105.0,\"fan_out-6\"],[93.0,97.0,\"fan_out-6\"],[80.0,87.0,\"fan_out-6\"],[66.0,80.0,\"fan_out-6\"],[57.0,71.0,\"fan_out-6\"],[51.0,65.0,\"fan_out-6\"],[41.0,52.0,\"fan_out-6\"],[1589.0,249.0,\"fan_out-6\"],[33.0,46.0,\"fan_out-6\"],[1075.0,245.0,\"fan_out-6\"],[757.0,239.0,\"fan_out-6\"],[592.0,232.0,\"fan_out-6\"],[467.0,220.0,\"fan_out-6\"],[371.0,211.0,\"fan_out-6\"],[304.0,193.0,\"fan_out-6\"],[259.0,180.0,\"fan_out-6\"]],\"hovertemplate\":\"Motif Id=%{customdata[2]}\\u003cbr\\u003eM - synapse_threshold=%{x}\\u003cbr\\u003eZ score=%{y}\\u003cbr\\u003eedges=%{customdata[0]}\\u003cbr\\u003enodes=%{customdata[1]}\\u003cextra\\u003e\\u003c\\u002fextra\\u003e\",\"legendgroup\":\"fan_out-6\",\"marker\":{\"color\":\"#636efa\",\"symbol\":\"circle\"},\"mode\":\"markers\",\"name\":\"fan_out-6\",\"orientation\":\"v\",\"showlegend\":true,\"x\":[1.0,10.0,11.0,12.0,13.0,14.0,15.0,16.0,17.0,18.0,19.0,2.0,20.0,3.0,4.0,5.0,6.0,7.0,8.0,9.0],\"xaxis\":\"x\",\"y\":[-37.44876404989448,-6.058278242018165,-4.659355971058273,-4.716413813314285,-4.397415386438907,-3.639063895933299,-2.890402088523266,-3.524502774682766,-3.4954672979039785,-3.078377537084612,-2.858511588774979,-24.4630051325811,-0.9186639743956151,-18.820990032679415,-12.331761889337292,-10.739744579370472,-9.025720928610246,-10.076897187940915,-7.855323686023378,-7.4533546986058115],\"yaxis\":\"y\",\"type\":\"scatter\"},{\"customdata\":[[2982.0,250.0,\"cascade-12\"],[202.0,152.0,\"cascade-12\"],[169.0,135.0,\"cascade-12\"],[138.0,117.0,\"cascade-12\"],[115.0,105.0,\"cascade-12\"],[93.0,97.0,\"cascade-12\"],[80.0,87.0,\"cascade-12\"],[66.0,80.0,\"cascade-12\"],[57.0,71.0,\"cascade-12\"],[51.0,65.0,\"cascade-12\"],[41.0,52.0,\"cascade-12\"],[1589.0,249.0,\"cascade-12\"],[33.0,46.0,\"cascade-12\"],[1075.0,245.0,\"cascade-12\"],[757.0,239.0,\"cascade-12\"],[592.0,232.0,\"cascade-12\"],[467.0,220.0,\"cascade-12\"],[371.0,211.0,\"cascade-12\"],[304.0,193.0,\"cascade-12\"],[259.0,180.0,\"cascade-12\"]],\"hovertemplate\":\"Motif Id=%{customdata[2]}\\u003cbr\\u003eM - synapse_threshold=%{x}\\u003cbr\\u003eZ score=%{y}\\u003cbr\\u003eedges=%{customdata[0]}\\u003cbr\\u003enodes=%{customdata[1]}\\u003cextra\\u003e\\u003c\\u002fextra\\u003e\",\"legendgroup\":\"cascade-12\",\"marker\":{\"color\":\"#EF553B\",\"symbol\":\"circle\"},\"mode\":\"markers\",\"name\":\"cascade-12\",\"orientation\":\"v\",\"showlegend\":true,\"x\":[1.0,10.0,11.0,12.0,13.0,14.0,15.0,16.0,17.0,18.0,19.0,2.0,20.0,3.0,4.0,5.0,6.0,7.0,8.0,9.0],\"xaxis\":\"x\",\"y\":[-30.79279711194421,-5.298240583124781,-3.975910053505278,-3.939348099387471,-4.180066962471013,-3.233458087935131,-2.7315998993928456,-2.748673403840285,-2.8479089580536625,-2.5602960730555777,-2.2569580802498943,-17.808686569126237,-0.48684606995702084,-13.16683168742382,-8.483882884765732,-7.9677471907559205,-6.8539180023149475,-7.420109243212313,-5.929069247887287,-5.852104745095382],\"yaxis\":\"y\",\"type\":\"scatter\"},{\"customdata\":[[2982.0,250.0,\"14\"],[202.0,152.0,\"14\"],[169.0,135.0,\"14\"],[138.0,117.0,\"14\"],[115.0,105.0,\"14\"],[93.0,97.0,\"14\"],[80.0,87.0,\"14\"],[66.0,80.0,\"14\"],[57.0,71.0,\"14\"],[51.0,65.0,\"14\"],[41.0,52.0,\"14\"],[1589.0,249.0,\"14\"],[33.0,46.0,\"14\"],[1075.0,245.0,\"14\"],[757.0,239.0,\"14\"],[592.0,232.0,\"14\"],[467.0,220.0,\"14\"],[371.0,211.0,\"14\"],[304.0,193.0,\"14\"],[259.0,180.0,\"14\"]],\"hovertemplate\":\"Motif Id=%{customdata[2]}\\u003cbr\\u003eM - synapse_threshold=%{x}\\u003cbr\\u003eZ score=%{y}\\u003cbr\\u003eedges=%{customdata[0]}\\u003cbr\\u003enodes=%{customdata[1]}\\u003cextra\\u003e\\u003c\\u002fextra\\u003e\",\"legendgroup\":\"14\",\"marker\":{\"color\":\"#00cc96\",\"symbol\":\"circle\"},\"mode\":\"markers\",\"name\":\"14\",\"orientation\":\"v\",\"showlegend\":true,\"x\":[1.0,10.0,11.0,12.0,13.0,14.0,15.0,16.0,17.0,18.0,19.0,2.0,20.0,3.0,4.0,5.0,6.0,7.0,8.0,9.0],\"xaxis\":\"x\",\"y\":[16.495588649243768,2.71566072484957,1.9456561031601496,2.0884247381297136,2.318979679502054,2.73550053993956,2.2451978509938892,1.9461807778954165,2.0551982301330027,1.7513126496136882,1.1498786408252526,10.619385948270763,-0.1901042864909089,8.062782824970403,3.817270531657642,4.029957506548427,3.3087460890654725,4.749151076650627,2.935615929555625,2.48078816729051],\"yaxis\":\"y\",\"type\":\"scatter\"},{\"customdata\":[[2982.0,250.0,\"fan_in-36\"],[202.0,152.0,\"fan_in-36\"],[169.0,135.0,\"fan_in-36\"],[138.0,117.0,\"fan_in-36\"],[115.0,105.0,\"fan_in-36\"],[93.0,97.0,\"fan_in-36\"],[80.0,87.0,\"fan_in-36\"],[66.0,80.0,\"fan_in-36\"],[57.0,71.0,\"fan_in-36\"],[51.0,65.0,\"fan_in-36\"],[41.0,52.0,\"fan_in-36\"],[1589.0,249.0,\"fan_in-36\"],[33.0,46.0,\"fan_in-36\"],[1075.0,245.0,\"fan_in-36\"],[757.0,239.0,\"fan_in-36\"],[592.0,232.0,\"fan_in-36\"],[467.0,220.0,\"fan_in-36\"],[371.0,211.0,\"fan_in-36\"],[304.0,193.0,\"fan_in-36\"],[259.0,180.0,\"fan_in-36\"]],\"hovertemplate\":\"Motif Id=%{customdata[2]}\\u003cbr\\u003eM - synapse_threshold=%{x}\\u003cbr\\u003eZ score=%{y}\\u003cbr\\u003eedges=%{customdata[0]}\\u003cbr\\u003enodes=%{customdata[1]}\\u003cextra\\u003e\\u003c\\u002fextra\\u003e\",\"legendgroup\":\"fan_in-36\",\"marker\":{\"color\":\"#ab63fa\",\"symbol\":\"circle\"},\"mode\":\"markers\",\"name\":\"fan_in-36\",\"orientation\":\"v\",\"showlegend\":true,\"x\":[1.0,10.0,11.0,12.0,13.0,14.0,15.0,16.0,17.0,18.0,19.0,2.0,20.0,3.0,4.0,5.0,6.0,7.0,8.0,9.0],\"xaxis\":\"x\",\"y\":[-29.831897757555602,-5.765151052833322,-4.651754479630699,-4.191546524602286,-4.404581013998296,-2.8382496109288162,-2.475450482916818,-4.479655145263533,-4.450072216541128,-4.510538720550081,-4.6607664175171895,-17.560722140017173,-2.2540849103635026,-13.337667935700624,-9.302215533158511,-8.431945644137217,-6.715908594787769,-7.196111033097015,-6.152790928242743,-6.477356628222383],\"yaxis\":\"y\",\"type\":\"scatter\"},{\"customdata\":[[2982.0,250.0,\"feed_forward-38\"],[202.0,152.0,\"feed_forward-38\"],[169.0,135.0,\"feed_forward-38\"],[138.0,117.0,\"feed_forward-38\"],[115.0,105.0,\"feed_forward-38\"],[93.0,97.0,\"feed_forward-38\"],[80.0,87.0,\"feed_forward-38\"],[66.0,80.0,\"feed_forward-38\"],[57.0,71.0,\"feed_forward-38\"],[51.0,65.0,\"feed_forward-38\"],[41.0,52.0,\"feed_forward-38\"],[1589.0,249.0,\"feed_forward-38\"],[33.0,46.0,\"feed_forward-38\"],[1075.0,245.0,\"feed_forward-38\"],[757.0,239.0,\"feed_forward-38\"],[592.0,232.0,\"feed_forward-38\"],[467.0,220.0,\"feed_forward-38\"],[371.0,211.0,\"feed_forward-38\"],[304.0,193.0,\"feed_forward-38\"],[259.0,180.0,\"feed_forward-38\"]],\"hovertemplate\":\"Motif Id=%{customdata[2]}\\u003cbr\\u003eM - synapse_threshold=%{x}\\u003cbr\\u003eZ score=%{y}\\u003cbr\\u003eedges=%{customdata[0]}\\u003cbr\\u003enodes=%{customdata[1]}\\u003cextra\\u003e\\u003c\\u002fextra\\u003e\",\"legendgroup\":\"feed_forward-38\",\"marker\":{\"color\":\"#FFA15A\",\"symbol\":\"circle\"},\"mode\":\"markers\",\"name\":\"feed_forward-38\",\"orientation\":\"v\",\"showlegend\":true,\"x\":[1.0,10.0,11.0,12.0,13.0,14.0,15.0,16.0,17.0,18.0,19.0,2.0,20.0,3.0,4.0,5.0,6.0,7.0,8.0,9.0],\"xaxis\":\"x\",\"y\":[-11.12209681764452,3.7370426709658187,2.713261299389997,2.2551796970814633,0.03955964867319927,3.058768589091818,3.5451523457967977,5.989919115584215,5.215632735170619,5.159899668931759,6.510988647054845,1.3288673164842875,2.442547963153949,6.546982586656992,7.336736734932976,5.114493034730756,3.5805483521100863,4.449360210569827,6.860866532574652,6.614461599136561],\"yaxis\":\"y\",\"type\":\"scatter\"},{\"customdata\":[[2982.0,250.0,\"46\"],[202.0,152.0,\"46\"],[169.0,135.0,\"46\"],[138.0,117.0,\"46\"],[115.0,105.0,\"46\"],[93.0,97.0,\"46\"],[80.0,87.0,\"46\"],[66.0,80.0,\"46\"],[57.0,71.0,\"46\"],[51.0,65.0,\"46\"],[41.0,52.0,\"46\"],[1589.0,249.0,\"46\"],[33.0,46.0,\"46\"],[1075.0,245.0,\"46\"],[757.0,239.0,\"46\"],[592.0,232.0,\"46\"],[467.0,220.0,\"46\"],[371.0,211.0,\"46\"],[304.0,193.0,\"46\"],[259.0,180.0,\"46\"]],\"hovertemplate\":\"Motif Id=%{customdata[2]}\\u003cbr\\u003eM - synapse_threshold=%{x}\\u003cbr\\u003eZ score=%{y}\\u003cbr\\u003eedges=%{customdata[0]}\\u003cbr\\u003enodes=%{customdata[1]}\\u003cextra\\u003e\\u003c\\u002fextra\\u003e\",\"legendgroup\":\"46\",\"marker\":{\"color\":\"#19d3f3\",\"symbol\":\"circle\"},\"mode\":\"markers\",\"name\":\"46\",\"orientation\":\"v\",\"showlegend\":true,\"x\":[1.0,10.0,11.0,12.0,13.0,14.0,15.0,16.0,17.0,18.0,19.0,2.0,20.0,3.0,4.0,5.0,6.0,7.0,8.0,9.0],\"xaxis\":\"x\",\"y\":[47.87618694034417,5.2983189055956075,8.561730439128103,8.856838839464483,8.573381317434837,-0.2481118850920685,-0.23122695089517292,-0.11386818846191439,-0.112333378713562,-0.12751534261266764,-0.10492264806007326,40.57353674318089,0.0,33.39954541563602,21.025069063406892,13.236353198924931,17.197995315926622,11.135555017539946,9.612332310092917,9.134391528586056],\"yaxis\":\"y\",\"type\":\"scatter\"},{\"customdata\":[[2982.0,250.0,\"74\"],[202.0,152.0,\"74\"],[169.0,135.0,\"74\"],[138.0,117.0,\"74\"],[115.0,105.0,\"74\"],[93.0,97.0,\"74\"],[80.0,87.0,\"74\"],[66.0,80.0,\"74\"],[57.0,71.0,\"74\"],[51.0,65.0,\"74\"],[41.0,52.0,\"74\"],[1589.0,249.0,\"74\"],[33.0,46.0,\"74\"],[1075.0,245.0,\"74\"],[757.0,239.0,\"74\"],[592.0,232.0,\"74\"],[467.0,220.0,\"74\"],[371.0,211.0,\"74\"],[304.0,193.0,\"74\"],[259.0,180.0,\"74\"]],\"hovertemplate\":\"Motif Id=%{customdata[2]}\\u003cbr\\u003eM - synapse_threshold=%{x}\\u003cbr\\u003eZ score=%{y}\\u003cbr\\u003eedges=%{customdata[0]}\\u003cbr\\u003enodes=%{customdata[1]}\\u003cextra\\u003e\\u003c\\u002fextra\\u003e\",\"legendgroup\":\"74\",\"marker\":{\"color\":\"#FF6692\",\"symbol\":\"circle\"},\"mode\":\"markers\",\"name\":\"74\",\"orientation\":\"v\",\"showlegend\":true,\"x\":[1.0,10.0,11.0,12.0,13.0,14.0,15.0,16.0,17.0,18.0,19.0,2.0,20.0,3.0,4.0,5.0,6.0,7.0,8.0,9.0],\"xaxis\":\"x\",\"y\":[13.649159753887039,3.3118761866927104,2.4269140761158794,1.576340179601286,2.2182264183962563,1.4477286308324067,1.2950791376804927,0.729295055686722,1.0786597577556654,1.0876386125496256,0.9495042121155283,8.41339410731308,-0.13916893275819883,6.878448420403953,4.638348283927874,4.681712536623187,3.4636837573698323,3.6626770408976967,3.1327201681031904,3.3120595412279186],\"yaxis\":\"y\",\"type\":\"scatter\"},{\"customdata\":[[2982.0,250.0,\"78\"],[202.0,152.0,\"78\"],[169.0,135.0,\"78\"],[138.0,117.0,\"78\"],[115.0,105.0,\"78\"],[93.0,97.0,\"78\"],[80.0,87.0,\"78\"],[66.0,80.0,\"78\"],[57.0,71.0,\"78\"],[51.0,65.0,\"78\"],[41.0,52.0,\"78\"],[1589.0,249.0,\"78\"],[33.0,46.0,\"78\"],[1075.0,245.0,\"78\"],[757.0,239.0,\"78\"],[592.0,232.0,\"78\"],[467.0,220.0,\"78\"],[371.0,211.0,\"78\"],[304.0,193.0,\"78\"],[259.0,180.0,\"78\"]],\"hovertemplate\":\"Motif Id=%{customdata[2]}\\u003cbr\\u003eM - synapse_threshold=%{x}\\u003cbr\\u003eZ score=%{y}\\u003cbr\\u003eedges=%{customdata[0]}\\u003cbr\\u003enodes=%{customdata[1]}\\u003cextra\\u003e\\u003c\\u002fextra\\u003e\",\"legendgroup\":\"78\",\"marker\":{\"color\":\"#B6E880\",\"symbol\":\"circle\"},\"mode\":\"markers\",\"name\":\"78\",\"orientation\":\"v\",\"showlegend\":true,\"x\":[1.0,10.0,11.0,12.0,13.0,14.0,15.0,16.0,17.0,18.0,19.0,2.0,20.0,3.0,4.0,5.0,6.0,7.0,8.0,9.0],\"xaxis\":\"x\",\"y\":[36.71108375389786,10.253108251038922,2.5206166593521706,5.4464772169233635,5.5333187477332135,4.504830430624028,-0.13981680465000706,-0.05485459945386285,-0.03163859985841663,-0.06337242505244779,-0.07088812050083358,16.47661073447522,0.0,13.878753686756975,5.751795148387336,6.513842985591707,9.732735913636024,11.344565084906915,8.06579906330691,9.267907493826776],\"yaxis\":\"y\",\"type\":\"scatter\"},{\"customdata\":[[2982.0,250.0,\"98\"],[202.0,152.0,\"98\"],[169.0,135.0,\"98\"],[138.0,117.0,\"98\"],[115.0,105.0,\"98\"],[93.0,97.0,\"98\"],[80.0,87.0,\"98\"],[66.0,80.0,\"98\"],[57.0,71.0,\"98\"],[51.0,65.0,\"98\"],[41.0,52.0,\"98\"],[1589.0,249.0,\"98\"],[33.0,46.0,\"98\"],[1075.0,245.0,\"98\"],[757.0,239.0,\"98\"],[592.0,232.0,\"98\"],[467.0,220.0,\"98\"],[371.0,211.0,\"98\"],[304.0,193.0,\"98\"],[259.0,180.0,\"98\"]],\"hovertemplate\":\"Motif Id=%{customdata[2]}\\u003cbr\\u003eM - synapse_threshold=%{x}\\u003cbr\\u003eZ score=%{y}\\u003cbr\\u003eedges=%{customdata[0]}\\u003cbr\\u003enodes=%{customdata[1]}\\u003cextra\\u003e\\u003c\\u002fextra\\u003e\",\"legendgroup\":\"98\",\"marker\":{\"color\":\"#FF97FF\",\"symbol\":\"circle\"},\"mode\":\"markers\",\"name\":\"98\",\"orientation\":\"v\",\"showlegend\":true,\"x\":[1.0,10.0,11.0,12.0,13.0,14.0,15.0,16.0,17.0,18.0,19.0,2.0,20.0,3.0,4.0,5.0,6.0,7.0,8.0,9.0],\"xaxis\":\"x\",\"y\":[-16.617686426890657,-0.943066554753875,-0.7810226159133271,-0.603010154047336,-0.5092527012862501,-0.386591273268488,2.4403183035214826,-0.21866270583345174,-0.20676766567910423,-0.17318976288085866,-0.21453462331873252,-8.68049434370401,-0.08396038004871989,-5.778151846304837,-3.8300159682077686,-3.201125993657554,0.47788029343138855,-1.2595311223956926,-1.4592517734942556,-1.2230541612216403],\"yaxis\":\"y\",\"type\":\"scatter\"},{\"customdata\":[[2982.0,250.0,\"102\"],[202.0,152.0,\"102\"],[169.0,135.0,\"102\"],[138.0,117.0,\"102\"],[115.0,105.0,\"102\"],[93.0,97.0,\"102\"],[80.0,87.0,\"102\"],[66.0,80.0,\"102\"],[57.0,71.0,\"102\"],[51.0,65.0,\"102\"],[41.0,52.0,\"102\"],[1589.0,249.0,\"102\"],[33.0,46.0,\"102\"],[1075.0,245.0,\"102\"],[757.0,239.0,\"102\"],[592.0,232.0,\"102\"],[467.0,220.0,\"102\"],[371.0,211.0,\"102\"],[304.0,193.0,\"102\"],[259.0,180.0,\"102\"]],\"hovertemplate\":\"Motif Id=%{customdata[2]}\\u003cbr\\u003eM - synapse_threshold=%{x}\\u003cbr\\u003eZ score=%{y}\\u003cbr\\u003eedges=%{customdata[0]}\\u003cbr\\u003enodes=%{customdata[1]}\\u003cextra\\u003e\\u003c\\u002fextra\\u003e\",\"legendgroup\":\"102\",\"marker\":{\"color\":\"#FECB52\",\"symbol\":\"circle\"},\"mode\":\"markers\",\"name\":\"102\",\"orientation\":\"v\",\"showlegend\":true,\"x\":[1.0,10.0,11.0,12.0,13.0,14.0,15.0,16.0,17.0,18.0,19.0,2.0,20.0,3.0,4.0,5.0,6.0,7.0,8.0,9.0],\"xaxis\":\"x\",\"y\":[4.70727706705934,-0.55962076543112,-0.4805444323330146,-0.3529805508593287,-0.30815191118091906,4.776178513007948,-0.20069785042142732,-0.04476614810358452,-0.04246464226290538,-0.07088812050083357,-0.06337242505244779,3.372352309666962,0.0,4.231998460277443,4.379224639416852,4.842032804131877,-0.13703539921661986,-0.022043416519686495,-0.7708833169545805,-0.6507918357417588],\"yaxis\":\"y\",\"type\":\"scatter\"},{\"customdata\":[[2982.0,250.0,\"108\"],[202.0,152.0,\"108\"],[169.0,135.0,\"108\"],[138.0,117.0,\"108\"],[115.0,105.0,\"108\"],[93.0,97.0,\"108\"],[80.0,87.0,\"108\"],[66.0,80.0,\"108\"],[57.0,71.0,\"108\"],[51.0,65.0,\"108\"],[41.0,52.0,\"108\"],[1589.0,249.0,\"108\"],[33.0,46.0,\"108\"],[1075.0,245.0,\"108\"],[757.0,239.0,\"108\"],[592.0,232.0,\"108\"],[467.0,220.0,\"108\"],[371.0,211.0,\"108\"],[304.0,193.0,\"108\"],[259.0,180.0,\"108\"]],\"hovertemplate\":\"Motif Id=%{customdata[2]}\\u003cbr\\u003eM - synapse_threshold=%{x}\\u003cbr\\u003eZ score=%{y}\\u003cbr\\u003eedges=%{customdata[0]}\\u003cbr\\u003enodes=%{customdata[1]}\\u003cextra\\u003e\\u003c\\u002fextra\\u003e\",\"legendgroup\":\"108\",\"marker\":{\"color\":\"#636efa\",\"symbol\":\"circle\"},\"mode\":\"markers\",\"name\":\"108\",\"orientation\":\"v\",\"showlegend\":true,\"x\":[1.0,10.0,11.0,12.0,13.0,14.0,15.0,16.0,17.0,18.0,19.0,2.0,20.0,3.0,4.0,5.0,6.0,7.0,8.0,9.0],\"xaxis\":\"x\",\"y\":[25.664480601910235,2.312509668764921,3.654583650571511,5.105379197979542,4.453666973119295,-0.13772614261276048,-0.13150664608837076,-0.08396038004871989,-0.04476614810358452,-0.07088812050083357,-0.05485459945386285,23.591919341162182,0.0,15.027490341259432,11.678488801010486,12.619338266396193,11.21362222244702,16.221185915772097,6.747678402750891,7.537063011128544],\"yaxis\":\"y\",\"type\":\"scatter\"},{\"customdata\":[[2982.0,250.0,\"110\"],[202.0,152.0,\"110\"],[169.0,135.0,\"110\"],[138.0,117.0,\"110\"],[115.0,105.0,\"110\"],[93.0,97.0,\"110\"],[80.0,87.0,\"110\"],[66.0,80.0,\"110\"],[57.0,71.0,\"110\"],[51.0,65.0,\"110\"],[41.0,52.0,\"110\"],[1589.0,249.0,\"110\"],[33.0,46.0,\"110\"],[1075.0,245.0,\"110\"],[757.0,239.0,\"110\"],[592.0,232.0,\"110\"],[467.0,220.0,\"110\"],[371.0,211.0,\"110\"],[304.0,193.0,\"110\"],[259.0,180.0,\"110\"]],\"hovertemplate\":\"Motif Id=%{customdata[2]}\\u003cbr\\u003eM - synapse_threshold=%{x}\\u003cbr\\u003eZ score=%{y}\\u003cbr\\u003eedges=%{customdata[0]}\\u003cbr\\u003enodes=%{customdata[1]}\\u003cextra\\u003e\\u003c\\u002fextra\\u003e\",\"legendgroup\":\"110\",\"marker\":{\"color\":\"#EF553B\",\"symbol\":\"circle\"},\"mode\":\"markers\",\"name\":\"110\",\"orientation\":\"v\",\"showlegend\":true,\"x\":[1.0,10.0,11.0,12.0,13.0,14.0,15.0,16.0,17.0,18.0,19.0,2.0,20.0,3.0,4.0,5.0,6.0,7.0,8.0,9.0],\"xaxis\":\"x\",\"y\":[50.19148551459359,12.536624586327793,9.751364464057891,16.903505095016452,19.069543413049182,-0.04476614810358452,-0.05485459945386285,0.0,0.0,0.0,0.0,28.591058104384352,0.0,14.61440284427599,11.07206641658374,8.467742732607002,4.250432715458599,4.980057025309045,7.757864523108939,9.040409857033517],\"yaxis\":\"y\",\"type\":\"scatter\"},{\"customdata\":[[2982.0,250.0,\"238\"],[202.0,152.0,\"238\"],[169.0,135.0,\"238\"],[138.0,117.0,\"238\"],[115.0,105.0,\"238\"],[93.0,97.0,\"238\"],[80.0,87.0,\"238\"],[66.0,80.0,\"238\"],[57.0,71.0,\"238\"],[51.0,65.0,\"238\"],[41.0,52.0,\"238\"],[1589.0,249.0,\"238\"],[33.0,46.0,\"238\"],[1075.0,245.0,\"238\"],[757.0,239.0,\"238\"],[592.0,232.0,\"238\"],[467.0,220.0,\"238\"],[371.0,211.0,\"238\"],[304.0,193.0,\"238\"],[259.0,180.0,\"238\"]],\"hovertemplate\":\"Motif Id=%{customdata[2]}\\u003cbr\\u003eM - synapse_threshold=%{x}\\u003cbr\\u003eZ score=%{y}\\u003cbr\\u003eedges=%{customdata[0]}\\u003cbr\\u003enodes=%{customdata[1]}\\u003cextra\\u003e\\u003c\\u002fextra\\u003e\",\"legendgroup\":\"238\",\"marker\":{\"color\":\"#00cc96\",\"symbol\":\"circle\"},\"mode\":\"markers\",\"name\":\"238\",\"orientation\":\"v\",\"showlegend\":true,\"x\":[1.0,10.0,11.0,12.0,13.0,14.0,15.0,16.0,17.0,18.0,19.0,2.0,20.0,3.0,4.0,5.0,6.0,7.0,8.0,9.0],\"xaxis\":\"x\",\"y\":[103.97561680276497,44.721381955480936,31.606961258558215,0.0,0.0,0.0,0.0,0.0,0.0,0.0,0.0,57.5745143168837,0.0,56.093256082196596,62.46506595409653,59.88527184086443,64.66655430857227,47.46594636428339,63.245561116974834,44.721381955480936],\"yaxis\":\"y\",\"type\":\"scatter\"}],                        {\"template\":{\"data\":{\"histogram2dcontour\":[{\"type\":\"histogram2dcontour\",\"colorbar\":{\"outlinewidth\":0,\"ticks\":\"\"},\"colorscale\":[[0.0,\"#0d0887\"],[0.1111111111111111,\"#46039f\"],[0.2222222222222222,\"#7201a8\"],[0.3333333333333333,\"#9c179e\"],[0.4444444444444444,\"#bd3786\"],[0.5555555555555556,\"#d8576b\"],[0.6666666666666666,\"#ed7953\"],[0.7777777777777778,\"#fb9f3a\"],[0.8888888888888888,\"#fdca26\"],[1.0,\"#f0f921\"]]}],\"choropleth\":[{\"type\":\"choropleth\",\"colorbar\":{\"outlinewidth\":0,\"ticks\":\"\"}}],\"histogram2d\":[{\"type\":\"histogram2d\",\"colorbar\":{\"outlinewidth\":0,\"ticks\":\"\"},\"colorscale\":[[0.0,\"#0d0887\"],[0.1111111111111111,\"#46039f\"],[0.2222222222222222,\"#7201a8\"],[0.3333333333333333,\"#9c179e\"],[0.4444444444444444,\"#bd3786\"],[0.5555555555555556,\"#d8576b\"],[0.6666666666666666,\"#ed7953\"],[0.7777777777777778,\"#fb9f3a\"],[0.8888888888888888,\"#fdca26\"],[1.0,\"#f0f921\"]]}],\"heatmap\":[{\"type\":\"heatmap\",\"colorbar\":{\"outlinewidth\":0,\"ticks\":\"\"},\"colorscale\":[[0.0,\"#0d0887\"],[0.1111111111111111,\"#46039f\"],[0.2222222222222222,\"#7201a8\"],[0.3333333333333333,\"#9c179e\"],[0.4444444444444444,\"#bd3786\"],[0.5555555555555556,\"#d8576b\"],[0.6666666666666666,\"#ed7953\"],[0.7777777777777778,\"#fb9f3a\"],[0.8888888888888888,\"#fdca26\"],[1.0,\"#f0f921\"]]}],\"heatmapgl\":[{\"type\":\"heatmapgl\",\"colorbar\":{\"outlinewidth\":0,\"ticks\":\"\"},\"colorscale\":[[0.0,\"#0d0887\"],[0.1111111111111111,\"#46039f\"],[0.2222222222222222,\"#7201a8\"],[0.3333333333333333,\"#9c179e\"],[0.4444444444444444,\"#bd3786\"],[0.5555555555555556,\"#d8576b\"],[0.6666666666666666,\"#ed7953\"],[0.7777777777777778,\"#fb9f3a\"],[0.8888888888888888,\"#fdca26\"],[1.0,\"#f0f921\"]]}],\"contourcarpet\":[{\"type\":\"contourcarpet\",\"colorbar\":{\"outlinewidth\":0,\"ticks\":\"\"}}],\"contour\":[{\"type\":\"contour\",\"colorbar\":{\"outlinewidth\":0,\"ticks\":\"\"},\"colorscale\":[[0.0,\"#0d0887\"],[0.1111111111111111,\"#46039f\"],[0.2222222222222222,\"#7201a8\"],[0.3333333333333333,\"#9c179e\"],[0.4444444444444444,\"#bd3786\"],[0.5555555555555556,\"#d8576b\"],[0.6666666666666666,\"#ed7953\"],[0.7777777777777778,\"#fb9f3a\"],[0.8888888888888888,\"#fdca26\"],[1.0,\"#f0f921\"]]}],\"surface\":[{\"type\":\"surface\",\"colorbar\":{\"outlinewidth\":0,\"ticks\":\"\"},\"colorscale\":[[0.0,\"#0d0887\"],[0.1111111111111111,\"#46039f\"],[0.2222222222222222,\"#7201a8\"],[0.3333333333333333,\"#9c179e\"],[0.4444444444444444,\"#bd3786\"],[0.5555555555555556,\"#d8576b\"],[0.6666666666666666,\"#ed7953\"],[0.7777777777777778,\"#fb9f3a\"],[0.8888888888888888,\"#fdca26\"],[1.0,\"#f0f921\"]]}],\"mesh3d\":[{\"type\":\"mesh3d\",\"colorbar\":{\"outlinewidth\":0,\"ticks\":\"\"}}],\"scatter\":[{\"fillpattern\":{\"fillmode\":\"overlay\",\"size\":10,\"solidity\":0.2},\"type\":\"scatter\"}],\"parcoords\":[{\"type\":\"parcoords\",\"line\":{\"colorbar\":{\"outlinewidth\":0,\"ticks\":\"\"}}}],\"scatterpolargl\":[{\"type\":\"scatterpolargl\",\"marker\":{\"colorbar\":{\"outlinewidth\":0,\"ticks\":\"\"}}}],\"bar\":[{\"error_x\":{\"color\":\"#2a3f5f\"},\"error_y\":{\"color\":\"#2a3f5f\"},\"marker\":{\"line\":{\"color\":\"#E5ECF6\",\"width\":0.5},\"pattern\":{\"fillmode\":\"overlay\",\"size\":10,\"solidity\":0.2}},\"type\":\"bar\"}],\"scattergeo\":[{\"type\":\"scattergeo\",\"marker\":{\"colorbar\":{\"outlinewidth\":0,\"ticks\":\"\"}}}],\"scatterpolar\":[{\"type\":\"scatterpolar\",\"marker\":{\"colorbar\":{\"outlinewidth\":0,\"ticks\":\"\"}}}],\"histogram\":[{\"marker\":{\"pattern\":{\"fillmode\":\"overlay\",\"size\":10,\"solidity\":0.2}},\"type\":\"histogram\"}],\"scattergl\":[{\"type\":\"scattergl\",\"marker\":{\"colorbar\":{\"outlinewidth\":0,\"ticks\":\"\"}}}],\"scatter3d\":[{\"type\":\"scatter3d\",\"line\":{\"colorbar\":{\"outlinewidth\":0,\"ticks\":\"\"}},\"marker\":{\"colorbar\":{\"outlinewidth\":0,\"ticks\":\"\"}}}],\"scattermapbox\":[{\"type\":\"scattermapbox\",\"marker\":{\"colorbar\":{\"outlinewidth\":0,\"ticks\":\"\"}}}],\"scatterternary\":[{\"type\":\"scatterternary\",\"marker\":{\"colorbar\":{\"outlinewidth\":0,\"ticks\":\"\"}}}],\"scattercarpet\":[{\"type\":\"scattercarpet\",\"marker\":{\"colorbar\":{\"outlinewidth\":0,\"ticks\":\"\"}}}],\"carpet\":[{\"aaxis\":{\"endlinecolor\":\"#2a3f5f\",\"gridcolor\":\"white\",\"linecolor\":\"white\",\"minorgridcolor\":\"white\",\"startlinecolor\":\"#2a3f5f\"},\"baxis\":{\"endlinecolor\":\"#2a3f5f\",\"gridcolor\":\"white\",\"linecolor\":\"white\",\"minorgridcolor\":\"white\",\"startlinecolor\":\"#2a3f5f\"},\"type\":\"carpet\"}],\"table\":[{\"cells\":{\"fill\":{\"color\":\"#EBF0F8\"},\"line\":{\"color\":\"white\"}},\"header\":{\"fill\":{\"color\":\"#C8D4E3\"},\"line\":{\"color\":\"white\"}},\"type\":\"table\"}],\"barpolar\":[{\"marker\":{\"line\":{\"color\":\"#E5ECF6\",\"width\":0.5},\"pattern\":{\"fillmode\":\"overlay\",\"size\":10,\"solidity\":0.2}},\"type\":\"barpolar\"}],\"pie\":[{\"automargin\":true,\"type\":\"pie\"}]},\"layout\":{\"autotypenumbers\":\"strict\",\"colorway\":[\"#636efa\",\"#EF553B\",\"#00cc96\",\"#ab63fa\",\"#FFA15A\",\"#19d3f3\",\"#FF6692\",\"#B6E880\",\"#FF97FF\",\"#FECB52\"],\"font\":{\"color\":\"#2a3f5f\"},\"hovermode\":\"closest\",\"hoverlabel\":{\"align\":\"left\"},\"paper_bgcolor\":\"white\",\"plot_bgcolor\":\"#E5ECF6\",\"polar\":{\"bgcolor\":\"#E5ECF6\",\"angularaxis\":{\"gridcolor\":\"white\",\"linecolor\":\"white\",\"ticks\":\"\"},\"radialaxis\":{\"gridcolor\":\"white\",\"linecolor\":\"white\",\"ticks\":\"\"}},\"ternary\":{\"bgcolor\":\"#E5ECF6\",\"aaxis\":{\"gridcolor\":\"white\",\"linecolor\":\"white\",\"ticks\":\"\"},\"baxis\":{\"gridcolor\":\"white\",\"linecolor\":\"white\",\"ticks\":\"\"},\"caxis\":{\"gridcolor\":\"white\",\"linecolor\":\"white\",\"ticks\":\"\"}},\"coloraxis\":{\"colorbar\":{\"outlinewidth\":0,\"ticks\":\"\"}},\"colorscale\":{\"sequential\":[[0.0,\"#0d0887\"],[0.1111111111111111,\"#46039f\"],[0.2222222222222222,\"#7201a8\"],[0.3333333333333333,\"#9c179e\"],[0.4444444444444444,\"#bd3786\"],[0.5555555555555556,\"#d8576b\"],[0.6666666666666666,\"#ed7953\"],[0.7777777777777778,\"#fb9f3a\"],[0.8888888888888888,\"#fdca26\"],[1.0,\"#f0f921\"]],\"sequentialminus\":[[0.0,\"#0d0887\"],[0.1111111111111111,\"#46039f\"],[0.2222222222222222,\"#7201a8\"],[0.3333333333333333,\"#9c179e\"],[0.4444444444444444,\"#bd3786\"],[0.5555555555555556,\"#d8576b\"],[0.6666666666666666,\"#ed7953\"],[0.7777777777777778,\"#fb9f3a\"],[0.8888888888888888,\"#fdca26\"],[1.0,\"#f0f921\"]],\"diverging\":[[0,\"#8e0152\"],[0.1,\"#c51b7d\"],[0.2,\"#de77ae\"],[0.3,\"#f1b6da\"],[0.4,\"#fde0ef\"],[0.5,\"#f7f7f7\"],[0.6,\"#e6f5d0\"],[0.7,\"#b8e186\"],[0.8,\"#7fbc41\"],[0.9,\"#4d9221\"],[1,\"#276419\"]]},\"xaxis\":{\"gridcolor\":\"white\",\"linecolor\":\"white\",\"ticks\":\"\",\"title\":{\"standoff\":15},\"zerolinecolor\":\"white\",\"automargin\":true,\"zerolinewidth\":2},\"yaxis\":{\"gridcolor\":\"white\",\"linecolor\":\"white\",\"ticks\":\"\",\"title\":{\"standoff\":15},\"zerolinecolor\":\"white\",\"automargin\":true,\"zerolinewidth\":2},\"scene\":{\"xaxis\":{\"backgroundcolor\":\"#E5ECF6\",\"gridcolor\":\"white\",\"linecolor\":\"white\",\"showbackground\":true,\"ticks\":\"\",\"zerolinecolor\":\"white\",\"gridwidth\":2},\"yaxis\":{\"backgroundcolor\":\"#E5ECF6\",\"gridcolor\":\"white\",\"linecolor\":\"white\",\"showbackground\":true,\"ticks\":\"\",\"zerolinecolor\":\"white\",\"gridwidth\":2},\"zaxis\":{\"backgroundcolor\":\"#E5ECF6\",\"gridcolor\":\"white\",\"linecolor\":\"white\",\"showbackground\":true,\"ticks\":\"\",\"zerolinecolor\":\"white\",\"gridwidth\":2}},\"shapedefaults\":{\"line\":{\"color\":\"#2a3f5f\"}},\"annotationdefaults\":{\"arrowcolor\":\"#2a3f5f\",\"arrowhead\":0,\"arrowwidth\":1},\"geo\":{\"bgcolor\":\"white\",\"landcolor\":\"#E5ECF6\",\"subunitcolor\":\"white\",\"showland\":true,\"showlakes\":true,\"lakecolor\":\"white\"},\"title\":{\"x\":0.05},\"mapbox\":{\"style\":\"light\"}}},\"xaxis\":{\"anchor\":\"y\",\"domain\":[0.0,1.0],\"title\":{\"text\":\"M - synapse_threshold\"}},\"yaxis\":{\"anchor\":\"x\",\"domain\":[0.0,1.0],\"title\":{\"text\":\"Z score\"}},\"legend\":{\"title\":{\"text\":\"Motif Id\"},\"tracegroupgap\":0},\"title\":{\"text\":\"Z-score as a function of M. network: cook_si2\"}},                        {\"responsive\": true}                    ).then(function(){\n",
       "                            \n",
       "var gd = document.getElementById('17467b02-cdca-4499-af74-26a996eaec64');\n",
       "var x = new MutationObserver(function (mutations, observer) {{\n",
       "        var display = window.getComputedStyle(gd).display;\n",
       "        if (!display || display === 'none') {{\n",
       "            console.log([gd, 'removed!']);\n",
       "            Plotly.purge(gd);\n",
       "            observer.disconnect();\n",
       "        }}\n",
       "}});\n",
       "\n",
       "// Listen for the removal of the full notebook cells\n",
       "var notebookContainer = gd.closest('#notebook-container');\n",
       "if (notebookContainer) {{\n",
       "    x.observe(notebookContainer, {childList: true});\n",
       "}}\n",
       "\n",
       "// Listen for the clearing of the current output cell\n",
       "var outputEl = gd.closest('.output');\n",
       "if (outputEl) {{\n",
       "    x.observe(outputEl, {childList: true});\n",
       "}}\n",
       "\n",
       "                        })                };                });            </script>        </div>"
      ]
     },
     "metadata": {},
     "output_type": "display_data"
    },
    {
     "data": {
      "text/html": [
       "<div>\n",
       "<style scoped>\n",
       "    .dataframe tbody tr th:only-of-type {\n",
       "        vertical-align: middle;\n",
       "    }\n",
       "\n",
       "    .dataframe tbody tr th {\n",
       "        vertical-align: top;\n",
       "    }\n",
       "\n",
       "    .dataframe thead th {\n",
       "        text-align: right;\n",
       "    }\n",
       "</style>\n",
       "<table border=\"1\" class=\"dataframe\">\n",
       "  <thead>\n",
       "    <tr style=\"text-align: right;\">\n",
       "      <th></th>\n",
       "      <th>m</th>\n",
       "      <th>edges</th>\n",
       "      <th>nodes</th>\n",
       "      <th>variable</th>\n",
       "      <th>value</th>\n",
       "    </tr>\n",
       "  </thead>\n",
       "  <tbody>\n",
       "    <tr>\n",
       "      <th>0</th>\n",
       "      <td>1.0</td>\n",
       "      <td>2982.0</td>\n",
       "      <td>250.0</td>\n",
       "      <td>fan_out-6</td>\n",
       "      <td>-37.448764</td>\n",
       "    </tr>\n",
       "    <tr>\n",
       "      <th>1</th>\n",
       "      <td>10.0</td>\n",
       "      <td>202.0</td>\n",
       "      <td>152.0</td>\n",
       "      <td>fan_out-6</td>\n",
       "      <td>-6.058278</td>\n",
       "    </tr>\n",
       "    <tr>\n",
       "      <th>2</th>\n",
       "      <td>11.0</td>\n",
       "      <td>169.0</td>\n",
       "      <td>135.0</td>\n",
       "      <td>fan_out-6</td>\n",
       "      <td>-4.659356</td>\n",
       "    </tr>\n",
       "    <tr>\n",
       "      <th>3</th>\n",
       "      <td>12.0</td>\n",
       "      <td>138.0</td>\n",
       "      <td>117.0</td>\n",
       "      <td>fan_out-6</td>\n",
       "      <td>-4.716414</td>\n",
       "    </tr>\n",
       "    <tr>\n",
       "      <th>4</th>\n",
       "      <td>13.0</td>\n",
       "      <td>115.0</td>\n",
       "      <td>105.0</td>\n",
       "      <td>fan_out-6</td>\n",
       "      <td>-4.397415</td>\n",
       "    </tr>\n",
       "    <tr>\n",
       "      <th>...</th>\n",
       "      <td>...</td>\n",
       "      <td>...</td>\n",
       "      <td>...</td>\n",
       "      <td>...</td>\n",
       "      <td>...</td>\n",
       "    </tr>\n",
       "    <tr>\n",
       "      <th>255</th>\n",
       "      <td>5.0</td>\n",
       "      <td>592.0</td>\n",
       "      <td>232.0</td>\n",
       "      <td>238</td>\n",
       "      <td>59.885272</td>\n",
       "    </tr>\n",
       "    <tr>\n",
       "      <th>256</th>\n",
       "      <td>6.0</td>\n",
       "      <td>467.0</td>\n",
       "      <td>220.0</td>\n",
       "      <td>238</td>\n",
       "      <td>64.666554</td>\n",
       "    </tr>\n",
       "    <tr>\n",
       "      <th>257</th>\n",
       "      <td>7.0</td>\n",
       "      <td>371.0</td>\n",
       "      <td>211.0</td>\n",
       "      <td>238</td>\n",
       "      <td>47.465946</td>\n",
       "    </tr>\n",
       "    <tr>\n",
       "      <th>258</th>\n",
       "      <td>8.0</td>\n",
       "      <td>304.0</td>\n",
       "      <td>193.0</td>\n",
       "      <td>238</td>\n",
       "      <td>63.245561</td>\n",
       "    </tr>\n",
       "    <tr>\n",
       "      <th>259</th>\n",
       "      <td>9.0</td>\n",
       "      <td>259.0</td>\n",
       "      <td>180.0</td>\n",
       "      <td>238</td>\n",
       "      <td>44.721382</td>\n",
       "    </tr>\n",
       "  </tbody>\n",
       "</table>\n",
       "<p>260 rows × 5 columns</p>\n",
       "</div>"
      ],
      "text/plain": [
       "        m   edges  nodes   variable      value\n",
       "0     1.0  2982.0  250.0  fan_out-6 -37.448764\n",
       "1    10.0   202.0  152.0  fan_out-6  -6.058278\n",
       "2    11.0   169.0  135.0  fan_out-6  -4.659356\n",
       "3    12.0   138.0  117.0  fan_out-6  -4.716414\n",
       "4    13.0   115.0  105.0  fan_out-6  -4.397415\n",
       "..    ...     ...    ...        ...        ...\n",
       "255   5.0   592.0  232.0        238  59.885272\n",
       "256   6.0   467.0  220.0        238  64.666554\n",
       "257   7.0   371.0  211.0        238  47.465946\n",
       "258   8.0   304.0  193.0        238  63.245561\n",
       "259   9.0   259.0  180.0        238  44.721382\n",
       "\n",
       "[260 rows x 5 columns]"
      ]
     },
     "execution_count": 73,
     "metadata": {},
     "output_type": "execute_result"
    }
   ],
   "source": [
    "read_z_scores_as_func_of_m('cook_si2')"
   ]
  },
  {
   "cell_type": "code",
   "execution_count": 74,
   "id": "6eaa7a19-d552-45db-a583-d3355a2ffde4",
   "metadata": {},
   "outputs": [
    {
     "data": {
      "application/vnd.plotly.v1+json": {
       "config": {
        "plotlyServerURL": "https://plot.ly"
       },
       "data": [
        {
         "customdata": [
          [
           1491,
           195,
           "fan_out-6"
          ],
          [
           221,
           143,
           "fan_out-6"
          ],
          [
           153,
           124,
           "fan_out-6"
          ],
          [
           151,
           122,
           "fan_out-6"
          ],
          [
           110,
           101,
           "fan_out-6"
          ],
          [
           108,
           99,
           "fan_out-6"
          ],
          [
           75,
           77,
           "fan_out-6"
          ],
          [
           74,
           75,
           "fan_out-6"
          ],
          [
           60,
           68,
           "fan_out-6"
          ],
          [
           59,
           66,
           "fan_out-6"
          ],
          [
           50,
           58,
           "fan_out-6"
          ],
          [
           1463,
           183,
           "fan_out-6"
          ],
          [
           50,
           58,
           "fan_out-6"
          ],
          [
           808,
           182,
           "fan_out-6"
          ],
          [
           804,
           182,
           "fan_out-6"
          ],
          [
           502,
           173,
           "fan_out-6"
          ],
          [
           497,
           173,
           "fan_out-6"
          ],
          [
           354,
           165,
           "fan_out-6"
          ],
          [
           349,
           163,
           "fan_out-6"
          ],
          [
           225,
           144,
           "fan_out-6"
          ]
         ],
         "hovertemplate": "Motif Id=%{customdata[2]}<br>M - synapse_threshold=%{x}<br>Z score=%{y}<br>edges=%{customdata[0]}<br>nodes=%{customdata[1]}<extra></extra>",
         "legendgroup": "fan_out-6",
         "marker": {
          "color": "#636efa",
          "symbol": "circle"
         },
         "mode": "markers",
         "name": "fan_out-6",
         "orientation": "v",
         "showlegend": true,
         "type": "scatter",
         "x": [
          1,
          10,
          11,
          12,
          13,
          14,
          15,
          16,
          17,
          18,
          19,
          2,
          20,
          3,
          4,
          5,
          6,
          7,
          8,
          9
         ],
         "xaxis": "x",
         "y": [
          -24.182305481883855,
          -4.546332689400443,
          -3.174077935320887,
          -3.0831722917579105,
          -2.9812512603095684,
          -3.054580304334993,
          -1.2509044946886845,
          -1.0388675554129967,
          -0.9602078125350456,
          -1.0704664432890278,
          -0.8191499465267775,
          -23.957801119636358,
          -0.6713320296074775,
          -16.85313451655337,
          -17.035472957734836,
          -9.601052053995994,
          -9.265637243151524,
          -7.51343546673672,
          -7.456637578347052,
          -4.630798086740404
         ],
         "yaxis": "y"
        },
        {
         "customdata": [
          [
           1491,
           195,
           "cascade-12"
          ],
          [
           221,
           143,
           "cascade-12"
          ],
          [
           153,
           124,
           "cascade-12"
          ],
          [
           151,
           122,
           "cascade-12"
          ],
          [
           110,
           101,
           "cascade-12"
          ],
          [
           108,
           99,
           "cascade-12"
          ],
          [
           75,
           77,
           "cascade-12"
          ],
          [
           74,
           75,
           "cascade-12"
          ],
          [
           60,
           68,
           "cascade-12"
          ],
          [
           59,
           66,
           "cascade-12"
          ],
          [
           50,
           58,
           "cascade-12"
          ],
          [
           1463,
           183,
           "cascade-12"
          ],
          [
           50,
           58,
           "cascade-12"
          ],
          [
           808,
           182,
           "cascade-12"
          ],
          [
           804,
           182,
           "cascade-12"
          ],
          [
           502,
           173,
           "cascade-12"
          ],
          [
           497,
           173,
           "cascade-12"
          ],
          [
           354,
           165,
           "cascade-12"
          ],
          [
           349,
           163,
           "cascade-12"
          ],
          [
           225,
           144,
           "cascade-12"
          ]
         ],
         "hovertemplate": "Motif Id=%{customdata[2]}<br>M - synapse_threshold=%{x}<br>Z score=%{y}<br>edges=%{customdata[0]}<br>nodes=%{customdata[1]}<extra></extra>",
         "legendgroup": "cascade-12",
         "marker": {
          "color": "#EF553B",
          "symbol": "circle"
         },
         "mode": "markers",
         "name": "cascade-12",
         "orientation": "v",
         "showlegend": true,
         "type": "scatter",
         "x": [
          1,
          10,
          11,
          12,
          13,
          14,
          15,
          16,
          17,
          18,
          19,
          2,
          20,
          3,
          4,
          5,
          6,
          7,
          8,
          9
         ],
         "xaxis": "x",
         "y": [
          -21.223526789287146,
          -3.8766047875371097,
          -3.1463083874139777,
          -2.999032986369904,
          -2.2259597928602664,
          -2.2976594562590686,
          -0.6102653336982641,
          -0.46030539322239267,
          -0.23642787118183312,
          -0.22721624984436894,
          -0.14696109599150783,
          -20.814776304418757,
          -0.10837633741240917,
          -14.283417661027993,
          -14.151536059996639,
          -8.053005146371428,
          -7.806156036725894,
          -6.395827416075812,
          -6.310564818376214,
          -3.810235393322702
         ],
         "yaxis": "y"
        },
        {
         "customdata": [
          [
           1491,
           195,
           "14"
          ],
          [
           221,
           143,
           "14"
          ],
          [
           153,
           124,
           "14"
          ],
          [
           151,
           122,
           "14"
          ],
          [
           110,
           101,
           "14"
          ],
          [
           108,
           99,
           "14"
          ],
          [
           75,
           77,
           "14"
          ],
          [
           74,
           75,
           "14"
          ],
          [
           60,
           68,
           "14"
          ],
          [
           59,
           66,
           "14"
          ],
          [
           50,
           58,
           "14"
          ],
          [
           1463,
           183,
           "14"
          ],
          [
           50,
           58,
           "14"
          ],
          [
           808,
           182,
           "14"
          ],
          [
           804,
           182,
           "14"
          ],
          [
           502,
           173,
           "14"
          ],
          [
           497,
           173,
           "14"
          ],
          [
           354,
           165,
           "14"
          ],
          [
           349,
           163,
           "14"
          ],
          [
           225,
           144,
           "14"
          ]
         ],
         "hovertemplate": "Motif Id=%{customdata[2]}<br>M - synapse_threshold=%{x}<br>Z score=%{y}<br>edges=%{customdata[0]}<br>nodes=%{customdata[1]}<extra></extra>",
         "legendgroup": "14",
         "marker": {
          "color": "#00cc96",
          "symbol": "circle"
         },
         "mode": "markers",
         "name": "14",
         "orientation": "v",
         "showlegend": true,
         "type": "scatter",
         "x": [
          1,
          10,
          11,
          12,
          13,
          14,
          15,
          16,
          17,
          18,
          19,
          2,
          20,
          3,
          4,
          5,
          6,
          7,
          8,
          9
         ],
         "xaxis": "x",
         "y": [
          13.165577650166659,
          2.5276070086151217,
          2.3673762312049433,
          2.2563647961759323,
          2.2454360326832825,
          2.27446801827753,
          0.7151319614136018,
          0.5496129352129892,
          -0.3383094833175801,
          -0.34719778121143313,
          -0.2928679022352362,
          12.926217733051324,
          -0.3246900906666681,
          7.4949315878723635,
          7.397483910563478,
          3.5044826207104016,
          3.2809485592499645,
          3.2038422005926925,
          3.182065979090219,
          2.4028681793605773
         ],
         "yaxis": "y"
        },
        {
         "customdata": [
          [
           1491,
           195,
           "fan_in-36"
          ],
          [
           221,
           143,
           "fan_in-36"
          ],
          [
           153,
           124,
           "fan_in-36"
          ],
          [
           151,
           122,
           "fan_in-36"
          ],
          [
           110,
           101,
           "fan_in-36"
          ],
          [
           108,
           99,
           "fan_in-36"
          ],
          [
           75,
           77,
           "fan_in-36"
          ],
          [
           74,
           75,
           "fan_in-36"
          ],
          [
           60,
           68,
           "fan_in-36"
          ],
          [
           59,
           66,
           "fan_in-36"
          ],
          [
           50,
           58,
           "fan_in-36"
          ],
          [
           1463,
           183,
           "fan_in-36"
          ],
          [
           50,
           58,
           "fan_in-36"
          ],
          [
           808,
           182,
           "fan_in-36"
          ],
          [
           804,
           182,
           "fan_in-36"
          ],
          [
           502,
           173,
           "fan_in-36"
          ],
          [
           497,
           173,
           "fan_in-36"
          ],
          [
           354,
           165,
           "fan_in-36"
          ],
          [
           349,
           163,
           "fan_in-36"
          ],
          [
           225,
           144,
           "fan_in-36"
          ]
         ],
         "hovertemplate": "Motif Id=%{customdata[2]}<br>M - synapse_threshold=%{x}<br>Z score=%{y}<br>edges=%{customdata[0]}<br>nodes=%{customdata[1]}<extra></extra>",
         "legendgroup": "fan_in-36",
         "marker": {
          "color": "#ab63fa",
          "symbol": "circle"
         },
         "mode": "markers",
         "name": "fan_in-36",
         "orientation": "v",
         "showlegend": true,
         "type": "scatter",
         "x": [
          1,
          10,
          11,
          12,
          13,
          14,
          15,
          16,
          17,
          18,
          19,
          2,
          20,
          3,
          4,
          5,
          6,
          7,
          8,
          9
         ],
         "xaxis": "x",
         "y": [
          -22.618284450723454,
          -4.661834032084163,
          -3.9450424392469694,
          -3.808931299706702,
          -2.4019925675481812,
          -2.4790656925251717,
          -0.7535632331303312,
          -0.600660478454316,
          -1.2660940103000107,
          -1.249498951038357,
          -0.9197821452714509,
          -22.23452381371256,
          -0.9420522501197853,
          -16.37632377126962,
          -16.0038091779058,
          -9.84697673006324,
          -9.72415184012823,
          -8.14876944934211,
          -7.949361936665317,
          -4.616740066271928
         ],
         "yaxis": "y"
        },
        {
         "customdata": [
          [
           1491,
           195,
           "feed_forward-38"
          ],
          [
           221,
           143,
           "feed_forward-38"
          ],
          [
           153,
           124,
           "feed_forward-38"
          ],
          [
           151,
           122,
           "feed_forward-38"
          ],
          [
           110,
           101,
           "feed_forward-38"
          ],
          [
           108,
           99,
           "feed_forward-38"
          ],
          [
           75,
           77,
           "feed_forward-38"
          ],
          [
           74,
           75,
           "feed_forward-38"
          ],
          [
           60,
           68,
           "feed_forward-38"
          ],
          [
           59,
           66,
           "feed_forward-38"
          ],
          [
           50,
           58,
           "feed_forward-38"
          ],
          [
           1463,
           183,
           "feed_forward-38"
          ],
          [
           50,
           58,
           "feed_forward-38"
          ],
          [
           808,
           182,
           "feed_forward-38"
          ],
          [
           804,
           182,
           "feed_forward-38"
          ],
          [
           502,
           173,
           "feed_forward-38"
          ],
          [
           497,
           173,
           "feed_forward-38"
          ],
          [
           354,
           165,
           "feed_forward-38"
          ],
          [
           349,
           163,
           "feed_forward-38"
          ],
          [
           225,
           144,
           "feed_forward-38"
          ]
         ],
         "hovertemplate": "Motif Id=%{customdata[2]}<br>M - synapse_threshold=%{x}<br>Z score=%{y}<br>edges=%{customdata[0]}<br>nodes=%{customdata[1]}<extra></extra>",
         "legendgroup": "feed_forward-38",
         "marker": {
          "color": "#FFA15A",
          "symbol": "circle"
         },
         "mode": "markers",
         "name": "feed_forward-38",
         "orientation": "v",
         "showlegend": true,
         "type": "scatter",
         "x": [
          1,
          10,
          11,
          12,
          13,
          14,
          15,
          16,
          17,
          18,
          19,
          2,
          20,
          3,
          4,
          5,
          6,
          7,
          8,
          9
         ],
         "xaxis": "x",
         "y": [
          1.9586062023470177,
          4.472633084299359,
          2.9575748342704955,
          2.8856906614818136,
          3.5953219213164633,
          3.317093808445306,
          2.1419209338403538,
          2.0924509564127693,
          2.867071261946338,
          2.948418121982598,
          2.114375218552187,
          1.9019474967343348,
          2.127103918837175,
          8.023445593546299,
          8.19396162581627,
          7.229167011408336,
          7.236771921187299,
          5.740029876736605,
          5.751091567774048,
          4.098389241660752
         ],
         "yaxis": "y"
        },
        {
         "customdata": [
          [
           1491,
           195,
           "46"
          ],
          [
           221,
           143,
           "46"
          ],
          [
           153,
           124,
           "46"
          ],
          [
           151,
           122,
           "46"
          ],
          [
           110,
           101,
           "46"
          ],
          [
           108,
           99,
           "46"
          ],
          [
           75,
           77,
           "46"
          ],
          [
           74,
           75,
           "46"
          ],
          [
           60,
           68,
           "46"
          ],
          [
           59,
           66,
           "46"
          ],
          [
           50,
           58,
           "46"
          ],
          [
           1463,
           183,
           "46"
          ],
          [
           50,
           58,
           "46"
          ],
          [
           808,
           182,
           "46"
          ],
          [
           804,
           182,
           "46"
          ],
          [
           502,
           173,
           "46"
          ],
          [
           497,
           173,
           "46"
          ],
          [
           354,
           165,
           "46"
          ],
          [
           349,
           163,
           "46"
          ],
          [
           225,
           144,
           "46"
          ]
         ],
         "hovertemplate": "Motif Id=%{customdata[2]}<br>M - synapse_threshold=%{x}<br>Z score=%{y}<br>edges=%{customdata[0]}<br>nodes=%{customdata[1]}<extra></extra>",
         "legendgroup": "46",
         "marker": {
          "color": "#19d3f3",
          "symbol": "circle"
         },
         "mode": "markers",
         "name": "46",
         "orientation": "v",
         "showlegend": true,
         "type": "scatter",
         "x": [
          1,
          10,
          11,
          12,
          13,
          14,
          15,
          16,
          17,
          18,
          19,
          2,
          20,
          3,
          4,
          5,
          6,
          7,
          8,
          9
         ],
         "xaxis": "x",
         "y": [
          31.113945913622068,
          0.9620501194562976,
          -0.45860954786949676,
          -0.4417357221761637,
          -0.3409536654873341,
          -0.35520396602693344,
          -0.23174799519734166,
          -0.2532404252238921,
          -0.09692852714332871,
          -0.06723348523552919,
          -0.07088812050083357,
          31.091201831214523,
          -0.08980265101338747,
          18.8122828061249,
          19.169285058970928,
          6.96729205966482,
          6.840481569405408,
          6.249792209200274,
          7.010478635591436,
          2.5512576415938626
         ],
         "yaxis": "y"
        },
        {
         "customdata": [
          [
           1491,
           195,
           "74"
          ],
          [
           221,
           143,
           "74"
          ],
          [
           153,
           124,
           "74"
          ],
          [
           151,
           122,
           "74"
          ],
          [
           110,
           101,
           "74"
          ],
          [
           108,
           99,
           "74"
          ],
          [
           75,
           77,
           "74"
          ],
          [
           74,
           75,
           "74"
          ],
          [
           60,
           68,
           "74"
          ],
          [
           59,
           66,
           "74"
          ],
          [
           50,
           58,
           "74"
          ],
          [
           1463,
           183,
           "74"
          ],
          [
           50,
           58,
           "74"
          ],
          [
           808,
           182,
           "74"
          ],
          [
           804,
           182,
           "74"
          ],
          [
           502,
           173,
           "74"
          ],
          [
           497,
           173,
           "74"
          ],
          [
           354,
           165,
           "74"
          ],
          [
           349,
           163,
           "74"
          ],
          [
           225,
           144,
           "74"
          ]
         ],
         "hovertemplate": "Motif Id=%{customdata[2]}<br>M - synapse_threshold=%{x}<br>Z score=%{y}<br>edges=%{customdata[0]}<br>nodes=%{customdata[1]}<extra></extra>",
         "legendgroup": "74",
         "marker": {
          "color": "#FF6692",
          "symbol": "circle"
         },
         "mode": "markers",
         "name": "74",
         "orientation": "v",
         "showlegend": true,
         "type": "scatter",
         "x": [
          1,
          10,
          11,
          12,
          13,
          14,
          15,
          16,
          17,
          18,
          19,
          2,
          20,
          3,
          4,
          5,
          6,
          7,
          8,
          9
         ],
         "xaxis": "x",
         "y": [
          12.355103859854813,
          2.587938431118023,
          2.556028032528714,
          2.4546405003420437,
          1.350944249239938,
          1.390766543182814,
          -0.026552570646097395,
          -0.11653289426201666,
          -0.37819633418376386,
          -0.3810824729115004,
          -0.32588157886897295,
          11.97640208933002,
          -0.33949364060000486,
          9.231251061862203,
          8.989701103239659,
          5.549530807686172,
          5.339795629329832,
          4.324307799716317,
          4.164339196273164,
          2.4658533009992767
         ],
         "yaxis": "y"
        },
        {
         "customdata": [
          [
           1491,
           195,
           "78"
          ],
          [
           221,
           143,
           "78"
          ],
          [
           153,
           124,
           "78"
          ],
          [
           151,
           122,
           "78"
          ],
          [
           110,
           101,
           "78"
          ],
          [
           108,
           99,
           "78"
          ],
          [
           75,
           77,
           "78"
          ],
          [
           74,
           75,
           "78"
          ],
          [
           60,
           68,
           "78"
          ],
          [
           59,
           66,
           "78"
          ],
          [
           50,
           58,
           "78"
          ],
          [
           1463,
           183,
           "78"
          ],
          [
           50,
           58,
           "78"
          ],
          [
           808,
           182,
           "78"
          ],
          [
           804,
           182,
           "78"
          ],
          [
           502,
           173,
           "78"
          ],
          [
           497,
           173,
           "78"
          ],
          [
           354,
           165,
           "78"
          ],
          [
           349,
           163,
           "78"
          ],
          [
           225,
           144,
           "78"
          ]
         ],
         "hovertemplate": "Motif Id=%{customdata[2]}<br>M - synapse_threshold=%{x}<br>Z score=%{y}<br>edges=%{customdata[0]}<br>nodes=%{customdata[1]}<extra></extra>",
         "legendgroup": "78",
         "marker": {
          "color": "#B6E880",
          "symbol": "circle"
         },
         "mode": "markers",
         "name": "78",
         "orientation": "v",
         "showlegend": true,
         "type": "scatter",
         "x": [
          1,
          10,
          11,
          12,
          13,
          14,
          15,
          16,
          17,
          18,
          19,
          2,
          20,
          3,
          4,
          5,
          6,
          7,
          8,
          9
         ],
         "xaxis": "x",
         "y": [
          28.637587131315282,
          7.686033371022668,
          2.01230822351247,
          1.8526840613339042,
          2.459228367057829,
          2.245930771566167,
          -0.16698964031186025,
          -0.2059641818171147,
          -0.04476614810358452,
          0,
          -0.031638599858416626,
          27.062454049059635,
          0,
          20.941604264788943,
          19.514593792791988,
          10.026136809000025,
          9.453630042005368,
          5.832022325895408,
          6.12836455322894,
          7.118605525390395
         ],
         "yaxis": "y"
        },
        {
         "customdata": [
          [
           1491,
           195,
           "98"
          ],
          [
           221,
           143,
           "98"
          ],
          [
           153,
           124,
           "98"
          ],
          [
           151,
           122,
           "98"
          ],
          [
           110,
           101,
           "98"
          ],
          [
           108,
           99,
           "98"
          ],
          [
           75,
           77,
           "98"
          ],
          [
           74,
           75,
           "98"
          ],
          [
           60,
           68,
           "98"
          ],
          [
           59,
           66,
           "98"
          ],
          [
           50,
           58,
           "98"
          ],
          [
           1463,
           183,
           "98"
          ],
          [
           50,
           58,
           "98"
          ],
          [
           808,
           182,
           "98"
          ],
          [
           804,
           182,
           "98"
          ],
          [
           502,
           173,
           "98"
          ],
          [
           497,
           173,
           "98"
          ],
          [
           354,
           165,
           "98"
          ],
          [
           349,
           163,
           "98"
          ],
          [
           225,
           144,
           "98"
          ]
         ],
         "hovertemplate": "Motif Id=%{customdata[2]}<br>M - synapse_threshold=%{x}<br>Z score=%{y}<br>edges=%{customdata[0]}<br>nodes=%{customdata[1]}<extra></extra>",
         "legendgroup": "98",
         "marker": {
          "color": "#FF97FF",
          "symbol": "circle"
         },
         "mode": "markers",
         "name": "98",
         "orientation": "v",
         "showlegend": true,
         "type": "scatter",
         "x": [
          1,
          10,
          11,
          12,
          13,
          14,
          15,
          16,
          17,
          18,
          19,
          2,
          20,
          3,
          4,
          5,
          6,
          7,
          8,
          9
         ],
         "xaxis": "x",
         "y": [
          -6.974829791123589,
          -0.8096948707504962,
          -0.7496154617794584,
          -0.7573825190744258,
          -0.6650990794302766,
          -0.6836393515347498,
          -0.48852110509256763,
          -0.4862892569799987,
          -0.20700127632521695,
          -0.24019223070763068,
          -0.18181818181818182,
          -7.321429605914564,
          -0.15343224377184828,
          -2.0789677426408675,
          -2.1285565992584514,
          -0.6788973050670959,
          -0.6398459090106787,
          -1.306839276372413,
          -1.3100006469140593,
          -0.8637062993321069
         ],
         "yaxis": "y"
        },
        {
         "customdata": [
          [
           1491,
           195,
           "102"
          ],
          [
           221,
           143,
           "102"
          ],
          [
           153,
           124,
           "102"
          ],
          [
           151,
           122,
           "102"
          ],
          [
           110,
           101,
           "102"
          ],
          [
           108,
           99,
           "102"
          ],
          [
           75,
           77,
           "102"
          ],
          [
           74,
           75,
           "102"
          ],
          [
           60,
           68,
           "102"
          ],
          [
           59,
           66,
           "102"
          ],
          [
           50,
           58,
           "102"
          ],
          [
           1463,
           183,
           "102"
          ],
          [
           50,
           58,
           "102"
          ],
          [
           808,
           182,
           "102"
          ],
          [
           804,
           182,
           "102"
          ],
          [
           502,
           173,
           "102"
          ],
          [
           497,
           173,
           "102"
          ],
          [
           354,
           165,
           "102"
          ],
          [
           349,
           163,
           "102"
          ],
          [
           225,
           144,
           "102"
          ]
         ],
         "hovertemplate": "Motif Id=%{customdata[2]}<br>M - synapse_threshold=%{x}<br>Z score=%{y}<br>edges=%{customdata[0]}<br>nodes=%{customdata[1]}<extra></extra>",
         "legendgroup": "102",
         "marker": {
          "color": "#FECB52",
          "symbol": "circle"
         },
         "mode": "markers",
         "name": "102",
         "orientation": "v",
         "showlegend": true,
         "type": "scatter",
         "x": [
          1,
          10,
          11,
          12,
          13,
          14,
          15,
          16,
          17,
          18,
          19,
          2,
          20,
          3,
          4,
          5,
          6,
          7,
          8,
          9
         ],
         "xaxis": "x",
         "y": [
          7.7257113090384415,
          -0.42673835136256993,
          -0.4044866952860591,
          -0.4054645851739833,
          -0.37586996637057046,
          -0.37222134528481715,
          -0.2646767474204679,
          -0.24183780852147777,
          -0.10050378152592122,
          -0.11476596157913456,
          -0.06723348523552919,
          7.72870780943326,
          -0.10050378152592122,
          4.583427425182702,
          4.552833017189039,
          -0.764014996460057,
          -0.7974933716772836,
          2.3884090662451096,
          2.511511956509924,
          -0.41482320258063354
         ],
         "yaxis": "y"
        },
        {
         "customdata": [
          [
           1491,
           195,
           "108"
          ],
          [
           221,
           143,
           "108"
          ],
          [
           153,
           124,
           "108"
          ],
          [
           151,
           122,
           "108"
          ],
          [
           110,
           101,
           "108"
          ],
          [
           108,
           99,
           "108"
          ],
          [
           75,
           77,
           "108"
          ],
          [
           74,
           75,
           "108"
          ],
          [
           60,
           68,
           "108"
          ],
          [
           59,
           66,
           "108"
          ],
          [
           50,
           58,
           "108"
          ],
          [
           1463,
           183,
           "108"
          ],
          [
           50,
           58,
           "108"
          ],
          [
           808,
           182,
           "108"
          ],
          [
           804,
           182,
           "108"
          ],
          [
           502,
           173,
           "108"
          ],
          [
           497,
           173,
           "108"
          ],
          [
           354,
           165,
           "108"
          ],
          [
           349,
           163,
           "108"
          ],
          [
           225,
           144,
           "108"
          ]
         ],
         "hovertemplate": "Motif Id=%{customdata[2]}<br>M - synapse_threshold=%{x}<br>Z score=%{y}<br>edges=%{customdata[0]}<br>nodes=%{customdata[1]}<extra></extra>",
         "legendgroup": "108",
         "marker": {
          "color": "#636efa",
          "symbol": "circle"
         },
         "mode": "markers",
         "name": "108",
         "orientation": "v",
         "showlegend": true,
         "type": "scatter",
         "x": [
          1,
          10,
          11,
          12,
          13,
          14,
          15,
          16,
          17,
          18,
          19,
          2,
          20,
          3,
          4,
          5,
          6,
          7,
          8,
          9
         ],
         "xaxis": "x",
         "y": [
          18.650826244158893,
          4.1551122746387374,
          6.348487999648227,
          5.912590150080065,
          -0.2531721631939904,
          -0.28415409826971644,
          -0.1697250257391052,
          -0.17011439313712282,
          -0.07769309688655059,
          -0.06337242505244779,
          -0.06337242505244779,
          18.19846676357175,
          -0.04476614810358452,
          12.537650326778552,
          12.699853296628811,
          8.174760982865667,
          9.064614140961922,
          10.212309254076654,
          9.69629187284946,
          4.03446937124439
         ],
         "yaxis": "y"
        },
        {
         "customdata": [
          [
           1491,
           195,
           "110"
          ],
          [
           221,
           143,
           "110"
          ],
          [
           153,
           124,
           "110"
          ],
          [
           151,
           122,
           "110"
          ],
          [
           110,
           101,
           "110"
          ],
          [
           108,
           99,
           "110"
          ],
          [
           75,
           77,
           "110"
          ],
          [
           74,
           75,
           "110"
          ],
          [
           60,
           68,
           "110"
          ],
          [
           59,
           66,
           "110"
          ],
          [
           50,
           58,
           "110"
          ],
          [
           1463,
           183,
           "110"
          ],
          [
           50,
           58,
           "110"
          ],
          [
           808,
           182,
           "110"
          ],
          [
           804,
           182,
           "110"
          ],
          [
           502,
           173,
           "110"
          ],
          [
           497,
           173,
           "110"
          ],
          [
           354,
           165,
           "110"
          ],
          [
           349,
           163,
           "110"
          ],
          [
           225,
           144,
           "110"
          ]
         ],
         "hovertemplate": "Motif Id=%{customdata[2]}<br>M - synapse_threshold=%{x}<br>Z score=%{y}<br>edges=%{customdata[0]}<br>nodes=%{customdata[1]}<extra></extra>",
         "legendgroup": "110",
         "marker": {
          "color": "#EF553B",
          "symbol": "circle"
         },
         "mode": "markers",
         "name": "110",
         "orientation": "v",
         "showlegend": true,
         "type": "scatter",
         "x": [
          1,
          10,
          11,
          12,
          13,
          14,
          15,
          16,
          17,
          18,
          19,
          2,
          20,
          3,
          4,
          5,
          6,
          7,
          8,
          9
         ],
         "xaxis": "x",
         "y": [
          42.061860193984344,
          -0.1505182990156935,
          -0.13150664608837076,
          -0.14645975437882874,
          -0.11476596157913455,
          -0.11476596157913456,
          -0.07769309688655057,
          -0.10050378152592122,
          0,
          0,
          0,
          39.49230822226575,
          0,
          21.64641106844509,
          22.951727370698407,
          22.680710994222604,
          22.631087499508194,
          6.003553450119023,
          5.692592600593346,
          -0.156812512046795
         ],
         "yaxis": "y"
        },
        {
         "customdata": [
          [
           1491,
           195,
           "238"
          ],
          [
           221,
           143,
           "238"
          ],
          [
           153,
           124,
           "238"
          ],
          [
           151,
           122,
           "238"
          ],
          [
           110,
           101,
           "238"
          ],
          [
           108,
           99,
           "238"
          ],
          [
           75,
           77,
           "238"
          ],
          [
           74,
           75,
           "238"
          ],
          [
           60,
           68,
           "238"
          ],
          [
           59,
           66,
           "238"
          ],
          [
           50,
           58,
           "238"
          ],
          [
           1463,
           183,
           "238"
          ],
          [
           50,
           58,
           "238"
          ],
          [
           808,
           182,
           "238"
          ],
          [
           804,
           182,
           "238"
          ],
          [
           502,
           173,
           "238"
          ],
          [
           497,
           173,
           "238"
          ],
          [
           354,
           165,
           "238"
          ],
          [
           349,
           163,
           "238"
          ],
          [
           225,
           144,
           "238"
          ]
         ],
         "hovertemplate": "Motif Id=%{customdata[2]}<br>M - synapse_threshold=%{x}<br>Z score=%{y}<br>edges=%{customdata[0]}<br>nodes=%{customdata[1]}<extra></extra>",
         "legendgroup": "238",
         "marker": {
          "color": "#00cc96",
          "symbol": "circle"
         },
         "mode": "markers",
         "name": "238",
         "orientation": "v",
         "showlegend": true,
         "type": "scatter",
         "x": [
          1,
          10,
          11,
          12,
          13,
          14,
          15,
          16,
          17,
          18,
          19,
          2,
          20,
          3,
          4,
          5,
          6,
          7,
          8,
          9
         ],
         "xaxis": "x",
         "y": [
          131.7999092549319,
          -0.031638599858416626,
          0,
          0,
          -0.03163859985841663,
          0,
          0,
          0,
          0,
          0,
          0,
          110.84217663053927,
          0,
          63.245561116974834,
          63.245561116974834,
          -0.03163859985841663,
          -0.03163859985841663,
          0,
          0,
          0
         ],
         "yaxis": "y"
        }
       ],
       "layout": {
        "autosize": true,
        "legend": {
         "title": {
          "text": "Motif Id"
         },
         "tracegroupgap": 0
        },
        "template": {
         "data": {
          "bar": [
           {
            "error_x": {
             "color": "#2a3f5f"
            },
            "error_y": {
             "color": "#2a3f5f"
            },
            "marker": {
             "line": {
              "color": "#E5ECF6",
              "width": 0.5
             },
             "pattern": {
              "fillmode": "overlay",
              "size": 10,
              "solidity": 0.2
             }
            },
            "type": "bar"
           }
          ],
          "barpolar": [
           {
            "marker": {
             "line": {
              "color": "#E5ECF6",
              "width": 0.5
             },
             "pattern": {
              "fillmode": "overlay",
              "size": 10,
              "solidity": 0.2
             }
            },
            "type": "barpolar"
           }
          ],
          "carpet": [
           {
            "aaxis": {
             "endlinecolor": "#2a3f5f",
             "gridcolor": "white",
             "linecolor": "white",
             "minorgridcolor": "white",
             "startlinecolor": "#2a3f5f"
            },
            "baxis": {
             "endlinecolor": "#2a3f5f",
             "gridcolor": "white",
             "linecolor": "white",
             "minorgridcolor": "white",
             "startlinecolor": "#2a3f5f"
            },
            "type": "carpet"
           }
          ],
          "choropleth": [
           {
            "colorbar": {
             "outlinewidth": 0,
             "ticks": ""
            },
            "type": "choropleth"
           }
          ],
          "contour": [
           {
            "colorbar": {
             "outlinewidth": 0,
             "ticks": ""
            },
            "colorscale": [
             [
              0,
              "#0d0887"
             ],
             [
              0.1111111111111111,
              "#46039f"
             ],
             [
              0.2222222222222222,
              "#7201a8"
             ],
             [
              0.3333333333333333,
              "#9c179e"
             ],
             [
              0.4444444444444444,
              "#bd3786"
             ],
             [
              0.5555555555555556,
              "#d8576b"
             ],
             [
              0.6666666666666666,
              "#ed7953"
             ],
             [
              0.7777777777777778,
              "#fb9f3a"
             ],
             [
              0.8888888888888888,
              "#fdca26"
             ],
             [
              1,
              "#f0f921"
             ]
            ],
            "type": "contour"
           }
          ],
          "contourcarpet": [
           {
            "colorbar": {
             "outlinewidth": 0,
             "ticks": ""
            },
            "type": "contourcarpet"
           }
          ],
          "heatmap": [
           {
            "colorbar": {
             "outlinewidth": 0,
             "ticks": ""
            },
            "colorscale": [
             [
              0,
              "#0d0887"
             ],
             [
              0.1111111111111111,
              "#46039f"
             ],
             [
              0.2222222222222222,
              "#7201a8"
             ],
             [
              0.3333333333333333,
              "#9c179e"
             ],
             [
              0.4444444444444444,
              "#bd3786"
             ],
             [
              0.5555555555555556,
              "#d8576b"
             ],
             [
              0.6666666666666666,
              "#ed7953"
             ],
             [
              0.7777777777777778,
              "#fb9f3a"
             ],
             [
              0.8888888888888888,
              "#fdca26"
             ],
             [
              1,
              "#f0f921"
             ]
            ],
            "type": "heatmap"
           }
          ],
          "heatmapgl": [
           {
            "colorbar": {
             "outlinewidth": 0,
             "ticks": ""
            },
            "colorscale": [
             [
              0,
              "#0d0887"
             ],
             [
              0.1111111111111111,
              "#46039f"
             ],
             [
              0.2222222222222222,
              "#7201a8"
             ],
             [
              0.3333333333333333,
              "#9c179e"
             ],
             [
              0.4444444444444444,
              "#bd3786"
             ],
             [
              0.5555555555555556,
              "#d8576b"
             ],
             [
              0.6666666666666666,
              "#ed7953"
             ],
             [
              0.7777777777777778,
              "#fb9f3a"
             ],
             [
              0.8888888888888888,
              "#fdca26"
             ],
             [
              1,
              "#f0f921"
             ]
            ],
            "type": "heatmapgl"
           }
          ],
          "histogram": [
           {
            "marker": {
             "pattern": {
              "fillmode": "overlay",
              "size": 10,
              "solidity": 0.2
             }
            },
            "type": "histogram"
           }
          ],
          "histogram2d": [
           {
            "colorbar": {
             "outlinewidth": 0,
             "ticks": ""
            },
            "colorscale": [
             [
              0,
              "#0d0887"
             ],
             [
              0.1111111111111111,
              "#46039f"
             ],
             [
              0.2222222222222222,
              "#7201a8"
             ],
             [
              0.3333333333333333,
              "#9c179e"
             ],
             [
              0.4444444444444444,
              "#bd3786"
             ],
             [
              0.5555555555555556,
              "#d8576b"
             ],
             [
              0.6666666666666666,
              "#ed7953"
             ],
             [
              0.7777777777777778,
              "#fb9f3a"
             ],
             [
              0.8888888888888888,
              "#fdca26"
             ],
             [
              1,
              "#f0f921"
             ]
            ],
            "type": "histogram2d"
           }
          ],
          "histogram2dcontour": [
           {
            "colorbar": {
             "outlinewidth": 0,
             "ticks": ""
            },
            "colorscale": [
             [
              0,
              "#0d0887"
             ],
             [
              0.1111111111111111,
              "#46039f"
             ],
             [
              0.2222222222222222,
              "#7201a8"
             ],
             [
              0.3333333333333333,
              "#9c179e"
             ],
             [
              0.4444444444444444,
              "#bd3786"
             ],
             [
              0.5555555555555556,
              "#d8576b"
             ],
             [
              0.6666666666666666,
              "#ed7953"
             ],
             [
              0.7777777777777778,
              "#fb9f3a"
             ],
             [
              0.8888888888888888,
              "#fdca26"
             ],
             [
              1,
              "#f0f921"
             ]
            ],
            "type": "histogram2dcontour"
           }
          ],
          "mesh3d": [
           {
            "colorbar": {
             "outlinewidth": 0,
             "ticks": ""
            },
            "type": "mesh3d"
           }
          ],
          "parcoords": [
           {
            "line": {
             "colorbar": {
              "outlinewidth": 0,
              "ticks": ""
             }
            },
            "type": "parcoords"
           }
          ],
          "pie": [
           {
            "automargin": true,
            "type": "pie"
           }
          ],
          "scatter": [
           {
            "fillpattern": {
             "fillmode": "overlay",
             "size": 10,
             "solidity": 0.2
            },
            "type": "scatter"
           }
          ],
          "scatter3d": [
           {
            "line": {
             "colorbar": {
              "outlinewidth": 0,
              "ticks": ""
             }
            },
            "marker": {
             "colorbar": {
              "outlinewidth": 0,
              "ticks": ""
             }
            },
            "type": "scatter3d"
           }
          ],
          "scattercarpet": [
           {
            "marker": {
             "colorbar": {
              "outlinewidth": 0,
              "ticks": ""
             }
            },
            "type": "scattercarpet"
           }
          ],
          "scattergeo": [
           {
            "marker": {
             "colorbar": {
              "outlinewidth": 0,
              "ticks": ""
             }
            },
            "type": "scattergeo"
           }
          ],
          "scattergl": [
           {
            "marker": {
             "colorbar": {
              "outlinewidth": 0,
              "ticks": ""
             }
            },
            "type": "scattergl"
           }
          ],
          "scattermapbox": [
           {
            "marker": {
             "colorbar": {
              "outlinewidth": 0,
              "ticks": ""
             }
            },
            "type": "scattermapbox"
           }
          ],
          "scatterpolar": [
           {
            "marker": {
             "colorbar": {
              "outlinewidth": 0,
              "ticks": ""
             }
            },
            "type": "scatterpolar"
           }
          ],
          "scatterpolargl": [
           {
            "marker": {
             "colorbar": {
              "outlinewidth": 0,
              "ticks": ""
             }
            },
            "type": "scatterpolargl"
           }
          ],
          "scatterternary": [
           {
            "marker": {
             "colorbar": {
              "outlinewidth": 0,
              "ticks": ""
             }
            },
            "type": "scatterternary"
           }
          ],
          "surface": [
           {
            "colorbar": {
             "outlinewidth": 0,
             "ticks": ""
            },
            "colorscale": [
             [
              0,
              "#0d0887"
             ],
             [
              0.1111111111111111,
              "#46039f"
             ],
             [
              0.2222222222222222,
              "#7201a8"
             ],
             [
              0.3333333333333333,
              "#9c179e"
             ],
             [
              0.4444444444444444,
              "#bd3786"
             ],
             [
              0.5555555555555556,
              "#d8576b"
             ],
             [
              0.6666666666666666,
              "#ed7953"
             ],
             [
              0.7777777777777778,
              "#fb9f3a"
             ],
             [
              0.8888888888888888,
              "#fdca26"
             ],
             [
              1,
              "#f0f921"
             ]
            ],
            "type": "surface"
           }
          ],
          "table": [
           {
            "cells": {
             "fill": {
              "color": "#EBF0F8"
             },
             "line": {
              "color": "white"
             }
            },
            "header": {
             "fill": {
              "color": "#C8D4E3"
             },
             "line": {
              "color": "white"
             }
            },
            "type": "table"
           }
          ]
         },
         "layout": {
          "annotationdefaults": {
           "arrowcolor": "#2a3f5f",
           "arrowhead": 0,
           "arrowwidth": 1
          },
          "autotypenumbers": "strict",
          "coloraxis": {
           "colorbar": {
            "outlinewidth": 0,
            "ticks": ""
           }
          },
          "colorscale": {
           "diverging": [
            [
             0,
             "#8e0152"
            ],
            [
             0.1,
             "#c51b7d"
            ],
            [
             0.2,
             "#de77ae"
            ],
            [
             0.3,
             "#f1b6da"
            ],
            [
             0.4,
             "#fde0ef"
            ],
            [
             0.5,
             "#f7f7f7"
            ],
            [
             0.6,
             "#e6f5d0"
            ],
            [
             0.7,
             "#b8e186"
            ],
            [
             0.8,
             "#7fbc41"
            ],
            [
             0.9,
             "#4d9221"
            ],
            [
             1,
             "#276419"
            ]
           ],
           "sequential": [
            [
             0,
             "#0d0887"
            ],
            [
             0.1111111111111111,
             "#46039f"
            ],
            [
             0.2222222222222222,
             "#7201a8"
            ],
            [
             0.3333333333333333,
             "#9c179e"
            ],
            [
             0.4444444444444444,
             "#bd3786"
            ],
            [
             0.5555555555555556,
             "#d8576b"
            ],
            [
             0.6666666666666666,
             "#ed7953"
            ],
            [
             0.7777777777777778,
             "#fb9f3a"
            ],
            [
             0.8888888888888888,
             "#fdca26"
            ],
            [
             1,
             "#f0f921"
            ]
           ],
           "sequentialminus": [
            [
             0,
             "#0d0887"
            ],
            [
             0.1111111111111111,
             "#46039f"
            ],
            [
             0.2222222222222222,
             "#7201a8"
            ],
            [
             0.3333333333333333,
             "#9c179e"
            ],
            [
             0.4444444444444444,
             "#bd3786"
            ],
            [
             0.5555555555555556,
             "#d8576b"
            ],
            [
             0.6666666666666666,
             "#ed7953"
            ],
            [
             0.7777777777777778,
             "#fb9f3a"
            ],
            [
             0.8888888888888888,
             "#fdca26"
            ],
            [
             1,
             "#f0f921"
            ]
           ]
          },
          "colorway": [
           "#636efa",
           "#EF553B",
           "#00cc96",
           "#ab63fa",
           "#FFA15A",
           "#19d3f3",
           "#FF6692",
           "#B6E880",
           "#FF97FF",
           "#FECB52"
          ],
          "font": {
           "color": "#2a3f5f"
          },
          "geo": {
           "bgcolor": "white",
           "lakecolor": "white",
           "landcolor": "#E5ECF6",
           "showlakes": true,
           "showland": true,
           "subunitcolor": "white"
          },
          "hoverlabel": {
           "align": "left"
          },
          "hovermode": "closest",
          "mapbox": {
           "style": "light"
          },
          "paper_bgcolor": "white",
          "plot_bgcolor": "#E5ECF6",
          "polar": {
           "angularaxis": {
            "gridcolor": "white",
            "linecolor": "white",
            "ticks": ""
           },
           "bgcolor": "#E5ECF6",
           "radialaxis": {
            "gridcolor": "white",
            "linecolor": "white",
            "ticks": ""
           }
          },
          "scene": {
           "xaxis": {
            "backgroundcolor": "#E5ECF6",
            "gridcolor": "white",
            "gridwidth": 2,
            "linecolor": "white",
            "showbackground": true,
            "ticks": "",
            "zerolinecolor": "white"
           },
           "yaxis": {
            "backgroundcolor": "#E5ECF6",
            "gridcolor": "white",
            "gridwidth": 2,
            "linecolor": "white",
            "showbackground": true,
            "ticks": "",
            "zerolinecolor": "white"
           },
           "zaxis": {
            "backgroundcolor": "#E5ECF6",
            "gridcolor": "white",
            "gridwidth": 2,
            "linecolor": "white",
            "showbackground": true,
            "ticks": "",
            "zerolinecolor": "white"
           }
          },
          "shapedefaults": {
           "line": {
            "color": "#2a3f5f"
           }
          },
          "ternary": {
           "aaxis": {
            "gridcolor": "white",
            "linecolor": "white",
            "ticks": ""
           },
           "baxis": {
            "gridcolor": "white",
            "linecolor": "white",
            "ticks": ""
           },
           "bgcolor": "#E5ECF6",
           "caxis": {
            "gridcolor": "white",
            "linecolor": "white",
            "ticks": ""
           }
          },
          "title": {
           "x": 0.05
          },
          "xaxis": {
           "automargin": true,
           "gridcolor": "white",
           "linecolor": "white",
           "ticks": "",
           "title": {
            "standoff": 15
           },
           "zerolinecolor": "white",
           "zerolinewidth": 2
          },
          "yaxis": {
           "automargin": true,
           "gridcolor": "white",
           "linecolor": "white",
           "ticks": "",
           "title": {
            "standoff": 15
           },
           "zerolinecolor": "white",
           "zerolinewidth": 2
          }
         }
        },
        "title": {
         "text": "Z-score as a function of M. network: durbin"
        },
        "xaxis": {
         "anchor": "y",
         "autorange": true,
         "domain": [
          0,
          1
         ],
         "range": [
          -0.16006600660066006,
          21.16006600660066
         ],
         "title": {
          "text": "M - synapse_threshold"
         },
         "type": "linear"
        },
        "yaxis": {
         "anchor": "x",
         "autorange": true,
         "domain": [
          0,
          1
         ],
         "range": [
          -37.054624173757,
          144.67222794680504
         ],
         "title": {
          "text": "Z score"
         },
         "type": "linear"
        }
       }
      },
      "image/png": "[encoded data removed]",
      "text/html": [
       "<div>                            <div id=\"ec6eb076-0c8e-4c86-a5d4-4c97e36360fb\" class=\"plotly-graph-div\" style=\"height:525px; width:100%;\"></div>            <script type=\"text/javascript\">                require([\"plotly\"], function(Plotly) {                    window.PLOTLYENV=window.PLOTLYENV || {};                                    if (document.getElementById(\"ec6eb076-0c8e-4c86-a5d4-4c97e36360fb\")) {                    Plotly.newPlot(                        \"ec6eb076-0c8e-4c86-a5d4-4c97e36360fb\",                        [{\"customdata\":[[1491.0,195.0,\"fan_out-6\"],[221.0,143.0,\"fan_out-6\"],[153.0,124.0,\"fan_out-6\"],[151.0,122.0,\"fan_out-6\"],[110.0,101.0,\"fan_out-6\"],[108.0,99.0,\"fan_out-6\"],[75.0,77.0,\"fan_out-6\"],[74.0,75.0,\"fan_out-6\"],[60.0,68.0,\"fan_out-6\"],[59.0,66.0,\"fan_out-6\"],[50.0,58.0,\"fan_out-6\"],[1463.0,183.0,\"fan_out-6\"],[50.0,58.0,\"fan_out-6\"],[808.0,182.0,\"fan_out-6\"],[804.0,182.0,\"fan_out-6\"],[502.0,173.0,\"fan_out-6\"],[497.0,173.0,\"fan_out-6\"],[354.0,165.0,\"fan_out-6\"],[349.0,163.0,\"fan_out-6\"],[225.0,144.0,\"fan_out-6\"]],\"hovertemplate\":\"Motif Id=%{customdata[2]}\\u003cbr\\u003eM - synapse_threshold=%{x}\\u003cbr\\u003eZ score=%{y}\\u003cbr\\u003eedges=%{customdata[0]}\\u003cbr\\u003enodes=%{customdata[1]}\\u003cextra\\u003e\\u003c\\u002fextra\\u003e\",\"legendgroup\":\"fan_out-6\",\"marker\":{\"color\":\"#636efa\",\"symbol\":\"circle\"},\"mode\":\"markers\",\"name\":\"fan_out-6\",\"orientation\":\"v\",\"showlegend\":true,\"x\":[1.0,10.0,11.0,12.0,13.0,14.0,15.0,16.0,17.0,18.0,19.0,2.0,20.0,3.0,4.0,5.0,6.0,7.0,8.0,9.0],\"xaxis\":\"x\",\"y\":[-24.182305481883855,-4.546332689400443,-3.174077935320887,-3.0831722917579105,-2.9812512603095684,-3.054580304334993,-1.2509044946886845,-1.0388675554129967,-0.9602078125350456,-1.0704664432890278,-0.8191499465267775,-23.957801119636358,-0.6713320296074775,-16.85313451655337,-17.035472957734836,-9.601052053995994,-9.265637243151524,-7.51343546673672,-7.456637578347052,-4.630798086740404],\"yaxis\":\"y\",\"type\":\"scatter\"},{\"customdata\":[[1491.0,195.0,\"cascade-12\"],[221.0,143.0,\"cascade-12\"],[153.0,124.0,\"cascade-12\"],[151.0,122.0,\"cascade-12\"],[110.0,101.0,\"cascade-12\"],[108.0,99.0,\"cascade-12\"],[75.0,77.0,\"cascade-12\"],[74.0,75.0,\"cascade-12\"],[60.0,68.0,\"cascade-12\"],[59.0,66.0,\"cascade-12\"],[50.0,58.0,\"cascade-12\"],[1463.0,183.0,\"cascade-12\"],[50.0,58.0,\"cascade-12\"],[808.0,182.0,\"cascade-12\"],[804.0,182.0,\"cascade-12\"],[502.0,173.0,\"cascade-12\"],[497.0,173.0,\"cascade-12\"],[354.0,165.0,\"cascade-12\"],[349.0,163.0,\"cascade-12\"],[225.0,144.0,\"cascade-12\"]],\"hovertemplate\":\"Motif Id=%{customdata[2]}\\u003cbr\\u003eM - synapse_threshold=%{x}\\u003cbr\\u003eZ score=%{y}\\u003cbr\\u003eedges=%{customdata[0]}\\u003cbr\\u003enodes=%{customdata[1]}\\u003cextra\\u003e\\u003c\\u002fextra\\u003e\",\"legendgroup\":\"cascade-12\",\"marker\":{\"color\":\"#EF553B\",\"symbol\":\"circle\"},\"mode\":\"markers\",\"name\":\"cascade-12\",\"orientation\":\"v\",\"showlegend\":true,\"x\":[1.0,10.0,11.0,12.0,13.0,14.0,15.0,16.0,17.0,18.0,19.0,2.0,20.0,3.0,4.0,5.0,6.0,7.0,8.0,9.0],\"xaxis\":\"x\",\"y\":[-21.223526789287146,-3.8766047875371097,-3.1463083874139777,-2.999032986369904,-2.2259597928602664,-2.2976594562590686,-0.6102653336982641,-0.46030539322239267,-0.23642787118183312,-0.22721624984436894,-0.14696109599150783,-20.814776304418757,-0.10837633741240917,-14.283417661027993,-14.151536059996639,-8.053005146371428,-7.806156036725894,-6.395827416075812,-6.310564818376214,-3.810235393322702],\"yaxis\":\"y\",\"type\":\"scatter\"},{\"customdata\":[[1491.0,195.0,\"14\"],[221.0,143.0,\"14\"],[153.0,124.0,\"14\"],[151.0,122.0,\"14\"],[110.0,101.0,\"14\"],[108.0,99.0,\"14\"],[75.0,77.0,\"14\"],[74.0,75.0,\"14\"],[60.0,68.0,\"14\"],[59.0,66.0,\"14\"],[50.0,58.0,\"14\"],[1463.0,183.0,\"14\"],[50.0,58.0,\"14\"],[808.0,182.0,\"14\"],[804.0,182.0,\"14\"],[502.0,173.0,\"14\"],[497.0,173.0,\"14\"],[354.0,165.0,\"14\"],[349.0,163.0,\"14\"],[225.0,144.0,\"14\"]],\"hovertemplate\":\"Motif Id=%{customdata[2]}\\u003cbr\\u003eM - synapse_threshold=%{x}\\u003cbr\\u003eZ score=%{y}\\u003cbr\\u003eedges=%{customdata[0]}\\u003cbr\\u003enodes=%{customdata[1]}\\u003cextra\\u003e\\u003c\\u002fextra\\u003e\",\"legendgroup\":\"14\",\"marker\":{\"color\":\"#00cc96\",\"symbol\":\"circle\"},\"mode\":\"markers\",\"name\":\"14\",\"orientation\":\"v\",\"showlegend\":true,\"x\":[1.0,10.0,11.0,12.0,13.0,14.0,15.0,16.0,17.0,18.0,19.0,2.0,20.0,3.0,4.0,5.0,6.0,7.0,8.0,9.0],\"xaxis\":\"x\",\"y\":[13.165577650166659,2.5276070086151217,2.3673762312049433,2.2563647961759323,2.2454360326832825,2.27446801827753,0.7151319614136018,0.5496129352129892,-0.3383094833175801,-0.34719778121143313,-0.2928679022352362,12.926217733051324,-0.3246900906666681,7.4949315878723635,7.397483910563478,3.5044826207104016,3.2809485592499645,3.2038422005926925,3.182065979090219,2.4028681793605773],\"yaxis\":\"y\",\"type\":\"scatter\"},{\"customdata\":[[1491.0,195.0,\"fan_in-36\"],[221.0,143.0,\"fan_in-36\"],[153.0,124.0,\"fan_in-36\"],[151.0,122.0,\"fan_in-36\"],[110.0,101.0,\"fan_in-36\"],[108.0,99.0,\"fan_in-36\"],[75.0,77.0,\"fan_in-36\"],[74.0,75.0,\"fan_in-36\"],[60.0,68.0,\"fan_in-36\"],[59.0,66.0,\"fan_in-36\"],[50.0,58.0,\"fan_in-36\"],[1463.0,183.0,\"fan_in-36\"],[50.0,58.0,\"fan_in-36\"],[808.0,182.0,\"fan_in-36\"],[804.0,182.0,\"fan_in-36\"],[502.0,173.0,\"fan_in-36\"],[497.0,173.0,\"fan_in-36\"],[354.0,165.0,\"fan_in-36\"],[349.0,163.0,\"fan_in-36\"],[225.0,144.0,\"fan_in-36\"]],\"hovertemplate\":\"Motif Id=%{customdata[2]}\\u003cbr\\u003eM - synapse_threshold=%{x}\\u003cbr\\u003eZ score=%{y}\\u003cbr\\u003eedges=%{customdata[0]}\\u003cbr\\u003enodes=%{customdata[1]}\\u003cextra\\u003e\\u003c\\u002fextra\\u003e\",\"legendgroup\":\"fan_in-36\",\"marker\":{\"color\":\"#ab63fa\",\"symbol\":\"circle\"},\"mode\":\"markers\",\"name\":\"fan_in-36\",\"orientation\":\"v\",\"showlegend\":true,\"x\":[1.0,10.0,11.0,12.0,13.0,14.0,15.0,16.0,17.0,18.0,19.0,2.0,20.0,3.0,4.0,5.0,6.0,7.0,8.0,9.0],\"xaxis\":\"x\",\"y\":[-22.618284450723454,-4.661834032084163,-3.9450424392469694,-3.808931299706702,-2.4019925675481812,-2.4790656925251717,-0.7535632331303312,-0.600660478454316,-1.2660940103000107,-1.249498951038357,-0.9197821452714509,-22.23452381371256,-0.9420522501197853,-16.37632377126962,-16.0038091779058,-9.84697673006324,-9.72415184012823,-8.14876944934211,-7.949361936665317,-4.616740066271928],\"yaxis\":\"y\",\"type\":\"scatter\"},{\"customdata\":[[1491.0,195.0,\"feed_forward-38\"],[221.0,143.0,\"feed_forward-38\"],[153.0,124.0,\"feed_forward-38\"],[151.0,122.0,\"feed_forward-38\"],[110.0,101.0,\"feed_forward-38\"],[108.0,99.0,\"feed_forward-38\"],[75.0,77.0,\"feed_forward-38\"],[74.0,75.0,\"feed_forward-38\"],[60.0,68.0,\"feed_forward-38\"],[59.0,66.0,\"feed_forward-38\"],[50.0,58.0,\"feed_forward-38\"],[1463.0,183.0,\"feed_forward-38\"],[50.0,58.0,\"feed_forward-38\"],[808.0,182.0,\"feed_forward-38\"],[804.0,182.0,\"feed_forward-38\"],[502.0,173.0,\"feed_forward-38\"],[497.0,173.0,\"feed_forward-38\"],[354.0,165.0,\"feed_forward-38\"],[349.0,163.0,\"feed_forward-38\"],[225.0,144.0,\"feed_forward-38\"]],\"hovertemplate\":\"Motif Id=%{customdata[2]}\\u003cbr\\u003eM - synapse_threshold=%{x}\\u003cbr\\u003eZ score=%{y}\\u003cbr\\u003eedges=%{customdata[0]}\\u003cbr\\u003enodes=%{customdata[1]}\\u003cextra\\u003e\\u003c\\u002fextra\\u003e\",\"legendgroup\":\"feed_forward-38\",\"marker\":{\"color\":\"#FFA15A\",\"symbol\":\"circle\"},\"mode\":\"markers\",\"name\":\"feed_forward-38\",\"orientation\":\"v\",\"showlegend\":true,\"x\":[1.0,10.0,11.0,12.0,13.0,14.0,15.0,16.0,17.0,18.0,19.0,2.0,20.0,3.0,4.0,5.0,6.0,7.0,8.0,9.0],\"xaxis\":\"x\",\"y\":[1.9586062023470177,4.472633084299359,2.9575748342704955,2.8856906614818136,3.5953219213164633,3.317093808445306,2.1419209338403538,2.0924509564127693,2.867071261946338,2.948418121982598,2.114375218552187,1.9019474967343348,2.127103918837175,8.023445593546299,8.19396162581627,7.229167011408336,7.236771921187299,5.740029876736605,5.751091567774048,4.098389241660752],\"yaxis\":\"y\",\"type\":\"scatter\"},{\"customdata\":[[1491.0,195.0,\"46\"],[221.0,143.0,\"46\"],[153.0,124.0,\"46\"],[151.0,122.0,\"46\"],[110.0,101.0,\"46\"],[108.0,99.0,\"46\"],[75.0,77.0,\"46\"],[74.0,75.0,\"46\"],[60.0,68.0,\"46\"],[59.0,66.0,\"46\"],[50.0,58.0,\"46\"],[1463.0,183.0,\"46\"],[50.0,58.0,\"46\"],[808.0,182.0,\"46\"],[804.0,182.0,\"46\"],[502.0,173.0,\"46\"],[497.0,173.0,\"46\"],[354.0,165.0,\"46\"],[349.0,163.0,\"46\"],[225.0,144.0,\"46\"]],\"hovertemplate\":\"Motif Id=%{customdata[2]}\\u003cbr\\u003eM - synapse_threshold=%{x}\\u003cbr\\u003eZ score=%{y}\\u003cbr\\u003eedges=%{customdata[0]}\\u003cbr\\u003enodes=%{customdata[1]}\\u003cextra\\u003e\\u003c\\u002fextra\\u003e\",\"legendgroup\":\"46\",\"marker\":{\"color\":\"#19d3f3\",\"symbol\":\"circle\"},\"mode\":\"markers\",\"name\":\"46\",\"orientation\":\"v\",\"showlegend\":true,\"x\":[1.0,10.0,11.0,12.0,13.0,14.0,15.0,16.0,17.0,18.0,19.0,2.0,20.0,3.0,4.0,5.0,6.0,7.0,8.0,9.0],\"xaxis\":\"x\",\"y\":[31.113945913622068,0.9620501194562976,-0.45860954786949676,-0.4417357221761637,-0.3409536654873341,-0.35520396602693344,-0.23174799519734166,-0.2532404252238921,-0.09692852714332871,-0.06723348523552919,-0.07088812050083357,31.091201831214523,-0.08980265101338747,18.8122828061249,19.169285058970928,6.96729205966482,6.840481569405408,6.249792209200274,7.010478635591436,2.5512576415938626],\"yaxis\":\"y\",\"type\":\"scatter\"},{\"customdata\":[[1491.0,195.0,\"74\"],[221.0,143.0,\"74\"],[153.0,124.0,\"74\"],[151.0,122.0,\"74\"],[110.0,101.0,\"74\"],[108.0,99.0,\"74\"],[75.0,77.0,\"74\"],[74.0,75.0,\"74\"],[60.0,68.0,\"74\"],[59.0,66.0,\"74\"],[50.0,58.0,\"74\"],[1463.0,183.0,\"74\"],[50.0,58.0,\"74\"],[808.0,182.0,\"74\"],[804.0,182.0,\"74\"],[502.0,173.0,\"74\"],[497.0,173.0,\"74\"],[354.0,165.0,\"74\"],[349.0,163.0,\"74\"],[225.0,144.0,\"74\"]],\"hovertemplate\":\"Motif Id=%{customdata[2]}\\u003cbr\\u003eM - synapse_threshold=%{x}\\u003cbr\\u003eZ score=%{y}\\u003cbr\\u003eedges=%{customdata[0]}\\u003cbr\\u003enodes=%{customdata[1]}\\u003cextra\\u003e\\u003c\\u002fextra\\u003e\",\"legendgroup\":\"74\",\"marker\":{\"color\":\"#FF6692\",\"symbol\":\"circle\"},\"mode\":\"markers\",\"name\":\"74\",\"orientation\":\"v\",\"showlegend\":true,\"x\":[1.0,10.0,11.0,12.0,13.0,14.0,15.0,16.0,17.0,18.0,19.0,2.0,20.0,3.0,4.0,5.0,6.0,7.0,8.0,9.0],\"xaxis\":\"x\",\"y\":[12.355103859854813,2.587938431118023,2.556028032528714,2.4546405003420437,1.350944249239938,1.390766543182814,-0.026552570646097395,-0.11653289426201666,-0.37819633418376386,-0.3810824729115004,-0.32588157886897295,11.97640208933002,-0.33949364060000486,9.231251061862203,8.989701103239659,5.549530807686172,5.339795629329832,4.324307799716317,4.164339196273164,2.4658533009992767],\"yaxis\":\"y\",\"type\":\"scatter\"},{\"customdata\":[[1491.0,195.0,\"78\"],[221.0,143.0,\"78\"],[153.0,124.0,\"78\"],[151.0,122.0,\"78\"],[110.0,101.0,\"78\"],[108.0,99.0,\"78\"],[75.0,77.0,\"78\"],[74.0,75.0,\"78\"],[60.0,68.0,\"78\"],[59.0,66.0,\"78\"],[50.0,58.0,\"78\"],[1463.0,183.0,\"78\"],[50.0,58.0,\"78\"],[808.0,182.0,\"78\"],[804.0,182.0,\"78\"],[502.0,173.0,\"78\"],[497.0,173.0,\"78\"],[354.0,165.0,\"78\"],[349.0,163.0,\"78\"],[225.0,144.0,\"78\"]],\"hovertemplate\":\"Motif Id=%{customdata[2]}\\u003cbr\\u003eM - synapse_threshold=%{x}\\u003cbr\\u003eZ score=%{y}\\u003cbr\\u003eedges=%{customdata[0]}\\u003cbr\\u003enodes=%{customdata[1]}\\u003cextra\\u003e\\u003c\\u002fextra\\u003e\",\"legendgroup\":\"78\",\"marker\":{\"color\":\"#B6E880\",\"symbol\":\"circle\"},\"mode\":\"markers\",\"name\":\"78\",\"orientation\":\"v\",\"showlegend\":true,\"x\":[1.0,10.0,11.0,12.0,13.0,14.0,15.0,16.0,17.0,18.0,19.0,2.0,20.0,3.0,4.0,5.0,6.0,7.0,8.0,9.0],\"xaxis\":\"x\",\"y\":[28.637587131315282,7.686033371022668,2.01230822351247,1.8526840613339042,2.459228367057829,2.245930771566167,-0.16698964031186025,-0.2059641818171147,-0.04476614810358452,0.0,-0.031638599858416626,27.062454049059635,0.0,20.941604264788943,19.514593792791988,10.026136809000025,9.453630042005368,5.832022325895408,6.12836455322894,7.118605525390395],\"yaxis\":\"y\",\"type\":\"scatter\"},{\"customdata\":[[1491.0,195.0,\"98\"],[221.0,143.0,\"98\"],[153.0,124.0,\"98\"],[151.0,122.0,\"98\"],[110.0,101.0,\"98\"],[108.0,99.0,\"98\"],[75.0,77.0,\"98\"],[74.0,75.0,\"98\"],[60.0,68.0,\"98\"],[59.0,66.0,\"98\"],[50.0,58.0,\"98\"],[1463.0,183.0,\"98\"],[50.0,58.0,\"98\"],[808.0,182.0,\"98\"],[804.0,182.0,\"98\"],[502.0,173.0,\"98\"],[497.0,173.0,\"98\"],[354.0,165.0,\"98\"],[349.0,163.0,\"98\"],[225.0,144.0,\"98\"]],\"hovertemplate\":\"Motif Id=%{customdata[2]}\\u003cbr\\u003eM - synapse_threshold=%{x}\\u003cbr\\u003eZ score=%{y}\\u003cbr\\u003eedges=%{customdata[0]}\\u003cbr\\u003enodes=%{customdata[1]}\\u003cextra\\u003e\\u003c\\u002fextra\\u003e\",\"legendgroup\":\"98\",\"marker\":{\"color\":\"#FF97FF\",\"symbol\":\"circle\"},\"mode\":\"markers\",\"name\":\"98\",\"orientation\":\"v\",\"showlegend\":true,\"x\":[1.0,10.0,11.0,12.0,13.0,14.0,15.0,16.0,17.0,18.0,19.0,2.0,20.0,3.0,4.0,5.0,6.0,7.0,8.0,9.0],\"xaxis\":\"x\",\"y\":[-6.974829791123589,-0.8096948707504962,-0.7496154617794584,-0.7573825190744258,-0.6650990794302766,-0.6836393515347498,-0.48852110509256763,-0.4862892569799987,-0.20700127632521695,-0.24019223070763068,-0.18181818181818182,-7.321429605914564,-0.15343224377184828,-2.0789677426408675,-2.1285565992584514,-0.6788973050670959,-0.6398459090106787,-1.306839276372413,-1.3100006469140593,-0.8637062993321069],\"yaxis\":\"y\",\"type\":\"scatter\"},{\"customdata\":[[1491.0,195.0,\"102\"],[221.0,143.0,\"102\"],[153.0,124.0,\"102\"],[151.0,122.0,\"102\"],[110.0,101.0,\"102\"],[108.0,99.0,\"102\"],[75.0,77.0,\"102\"],[74.0,75.0,\"102\"],[60.0,68.0,\"102\"],[59.0,66.0,\"102\"],[50.0,58.0,\"102\"],[1463.0,183.0,\"102\"],[50.0,58.0,\"102\"],[808.0,182.0,\"102\"],[804.0,182.0,\"102\"],[502.0,173.0,\"102\"],[497.0,173.0,\"102\"],[354.0,165.0,\"102\"],[349.0,163.0,\"102\"],[225.0,144.0,\"102\"]],\"hovertemplate\":\"Motif Id=%{customdata[2]}\\u003cbr\\u003eM - synapse_threshold=%{x}\\u003cbr\\u003eZ score=%{y}\\u003cbr\\u003eedges=%{customdata[0]}\\u003cbr\\u003enodes=%{customdata[1]}\\u003cextra\\u003e\\u003c\\u002fextra\\u003e\",\"legendgroup\":\"102\",\"marker\":{\"color\":\"#FECB52\",\"symbol\":\"circle\"},\"mode\":\"markers\",\"name\":\"102\",\"orientation\":\"v\",\"showlegend\":true,\"x\":[1.0,10.0,11.0,12.0,13.0,14.0,15.0,16.0,17.0,18.0,19.0,2.0,20.0,3.0,4.0,5.0,6.0,7.0,8.0,9.0],\"xaxis\":\"x\",\"y\":[7.7257113090384415,-0.42673835136256993,-0.4044866952860591,-0.4054645851739833,-0.37586996637057046,-0.37222134528481715,-0.2646767474204679,-0.24183780852147777,-0.10050378152592122,-0.11476596157913456,-0.06723348523552919,7.72870780943326,-0.10050378152592122,4.583427425182702,4.552833017189039,-0.764014996460057,-0.7974933716772836,2.3884090662451096,2.511511956509924,-0.41482320258063354],\"yaxis\":\"y\",\"type\":\"scatter\"},{\"customdata\":[[1491.0,195.0,\"108\"],[221.0,143.0,\"108\"],[153.0,124.0,\"108\"],[151.0,122.0,\"108\"],[110.0,101.0,\"108\"],[108.0,99.0,\"108\"],[75.0,77.0,\"108\"],[74.0,75.0,\"108\"],[60.0,68.0,\"108\"],[59.0,66.0,\"108\"],[50.0,58.0,\"108\"],[1463.0,183.0,\"108\"],[50.0,58.0,\"108\"],[808.0,182.0,\"108\"],[804.0,182.0,\"108\"],[502.0,173.0,\"108\"],[497.0,173.0,\"108\"],[354.0,165.0,\"108\"],[349.0,163.0,\"108\"],[225.0,144.0,\"108\"]],\"hovertemplate\":\"Motif Id=%{customdata[2]}\\u003cbr\\u003eM - synapse_threshold=%{x}\\u003cbr\\u003eZ score=%{y}\\u003cbr\\u003eedges=%{customdata[0]}\\u003cbr\\u003enodes=%{customdata[1]}\\u003cextra\\u003e\\u003c\\u002fextra\\u003e\",\"legendgroup\":\"108\",\"marker\":{\"color\":\"#636efa\",\"symbol\":\"circle\"},\"mode\":\"markers\",\"name\":\"108\",\"orientation\":\"v\",\"showlegend\":true,\"x\":[1.0,10.0,11.0,12.0,13.0,14.0,15.0,16.0,17.0,18.0,19.0,2.0,20.0,3.0,4.0,5.0,6.0,7.0,8.0,9.0],\"xaxis\":\"x\",\"y\":[18.650826244158893,4.1551122746387374,6.348487999648227,5.912590150080065,-0.2531721631939904,-0.28415409826971644,-0.1697250257391052,-0.17011439313712282,-0.07769309688655059,-0.06337242505244779,-0.06337242505244779,18.19846676357175,-0.04476614810358452,12.537650326778552,12.699853296628811,8.174760982865667,9.064614140961922,10.212309254076654,9.69629187284946,4.03446937124439],\"yaxis\":\"y\",\"type\":\"scatter\"},{\"customdata\":[[1491.0,195.0,\"110\"],[221.0,143.0,\"110\"],[153.0,124.0,\"110\"],[151.0,122.0,\"110\"],[110.0,101.0,\"110\"],[108.0,99.0,\"110\"],[75.0,77.0,\"110\"],[74.0,75.0,\"110\"],[60.0,68.0,\"110\"],[59.0,66.0,\"110\"],[50.0,58.0,\"110\"],[1463.0,183.0,\"110\"],[50.0,58.0,\"110\"],[808.0,182.0,\"110\"],[804.0,182.0,\"110\"],[502.0,173.0,\"110\"],[497.0,173.0,\"110\"],[354.0,165.0,\"110\"],[349.0,163.0,\"110\"],[225.0,144.0,\"110\"]],\"hovertemplate\":\"Motif Id=%{customdata[2]}\\u003cbr\\u003eM - synapse_threshold=%{x}\\u003cbr\\u003eZ score=%{y}\\u003cbr\\u003eedges=%{customdata[0]}\\u003cbr\\u003enodes=%{customdata[1]}\\u003cextra\\u003e\\u003c\\u002fextra\\u003e\",\"legendgroup\":\"110\",\"marker\":{\"color\":\"#EF553B\",\"symbol\":\"circle\"},\"mode\":\"markers\",\"name\":\"110\",\"orientation\":\"v\",\"showlegend\":true,\"x\":[1.0,10.0,11.0,12.0,13.0,14.0,15.0,16.0,17.0,18.0,19.0,2.0,20.0,3.0,4.0,5.0,6.0,7.0,8.0,9.0],\"xaxis\":\"x\",\"y\":[42.061860193984344,-0.1505182990156935,-0.13150664608837076,-0.14645975437882874,-0.11476596157913455,-0.11476596157913456,-0.07769309688655057,-0.10050378152592122,0.0,0.0,0.0,39.49230822226575,0.0,21.64641106844509,22.951727370698407,22.680710994222604,22.631087499508194,6.003553450119023,5.692592600593346,-0.156812512046795],\"yaxis\":\"y\",\"type\":\"scatter\"},{\"customdata\":[[1491.0,195.0,\"238\"],[221.0,143.0,\"238\"],[153.0,124.0,\"238\"],[151.0,122.0,\"238\"],[110.0,101.0,\"238\"],[108.0,99.0,\"238\"],[75.0,77.0,\"238\"],[74.0,75.0,\"238\"],[60.0,68.0,\"238\"],[59.0,66.0,\"238\"],[50.0,58.0,\"238\"],[1463.0,183.0,\"238\"],[50.0,58.0,\"238\"],[808.0,182.0,\"238\"],[804.0,182.0,\"238\"],[502.0,173.0,\"238\"],[497.0,173.0,\"238\"],[354.0,165.0,\"238\"],[349.0,163.0,\"238\"],[225.0,144.0,\"238\"]],\"hovertemplate\":\"Motif Id=%{customdata[2]}\\u003cbr\\u003eM - synapse_threshold=%{x}\\u003cbr\\u003eZ score=%{y}\\u003cbr\\u003eedges=%{customdata[0]}\\u003cbr\\u003enodes=%{customdata[1]}\\u003cextra\\u003e\\u003c\\u002fextra\\u003e\",\"legendgroup\":\"238\",\"marker\":{\"color\":\"#00cc96\",\"symbol\":\"circle\"},\"mode\":\"markers\",\"name\":\"238\",\"orientation\":\"v\",\"showlegend\":true,\"x\":[1.0,10.0,11.0,12.0,13.0,14.0,15.0,16.0,17.0,18.0,19.0,2.0,20.0,3.0,4.0,5.0,6.0,7.0,8.0,9.0],\"xaxis\":\"x\",\"y\":[131.7999092549319,-0.031638599858416626,0.0,0.0,-0.03163859985841663,0.0,0.0,0.0,0.0,0.0,0.0,110.84217663053927,0.0,63.245561116974834,63.245561116974834,-0.03163859985841663,-0.03163859985841663,0.0,0.0,0.0],\"yaxis\":\"y\",\"type\":\"scatter\"}],                        {\"template\":{\"data\":{\"histogram2dcontour\":[{\"type\":\"histogram2dcontour\",\"colorbar\":{\"outlinewidth\":0,\"ticks\":\"\"},\"colorscale\":[[0.0,\"#0d0887\"],[0.1111111111111111,\"#46039f\"],[0.2222222222222222,\"#7201a8\"],[0.3333333333333333,\"#9c179e\"],[0.4444444444444444,\"#bd3786\"],[0.5555555555555556,\"#d8576b\"],[0.6666666666666666,\"#ed7953\"],[0.7777777777777778,\"#fb9f3a\"],[0.8888888888888888,\"#fdca26\"],[1.0,\"#f0f921\"]]}],\"choropleth\":[{\"type\":\"choropleth\",\"colorbar\":{\"outlinewidth\":0,\"ticks\":\"\"}}],\"histogram2d\":[{\"type\":\"histogram2d\",\"colorbar\":{\"outlinewidth\":0,\"ticks\":\"\"},\"colorscale\":[[0.0,\"#0d0887\"],[0.1111111111111111,\"#46039f\"],[0.2222222222222222,\"#7201a8\"],[0.3333333333333333,\"#9c179e\"],[0.4444444444444444,\"#bd3786\"],[0.5555555555555556,\"#d8576b\"],[0.6666666666666666,\"#ed7953\"],[0.7777777777777778,\"#fb9f3a\"],[0.8888888888888888,\"#fdca26\"],[1.0,\"#f0f921\"]]}],\"heatmap\":[{\"type\":\"heatmap\",\"colorbar\":{\"outlinewidth\":0,\"ticks\":\"\"},\"colorscale\":[[0.0,\"#0d0887\"],[0.1111111111111111,\"#46039f\"],[0.2222222222222222,\"#7201a8\"],[0.3333333333333333,\"#9c179e\"],[0.4444444444444444,\"#bd3786\"],[0.5555555555555556,\"#d8576b\"],[0.6666666666666666,\"#ed7953\"],[0.7777777777777778,\"#fb9f3a\"],[0.8888888888888888,\"#fdca26\"],[1.0,\"#f0f921\"]]}],\"heatmapgl\":[{\"type\":\"heatmapgl\",\"colorbar\":{\"outlinewidth\":0,\"ticks\":\"\"},\"colorscale\":[[0.0,\"#0d0887\"],[0.1111111111111111,\"#46039f\"],[0.2222222222222222,\"#7201a8\"],[0.3333333333333333,\"#9c179e\"],[0.4444444444444444,\"#bd3786\"],[0.5555555555555556,\"#d8576b\"],[0.6666666666666666,\"#ed7953\"],[0.7777777777777778,\"#fb9f3a\"],[0.8888888888888888,\"#fdca26\"],[1.0,\"#f0f921\"]]}],\"contourcarpet\":[{\"type\":\"contourcarpet\",\"colorbar\":{\"outlinewidth\":0,\"ticks\":\"\"}}],\"contour\":[{\"type\":\"contour\",\"colorbar\":{\"outlinewidth\":0,\"ticks\":\"\"},\"colorscale\":[[0.0,\"#0d0887\"],[0.1111111111111111,\"#46039f\"],[0.2222222222222222,\"#7201a8\"],[0.3333333333333333,\"#9c179e\"],[0.4444444444444444,\"#bd3786\"],[0.5555555555555556,\"#d8576b\"],[0.6666666666666666,\"#ed7953\"],[0.7777777777777778,\"#fb9f3a\"],[0.8888888888888888,\"#fdca26\"],[1.0,\"#f0f921\"]]}],\"surface\":[{\"type\":\"surface\",\"colorbar\":{\"outlinewidth\":0,\"ticks\":\"\"},\"colorscale\":[[0.0,\"#0d0887\"],[0.1111111111111111,\"#46039f\"],[0.2222222222222222,\"#7201a8\"],[0.3333333333333333,\"#9c179e\"],[0.4444444444444444,\"#bd3786\"],[0.5555555555555556,\"#d8576b\"],[0.6666666666666666,\"#ed7953\"],[0.7777777777777778,\"#fb9f3a\"],[0.8888888888888888,\"#fdca26\"],[1.0,\"#f0f921\"]]}],\"mesh3d\":[{\"type\":\"mesh3d\",\"colorbar\":{\"outlinewidth\":0,\"ticks\":\"\"}}],\"scatter\":[{\"fillpattern\":{\"fillmode\":\"overlay\",\"size\":10,\"solidity\":0.2},\"type\":\"scatter\"}],\"parcoords\":[{\"type\":\"parcoords\",\"line\":{\"colorbar\":{\"outlinewidth\":0,\"ticks\":\"\"}}}],\"scatterpolargl\":[{\"type\":\"scatterpolargl\",\"marker\":{\"colorbar\":{\"outlinewidth\":0,\"ticks\":\"\"}}}],\"bar\":[{\"error_x\":{\"color\":\"#2a3f5f\"},\"error_y\":{\"color\":\"#2a3f5f\"},\"marker\":{\"line\":{\"color\":\"#E5ECF6\",\"width\":0.5},\"pattern\":{\"fillmode\":\"overlay\",\"size\":10,\"solidity\":0.2}},\"type\":\"bar\"}],\"scattergeo\":[{\"type\":\"scattergeo\",\"marker\":{\"colorbar\":{\"outlinewidth\":0,\"ticks\":\"\"}}}],\"scatterpolar\":[{\"type\":\"scatterpolar\",\"marker\":{\"colorbar\":{\"outlinewidth\":0,\"ticks\":\"\"}}}],\"histogram\":[{\"marker\":{\"pattern\":{\"fillmode\":\"overlay\",\"size\":10,\"solidity\":0.2}},\"type\":\"histogram\"}],\"scattergl\":[{\"type\":\"scattergl\",\"marker\":{\"colorbar\":{\"outlinewidth\":0,\"ticks\":\"\"}}}],\"scatter3d\":[{\"type\":\"scatter3d\",\"line\":{\"colorbar\":{\"outlinewidth\":0,\"ticks\":\"\"}},\"marker\":{\"colorbar\":{\"outlinewidth\":0,\"ticks\":\"\"}}}],\"scattermapbox\":[{\"type\":\"scattermapbox\",\"marker\":{\"colorbar\":{\"outlinewidth\":0,\"ticks\":\"\"}}}],\"scatterternary\":[{\"type\":\"scatterternary\",\"marker\":{\"colorbar\":{\"outlinewidth\":0,\"ticks\":\"\"}}}],\"scattercarpet\":[{\"type\":\"scattercarpet\",\"marker\":{\"colorbar\":{\"outlinewidth\":0,\"ticks\":\"\"}}}],\"carpet\":[{\"aaxis\":{\"endlinecolor\":\"#2a3f5f\",\"gridcolor\":\"white\",\"linecolor\":\"white\",\"minorgridcolor\":\"white\",\"startlinecolor\":\"#2a3f5f\"},\"baxis\":{\"endlinecolor\":\"#2a3f5f\",\"gridcolor\":\"white\",\"linecolor\":\"white\",\"minorgridcolor\":\"white\",\"startlinecolor\":\"#2a3f5f\"},\"type\":\"carpet\"}],\"table\":[{\"cells\":{\"fill\":{\"color\":\"#EBF0F8\"},\"line\":{\"color\":\"white\"}},\"header\":{\"fill\":{\"color\":\"#C8D4E3\"},\"line\":{\"color\":\"white\"}},\"type\":\"table\"}],\"barpolar\":[{\"marker\":{\"line\":{\"color\":\"#E5ECF6\",\"width\":0.5},\"pattern\":{\"fillmode\":\"overlay\",\"size\":10,\"solidity\":0.2}},\"type\":\"barpolar\"}],\"pie\":[{\"automargin\":true,\"type\":\"pie\"}]},\"layout\":{\"autotypenumbers\":\"strict\",\"colorway\":[\"#636efa\",\"#EF553B\",\"#00cc96\",\"#ab63fa\",\"#FFA15A\",\"#19d3f3\",\"#FF6692\",\"#B6E880\",\"#FF97FF\",\"#FECB52\"],\"font\":{\"color\":\"#2a3f5f\"},\"hovermode\":\"closest\",\"hoverlabel\":{\"align\":\"left\"},\"paper_bgcolor\":\"white\",\"plot_bgcolor\":\"#E5ECF6\",\"polar\":{\"bgcolor\":\"#E5ECF6\",\"angularaxis\":{\"gridcolor\":\"white\",\"linecolor\":\"white\",\"ticks\":\"\"},\"radialaxis\":{\"gridcolor\":\"white\",\"linecolor\":\"white\",\"ticks\":\"\"}},\"ternary\":{\"bgcolor\":\"#E5ECF6\",\"aaxis\":{\"gridcolor\":\"white\",\"linecolor\":\"white\",\"ticks\":\"\"},\"baxis\":{\"gridcolor\":\"white\",\"linecolor\":\"white\",\"ticks\":\"\"},\"caxis\":{\"gridcolor\":\"white\",\"linecolor\":\"white\",\"ticks\":\"\"}},\"coloraxis\":{\"colorbar\":{\"outlinewidth\":0,\"ticks\":\"\"}},\"colorscale\":{\"sequential\":[[0.0,\"#0d0887\"],[0.1111111111111111,\"#46039f\"],[0.2222222222222222,\"#7201a8\"],[0.3333333333333333,\"#9c179e\"],[0.4444444444444444,\"#bd3786\"],[0.5555555555555556,\"#d8576b\"],[0.6666666666666666,\"#ed7953\"],[0.7777777777777778,\"#fb9f3a\"],[0.8888888888888888,\"#fdca26\"],[1.0,\"#f0f921\"]],\"sequentialminus\":[[0.0,\"#0d0887\"],[0.1111111111111111,\"#46039f\"],[0.2222222222222222,\"#7201a8\"],[0.3333333333333333,\"#9c179e\"],[0.4444444444444444,\"#bd3786\"],[0.5555555555555556,\"#d8576b\"],[0.6666666666666666,\"#ed7953\"],[0.7777777777777778,\"#fb9f3a\"],[0.8888888888888888,\"#fdca26\"],[1.0,\"#f0f921\"]],\"diverging\":[[0,\"#8e0152\"],[0.1,\"#c51b7d\"],[0.2,\"#de77ae\"],[0.3,\"#f1b6da\"],[0.4,\"#fde0ef\"],[0.5,\"#f7f7f7\"],[0.6,\"#e6f5d0\"],[0.7,\"#b8e186\"],[0.8,\"#7fbc41\"],[0.9,\"#4d9221\"],[1,\"#276419\"]]},\"xaxis\":{\"gridcolor\":\"white\",\"linecolor\":\"white\",\"ticks\":\"\",\"title\":{\"standoff\":15},\"zerolinecolor\":\"white\",\"automargin\":true,\"zerolinewidth\":2},\"yaxis\":{\"gridcolor\":\"white\",\"linecolor\":\"white\",\"ticks\":\"\",\"title\":{\"standoff\":15},\"zerolinecolor\":\"white\",\"automargin\":true,\"zerolinewidth\":2},\"scene\":{\"xaxis\":{\"backgroundcolor\":\"#E5ECF6\",\"gridcolor\":\"white\",\"linecolor\":\"white\",\"showbackground\":true,\"ticks\":\"\",\"zerolinecolor\":\"white\",\"gridwidth\":2},\"yaxis\":{\"backgroundcolor\":\"#E5ECF6\",\"gridcolor\":\"white\",\"linecolor\":\"white\",\"showbackground\":true,\"ticks\":\"\",\"zerolinecolor\":\"white\",\"gridwidth\":2},\"zaxis\":{\"backgroundcolor\":\"#E5ECF6\",\"gridcolor\":\"white\",\"linecolor\":\"white\",\"showbackground\":true,\"ticks\":\"\",\"zerolinecolor\":\"white\",\"gridwidth\":2}},\"shapedefaults\":{\"line\":{\"color\":\"#2a3f5f\"}},\"annotationdefaults\":{\"arrowcolor\":\"#2a3f5f\",\"arrowhead\":0,\"arrowwidth\":1},\"geo\":{\"bgcolor\":\"white\",\"landcolor\":\"#E5ECF6\",\"subunitcolor\":\"white\",\"showland\":true,\"showlakes\":true,\"lakecolor\":\"white\"},\"title\":{\"x\":0.05},\"mapbox\":{\"style\":\"light\"}}},\"xaxis\":{\"anchor\":\"y\",\"domain\":[0.0,1.0],\"title\":{\"text\":\"M - synapse_threshold\"}},\"yaxis\":{\"anchor\":\"x\",\"domain\":[0.0,1.0],\"title\":{\"text\":\"Z score\"}},\"legend\":{\"title\":{\"text\":\"Motif Id\"},\"tracegroupgap\":0},\"title\":{\"text\":\"Z-score as a function of M. network: durbin\"}},                        {\"responsive\": true}                    ).then(function(){\n",
       "                            \n",
       "var gd = document.getElementById('ec6eb076-0c8e-4c86-a5d4-4c97e36360fb');\n",
       "var x = new MutationObserver(function (mutations, observer) {{\n",
       "        var display = window.getComputedStyle(gd).display;\n",
       "        if (!display || display === 'none') {{\n",
       "            console.log([gd, 'removed!']);\n",
       "            Plotly.purge(gd);\n",
       "            observer.disconnect();\n",
       "        }}\n",
       "}});\n",
       "\n",
       "// Listen for the removal of the full notebook cells\n",
       "var notebookContainer = gd.closest('#notebook-container');\n",
       "if (notebookContainer) {{\n",
       "    x.observe(notebookContainer, {childList: true});\n",
       "}}\n",
       "\n",
       "// Listen for the clearing of the current output cell\n",
       "var outputEl = gd.closest('.output');\n",
       "if (outputEl) {{\n",
       "    x.observe(outputEl, {childList: true});\n",
       "}}\n",
       "\n",
       "                        })                };                });            </script>        </div>"
      ]
     },
     "metadata": {},
     "output_type": "display_data"
    },
    {
     "data": {
      "text/html": [
       "<div>\n",
       "<style scoped>\n",
       "    .dataframe tbody tr th:only-of-type {\n",
       "        vertical-align: middle;\n",
       "    }\n",
       "\n",
       "    .dataframe tbody tr th {\n",
       "        vertical-align: top;\n",
       "    }\n",
       "\n",
       "    .dataframe thead th {\n",
       "        text-align: right;\n",
       "    }\n",
       "</style>\n",
       "<table border=\"1\" class=\"dataframe\">\n",
       "  <thead>\n",
       "    <tr style=\"text-align: right;\">\n",
       "      <th></th>\n",
       "      <th>m</th>\n",
       "      <th>edges</th>\n",
       "      <th>nodes</th>\n",
       "      <th>variable</th>\n",
       "      <th>value</th>\n",
       "    </tr>\n",
       "  </thead>\n",
       "  <tbody>\n",
       "    <tr>\n",
       "      <th>0</th>\n",
       "      <td>1.0</td>\n",
       "      <td>1491.0</td>\n",
       "      <td>195.0</td>\n",
       "      <td>fan_out-6</td>\n",
       "      <td>-24.182305</td>\n",
       "    </tr>\n",
       "    <tr>\n",
       "      <th>1</th>\n",
       "      <td>10.0</td>\n",
       "      <td>221.0</td>\n",
       "      <td>143.0</td>\n",
       "      <td>fan_out-6</td>\n",
       "      <td>-4.546333</td>\n",
       "    </tr>\n",
       "    <tr>\n",
       "      <th>2</th>\n",
       "      <td>11.0</td>\n",
       "      <td>153.0</td>\n",
       "      <td>124.0</td>\n",
       "      <td>fan_out-6</td>\n",
       "      <td>-3.174078</td>\n",
       "    </tr>\n",
       "    <tr>\n",
       "      <th>3</th>\n",
       "      <td>12.0</td>\n",
       "      <td>151.0</td>\n",
       "      <td>122.0</td>\n",
       "      <td>fan_out-6</td>\n",
       "      <td>-3.083172</td>\n",
       "    </tr>\n",
       "    <tr>\n",
       "      <th>4</th>\n",
       "      <td>13.0</td>\n",
       "      <td>110.0</td>\n",
       "      <td>101.0</td>\n",
       "      <td>fan_out-6</td>\n",
       "      <td>-2.981251</td>\n",
       "    </tr>\n",
       "    <tr>\n",
       "      <th>...</th>\n",
       "      <td>...</td>\n",
       "      <td>...</td>\n",
       "      <td>...</td>\n",
       "      <td>...</td>\n",
       "      <td>...</td>\n",
       "    </tr>\n",
       "    <tr>\n",
       "      <th>255</th>\n",
       "      <td>5.0</td>\n",
       "      <td>502.0</td>\n",
       "      <td>173.0</td>\n",
       "      <td>238</td>\n",
       "      <td>-0.031639</td>\n",
       "    </tr>\n",
       "    <tr>\n",
       "      <th>256</th>\n",
       "      <td>6.0</td>\n",
       "      <td>497.0</td>\n",
       "      <td>173.0</td>\n",
       "      <td>238</td>\n",
       "      <td>-0.031639</td>\n",
       "    </tr>\n",
       "    <tr>\n",
       "      <th>257</th>\n",
       "      <td>7.0</td>\n",
       "      <td>354.0</td>\n",
       "      <td>165.0</td>\n",
       "      <td>238</td>\n",
       "      <td>0.000000</td>\n",
       "    </tr>\n",
       "    <tr>\n",
       "      <th>258</th>\n",
       "      <td>8.0</td>\n",
       "      <td>349.0</td>\n",
       "      <td>163.0</td>\n",
       "      <td>238</td>\n",
       "      <td>0.000000</td>\n",
       "    </tr>\n",
       "    <tr>\n",
       "      <th>259</th>\n",
       "      <td>9.0</td>\n",
       "      <td>225.0</td>\n",
       "      <td>144.0</td>\n",
       "      <td>238</td>\n",
       "      <td>0.000000</td>\n",
       "    </tr>\n",
       "  </tbody>\n",
       "</table>\n",
       "<p>260 rows × 5 columns</p>\n",
       "</div>"
      ],
      "text/plain": [
       "        m   edges  nodes   variable      value\n",
       "0     1.0  1491.0  195.0  fan_out-6 -24.182305\n",
       "1    10.0   221.0  143.0  fan_out-6  -4.546333\n",
       "2    11.0   153.0  124.0  fan_out-6  -3.174078\n",
       "3    12.0   151.0  122.0  fan_out-6  -3.083172\n",
       "4    13.0   110.0  101.0  fan_out-6  -2.981251\n",
       "..    ...     ...    ...        ...        ...\n",
       "255   5.0   502.0  173.0        238  -0.031639\n",
       "256   6.0   497.0  173.0        238  -0.031639\n",
       "257   7.0   354.0  165.0        238   0.000000\n",
       "258   8.0   349.0  163.0        238   0.000000\n",
       "259   9.0   225.0  144.0        238   0.000000\n",
       "\n",
       "[260 rows x 5 columns]"
      ]
     },
     "execution_count": 74,
     "metadata": {},
     "output_type": "execute_result"
    }
   ],
   "source": [
    "read_z_scores_as_func_of_m('durbin')"
   ]
  },
  {
   "cell_type": "code",
   "execution_count": 75,
   "id": "85e4f6b3-2a6e-4d4b-935b-34a2962138f6",
   "metadata": {},
   "outputs": [
    {
     "data": {
      "application/vnd.plotly.v1+json": {
       "config": {
        "plotlyServerURL": "https://plot.ly"
       },
       "data": [
        {
         "customdata": [
          [
           1752,
           283,
           "fan_out-6"
          ],
          [
           371,
           223,
           "fan_out-6"
          ],
          [
           328,
           212,
           "fan_out-6"
          ],
          [
           294,
           202,
           "fan_out-6"
          ],
          [
           267,
           190,
           "fan_out-6"
          ],
          [
           242,
           181,
           "fan_out-6"
          ],
          [
           222,
           176,
           "fan_out-6"
          ],
          [
           207,
           169,
           "fan_out-6"
          ],
          [
           197,
           166,
           "fan_out-6"
          ],
          [
           177,
           150,
           "fan_out-6"
          ],
          [
           166,
           142,
           "fan_out-6"
          ],
          [
           1267,
           281,
           "fan_out-6"
          ],
          [
           151,
           130,
           "fan_out-6"
          ],
          [
           984,
           272,
           "fan_out-6"
          ],
          [
           776,
           268,
           "fan_out-6"
          ],
          [
           661,
           259,
           "fan_out-6"
          ],
          [
           570,
           256,
           "fan_out-6"
          ],
          [
           496,
           249,
           "fan_out-6"
          ],
          [
           456,
           244,
           "fan_out-6"
          ],
          [
           417,
           235,
           "fan_out-6"
          ]
         ],
         "hovertemplate": "Motif Id=%{customdata[2]}<br>M - synapse_threshold=%{x}<br>Z score=%{y}<br>edges=%{customdata[0]}<br>nodes=%{customdata[1]}<extra></extra>",
         "legendgroup": "fan_out-6",
         "marker": {
          "color": "#636efa",
          "symbol": "circle"
         },
         "mode": "markers",
         "name": "fan_out-6",
         "orientation": "v",
         "showlegend": true,
         "type": "scatter",
         "x": [
          1,
          10,
          11,
          12,
          13,
          14,
          15,
          16,
          17,
          18,
          19,
          2,
          20,
          3,
          4,
          5,
          6,
          7,
          8,
          9
         ],
         "xaxis": "x",
         "y": [
          -21.75469403276607,
          -9.968432716334654,
          -8.659000331136424,
          -8.085295828399722,
          -7.223925419599238,
          -6.8449194219015395,
          -4.703426791794594,
          -4.7079729813987905,
          -3.9776117446282013,
          -3.7085041299820287,
          -3.7159992017980716,
          -19.873099574122328,
          -3.774572239989295,
          -17.61337239938806,
          -13.901186133665908,
          -12.061214033773181,
          -12.393614027618241,
          -13.181489601749039,
          -12.406301827146866,
          -11.098007664400404
         ],
         "yaxis": "y"
        },
        {
         "customdata": [
          [
           1752,
           283,
           "cascade-12"
          ],
          [
           371,
           223,
           "cascade-12"
          ],
          [
           328,
           212,
           "cascade-12"
          ],
          [
           294,
           202,
           "cascade-12"
          ],
          [
           267,
           190,
           "cascade-12"
          ],
          [
           242,
           181,
           "cascade-12"
          ],
          [
           222,
           176,
           "cascade-12"
          ],
          [
           207,
           169,
           "cascade-12"
          ],
          [
           197,
           166,
           "cascade-12"
          ],
          [
           177,
           150,
           "cascade-12"
          ],
          [
           166,
           142,
           "cascade-12"
          ],
          [
           1267,
           281,
           "cascade-12"
          ],
          [
           151,
           130,
           "cascade-12"
          ],
          [
           984,
           272,
           "cascade-12"
          ],
          [
           776,
           268,
           "cascade-12"
          ],
          [
           661,
           259,
           "cascade-12"
          ],
          [
           570,
           256,
           "cascade-12"
          ],
          [
           496,
           249,
           "cascade-12"
          ],
          [
           456,
           244,
           "cascade-12"
          ],
          [
           417,
           235,
           "cascade-12"
          ]
         ],
         "hovertemplate": "Motif Id=%{customdata[2]}<br>M - synapse_threshold=%{x}<br>Z score=%{y}<br>edges=%{customdata[0]}<br>nodes=%{customdata[1]}<extra></extra>",
         "legendgroup": "cascade-12",
         "marker": {
          "color": "#EF553B",
          "symbol": "circle"
         },
         "mode": "markers",
         "name": "cascade-12",
         "orientation": "v",
         "showlegend": true,
         "type": "scatter",
         "x": [
          1,
          10,
          11,
          12,
          13,
          14,
          15,
          16,
          17,
          18,
          19,
          2,
          20,
          3,
          4,
          5,
          6,
          7,
          8,
          9
         ],
         "xaxis": "x",
         "y": [
          -17.177480656781597,
          -10.496887856061004,
          -9.789348335632734,
          -9.153707196676915,
          -8.551530569712972,
          -8.175500108524114,
          -6.1338707547808955,
          -6.323383897663836,
          -5.080183839492648,
          -4.84620514440169,
          -4.7458937672564865,
          -13.774247290659483,
          -4.9082592239263905,
          -11.622891164450182,
          -11.755688421377384,
          -10.718411353325951,
          -11.179815850162898,
          -12.817743934202237,
          -13.045710273806845,
          -11.151688279735144
         ],
         "yaxis": "y"
        },
        {
         "customdata": [
          [
           1752,
           283,
           "14"
          ],
          [
           371,
           223,
           "14"
          ],
          [
           328,
           212,
           "14"
          ],
          [
           294,
           202,
           "14"
          ],
          [
           267,
           190,
           "14"
          ],
          [
           242,
           181,
           "14"
          ],
          [
           222,
           176,
           "14"
          ],
          [
           207,
           169,
           "14"
          ],
          [
           197,
           166,
           "14"
          ],
          [
           177,
           150,
           "14"
          ],
          [
           166,
           142,
           "14"
          ],
          [
           1267,
           281,
           "14"
          ],
          [
           151,
           130,
           "14"
          ],
          [
           984,
           272,
           "14"
          ],
          [
           776,
           268,
           "14"
          ],
          [
           661,
           259,
           "14"
          ],
          [
           570,
           256,
           "14"
          ],
          [
           496,
           249,
           "14"
          ],
          [
           456,
           244,
           "14"
          ],
          [
           417,
           235,
           "14"
          ]
         ],
         "hovertemplate": "Motif Id=%{customdata[2]}<br>M - synapse_threshold=%{x}<br>Z score=%{y}<br>edges=%{customdata[0]}<br>nodes=%{customdata[1]}<extra></extra>",
         "legendgroup": "14",
         "marker": {
          "color": "#00cc96",
          "symbol": "circle"
         },
         "mode": "markers",
         "name": "14",
         "orientation": "v",
         "showlegend": true,
         "type": "scatter",
         "x": [
          1,
          10,
          11,
          12,
          13,
          14,
          15,
          16,
          17,
          18,
          19,
          2,
          20,
          3,
          4,
          5,
          6,
          7,
          8,
          9
         ],
         "xaxis": "x",
         "y": [
          7.916182254860332,
          5.852408613029353,
          5.749993199181165,
          5.766974643329365,
          5.478474354053884,
          5.405070091536553,
          4.534419531483721,
          4.650792835423532,
          4.011299428019187,
          3.889086444122849,
          3.877543907174923,
          6.449878480159755,
          3.944874128760167,
          4.480683774765569,
          4.550121408433741,
          4.125815772593549,
          5.247036642091472,
          6.522172183834012,
          6.632473935494293,
          5.595797977567072
         ],
         "yaxis": "y"
        },
        {
         "customdata": [
          [
           1752,
           283,
           "fan_in-36"
          ],
          [
           371,
           223,
           "fan_in-36"
          ],
          [
           328,
           212,
           "fan_in-36"
          ],
          [
           294,
           202,
           "fan_in-36"
          ],
          [
           267,
           190,
           "fan_in-36"
          ],
          [
           242,
           181,
           "fan_in-36"
          ],
          [
           222,
           176,
           "fan_in-36"
          ],
          [
           207,
           169,
           "fan_in-36"
          ],
          [
           197,
           166,
           "fan_in-36"
          ],
          [
           177,
           150,
           "fan_in-36"
          ],
          [
           166,
           142,
           "fan_in-36"
          ],
          [
           1267,
           281,
           "fan_in-36"
          ],
          [
           151,
           130,
           "fan_in-36"
          ],
          [
           984,
           272,
           "fan_in-36"
          ],
          [
           776,
           268,
           "fan_in-36"
          ],
          [
           661,
           259,
           "fan_in-36"
          ],
          [
           570,
           256,
           "fan_in-36"
          ],
          [
           496,
           249,
           "fan_in-36"
          ],
          [
           456,
           244,
           "fan_in-36"
          ],
          [
           417,
           235,
           "fan_in-36"
          ]
         ],
         "hovertemplate": "Motif Id=%{customdata[2]}<br>M - synapse_threshold=%{x}<br>Z score=%{y}<br>edges=%{customdata[0]}<br>nodes=%{customdata[1]}<extra></extra>",
         "legendgroup": "fan_in-36",
         "marker": {
          "color": "#ab63fa",
          "symbol": "circle"
         },
         "mode": "markers",
         "name": "fan_in-36",
         "orientation": "v",
         "showlegend": true,
         "type": "scatter",
         "x": [
          1,
          10,
          11,
          12,
          13,
          14,
          15,
          16,
          17,
          18,
          19,
          2,
          20,
          3,
          4,
          5,
          6,
          7,
          8,
          9
         ],
         "xaxis": "x",
         "y": [
          -17.760594250081198,
          -11.620799970820956,
          -10.538382906353988,
          -9.581160116034848,
          -8.931757167040923,
          -8.361053115750487,
          -6.476695823143289,
          -6.614693435869863,
          -5.394352012689523,
          -4.990074864006944,
          -4.98061158584634,
          -13.902642230822613,
          -4.956224555410387,
          -12.496521968280732,
          -13.131194261890421,
          -12.018338319940867,
          -11.943762025210972,
          -13.025053835166126,
          -13.424499903287066,
          -12.001446046018694
         ],
         "yaxis": "y"
        },
        {
         "customdata": [
          [
           1752,
           283,
           "feed_forward-38"
          ],
          [
           371,
           223,
           "feed_forward-38"
          ],
          [
           328,
           212,
           "feed_forward-38"
          ],
          [
           294,
           202,
           "feed_forward-38"
          ],
          [
           267,
           190,
           "feed_forward-38"
          ],
          [
           242,
           181,
           "feed_forward-38"
          ],
          [
           222,
           176,
           "feed_forward-38"
          ],
          [
           207,
           169,
           "feed_forward-38"
          ],
          [
           197,
           166,
           "feed_forward-38"
          ],
          [
           177,
           150,
           "feed_forward-38"
          ],
          [
           166,
           142,
           "feed_forward-38"
          ],
          [
           1267,
           281,
           "feed_forward-38"
          ],
          [
           151,
           130,
           "feed_forward-38"
          ],
          [
           984,
           272,
           "feed_forward-38"
          ],
          [
           776,
           268,
           "feed_forward-38"
          ],
          [
           661,
           259,
           "feed_forward-38"
          ],
          [
           570,
           256,
           "feed_forward-38"
          ],
          [
           496,
           249,
           "feed_forward-38"
          ],
          [
           456,
           244,
           "feed_forward-38"
          ],
          [
           417,
           235,
           "feed_forward-38"
          ]
         ],
         "hovertemplate": "Motif Id=%{customdata[2]}<br>M - synapse_threshold=%{x}<br>Z score=%{y}<br>edges=%{customdata[0]}<br>nodes=%{customdata[1]}<extra></extra>",
         "legendgroup": "feed_forward-38",
         "marker": {
          "color": "#FFA15A",
          "symbol": "circle"
         },
         "mode": "markers",
         "name": "feed_forward-38",
         "orientation": "v",
         "showlegend": true,
         "type": "scatter",
         "x": [
          1,
          10,
          11,
          12,
          13,
          14,
          15,
          16,
          17,
          18,
          19,
          2,
          20,
          3,
          4,
          5,
          6,
          7,
          8,
          9
         ],
         "xaxis": "x",
         "y": [
          5.938169084841598,
          3.418464265513958,
          1.2580285439891503,
          0.16942495408898603,
          -0.7618918238951279,
          -1.4493265686556773,
          -2.5674628573093172,
          -2.408161735663433,
          -2.1985500458039544,
          -2.1176753188591393,
          -2.0876506594912323,
          9.634429521717815,
          -2.0782659214803183,
          12.28330788237459,
          7.741010785594361,
          7.439865185618183,
          5.591079840103971,
          4.449476259757895,
          2.5245200116500466,
          3.7454480077906864
         ],
         "yaxis": "y"
        },
        {
         "customdata": [
          [
           1752,
           283,
           "46"
          ],
          [
           371,
           223,
           "46"
          ],
          [
           328,
           212,
           "46"
          ],
          [
           294,
           202,
           "46"
          ],
          [
           267,
           190,
           "46"
          ],
          [
           242,
           181,
           "46"
          ],
          [
           222,
           176,
           "46"
          ],
          [
           207,
           169,
           "46"
          ],
          [
           197,
           166,
           "46"
          ],
          [
           177,
           150,
           "46"
          ],
          [
           166,
           142,
           "46"
          ],
          [
           1267,
           281,
           "46"
          ],
          [
           151,
           130,
           "46"
          ],
          [
           984,
           272,
           "46"
          ],
          [
           776,
           268,
           "46"
          ],
          [
           661,
           259,
           "46"
          ],
          [
           570,
           256,
           "46"
          ],
          [
           496,
           249,
           "46"
          ],
          [
           456,
           244,
           "46"
          ],
          [
           417,
           235,
           "46"
          ]
         ],
         "hovertemplate": "Motif Id=%{customdata[2]}<br>M - synapse_threshold=%{x}<br>Z score=%{y}<br>edges=%{customdata[0]}<br>nodes=%{customdata[1]}<extra></extra>",
         "legendgroup": "46",
         "marker": {
          "color": "#19d3f3",
          "symbol": "circle"
         },
         "mode": "markers",
         "name": "46",
         "orientation": "v",
         "showlegend": true,
         "type": "scatter",
         "x": [
          1,
          10,
          11,
          12,
          13,
          14,
          15,
          16,
          17,
          18,
          19,
          2,
          20,
          3,
          4,
          5,
          6,
          7,
          8,
          9
         ],
         "xaxis": "x",
         "y": [
          37.74665385815089,
          -0.3218965868571585,
          -0.33105485118570344,
          -0.3091675717126719,
          -0.3684033663003978,
          -0.36419828142789573,
          -0.3292267554078041,
          -0.3265518552773821,
          -0.3142599817317554,
          -0.31237365268062806,
          -0.3315963363870687,
          35.905010842907316,
          -0.2822529017363031,
          27.10043938020044,
          17.0628262894089,
          9.83038053673843,
          12.174018628586364,
          8.572200926827096,
          5.3872702254210365,
          3.652226260970164
         ],
         "yaxis": "y"
        },
        {
         "customdata": [
          [
           1752,
           283,
           "74"
          ],
          [
           371,
           223,
           "74"
          ],
          [
           328,
           212,
           "74"
          ],
          [
           294,
           202,
           "74"
          ],
          [
           267,
           190,
           "74"
          ],
          [
           242,
           181,
           "74"
          ],
          [
           222,
           176,
           "74"
          ],
          [
           207,
           169,
           "74"
          ],
          [
           197,
           166,
           "74"
          ],
          [
           177,
           150,
           "74"
          ],
          [
           166,
           142,
           "74"
          ],
          [
           1267,
           281,
           "74"
          ],
          [
           151,
           130,
           "74"
          ],
          [
           984,
           272,
           "74"
          ],
          [
           776,
           268,
           "74"
          ],
          [
           661,
           259,
           "74"
          ],
          [
           570,
           256,
           "74"
          ],
          [
           496,
           249,
           "74"
          ],
          [
           456,
           244,
           "74"
          ],
          [
           417,
           235,
           "74"
          ]
         ],
         "hovertemplate": "Motif Id=%{customdata[2]}<br>M - synapse_threshold=%{x}<br>Z score=%{y}<br>edges=%{customdata[0]}<br>nodes=%{customdata[1]}<extra></extra>",
         "legendgroup": "74",
         "marker": {
          "color": "#FF6692",
          "symbol": "circle"
         },
         "mode": "markers",
         "name": "74",
         "orientation": "v",
         "showlegend": true,
         "type": "scatter",
         "x": [
          1,
          10,
          11,
          12,
          13,
          14,
          15,
          16,
          17,
          18,
          19,
          2,
          20,
          3,
          4,
          5,
          6,
          7,
          8,
          9
         ],
         "xaxis": "x",
         "y": [
          9.48214471545828,
          7.881319826607071,
          7.462429860579665,
          6.836925443008479,
          6.553752341142646,
          6.230353996615515,
          5.350922485298222,
          5.654373086057118,
          4.417186990492595,
          4.36730310785784,
          4.242224004269929,
          6.715914982605735,
          4.399564028760295,
          5.5035139030365405,
          7.4656699979621965,
          6.914242375562781,
          7.2815822046111895,
          8.179930445595133,
          8.75668164958454,
          7.630021113594843
         ],
         "yaxis": "y"
        },
        {
         "customdata": [
          [
           1752,
           283,
           "78"
          ],
          [
           371,
           223,
           "78"
          ],
          [
           328,
           212,
           "78"
          ],
          [
           294,
           202,
           "78"
          ],
          [
           267,
           190,
           "78"
          ],
          [
           242,
           181,
           "78"
          ],
          [
           222,
           176,
           "78"
          ],
          [
           207,
           169,
           "78"
          ],
          [
           197,
           166,
           "78"
          ],
          [
           177,
           150,
           "78"
          ],
          [
           166,
           142,
           "78"
          ],
          [
           1267,
           281,
           "78"
          ],
          [
           151,
           130,
           "78"
          ],
          [
           984,
           272,
           "78"
          ],
          [
           776,
           268,
           "78"
          ],
          [
           661,
           259,
           "78"
          ],
          [
           570,
           256,
           "78"
          ],
          [
           496,
           249,
           "78"
          ],
          [
           456,
           244,
           "78"
          ],
          [
           417,
           235,
           "78"
          ]
         ],
         "hovertemplate": "Motif Id=%{customdata[2]}<br>M - synapse_threshold=%{x}<br>Z score=%{y}<br>edges=%{customdata[0]}<br>nodes=%{customdata[1]}<extra></extra>",
         "legendgroup": "78",
         "marker": {
          "color": "#B6E880",
          "symbol": "circle"
         },
         "mode": "markers",
         "name": "78",
         "orientation": "v",
         "showlegend": true,
         "type": "scatter",
         "x": [
          1,
          10,
          11,
          12,
          13,
          14,
          15,
          16,
          17,
          18,
          19,
          2,
          20,
          3,
          4,
          5,
          6,
          7,
          8,
          9
         ],
         "xaxis": "x",
         "y": [
          24.045386304516818,
          41.95798851240674,
          44.82101483958412,
          55.70033146031186,
          47.77673175873329,
          41.267905219759236,
          15.468236417074204,
          18.001226875537178,
          7.676166245463366,
          6.428137187828019,
          6.848904217959551,
          24.48579003827364,
          8.5068451149735,
          29.114101755551157,
          32.84920703929315,
          46.47776368448373,
          40.42159746424815,
          60.090058504135236,
          59.68021557977592,
          58.12089150097543
         ],
         "yaxis": "y"
        },
        {
         "customdata": [
          [
           1752,
           283,
           "98"
          ],
          [
           371,
           223,
           "98"
          ],
          [
           328,
           212,
           "98"
          ],
          [
           294,
           202,
           "98"
          ],
          [
           267,
           190,
           "98"
          ],
          [
           242,
           181,
           "98"
          ],
          [
           222,
           176,
           "98"
          ],
          [
           207,
           169,
           "98"
          ],
          [
           197,
           166,
           "98"
          ],
          [
           177,
           150,
           "98"
          ],
          [
           166,
           142,
           "98"
          ],
          [
           1267,
           281,
           "98"
          ],
          [
           151,
           130,
           "98"
          ],
          [
           984,
           272,
           "98"
          ],
          [
           776,
           268,
           "98"
          ],
          [
           661,
           259,
           "98"
          ],
          [
           570,
           256,
           "98"
          ],
          [
           496,
           249,
           "98"
          ],
          [
           456,
           244,
           "98"
          ],
          [
           417,
           235,
           "98"
          ]
         ],
         "hovertemplate": "Motif Id=%{customdata[2]}<br>M - synapse_threshold=%{x}<br>Z score=%{y}<br>edges=%{customdata[0]}<br>nodes=%{customdata[1]}<extra></extra>",
         "legendgroup": "98",
         "marker": {
          "color": "#FF97FF",
          "symbol": "circle"
         },
         "mode": "markers",
         "name": "98",
         "orientation": "v",
         "showlegend": true,
         "type": "scatter",
         "x": [
          1,
          10,
          11,
          12,
          13,
          14,
          15,
          16,
          17,
          18,
          19,
          2,
          20,
          3,
          4,
          5,
          6,
          7,
          8,
          9
         ],
         "xaxis": "x",
         "y": [
          -5.47318545762342,
          -0.8221551774638557,
          -0.8092442153645963,
          -0.6654828690907134,
          -0.6361860633341324,
          -0.6691489341095712,
          -0.6464938750398117,
          -0.5755944651562173,
          -0.5298513559449969,
          -0.5147836342588453,
          -0.5169590481449734,
          -2.439748615113787,
          -0.49543982861607005,
          -2.7416816730419247,
          -0.8003996513732945,
          -1.253961584377398,
          -0.7431473149246665,
          -1.06696708681419,
          -0.9769237711699996,
          -0.8610681000880885
         ],
         "yaxis": "y"
        },
        {
         "customdata": [
          [
           1752,
           283,
           "102"
          ],
          [
           371,
           223,
           "102"
          ],
          [
           328,
           212,
           "102"
          ],
          [
           294,
           202,
           "102"
          ],
          [
           267,
           190,
           "102"
          ],
          [
           242,
           181,
           "102"
          ],
          [
           222,
           176,
           "102"
          ],
          [
           207,
           169,
           "102"
          ],
          [
           197,
           166,
           "102"
          ],
          [
           177,
           150,
           "102"
          ],
          [
           166,
           142,
           "102"
          ],
          [
           1267,
           281,
           "102"
          ],
          [
           151,
           130,
           "102"
          ],
          [
           984,
           272,
           "102"
          ],
          [
           776,
           268,
           "102"
          ],
          [
           661,
           259,
           "102"
          ],
          [
           570,
           256,
           "102"
          ],
          [
           496,
           249,
           "102"
          ],
          [
           456,
           244,
           "102"
          ],
          [
           417,
           235,
           "102"
          ]
         ],
         "hovertemplate": "Motif Id=%{customdata[2]}<br>M - synapse_threshold=%{x}<br>Z score=%{y}<br>edges=%{customdata[0]}<br>nodes=%{customdata[1]}<extra></extra>",
         "legendgroup": "102",
         "marker": {
          "color": "#FECB52",
          "symbol": "circle"
         },
         "mode": "markers",
         "name": "102",
         "orientation": "v",
         "showlegend": true,
         "type": "scatter",
         "x": [
          1,
          10,
          11,
          12,
          13,
          14,
          15,
          16,
          17,
          18,
          19,
          2,
          20,
          3,
          4,
          5,
          6,
          7,
          8,
          9
         ],
         "xaxis": "x",
         "y": [
          9.631305668119564,
          2.723713534907107,
          2.2530998097099673,
          -0.3232058579101145,
          -0.3246908525535828,
          -0.3565517229866186,
          -0.29301124608335916,
          -0.28764124744526687,
          -0.2576135660330874,
          -0.22999594656722225,
          -0.26148818018424536,
          4.33653156336251,
          -0.25672208307392946,
          2.831377405689898,
          1.47029052275621,
          0.5592301820048013,
          -0.5542657386219438,
          -0.41502076146189987,
          -0.4030086646652038,
          2.081960144726816
         ],
         "yaxis": "y"
        },
        {
         "customdata": [
          [
           1752,
           283,
           "108"
          ],
          [
           371,
           223,
           "108"
          ],
          [
           328,
           212,
           "108"
          ],
          [
           294,
           202,
           "108"
          ],
          [
           267,
           190,
           "108"
          ],
          [
           242,
           181,
           "108"
          ],
          [
           222,
           176,
           "108"
          ],
          [
           207,
           169,
           "108"
          ],
          [
           197,
           166,
           "108"
          ],
          [
           177,
           150,
           "108"
          ],
          [
           166,
           142,
           "108"
          ],
          [
           1267,
           281,
           "108"
          ],
          [
           151,
           130,
           "108"
          ],
          [
           984,
           272,
           "108"
          ],
          [
           776,
           268,
           "108"
          ],
          [
           661,
           259,
           "108"
          ],
          [
           570,
           256,
           "108"
          ],
          [
           496,
           249,
           "108"
          ],
          [
           456,
           244,
           "108"
          ],
          [
           417,
           235,
           "108"
          ]
         ],
         "hovertemplate": "Motif Id=%{customdata[2]}<br>M - synapse_threshold=%{x}<br>Z score=%{y}<br>edges=%{customdata[0]}<br>nodes=%{customdata[1]}<extra></extra>",
         "legendgroup": "108",
         "marker": {
          "color": "#636efa",
          "symbol": "circle"
         },
         "mode": "markers",
         "name": "108",
         "orientation": "v",
         "showlegend": true,
         "type": "scatter",
         "x": [
          1,
          10,
          11,
          12,
          13,
          14,
          15,
          16,
          17,
          18,
          19,
          2,
          20,
          3,
          4,
          5,
          6,
          7,
          8,
          9
         ],
         "xaxis": "x",
         "y": [
          12.422185550397593,
          19.74785137281341,
          16.56734977900962,
          17.84466476958027,
          16.751269524821623,
          18.21073540228763,
          20.455627045573156,
          17.162826666927067,
          23.742182542458696,
          17.171915553910136,
          17.60548664920828,
          9.650226384473427,
          12.952044568919757,
          13.355455014341954,
          17.613066462963832,
          15.256185471155822,
          15.953148317094268,
          22.59754933755471,
          27.332284866070275,
          16.151686583653817
         ],
         "yaxis": "y"
        },
        {
         "customdata": [
          [
           1752,
           283,
           "110"
          ],
          [
           371,
           223,
           "110"
          ],
          [
           328,
           212,
           "110"
          ],
          [
           294,
           202,
           "110"
          ],
          [
           267,
           190,
           "110"
          ],
          [
           242,
           181,
           "110"
          ],
          [
           222,
           176,
           "110"
          ],
          [
           207,
           169,
           "110"
          ],
          [
           197,
           166,
           "110"
          ],
          [
           177,
           150,
           "110"
          ],
          [
           166,
           142,
           "110"
          ],
          [
           1267,
           281,
           "110"
          ],
          [
           151,
           130,
           "110"
          ],
          [
           984,
           272,
           "110"
          ],
          [
           776,
           268,
           "110"
          ],
          [
           661,
           259,
           "110"
          ],
          [
           570,
           256,
           "110"
          ],
          [
           496,
           249,
           "110"
          ],
          [
           456,
           244,
           "110"
          ],
          [
           417,
           235,
           "110"
          ]
         ],
         "hovertemplate": "Motif Id=%{customdata[2]}<br>M - synapse_threshold=%{x}<br>Z score=%{y}<br>edges=%{customdata[0]}<br>nodes=%{customdata[1]}<extra></extra>",
         "legendgroup": "110",
         "marker": {
          "color": "#EF553B",
          "symbol": "circle"
         },
         "mode": "markers",
         "name": "110",
         "orientation": "v",
         "showlegend": true,
         "type": "scatter",
         "x": [
          1,
          10,
          11,
          12,
          13,
          14,
          15,
          16,
          17,
          18,
          19,
          2,
          20,
          3,
          4,
          5,
          6,
          7,
          8,
          9
         ],
         "xaxis": "x",
         "y": [
          17.657802359412877,
          15.7797338380595,
          11.135528725660047,
          -0.08396038004871988,
          -0.10050378152592122,
          -0.09529814069846938,
          -0.07769309688655057,
          -0.08396038004871988,
          -0.10050378152592122,
          -0.09529814069846938,
          -0.11581371547232742,
          16.74673082357066,
          -0.08396038004871989,
          9.218337898768848,
          3.490593883693887,
          5.032615369505988,
          6.125,
          14.106735979665883,
          11.135528725660047,
          18.257751205510527
         ],
         "yaxis": "y"
        },
        {
         "customdata": [
          [
           1752,
           283,
           "238"
          ],
          [
           371,
           223,
           "238"
          ],
          [
           328,
           212,
           "238"
          ],
          [
           294,
           202,
           "238"
          ],
          [
           267,
           190,
           "238"
          ],
          [
           242,
           181,
           "238"
          ],
          [
           222,
           176,
           "238"
          ],
          [
           207,
           169,
           "238"
          ],
          [
           197,
           166,
           "238"
          ],
          [
           177,
           150,
           "238"
          ],
          [
           166,
           142,
           "238"
          ],
          [
           1267,
           281,
           "238"
          ],
          [
           151,
           130,
           "238"
          ],
          [
           984,
           272,
           "238"
          ],
          [
           776,
           268,
           "238"
          ],
          [
           661,
           259,
           "238"
          ],
          [
           570,
           256,
           "238"
          ],
          [
           496,
           249,
           "238"
          ],
          [
           456,
           244,
           "238"
          ],
          [
           417,
           235,
           "238"
          ]
         ],
         "hovertemplate": "Motif Id=%{customdata[2]}<br>M - synapse_threshold=%{x}<br>Z score=%{y}<br>edges=%{customdata[0]}<br>nodes=%{customdata[1]}<extra></extra>",
         "legendgroup": "238",
         "marker": {
          "color": "#00cc96",
          "symbol": "circle"
         },
         "mode": "markers",
         "name": "238",
         "orientation": "v",
         "showlegend": true,
         "type": "scatter",
         "x": [
          1,
          10,
          11,
          12,
          13,
          14,
          15,
          16,
          17,
          18,
          19,
          2,
          20,
          3,
          4,
          5,
          6,
          7,
          8,
          9
         ],
         "xaxis": "x",
         "y": [
          25.302094173956252,
          0,
          0,
          0,
          0,
          0,
          0,
          0,
          0,
          0,
          0,
          38.244549358799986,
          0,
          36.514878369788036,
          0,
          0,
          0,
          0,
          0,
          0
         ],
         "yaxis": "y"
        }
       ],
       "layout": {
        "autosize": true,
        "legend": {
         "title": {
          "text": "Motif Id"
         },
         "tracegroupgap": 0
        },
        "template": {
         "data": {
          "bar": [
           {
            "error_x": {
             "color": "#2a3f5f"
            },
            "error_y": {
             "color": "#2a3f5f"
            },
            "marker": {
             "line": {
              "color": "#E5ECF6",
              "width": 0.5
             },
             "pattern": {
              "fillmode": "overlay",
              "size": 10,
              "solidity": 0.2
             }
            },
            "type": "bar"
           }
          ],
          "barpolar": [
           {
            "marker": {
             "line": {
              "color": "#E5ECF6",
              "width": 0.5
             },
             "pattern": {
              "fillmode": "overlay",
              "size": 10,
              "solidity": 0.2
             }
            },
            "type": "barpolar"
           }
          ],
          "carpet": [
           {
            "aaxis": {
             "endlinecolor": "#2a3f5f",
             "gridcolor": "white",
             "linecolor": "white",
             "minorgridcolor": "white",
             "startlinecolor": "#2a3f5f"
            },
            "baxis": {
             "endlinecolor": "#2a3f5f",
             "gridcolor": "white",
             "linecolor": "white",
             "minorgridcolor": "white",
             "startlinecolor": "#2a3f5f"
            },
            "type": "carpet"
           }
          ],
          "choropleth": [
           {
            "colorbar": {
             "outlinewidth": 0,
             "ticks": ""
            },
            "type": "choropleth"
           }
          ],
          "contour": [
           {
            "colorbar": {
             "outlinewidth": 0,
             "ticks": ""
            },
            "colorscale": [
             [
              0,
              "#0d0887"
             ],
             [
              0.1111111111111111,
              "#46039f"
             ],
             [
              0.2222222222222222,
              "#7201a8"
             ],
             [
              0.3333333333333333,
              "#9c179e"
             ],
             [
              0.4444444444444444,
              "#bd3786"
             ],
             [
              0.5555555555555556,
              "#d8576b"
             ],
             [
              0.6666666666666666,
              "#ed7953"
             ],
             [
              0.7777777777777778,
              "#fb9f3a"
             ],
             [
              0.8888888888888888,
              "#fdca26"
             ],
             [
              1,
              "#f0f921"
             ]
            ],
            "type": "contour"
           }
          ],
          "contourcarpet": [
           {
            "colorbar": {
             "outlinewidth": 0,
             "ticks": ""
            },
            "type": "contourcarpet"
           }
          ],
          "heatmap": [
           {
            "colorbar": {
             "outlinewidth": 0,
             "ticks": ""
            },
            "colorscale": [
             [
              0,
              "#0d0887"
             ],
             [
              0.1111111111111111,
              "#46039f"
             ],
             [
              0.2222222222222222,
              "#7201a8"
             ],
             [
              0.3333333333333333,
              "#9c179e"
             ],
             [
              0.4444444444444444,
              "#bd3786"
             ],
             [
              0.5555555555555556,
              "#d8576b"
             ],
             [
              0.6666666666666666,
              "#ed7953"
             ],
             [
              0.7777777777777778,
              "#fb9f3a"
             ],
             [
              0.8888888888888888,
              "#fdca26"
             ],
             [
              1,
              "#f0f921"
             ]
            ],
            "type": "heatmap"
           }
          ],
          "heatmapgl": [
           {
            "colorbar": {
             "outlinewidth": 0,
             "ticks": ""
            },
            "colorscale": [
             [
              0,
              "#0d0887"
             ],
             [
              0.1111111111111111,
              "#46039f"
             ],
             [
              0.2222222222222222,
              "#7201a8"
             ],
             [
              0.3333333333333333,
              "#9c179e"
             ],
             [
              0.4444444444444444,
              "#bd3786"
             ],
             [
              0.5555555555555556,
              "#d8576b"
             ],
             [
              0.6666666666666666,
              "#ed7953"
             ],
             [
              0.7777777777777778,
              "#fb9f3a"
             ],
             [
              0.8888888888888888,
              "#fdca26"
             ],
             [
              1,
              "#f0f921"
             ]
            ],
            "type": "heatmapgl"
           }
          ],
          "histogram": [
           {
            "marker": {
             "pattern": {
              "fillmode": "overlay",
              "size": 10,
              "solidity": 0.2
             }
            },
            "type": "histogram"
           }
          ],
          "histogram2d": [
           {
            "colorbar": {
             "outlinewidth": 0,
             "ticks": ""
            },
            "colorscale": [
             [
              0,
              "#0d0887"
             ],
             [
              0.1111111111111111,
              "#46039f"
             ],
             [
              0.2222222222222222,
              "#7201a8"
             ],
             [
              0.3333333333333333,
              "#9c179e"
             ],
             [
              0.4444444444444444,
              "#bd3786"
             ],
             [
              0.5555555555555556,
              "#d8576b"
             ],
             [
              0.6666666666666666,
              "#ed7953"
             ],
             [
              0.7777777777777778,
              "#fb9f3a"
             ],
             [
              0.8888888888888888,
              "#fdca26"
             ],
             [
              1,
              "#f0f921"
             ]
            ],
            "type": "histogram2d"
           }
          ],
          "histogram2dcontour": [
           {
            "colorbar": {
             "outlinewidth": 0,
             "ticks": ""
            },
            "colorscale": [
             [
              0,
              "#0d0887"
             ],
             [
              0.1111111111111111,
              "#46039f"
             ],
             [
              0.2222222222222222,
              "#7201a8"
             ],
             [
              0.3333333333333333,
              "#9c179e"
             ],
             [
              0.4444444444444444,
              "#bd3786"
             ],
             [
              0.5555555555555556,
              "#d8576b"
             ],
             [
              0.6666666666666666,
              "#ed7953"
             ],
             [
              0.7777777777777778,
              "#fb9f3a"
             ],
             [
              0.8888888888888888,
              "#fdca26"
             ],
             [
              1,
              "#f0f921"
             ]
            ],
            "type": "histogram2dcontour"
           }
          ],
          "mesh3d": [
           {
            "colorbar": {
             "outlinewidth": 0,
             "ticks": ""
            },
            "type": "mesh3d"
           }
          ],
          "parcoords": [
           {
            "line": {
             "colorbar": {
              "outlinewidth": 0,
              "ticks": ""
             }
            },
            "type": "parcoords"
           }
          ],
          "pie": [
           {
            "automargin": true,
            "type": "pie"
           }
          ],
          "scatter": [
           {
            "fillpattern": {
             "fillmode": "overlay",
             "size": 10,
             "solidity": 0.2
            },
            "type": "scatter"
           }
          ],
          "scatter3d": [
           {
            "line": {
             "colorbar": {
              "outlinewidth": 0,
              "ticks": ""
             }
            },
            "marker": {
             "colorbar": {
              "outlinewidth": 0,
              "ticks": ""
             }
            },
            "type": "scatter3d"
           }
          ],
          "scattercarpet": [
           {
            "marker": {
             "colorbar": {
              "outlinewidth": 0,
              "ticks": ""
             }
            },
            "type": "scattercarpet"
           }
          ],
          "scattergeo": [
           {
            "marker": {
             "colorbar": {
              "outlinewidth": 0,
              "ticks": ""
             }
            },
            "type": "scattergeo"
           }
          ],
          "scattergl": [
           {
            "marker": {
             "colorbar": {
              "outlinewidth": 0,
              "ticks": ""
             }
            },
            "type": "scattergl"
           }
          ],
          "scattermapbox": [
           {
            "marker": {
             "colorbar": {
              "outlinewidth": 0,
              "ticks": ""
             }
            },
            "type": "scattermapbox"
           }
          ],
          "scatterpolar": [
           {
            "marker": {
             "colorbar": {
              "outlinewidth": 0,
              "ticks": ""
             }
            },
            "type": "scatterpolar"
           }
          ],
          "scatterpolargl": [
           {
            "marker": {
             "colorbar": {
              "outlinewidth": 0,
              "ticks": ""
             }
            },
            "type": "scatterpolargl"
           }
          ],
          "scatterternary": [
           {
            "marker": {
             "colorbar": {
              "outlinewidth": 0,
              "ticks": ""
             }
            },
            "type": "scatterternary"
           }
          ],
          "surface": [
           {
            "colorbar": {
             "outlinewidth": 0,
             "ticks": ""
            },
            "colorscale": [
             [
              0,
              "#0d0887"
             ],
             [
              0.1111111111111111,
              "#46039f"
             ],
             [
              0.2222222222222222,
              "#7201a8"
             ],
             [
              0.3333333333333333,
              "#9c179e"
             ],
             [
              0.4444444444444444,
              "#bd3786"
             ],
             [
              0.5555555555555556,
              "#d8576b"
             ],
             [
              0.6666666666666666,
              "#ed7953"
             ],
             [
              0.7777777777777778,
              "#fb9f3a"
             ],
             [
              0.8888888888888888,
              "#fdca26"
             ],
             [
              1,
              "#f0f921"
             ]
            ],
            "type": "surface"
           }
          ],
          "table": [
           {
            "cells": {
             "fill": {
              "color": "#EBF0F8"
             },
             "line": {
              "color": "white"
             }
            },
            "header": {
             "fill": {
              "color": "#C8D4E3"
             },
             "line": {
              "color": "white"
             }
            },
            "type": "table"
           }
          ]
         },
         "layout": {
          "annotationdefaults": {
           "arrowcolor": "#2a3f5f",
           "arrowhead": 0,
           "arrowwidth": 1
          },
          "autotypenumbers": "strict",
          "coloraxis": {
           "colorbar": {
            "outlinewidth": 0,
            "ticks": ""
           }
          },
          "colorscale": {
           "diverging": [
            [
             0,
             "#8e0152"
            ],
            [
             0.1,
             "#c51b7d"
            ],
            [
             0.2,
             "#de77ae"
            ],
            [
             0.3,
             "#f1b6da"
            ],
            [
             0.4,
             "#fde0ef"
            ],
            [
             0.5,
             "#f7f7f7"
            ],
            [
             0.6,
             "#e6f5d0"
            ],
            [
             0.7,
             "#b8e186"
            ],
            [
             0.8,
             "#7fbc41"
            ],
            [
             0.9,
             "#4d9221"
            ],
            [
             1,
             "#276419"
            ]
           ],
           "sequential": [
            [
             0,
             "#0d0887"
            ],
            [
             0.1111111111111111,
             "#46039f"
            ],
            [
             0.2222222222222222,
             "#7201a8"
            ],
            [
             0.3333333333333333,
             "#9c179e"
            ],
            [
             0.4444444444444444,
             "#bd3786"
            ],
            [
             0.5555555555555556,
             "#d8576b"
            ],
            [
             0.6666666666666666,
             "#ed7953"
            ],
            [
             0.7777777777777778,
             "#fb9f3a"
            ],
            [
             0.8888888888888888,
             "#fdca26"
            ],
            [
             1,
             "#f0f921"
            ]
           ],
           "sequentialminus": [
            [
             0,
             "#0d0887"
            ],
            [
             0.1111111111111111,
             "#46039f"
            ],
            [
             0.2222222222222222,
             "#7201a8"
            ],
            [
             0.3333333333333333,
             "#9c179e"
            ],
            [
             0.4444444444444444,
             "#bd3786"
            ],
            [
             0.5555555555555556,
             "#d8576b"
            ],
            [
             0.6666666666666666,
             "#ed7953"
            ],
            [
             0.7777777777777778,
             "#fb9f3a"
            ],
            [
             0.8888888888888888,
             "#fdca26"
            ],
            [
             1,
             "#f0f921"
            ]
           ]
          },
          "colorway": [
           "#636efa",
           "#EF553B",
           "#00cc96",
           "#ab63fa",
           "#FFA15A",
           "#19d3f3",
           "#FF6692",
           "#B6E880",
           "#FF97FF",
           "#FECB52"
          ],
          "font": {
           "color": "#2a3f5f"
          },
          "geo": {
           "bgcolor": "white",
           "lakecolor": "white",
           "landcolor": "#E5ECF6",
           "showlakes": true,
           "showland": true,
           "subunitcolor": "white"
          },
          "hoverlabel": {
           "align": "left"
          },
          "hovermode": "closest",
          "mapbox": {
           "style": "light"
          },
          "paper_bgcolor": "white",
          "plot_bgcolor": "#E5ECF6",
          "polar": {
           "angularaxis": {
            "gridcolor": "white",
            "linecolor": "white",
            "ticks": ""
           },
           "bgcolor": "#E5ECF6",
           "radialaxis": {
            "gridcolor": "white",
            "linecolor": "white",
            "ticks": ""
           }
          },
          "scene": {
           "xaxis": {
            "backgroundcolor": "#E5ECF6",
            "gridcolor": "white",
            "gridwidth": 2,
            "linecolor": "white",
            "showbackground": true,
            "ticks": "",
            "zerolinecolor": "white"
           },
           "yaxis": {
            "backgroundcolor": "#E5ECF6",
            "gridcolor": "white",
            "gridwidth": 2,
            "linecolor": "white",
            "showbackground": true,
            "ticks": "",
            "zerolinecolor": "white"
           },
           "zaxis": {
            "backgroundcolor": "#E5ECF6",
            "gridcolor": "white",
            "gridwidth": 2,
            "linecolor": "white",
            "showbackground": true,
            "ticks": "",
            "zerolinecolor": "white"
           }
          },
          "shapedefaults": {
           "line": {
            "color": "#2a3f5f"
           }
          },
          "ternary": {
           "aaxis": {
            "gridcolor": "white",
            "linecolor": "white",
            "ticks": ""
           },
           "baxis": {
            "gridcolor": "white",
            "linecolor": "white",
            "ticks": ""
           },
           "bgcolor": "#E5ECF6",
           "caxis": {
            "gridcolor": "white",
            "linecolor": "white",
            "ticks": ""
           }
          },
          "title": {
           "x": 0.05
          },
          "xaxis": {
           "automargin": true,
           "gridcolor": "white",
           "linecolor": "white",
           "ticks": "",
           "title": {
            "standoff": 15
           },
           "zerolinecolor": "white",
           "zerolinewidth": 2
          },
          "yaxis": {
           "automargin": true,
           "gridcolor": "white",
           "linecolor": "white",
           "ticks": "",
           "title": {
            "standoff": 15
           },
           "zerolinecolor": "white",
           "zerolinewidth": 2
          }
         }
        },
        "title": {
         "text": "Z-score as a function of M. network: pol"
        },
        "xaxis": {
         "anchor": "y",
         "autorange": true,
         "domain": [
          0,
          1
         ],
         "range": [
          -0.16006600660066006,
          21.16006600660066
         ],
         "title": {
          "text": "M - synapse_threshold"
         },
         "type": "linear"
        },
        "yaxis": {
         "anchor": "x",
         "autorange": true,
         "domain": [
          0,
          1
         ],
         "range": [
          -28.508872640180257,
          66.84423711154942
         ],
         "title": {
          "text": "Z score"
         },
         "type": "linear"
        }
       }
      },
      "image/png": "[encoded data removed]",
      "text/html": [
       "<div>                            <div id=\"1bdee1ec-3a76-4308-ae68-e763861193d5\" class=\"plotly-graph-div\" style=\"height:525px; width:100%;\"></div>            <script type=\"text/javascript\">                require([\"plotly\"], function(Plotly) {                    window.PLOTLYENV=window.PLOTLYENV || {};                                    if (document.getElementById(\"1bdee1ec-3a76-4308-ae68-e763861193d5\")) {                    Plotly.newPlot(                        \"1bdee1ec-3a76-4308-ae68-e763861193d5\",                        [{\"customdata\":[[1752.0,283.0,\"fan_out-6\"],[371.0,223.0,\"fan_out-6\"],[328.0,212.0,\"fan_out-6\"],[294.0,202.0,\"fan_out-6\"],[267.0,190.0,\"fan_out-6\"],[242.0,181.0,\"fan_out-6\"],[222.0,176.0,\"fan_out-6\"],[207.0,169.0,\"fan_out-6\"],[197.0,166.0,\"fan_out-6\"],[177.0,150.0,\"fan_out-6\"],[166.0,142.0,\"fan_out-6\"],[1267.0,281.0,\"fan_out-6\"],[151.0,130.0,\"fan_out-6\"],[984.0,272.0,\"fan_out-6\"],[776.0,268.0,\"fan_out-6\"],[661.0,259.0,\"fan_out-6\"],[570.0,256.0,\"fan_out-6\"],[496.0,249.0,\"fan_out-6\"],[456.0,244.0,\"fan_out-6\"],[417.0,235.0,\"fan_out-6\"]],\"hovertemplate\":\"Motif Id=%{customdata[2]}\\u003cbr\\u003eM - synapse_threshold=%{x}\\u003cbr\\u003eZ score=%{y}\\u003cbr\\u003eedges=%{customdata[0]}\\u003cbr\\u003enodes=%{customdata[1]}\\u003cextra\\u003e\\u003c\\u002fextra\\u003e\",\"legendgroup\":\"fan_out-6\",\"marker\":{\"color\":\"#636efa\",\"symbol\":\"circle\"},\"mode\":\"markers\",\"name\":\"fan_out-6\",\"orientation\":\"v\",\"showlegend\":true,\"x\":[1.0,10.0,11.0,12.0,13.0,14.0,15.0,16.0,17.0,18.0,19.0,2.0,20.0,3.0,4.0,5.0,6.0,7.0,8.0,9.0],\"xaxis\":\"x\",\"y\":[-21.75469403276607,-9.968432716334654,-8.659000331136424,-8.085295828399722,-7.223925419599238,-6.8449194219015395,-4.703426791794594,-4.7079729813987905,-3.9776117446282013,-3.7085041299820287,-3.7159992017980716,-19.873099574122328,-3.774572239989295,-17.61337239938806,-13.901186133665908,-12.061214033773181,-12.393614027618241,-13.181489601749039,-12.406301827146866,-11.098007664400404],\"yaxis\":\"y\",\"type\":\"scatter\"},{\"customdata\":[[1752.0,283.0,\"cascade-12\"],[371.0,223.0,\"cascade-12\"],[328.0,212.0,\"cascade-12\"],[294.0,202.0,\"cascade-12\"],[267.0,190.0,\"cascade-12\"],[242.0,181.0,\"cascade-12\"],[222.0,176.0,\"cascade-12\"],[207.0,169.0,\"cascade-12\"],[197.0,166.0,\"cascade-12\"],[177.0,150.0,\"cascade-12\"],[166.0,142.0,\"cascade-12\"],[1267.0,281.0,\"cascade-12\"],[151.0,130.0,\"cascade-12\"],[984.0,272.0,\"cascade-12\"],[776.0,268.0,\"cascade-12\"],[661.0,259.0,\"cascade-12\"],[570.0,256.0,\"cascade-12\"],[496.0,249.0,\"cascade-12\"],[456.0,244.0,\"cascade-12\"],[417.0,235.0,\"cascade-12\"]],\"hovertemplate\":\"Motif Id=%{customdata[2]}\\u003cbr\\u003eM - synapse_threshold=%{x}\\u003cbr\\u003eZ score=%{y}\\u003cbr\\u003eedges=%{customdata[0]}\\u003cbr\\u003enodes=%{customdata[1]}\\u003cextra\\u003e\\u003c\\u002fextra\\u003e\",\"legendgroup\":\"cascade-12\",\"marker\":{\"color\":\"#EF553B\",\"symbol\":\"circle\"},\"mode\":\"markers\",\"name\":\"cascade-12\",\"orientation\":\"v\",\"showlegend\":true,\"x\":[1.0,10.0,11.0,12.0,13.0,14.0,15.0,16.0,17.0,18.0,19.0,2.0,20.0,3.0,4.0,5.0,6.0,7.0,8.0,9.0],\"xaxis\":\"x\",\"y\":[-17.177480656781597,-10.496887856061004,-9.789348335632734,-9.153707196676915,-8.551530569712972,-8.175500108524114,-6.1338707547808955,-6.323383897663836,-5.080183839492648,-4.84620514440169,-4.7458937672564865,-13.774247290659483,-4.9082592239263905,-11.622891164450182,-11.755688421377384,-10.718411353325951,-11.179815850162898,-12.817743934202237,-13.045710273806845,-11.151688279735144],\"yaxis\":\"y\",\"type\":\"scatter\"},{\"customdata\":[[1752.0,283.0,\"14\"],[371.0,223.0,\"14\"],[328.0,212.0,\"14\"],[294.0,202.0,\"14\"],[267.0,190.0,\"14\"],[242.0,181.0,\"14\"],[222.0,176.0,\"14\"],[207.0,169.0,\"14\"],[197.0,166.0,\"14\"],[177.0,150.0,\"14\"],[166.0,142.0,\"14\"],[1267.0,281.0,\"14\"],[151.0,130.0,\"14\"],[984.0,272.0,\"14\"],[776.0,268.0,\"14\"],[661.0,259.0,\"14\"],[570.0,256.0,\"14\"],[496.0,249.0,\"14\"],[456.0,244.0,\"14\"],[417.0,235.0,\"14\"]],\"hovertemplate\":\"Motif Id=%{customdata[2]}\\u003cbr\\u003eM - synapse_threshold=%{x}\\u003cbr\\u003eZ score=%{y}\\u003cbr\\u003eedges=%{customdata[0]}\\u003cbr\\u003enodes=%{customdata[1]}\\u003cextra\\u003e\\u003c\\u002fextra\\u003e\",\"legendgroup\":\"14\",\"marker\":{\"color\":\"#00cc96\",\"symbol\":\"circle\"},\"mode\":\"markers\",\"name\":\"14\",\"orientation\":\"v\",\"showlegend\":true,\"x\":[1.0,10.0,11.0,12.0,13.0,14.0,15.0,16.0,17.0,18.0,19.0,2.0,20.0,3.0,4.0,5.0,6.0,7.0,8.0,9.0],\"xaxis\":\"x\",\"y\":[7.916182254860332,5.852408613029353,5.749993199181165,5.766974643329365,5.478474354053884,5.405070091536553,4.534419531483721,4.650792835423532,4.011299428019187,3.889086444122849,3.877543907174923,6.449878480159755,3.944874128760167,4.480683774765569,4.550121408433741,4.125815772593549,5.247036642091472,6.522172183834012,6.632473935494293,5.595797977567072],\"yaxis\":\"y\",\"type\":\"scatter\"},{\"customdata\":[[1752.0,283.0,\"fan_in-36\"],[371.0,223.0,\"fan_in-36\"],[328.0,212.0,\"fan_in-36\"],[294.0,202.0,\"fan_in-36\"],[267.0,190.0,\"fan_in-36\"],[242.0,181.0,\"fan_in-36\"],[222.0,176.0,\"fan_in-36\"],[207.0,169.0,\"fan_in-36\"],[197.0,166.0,\"fan_in-36\"],[177.0,150.0,\"fan_in-36\"],[166.0,142.0,\"fan_in-36\"],[1267.0,281.0,\"fan_in-36\"],[151.0,130.0,\"fan_in-36\"],[984.0,272.0,\"fan_in-36\"],[776.0,268.0,\"fan_in-36\"],[661.0,259.0,\"fan_in-36\"],[570.0,256.0,\"fan_in-36\"],[496.0,249.0,\"fan_in-36\"],[456.0,244.0,\"fan_in-36\"],[417.0,235.0,\"fan_in-36\"]],\"hovertemplate\":\"Motif Id=%{customdata[2]}\\u003cbr\\u003eM - synapse_threshold=%{x}\\u003cbr\\u003eZ score=%{y}\\u003cbr\\u003eedges=%{customdata[0]}\\u003cbr\\u003enodes=%{customdata[1]}\\u003cextra\\u003e\\u003c\\u002fextra\\u003e\",\"legendgroup\":\"fan_in-36\",\"marker\":{\"color\":\"#ab63fa\",\"symbol\":\"circle\"},\"mode\":\"markers\",\"name\":\"fan_in-36\",\"orientation\":\"v\",\"showlegend\":true,\"x\":[1.0,10.0,11.0,12.0,13.0,14.0,15.0,16.0,17.0,18.0,19.0,2.0,20.0,3.0,4.0,5.0,6.0,7.0,8.0,9.0],\"xaxis\":\"x\",\"y\":[-17.760594250081198,-11.620799970820956,-10.538382906353988,-9.581160116034848,-8.931757167040923,-8.361053115750487,-6.476695823143289,-6.614693435869863,-5.394352012689523,-4.990074864006944,-4.98061158584634,-13.902642230822613,-4.956224555410387,-12.496521968280732,-13.131194261890421,-12.018338319940867,-11.943762025210972,-13.025053835166126,-13.424499903287066,-12.001446046018694],\"yaxis\":\"y\",\"type\":\"scatter\"},{\"customdata\":[[1752.0,283.0,\"feed_forward-38\"],[371.0,223.0,\"feed_forward-38\"],[328.0,212.0,\"feed_forward-38\"],[294.0,202.0,\"feed_forward-38\"],[267.0,190.0,\"feed_forward-38\"],[242.0,181.0,\"feed_forward-38\"],[222.0,176.0,\"feed_forward-38\"],[207.0,169.0,\"feed_forward-38\"],[197.0,166.0,\"feed_forward-38\"],[177.0,150.0,\"feed_forward-38\"],[166.0,142.0,\"feed_forward-38\"],[1267.0,281.0,\"feed_forward-38\"],[151.0,130.0,\"feed_forward-38\"],[984.0,272.0,\"feed_forward-38\"],[776.0,268.0,\"feed_forward-38\"],[661.0,259.0,\"feed_forward-38\"],[570.0,256.0,\"feed_forward-38\"],[496.0,249.0,\"feed_forward-38\"],[456.0,244.0,\"feed_forward-38\"],[417.0,235.0,\"feed_forward-38\"]],\"hovertemplate\":\"Motif Id=%{customdata[2]}\\u003cbr\\u003eM - synapse_threshold=%{x}\\u003cbr\\u003eZ score=%{y}\\u003cbr\\u003eedges=%{customdata[0]}\\u003cbr\\u003enodes=%{customdata[1]}\\u003cextra\\u003e\\u003c\\u002fextra\\u003e\",\"legendgroup\":\"feed_forward-38\",\"marker\":{\"color\":\"#FFA15A\",\"symbol\":\"circle\"},\"mode\":\"markers\",\"name\":\"feed_forward-38\",\"orientation\":\"v\",\"showlegend\":true,\"x\":[1.0,10.0,11.0,12.0,13.0,14.0,15.0,16.0,17.0,18.0,19.0,2.0,20.0,3.0,4.0,5.0,6.0,7.0,8.0,9.0],\"xaxis\":\"x\",\"y\":[5.938169084841598,3.418464265513958,1.2580285439891503,0.16942495408898603,-0.7618918238951279,-1.4493265686556773,-2.5674628573093172,-2.408161735663433,-2.1985500458039544,-2.1176753188591393,-2.0876506594912323,9.634429521717815,-2.0782659214803183,12.28330788237459,7.741010785594361,7.439865185618183,5.591079840103971,4.449476259757895,2.5245200116500466,3.7454480077906864],\"yaxis\":\"y\",\"type\":\"scatter\"},{\"customdata\":[[1752.0,283.0,\"46\"],[371.0,223.0,\"46\"],[328.0,212.0,\"46\"],[294.0,202.0,\"46\"],[267.0,190.0,\"46\"],[242.0,181.0,\"46\"],[222.0,176.0,\"46\"],[207.0,169.0,\"46\"],[197.0,166.0,\"46\"],[177.0,150.0,\"46\"],[166.0,142.0,\"46\"],[1267.0,281.0,\"46\"],[151.0,130.0,\"46\"],[984.0,272.0,\"46\"],[776.0,268.0,\"46\"],[661.0,259.0,\"46\"],[570.0,256.0,\"46\"],[496.0,249.0,\"46\"],[456.0,244.0,\"46\"],[417.0,235.0,\"46\"]],\"hovertemplate\":\"Motif Id=%{customdata[2]}\\u003cbr\\u003eM - synapse_threshold=%{x}\\u003cbr\\u003eZ score=%{y}\\u003cbr\\u003eedges=%{customdata[0]}\\u003cbr\\u003enodes=%{customdata[1]}\\u003cextra\\u003e\\u003c\\u002fextra\\u003e\",\"legendgroup\":\"46\",\"marker\":{\"color\":\"#19d3f3\",\"symbol\":\"circle\"},\"mode\":\"markers\",\"name\":\"46\",\"orientation\":\"v\",\"showlegend\":true,\"x\":[1.0,10.0,11.0,12.0,13.0,14.0,15.0,16.0,17.0,18.0,19.0,2.0,20.0,3.0,4.0,5.0,6.0,7.0,8.0,9.0],\"xaxis\":\"x\",\"y\":[37.74665385815089,-0.3218965868571585,-0.33105485118570344,-0.3091675717126719,-0.3684033663003978,-0.36419828142789573,-0.3292267554078041,-0.3265518552773821,-0.3142599817317554,-0.31237365268062806,-0.3315963363870687,35.905010842907316,-0.2822529017363031,27.10043938020044,17.0628262894089,9.83038053673843,12.174018628586364,8.572200926827096,5.3872702254210365,3.652226260970164],\"yaxis\":\"y\",\"type\":\"scatter\"},{\"customdata\":[[1752.0,283.0,\"74\"],[371.0,223.0,\"74\"],[328.0,212.0,\"74\"],[294.0,202.0,\"74\"],[267.0,190.0,\"74\"],[242.0,181.0,\"74\"],[222.0,176.0,\"74\"],[207.0,169.0,\"74\"],[197.0,166.0,\"74\"],[177.0,150.0,\"74\"],[166.0,142.0,\"74\"],[1267.0,281.0,\"74\"],[151.0,130.0,\"74\"],[984.0,272.0,\"74\"],[776.0,268.0,\"74\"],[661.0,259.0,\"74\"],[570.0,256.0,\"74\"],[496.0,249.0,\"74\"],[456.0,244.0,\"74\"],[417.0,235.0,\"74\"]],\"hovertemplate\":\"Motif Id=%{customdata[2]}\\u003cbr\\u003eM - synapse_threshold=%{x}\\u003cbr\\u003eZ score=%{y}\\u003cbr\\u003eedges=%{customdata[0]}\\u003cbr\\u003enodes=%{customdata[1]}\\u003cextra\\u003e\\u003c\\u002fextra\\u003e\",\"legendgroup\":\"74\",\"marker\":{\"color\":\"#FF6692\",\"symbol\":\"circle\"},\"mode\":\"markers\",\"name\":\"74\",\"orientation\":\"v\",\"showlegend\":true,\"x\":[1.0,10.0,11.0,12.0,13.0,14.0,15.0,16.0,17.0,18.0,19.0,2.0,20.0,3.0,4.0,5.0,6.0,7.0,8.0,9.0],\"xaxis\":\"x\",\"y\":[9.48214471545828,7.881319826607071,7.462429860579665,6.836925443008479,6.553752341142646,6.230353996615515,5.350922485298222,5.654373086057118,4.417186990492595,4.36730310785784,4.242224004269929,6.715914982605735,4.399564028760295,5.5035139030365405,7.4656699979621965,6.914242375562781,7.2815822046111895,8.179930445595133,8.75668164958454,7.630021113594843],\"yaxis\":\"y\",\"type\":\"scatter\"},{\"customdata\":[[1752.0,283.0,\"78\"],[371.0,223.0,\"78\"],[328.0,212.0,\"78\"],[294.0,202.0,\"78\"],[267.0,190.0,\"78\"],[242.0,181.0,\"78\"],[222.0,176.0,\"78\"],[207.0,169.0,\"78\"],[197.0,166.0,\"78\"],[177.0,150.0,\"78\"],[166.0,142.0,\"78\"],[1267.0,281.0,\"78\"],[151.0,130.0,\"78\"],[984.0,272.0,\"78\"],[776.0,268.0,\"78\"],[661.0,259.0,\"78\"],[570.0,256.0,\"78\"],[496.0,249.0,\"78\"],[456.0,244.0,\"78\"],[417.0,235.0,\"78\"]],\"hovertemplate\":\"Motif Id=%{customdata[2]}\\u003cbr\\u003eM - synapse_threshold=%{x}\\u003cbr\\u003eZ score=%{y}\\u003cbr\\u003eedges=%{customdata[0]}\\u003cbr\\u003enodes=%{customdata[1]}\\u003cextra\\u003e\\u003c\\u002fextra\\u003e\",\"legendgroup\":\"78\",\"marker\":{\"color\":\"#B6E880\",\"symbol\":\"circle\"},\"mode\":\"markers\",\"name\":\"78\",\"orientation\":\"v\",\"showlegend\":true,\"x\":[1.0,10.0,11.0,12.0,13.0,14.0,15.0,16.0,17.0,18.0,19.0,2.0,20.0,3.0,4.0,5.0,6.0,7.0,8.0,9.0],\"xaxis\":\"x\",\"y\":[24.045386304516818,41.95798851240674,44.82101483958412,55.70033146031186,47.77673175873329,41.267905219759236,15.468236417074204,18.001226875537178,7.676166245463366,6.428137187828019,6.848904217959551,24.48579003827364,8.5068451149735,29.114101755551157,32.84920703929315,46.47776368448373,40.42159746424815,60.090058504135236,59.68021557977592,58.12089150097543],\"yaxis\":\"y\",\"type\":\"scatter\"},{\"customdata\":[[1752.0,283.0,\"98\"],[371.0,223.0,\"98\"],[328.0,212.0,\"98\"],[294.0,202.0,\"98\"],[267.0,190.0,\"98\"],[242.0,181.0,\"98\"],[222.0,176.0,\"98\"],[207.0,169.0,\"98\"],[197.0,166.0,\"98\"],[177.0,150.0,\"98\"],[166.0,142.0,\"98\"],[1267.0,281.0,\"98\"],[151.0,130.0,\"98\"],[984.0,272.0,\"98\"],[776.0,268.0,\"98\"],[661.0,259.0,\"98\"],[570.0,256.0,\"98\"],[496.0,249.0,\"98\"],[456.0,244.0,\"98\"],[417.0,235.0,\"98\"]],\"hovertemplate\":\"Motif Id=%{customdata[2]}\\u003cbr\\u003eM - synapse_threshold=%{x}\\u003cbr\\u003eZ score=%{y}\\u003cbr\\u003eedges=%{customdata[0]}\\u003cbr\\u003enodes=%{customdata[1]}\\u003cextra\\u003e\\u003c\\u002fextra\\u003e\",\"legendgroup\":\"98\",\"marker\":{\"color\":\"#FF97FF\",\"symbol\":\"circle\"},\"mode\":\"markers\",\"name\":\"98\",\"orientation\":\"v\",\"showlegend\":true,\"x\":[1.0,10.0,11.0,12.0,13.0,14.0,15.0,16.0,17.0,18.0,19.0,2.0,20.0,3.0,4.0,5.0,6.0,7.0,8.0,9.0],\"xaxis\":\"x\",\"y\":[-5.47318545762342,-0.8221551774638557,-0.8092442153645963,-0.6654828690907134,-0.6361860633341324,-0.6691489341095712,-0.6464938750398117,-0.5755944651562173,-0.5298513559449969,-0.5147836342588453,-0.5169590481449734,-2.439748615113787,-0.49543982861607005,-2.7416816730419247,-0.8003996513732945,-1.253961584377398,-0.7431473149246665,-1.06696708681419,-0.9769237711699996,-0.8610681000880885],\"yaxis\":\"y\",\"type\":\"scatter\"},{\"customdata\":[[1752.0,283.0,\"102\"],[371.0,223.0,\"102\"],[328.0,212.0,\"102\"],[294.0,202.0,\"102\"],[267.0,190.0,\"102\"],[242.0,181.0,\"102\"],[222.0,176.0,\"102\"],[207.0,169.0,\"102\"],[197.0,166.0,\"102\"],[177.0,150.0,\"102\"],[166.0,142.0,\"102\"],[1267.0,281.0,\"102\"],[151.0,130.0,\"102\"],[984.0,272.0,\"102\"],[776.0,268.0,\"102\"],[661.0,259.0,\"102\"],[570.0,256.0,\"102\"],[496.0,249.0,\"102\"],[456.0,244.0,\"102\"],[417.0,235.0,\"102\"]],\"hovertemplate\":\"Motif Id=%{customdata[2]}\\u003cbr\\u003eM - synapse_threshold=%{x}\\u003cbr\\u003eZ score=%{y}\\u003cbr\\u003eedges=%{customdata[0]}\\u003cbr\\u003enodes=%{customdata[1]}\\u003cextra\\u003e\\u003c\\u002fextra\\u003e\",\"legendgroup\":\"102\",\"marker\":{\"color\":\"#FECB52\",\"symbol\":\"circle\"},\"mode\":\"markers\",\"name\":\"102\",\"orientation\":\"v\",\"showlegend\":true,\"x\":[1.0,10.0,11.0,12.0,13.0,14.0,15.0,16.0,17.0,18.0,19.0,2.0,20.0,3.0,4.0,5.0,6.0,7.0,8.0,9.0],\"xaxis\":\"x\",\"y\":[9.631305668119564,2.723713534907107,2.2530998097099673,-0.3232058579101145,-0.3246908525535828,-0.3565517229866186,-0.29301124608335916,-0.28764124744526687,-0.2576135660330874,-0.22999594656722225,-0.26148818018424536,4.33653156336251,-0.25672208307392946,2.831377405689898,1.47029052275621,0.5592301820048013,-0.5542657386219438,-0.41502076146189987,-0.4030086646652038,2.081960144726816],\"yaxis\":\"y\",\"type\":\"scatter\"},{\"customdata\":[[1752.0,283.0,\"108\"],[371.0,223.0,\"108\"],[328.0,212.0,\"108\"],[294.0,202.0,\"108\"],[267.0,190.0,\"108\"],[242.0,181.0,\"108\"],[222.0,176.0,\"108\"],[207.0,169.0,\"108\"],[197.0,166.0,\"108\"],[177.0,150.0,\"108\"],[166.0,142.0,\"108\"],[1267.0,281.0,\"108\"],[151.0,130.0,\"108\"],[984.0,272.0,\"108\"],[776.0,268.0,\"108\"],[661.0,259.0,\"108\"],[570.0,256.0,\"108\"],[496.0,249.0,\"108\"],[456.0,244.0,\"108\"],[417.0,235.0,\"108\"]],\"hovertemplate\":\"Motif Id=%{customdata[2]}\\u003cbr\\u003eM - synapse_threshold=%{x}\\u003cbr\\u003eZ score=%{y}\\u003cbr\\u003eedges=%{customdata[0]}\\u003cbr\\u003enodes=%{customdata[1]}\\u003cextra\\u003e\\u003c\\u002fextra\\u003e\",\"legendgroup\":\"108\",\"marker\":{\"color\":\"#636efa\",\"symbol\":\"circle\"},\"mode\":\"markers\",\"name\":\"108\",\"orientation\":\"v\",\"showlegend\":true,\"x\":[1.0,10.0,11.0,12.0,13.0,14.0,15.0,16.0,17.0,18.0,19.0,2.0,20.0,3.0,4.0,5.0,6.0,7.0,8.0,9.0],\"xaxis\":\"x\",\"y\":[12.422185550397593,19.74785137281341,16.56734977900962,17.84466476958027,16.751269524821623,18.21073540228763,20.455627045573156,17.162826666927067,23.742182542458696,17.171915553910136,17.60548664920828,9.650226384473427,12.952044568919757,13.355455014341954,17.613066462963832,15.256185471155822,15.953148317094268,22.59754933755471,27.332284866070275,16.151686583653817],\"yaxis\":\"y\",\"type\":\"scatter\"},{\"customdata\":[[1752.0,283.0,\"110\"],[371.0,223.0,\"110\"],[328.0,212.0,\"110\"],[294.0,202.0,\"110\"],[267.0,190.0,\"110\"],[242.0,181.0,\"110\"],[222.0,176.0,\"110\"],[207.0,169.0,\"110\"],[197.0,166.0,\"110\"],[177.0,150.0,\"110\"],[166.0,142.0,\"110\"],[1267.0,281.0,\"110\"],[151.0,130.0,\"110\"],[984.0,272.0,\"110\"],[776.0,268.0,\"110\"],[661.0,259.0,\"110\"],[570.0,256.0,\"110\"],[496.0,249.0,\"110\"],[456.0,244.0,\"110\"],[417.0,235.0,\"110\"]],\"hovertemplate\":\"Motif Id=%{customdata[2]}\\u003cbr\\u003eM - synapse_threshold=%{x}\\u003cbr\\u003eZ score=%{y}\\u003cbr\\u003eedges=%{customdata[0]}\\u003cbr\\u003enodes=%{customdata[1]}\\u003cextra\\u003e\\u003c\\u002fextra\\u003e\",\"legendgroup\":\"110\",\"marker\":{\"color\":\"#EF553B\",\"symbol\":\"circle\"},\"mode\":\"markers\",\"name\":\"110\",\"orientation\":\"v\",\"showlegend\":true,\"x\":[1.0,10.0,11.0,12.0,13.0,14.0,15.0,16.0,17.0,18.0,19.0,2.0,20.0,3.0,4.0,5.0,6.0,7.0,8.0,9.0],\"xaxis\":\"x\",\"y\":[17.657802359412877,15.7797338380595,11.135528725660047,-0.08396038004871988,-0.10050378152592122,-0.09529814069846938,-0.07769309688655057,-0.08396038004871988,-0.10050378152592122,-0.09529814069846938,-0.11581371547232742,16.74673082357066,-0.08396038004871989,9.218337898768848,3.490593883693887,5.032615369505988,6.125,14.106735979665883,11.135528725660047,18.257751205510527],\"yaxis\":\"y\",\"type\":\"scatter\"},{\"customdata\":[[1752.0,283.0,\"238\"],[371.0,223.0,\"238\"],[328.0,212.0,\"238\"],[294.0,202.0,\"238\"],[267.0,190.0,\"238\"],[242.0,181.0,\"238\"],[222.0,176.0,\"238\"],[207.0,169.0,\"238\"],[197.0,166.0,\"238\"],[177.0,150.0,\"238\"],[166.0,142.0,\"238\"],[1267.0,281.0,\"238\"],[151.0,130.0,\"238\"],[984.0,272.0,\"238\"],[776.0,268.0,\"238\"],[661.0,259.0,\"238\"],[570.0,256.0,\"238\"],[496.0,249.0,\"238\"],[456.0,244.0,\"238\"],[417.0,235.0,\"238\"]],\"hovertemplate\":\"Motif Id=%{customdata[2]}\\u003cbr\\u003eM - synapse_threshold=%{x}\\u003cbr\\u003eZ score=%{y}\\u003cbr\\u003eedges=%{customdata[0]}\\u003cbr\\u003enodes=%{customdata[1]}\\u003cextra\\u003e\\u003c\\u002fextra\\u003e\",\"legendgroup\":\"238\",\"marker\":{\"color\":\"#00cc96\",\"symbol\":\"circle\"},\"mode\":\"markers\",\"name\":\"238\",\"orientation\":\"v\",\"showlegend\":true,\"x\":[1.0,10.0,11.0,12.0,13.0,14.0,15.0,16.0,17.0,18.0,19.0,2.0,20.0,3.0,4.0,5.0,6.0,7.0,8.0,9.0],\"xaxis\":\"x\",\"y\":[25.302094173956252,0.0,0.0,0.0,0.0,0.0,0.0,0.0,0.0,0.0,0.0,38.244549358799986,0.0,36.514878369788036,0.0,0.0,0.0,0.0,0.0,0.0],\"yaxis\":\"y\",\"type\":\"scatter\"}],                        {\"template\":{\"data\":{\"histogram2dcontour\":[{\"type\":\"histogram2dcontour\",\"colorbar\":{\"outlinewidth\":0,\"ticks\":\"\"},\"colorscale\":[[0.0,\"#0d0887\"],[0.1111111111111111,\"#46039f\"],[0.2222222222222222,\"#7201a8\"],[0.3333333333333333,\"#9c179e\"],[0.4444444444444444,\"#bd3786\"],[0.5555555555555556,\"#d8576b\"],[0.6666666666666666,\"#ed7953\"],[0.7777777777777778,\"#fb9f3a\"],[0.8888888888888888,\"#fdca26\"],[1.0,\"#f0f921\"]]}],\"choropleth\":[{\"type\":\"choropleth\",\"colorbar\":{\"outlinewidth\":0,\"ticks\":\"\"}}],\"histogram2d\":[{\"type\":\"histogram2d\",\"colorbar\":{\"outlinewidth\":0,\"ticks\":\"\"},\"colorscale\":[[0.0,\"#0d0887\"],[0.1111111111111111,\"#46039f\"],[0.2222222222222222,\"#7201a8\"],[0.3333333333333333,\"#9c179e\"],[0.4444444444444444,\"#bd3786\"],[0.5555555555555556,\"#d8576b\"],[0.6666666666666666,\"#ed7953\"],[0.7777777777777778,\"#fb9f3a\"],[0.8888888888888888,\"#fdca26\"],[1.0,\"#f0f921\"]]}],\"heatmap\":[{\"type\":\"heatmap\",\"colorbar\":{\"outlinewidth\":0,\"ticks\":\"\"},\"colorscale\":[[0.0,\"#0d0887\"],[0.1111111111111111,\"#46039f\"],[0.2222222222222222,\"#7201a8\"],[0.3333333333333333,\"#9c179e\"],[0.4444444444444444,\"#bd3786\"],[0.5555555555555556,\"#d8576b\"],[0.6666666666666666,\"#ed7953\"],[0.7777777777777778,\"#fb9f3a\"],[0.8888888888888888,\"#fdca26\"],[1.0,\"#f0f921\"]]}],\"heatmapgl\":[{\"type\":\"heatmapgl\",\"colorbar\":{\"outlinewidth\":0,\"ticks\":\"\"},\"colorscale\":[[0.0,\"#0d0887\"],[0.1111111111111111,\"#46039f\"],[0.2222222222222222,\"#7201a8\"],[0.3333333333333333,\"#9c179e\"],[0.4444444444444444,\"#bd3786\"],[0.5555555555555556,\"#d8576b\"],[0.6666666666666666,\"#ed7953\"],[0.7777777777777778,\"#fb9f3a\"],[0.8888888888888888,\"#fdca26\"],[1.0,\"#f0f921\"]]}],\"contourcarpet\":[{\"type\":\"contourcarpet\",\"colorbar\":{\"outlinewidth\":0,\"ticks\":\"\"}}],\"contour\":[{\"type\":\"contour\",\"colorbar\":{\"outlinewidth\":0,\"ticks\":\"\"},\"colorscale\":[[0.0,\"#0d0887\"],[0.1111111111111111,\"#46039f\"],[0.2222222222222222,\"#7201a8\"],[0.3333333333333333,\"#9c179e\"],[0.4444444444444444,\"#bd3786\"],[0.5555555555555556,\"#d8576b\"],[0.6666666666666666,\"#ed7953\"],[0.7777777777777778,\"#fb9f3a\"],[0.8888888888888888,\"#fdca26\"],[1.0,\"#f0f921\"]]}],\"surface\":[{\"type\":\"surface\",\"colorbar\":{\"outlinewidth\":0,\"ticks\":\"\"},\"colorscale\":[[0.0,\"#0d0887\"],[0.1111111111111111,\"#46039f\"],[0.2222222222222222,\"#7201a8\"],[0.3333333333333333,\"#9c179e\"],[0.4444444444444444,\"#bd3786\"],[0.5555555555555556,\"#d8576b\"],[0.6666666666666666,\"#ed7953\"],[0.7777777777777778,\"#fb9f3a\"],[0.8888888888888888,\"#fdca26\"],[1.0,\"#f0f921\"]]}],\"mesh3d\":[{\"type\":\"mesh3d\",\"colorbar\":{\"outlinewidth\":0,\"ticks\":\"\"}}],\"scatter\":[{\"fillpattern\":{\"fillmode\":\"overlay\",\"size\":10,\"solidity\":0.2},\"type\":\"scatter\"}],\"parcoords\":[{\"type\":\"parcoords\",\"line\":{\"colorbar\":{\"outlinewidth\":0,\"ticks\":\"\"}}}],\"scatterpolargl\":[{\"type\":\"scatterpolargl\",\"marker\":{\"colorbar\":{\"outlinewidth\":0,\"ticks\":\"\"}}}],\"bar\":[{\"error_x\":{\"color\":\"#2a3f5f\"},\"error_y\":{\"color\":\"#2a3f5f\"},\"marker\":{\"line\":{\"color\":\"#E5ECF6\",\"width\":0.5},\"pattern\":{\"fillmode\":\"overlay\",\"size\":10,\"solidity\":0.2}},\"type\":\"bar\"}],\"scattergeo\":[{\"type\":\"scattergeo\",\"marker\":{\"colorbar\":{\"outlinewidth\":0,\"ticks\":\"\"}}}],\"scatterpolar\":[{\"type\":\"scatterpolar\",\"marker\":{\"colorbar\":{\"outlinewidth\":0,\"ticks\":\"\"}}}],\"histogram\":[{\"marker\":{\"pattern\":{\"fillmode\":\"overlay\",\"size\":10,\"solidity\":0.2}},\"type\":\"histogram\"}],\"scattergl\":[{\"type\":\"scattergl\",\"marker\":{\"colorbar\":{\"outlinewidth\":0,\"ticks\":\"\"}}}],\"scatter3d\":[{\"type\":\"scatter3d\",\"line\":{\"colorbar\":{\"outlinewidth\":0,\"ticks\":\"\"}},\"marker\":{\"colorbar\":{\"outlinewidth\":0,\"ticks\":\"\"}}}],\"scattermapbox\":[{\"type\":\"scattermapbox\",\"marker\":{\"colorbar\":{\"outlinewidth\":0,\"ticks\":\"\"}}}],\"scatterternary\":[{\"type\":\"scatterternary\",\"marker\":{\"colorbar\":{\"outlinewidth\":0,\"ticks\":\"\"}}}],\"scattercarpet\":[{\"type\":\"scattercarpet\",\"marker\":{\"colorbar\":{\"outlinewidth\":0,\"ticks\":\"\"}}}],\"carpet\":[{\"aaxis\":{\"endlinecolor\":\"#2a3f5f\",\"gridcolor\":\"white\",\"linecolor\":\"white\",\"minorgridcolor\":\"white\",\"startlinecolor\":\"#2a3f5f\"},\"baxis\":{\"endlinecolor\":\"#2a3f5f\",\"gridcolor\":\"white\",\"linecolor\":\"white\",\"minorgridcolor\":\"white\",\"startlinecolor\":\"#2a3f5f\"},\"type\":\"carpet\"}],\"table\":[{\"cells\":{\"fill\":{\"color\":\"#EBF0F8\"},\"line\":{\"color\":\"white\"}},\"header\":{\"fill\":{\"color\":\"#C8D4E3\"},\"line\":{\"color\":\"white\"}},\"type\":\"table\"}],\"barpolar\":[{\"marker\":{\"line\":{\"color\":\"#E5ECF6\",\"width\":0.5},\"pattern\":{\"fillmode\":\"overlay\",\"size\":10,\"solidity\":0.2}},\"type\":\"barpolar\"}],\"pie\":[{\"automargin\":true,\"type\":\"pie\"}]},\"layout\":{\"autotypenumbers\":\"strict\",\"colorway\":[\"#636efa\",\"#EF553B\",\"#00cc96\",\"#ab63fa\",\"#FFA15A\",\"#19d3f3\",\"#FF6692\",\"#B6E880\",\"#FF97FF\",\"#FECB52\"],\"font\":{\"color\":\"#2a3f5f\"},\"hovermode\":\"closest\",\"hoverlabel\":{\"align\":\"left\"},\"paper_bgcolor\":\"white\",\"plot_bgcolor\":\"#E5ECF6\",\"polar\":{\"bgcolor\":\"#E5ECF6\",\"angularaxis\":{\"gridcolor\":\"white\",\"linecolor\":\"white\",\"ticks\":\"\"},\"radialaxis\":{\"gridcolor\":\"white\",\"linecolor\":\"white\",\"ticks\":\"\"}},\"ternary\":{\"bgcolor\":\"#E5ECF6\",\"aaxis\":{\"gridcolor\":\"white\",\"linecolor\":\"white\",\"ticks\":\"\"},\"baxis\":{\"gridcolor\":\"white\",\"linecolor\":\"white\",\"ticks\":\"\"},\"caxis\":{\"gridcolor\":\"white\",\"linecolor\":\"white\",\"ticks\":\"\"}},\"coloraxis\":{\"colorbar\":{\"outlinewidth\":0,\"ticks\":\"\"}},\"colorscale\":{\"sequential\":[[0.0,\"#0d0887\"],[0.1111111111111111,\"#46039f\"],[0.2222222222222222,\"#7201a8\"],[0.3333333333333333,\"#9c179e\"],[0.4444444444444444,\"#bd3786\"],[0.5555555555555556,\"#d8576b\"],[0.6666666666666666,\"#ed7953\"],[0.7777777777777778,\"#fb9f3a\"],[0.8888888888888888,\"#fdca26\"],[1.0,\"#f0f921\"]],\"sequentialminus\":[[0.0,\"#0d0887\"],[0.1111111111111111,\"#46039f\"],[0.2222222222222222,\"#7201a8\"],[0.3333333333333333,\"#9c179e\"],[0.4444444444444444,\"#bd3786\"],[0.5555555555555556,\"#d8576b\"],[0.6666666666666666,\"#ed7953\"],[0.7777777777777778,\"#fb9f3a\"],[0.8888888888888888,\"#fdca26\"],[1.0,\"#f0f921\"]],\"diverging\":[[0,\"#8e0152\"],[0.1,\"#c51b7d\"],[0.2,\"#de77ae\"],[0.3,\"#f1b6da\"],[0.4,\"#fde0ef\"],[0.5,\"#f7f7f7\"],[0.6,\"#e6f5d0\"],[0.7,\"#b8e186\"],[0.8,\"#7fbc41\"],[0.9,\"#4d9221\"],[1,\"#276419\"]]},\"xaxis\":{\"gridcolor\":\"white\",\"linecolor\":\"white\",\"ticks\":\"\",\"title\":{\"standoff\":15},\"zerolinecolor\":\"white\",\"automargin\":true,\"zerolinewidth\":2},\"yaxis\":{\"gridcolor\":\"white\",\"linecolor\":\"white\",\"ticks\":\"\",\"title\":{\"standoff\":15},\"zerolinecolor\":\"white\",\"automargin\":true,\"zerolinewidth\":2},\"scene\":{\"xaxis\":{\"backgroundcolor\":\"#E5ECF6\",\"gridcolor\":\"white\",\"linecolor\":\"white\",\"showbackground\":true,\"ticks\":\"\",\"zerolinecolor\":\"white\",\"gridwidth\":2},\"yaxis\":{\"backgroundcolor\":\"#E5ECF6\",\"gridcolor\":\"white\",\"linecolor\":\"white\",\"showbackground\":true,\"ticks\":\"\",\"zerolinecolor\":\"white\",\"gridwidth\":2},\"zaxis\":{\"backgroundcolor\":\"#E5ECF6\",\"gridcolor\":\"white\",\"linecolor\":\"white\",\"showbackground\":true,\"ticks\":\"\",\"zerolinecolor\":\"white\",\"gridwidth\":2}},\"shapedefaults\":{\"line\":{\"color\":\"#2a3f5f\"}},\"annotationdefaults\":{\"arrowcolor\":\"#2a3f5f\",\"arrowhead\":0,\"arrowwidth\":1},\"geo\":{\"bgcolor\":\"white\",\"landcolor\":\"#E5ECF6\",\"subunitcolor\":\"white\",\"showland\":true,\"showlakes\":true,\"lakecolor\":\"white\"},\"title\":{\"x\":0.05},\"mapbox\":{\"style\":\"light\"}}},\"xaxis\":{\"anchor\":\"y\",\"domain\":[0.0,1.0],\"title\":{\"text\":\"M - synapse_threshold\"}},\"yaxis\":{\"anchor\":\"x\",\"domain\":[0.0,1.0],\"title\":{\"text\":\"Z score\"}},\"legend\":{\"title\":{\"text\":\"Motif Id\"},\"tracegroupgap\":0},\"title\":{\"text\":\"Z-score as a function of M. network: pol\"}},                        {\"responsive\": true}                    ).then(function(){\n",
       "                            \n",
       "var gd = document.getElementById('1bdee1ec-3a76-4308-ae68-e763861193d5');\n",
       "var x = new MutationObserver(function (mutations, observer) {{\n",
       "        var display = window.getComputedStyle(gd).display;\n",
       "        if (!display || display === 'none') {{\n",
       "            console.log([gd, 'removed!']);\n",
       "            Plotly.purge(gd);\n",
       "            observer.disconnect();\n",
       "        }}\n",
       "}});\n",
       "\n",
       "// Listen for the removal of the full notebook cells\n",
       "var notebookContainer = gd.closest('#notebook-container');\n",
       "if (notebookContainer) {{\n",
       "    x.observe(notebookContainer, {childList: true});\n",
       "}}\n",
       "\n",
       "// Listen for the clearing of the current output cell\n",
       "var outputEl = gd.closest('.output');\n",
       "if (outputEl) {{\n",
       "    x.observe(outputEl, {childList: true});\n",
       "}}\n",
       "\n",
       "                        })                };                });            </script>        </div>"
      ]
     },
     "metadata": {},
     "output_type": "display_data"
    },
    {
     "data": {
      "text/html": [
       "<div>\n",
       "<style scoped>\n",
       "    .dataframe tbody tr th:only-of-type {\n",
       "        vertical-align: middle;\n",
       "    }\n",
       "\n",
       "    .dataframe tbody tr th {\n",
       "        vertical-align: top;\n",
       "    }\n",
       "\n",
       "    .dataframe thead th {\n",
       "        text-align: right;\n",
       "    }\n",
       "</style>\n",
       "<table border=\"1\" class=\"dataframe\">\n",
       "  <thead>\n",
       "    <tr style=\"text-align: right;\">\n",
       "      <th></th>\n",
       "      <th>m</th>\n",
       "      <th>edges</th>\n",
       "      <th>nodes</th>\n",
       "      <th>variable</th>\n",
       "      <th>value</th>\n",
       "    </tr>\n",
       "  </thead>\n",
       "  <tbody>\n",
       "    <tr>\n",
       "      <th>0</th>\n",
       "      <td>1.0</td>\n",
       "      <td>1752.0</td>\n",
       "      <td>283.0</td>\n",
       "      <td>fan_out-6</td>\n",
       "      <td>-21.754694</td>\n",
       "    </tr>\n",
       "    <tr>\n",
       "      <th>1</th>\n",
       "      <td>10.0</td>\n",
       "      <td>371.0</td>\n",
       "      <td>223.0</td>\n",
       "      <td>fan_out-6</td>\n",
       "      <td>-9.968433</td>\n",
       "    </tr>\n",
       "    <tr>\n",
       "      <th>2</th>\n",
       "      <td>11.0</td>\n",
       "      <td>328.0</td>\n",
       "      <td>212.0</td>\n",
       "      <td>fan_out-6</td>\n",
       "      <td>-8.659000</td>\n",
       "    </tr>\n",
       "    <tr>\n",
       "      <th>3</th>\n",
       "      <td>12.0</td>\n",
       "      <td>294.0</td>\n",
       "      <td>202.0</td>\n",
       "      <td>fan_out-6</td>\n",
       "      <td>-8.085296</td>\n",
       "    </tr>\n",
       "    <tr>\n",
       "      <th>4</th>\n",
       "      <td>13.0</td>\n",
       "      <td>267.0</td>\n",
       "      <td>190.0</td>\n",
       "      <td>fan_out-6</td>\n",
       "      <td>-7.223925</td>\n",
       "    </tr>\n",
       "    <tr>\n",
       "      <th>...</th>\n",
       "      <td>...</td>\n",
       "      <td>...</td>\n",
       "      <td>...</td>\n",
       "      <td>...</td>\n",
       "      <td>...</td>\n",
       "    </tr>\n",
       "    <tr>\n",
       "      <th>255</th>\n",
       "      <td>5.0</td>\n",
       "      <td>661.0</td>\n",
       "      <td>259.0</td>\n",
       "      <td>238</td>\n",
       "      <td>0.000000</td>\n",
       "    </tr>\n",
       "    <tr>\n",
       "      <th>256</th>\n",
       "      <td>6.0</td>\n",
       "      <td>570.0</td>\n",
       "      <td>256.0</td>\n",
       "      <td>238</td>\n",
       "      <td>0.000000</td>\n",
       "    </tr>\n",
       "    <tr>\n",
       "      <th>257</th>\n",
       "      <td>7.0</td>\n",
       "      <td>496.0</td>\n",
       "      <td>249.0</td>\n",
       "      <td>238</td>\n",
       "      <td>0.000000</td>\n",
       "    </tr>\n",
       "    <tr>\n",
       "      <th>258</th>\n",
       "      <td>8.0</td>\n",
       "      <td>456.0</td>\n",
       "      <td>244.0</td>\n",
       "      <td>238</td>\n",
       "      <td>0.000000</td>\n",
       "    </tr>\n",
       "    <tr>\n",
       "      <th>259</th>\n",
       "      <td>9.0</td>\n",
       "      <td>417.0</td>\n",
       "      <td>235.0</td>\n",
       "      <td>238</td>\n",
       "      <td>0.000000</td>\n",
       "    </tr>\n",
       "  </tbody>\n",
       "</table>\n",
       "<p>260 rows × 5 columns</p>\n",
       "</div>"
      ],
      "text/plain": [
       "        m   edges  nodes   variable      value\n",
       "0     1.0  1752.0  283.0  fan_out-6 -21.754694\n",
       "1    10.0   371.0  223.0  fan_out-6  -9.968433\n",
       "2    11.0   328.0  212.0  fan_out-6  -8.659000\n",
       "3    12.0   294.0  202.0  fan_out-6  -8.085296\n",
       "4    13.0   267.0  190.0  fan_out-6  -7.223925\n",
       "..    ...     ...    ...        ...        ...\n",
       "255   5.0   661.0  259.0        238   0.000000\n",
       "256   6.0   570.0  256.0        238   0.000000\n",
       "257   7.0   496.0  249.0        238   0.000000\n",
       "258   8.0   456.0  244.0        238   0.000000\n",
       "259   9.0   417.0  235.0        238   0.000000\n",
       "\n",
       "[260 rows x 5 columns]"
      ]
     },
     "execution_count": 75,
     "metadata": {},
     "output_type": "execute_result"
    }
   ],
   "source": [
    "read_z_scores_as_func_of_m('pol')"
   ]
  }
 ],
 "metadata": {
  "kernelspec": {
   "display_name": "Python 3 (ipykernel)",
   "language": "python",
   "name": "python3"
  },
  "language_info": {
   "codemirror_mode": {
    "name": "ipython",
    "version": 3
   },
   "file_extension": ".py",
   "mimetype": "text/x-python",
   "name": "python",
   "nbconvert_exporter": "python",
   "pygments_lexer": "ipython3",
   "version": "3.9.13"
  }
 },
 "nbformat": 4,
 "nbformat_minor": 5
}
