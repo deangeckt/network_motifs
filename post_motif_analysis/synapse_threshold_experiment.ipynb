{
 "cells": [
  {
   "cell_type": "code",
   "execution_count": 1,
   "id": "376df888-bd43-491a-87e4-c82544717b34",
   "metadata": {},
   "outputs": [],
   "source": [
    "import os\n",
    "# running from Root directory\n",
    "os.chdir(\"..\")"
   ]
  },
  {
   "cell_type": "code",
   "execution_count": 2,
   "id": "cef06365-9485-4c0b-aacc-64f5f4ef0427",
   "metadata": {},
   "outputs": [],
   "source": [
    "from motif_search_main import load_network_from_args\n",
    "from utils.export_import import import_results\n",
    "from utils.logs import log_motif_criteria_args, log_motif_results, log_sub_graph_args, log_randomizer_args, log_motifs_table\n",
    "from utils.types import MotifCriteriaArgs, MotifType, MotifName\n",
    "import matplotlib.pyplot as plt\n",
    "import networkx as nx\n",
    "from typing import Union\n",
    "import numpy as np\n",
    "from collections import defaultdict\n",
    "import plotly.express as px\n",
    "import pandas as pd"
   ]
  },
  {
   "cell_type": "code",
   "execution_count": 41,
   "id": "97a3c67e-97ad-4ed4-bd46-8535364c5167",
   "metadata": {},
   "outputs": [],
   "source": [
    "dir_ = 'results/synapse_threshold_experiment/'\n",
    "\n",
    "# to load the networks need a little fix - this API / schema has changed a bit, and those bin files aren't updated \n",
    "# args.input_network_file = \"/\".join(args.input_network_file.strip(\"/\").split('/')[1:])\n",
    "# network = load_network_from_args(args)\n",
    "\n",
    "def read_z_scores_as_func_of_m(net_experiment: str):\n",
    "    df = pd.DataFrame()\n",
    "    for file in os.listdir(dir_):\n",
    "        if not file.startswith(net_experiment):\n",
    "            continue\n",
    "            \n",
    "        data = import_results(f'{dir_}/{file}')\n",
    "        args = data['args']\n",
    "        motifs = data['motifs']\n",
    "    \n",
    "        row_ = {'m' : args.synapse_threshold}\n",
    "        for motif_id in motifs: \n",
    "            motif = motifs[motif_id]\n",
    "            title_name =  f'{motif.name.value}-{motif.id}' if motif.name.value != MotifName.na else motif.id\n",
    "            row_[str(title_name)] = motif.motif_criteria.z_score\n",
    "    \n",
    "        df = pd.concat([df, pd.DataFrame.from_dict(row_, orient='index').T], ignore_index=True)\n",
    "    \n",
    "    cols = list(df.columns)\n",
    "    cols.remove('m')\n",
    "    df_ = df.melt(id_vars='m', value_vars=cols)\n",
    "    fig = px.scatter(df_,\n",
    "                     x='m',\n",
    "                     y='value',\n",
    "                     color='variable',\n",
    "                     labels={\n",
    "                         \"m\": \"M - synapse_threshold\",\n",
    "                         \"value\": \"Z score\",\n",
    "                         \"variable\": \"Motif Id\"\n",
    "                     },\n",
    "                     title=f'Z-score as a function of M. network: {net_experiment}')\n",
    "    \n",
    "    fig.show()\n"
   ]
  },
  {
   "cell_type": "code",
   "execution_count": 42,
   "id": "bb795ebd-9637-483f-9105-149b4c883e3a",
   "metadata": {},
   "outputs": [
    {
     "data": {
      "application/vnd.plotly.v1+json": {
       "config": {
        "plotlyServerURL": "https://plot.ly"
       },
       "data": [
        {
         "hovertemplate": "Motif Id=fan_out-6<br>M - synapse_threshold=%{x}<br>Z score=%{y}<extra></extra>",
         "legendgroup": "fan_out-6",
         "marker": {
          "color": "#636efa",
          "symbol": "circle"
         },
         "mode": "markers",
         "name": "fan_out-6",
         "orientation": "v",
         "showlegend": true,
         "type": "scatter",
         "x": [
          1,
          10,
          11,
          12,
          13,
          14,
          15,
          16,
          17,
          18,
          19,
          2,
          20,
          3,
          4,
          5,
          6,
          7,
          8,
          9
         ],
         "xaxis": "x",
         "y": [
          -37.44876404989448,
          -6.058278242018165,
          -4.659355971058273,
          -4.716413813314285,
          -4.397415386438907,
          -3.639063895933299,
          -2.890402088523266,
          -3.524502774682766,
          -3.4954672979039785,
          -3.078377537084612,
          -2.858511588774979,
          -24.4630051325811,
          -0.9186639743956151,
          -18.820990032679415,
          -12.331761889337292,
          -10.739744579370472,
          -9.025720928610246,
          -10.076897187940915,
          -7.855323686023378,
          -7.4533546986058115
         ],
         "yaxis": "y"
        },
        {
         "hovertemplate": "Motif Id=cascade-12<br>M - synapse_threshold=%{x}<br>Z score=%{y}<extra></extra>",
         "legendgroup": "cascade-12",
         "marker": {
          "color": "#EF553B",
          "symbol": "circle"
         },
         "mode": "markers",
         "name": "cascade-12",
         "orientation": "v",
         "showlegend": true,
         "type": "scatter",
         "x": [
          1,
          10,
          11,
          12,
          13,
          14,
          15,
          16,
          17,
          18,
          19,
          2,
          20,
          3,
          4,
          5,
          6,
          7,
          8,
          9
         ],
         "xaxis": "x",
         "y": [
          -30.79279711194421,
          -5.298240583124781,
          -3.975910053505278,
          -3.939348099387471,
          -4.180066962471013,
          -3.233458087935131,
          -2.7315998993928456,
          -2.748673403840285,
          -2.8479089580536625,
          -2.5602960730555777,
          -2.2569580802498943,
          -17.808686569126237,
          -0.48684606995702084,
          -13.16683168742382,
          -8.483882884765732,
          -7.9677471907559205,
          -6.8539180023149475,
          -7.420109243212313,
          -5.929069247887287,
          -5.852104745095382
         ],
         "yaxis": "y"
        },
        {
         "hovertemplate": "Motif Id=14<br>M - synapse_threshold=%{x}<br>Z score=%{y}<extra></extra>",
         "legendgroup": "14",
         "marker": {
          "color": "#00cc96",
          "symbol": "circle"
         },
         "mode": "markers",
         "name": "14",
         "orientation": "v",
         "showlegend": true,
         "type": "scatter",
         "x": [
          1,
          10,
          11,
          12,
          13,
          14,
          15,
          16,
          17,
          18,
          19,
          2,
          20,
          3,
          4,
          5,
          6,
          7,
          8,
          9
         ],
         "xaxis": "x",
         "y": [
          16.495588649243768,
          2.71566072484957,
          1.9456561031601496,
          2.0884247381297136,
          2.318979679502054,
          2.73550053993956,
          2.2451978509938892,
          1.9461807778954165,
          2.0551982301330027,
          1.7513126496136882,
          1.1498786408252526,
          10.619385948270763,
          -0.1901042864909089,
          8.062782824970403,
          3.817270531657642,
          4.029957506548427,
          3.3087460890654725,
          4.749151076650627,
          2.935615929555625,
          2.48078816729051
         ],
         "yaxis": "y"
        },
        {
         "hovertemplate": "Motif Id=fan_in-36<br>M - synapse_threshold=%{x}<br>Z score=%{y}<extra></extra>",
         "legendgroup": "fan_in-36",
         "marker": {
          "color": "#ab63fa",
          "symbol": "circle"
         },
         "mode": "markers",
         "name": "fan_in-36",
         "orientation": "v",
         "showlegend": true,
         "type": "scatter",
         "x": [
          1,
          10,
          11,
          12,
          13,
          14,
          15,
          16,
          17,
          18,
          19,
          2,
          20,
          3,
          4,
          5,
          6,
          7,
          8,
          9
         ],
         "xaxis": "x",
         "y": [
          -29.831897757555602,
          -5.765151052833322,
          -4.651754479630699,
          -4.191546524602286,
          -4.404581013998296,
          -2.8382496109288162,
          -2.475450482916818,
          -4.479655145263533,
          -4.450072216541128,
          -4.510538720550081,
          -4.6607664175171895,
          -17.560722140017173,
          -2.2540849103635026,
          -13.337667935700624,
          -9.302215533158511,
          -8.431945644137217,
          -6.715908594787769,
          -7.196111033097015,
          -6.152790928242743,
          -6.477356628222383
         ],
         "yaxis": "y"
        },
        {
         "hovertemplate": "Motif Id=feed_forward-38<br>M - synapse_threshold=%{x}<br>Z score=%{y}<extra></extra>",
         "legendgroup": "feed_forward-38",
         "marker": {
          "color": "#FFA15A",
          "symbol": "circle"
         },
         "mode": "markers",
         "name": "feed_forward-38",
         "orientation": "v",
         "showlegend": true,
         "type": "scatter",
         "x": [
          1,
          10,
          11,
          12,
          13,
          14,
          15,
          16,
          17,
          18,
          19,
          2,
          20,
          3,
          4,
          5,
          6,
          7,
          8,
          9
         ],
         "xaxis": "x",
         "y": [
          -11.12209681764452,
          3.7370426709658187,
          2.713261299389997,
          2.2551796970814633,
          0.03955964867319927,
          3.058768589091818,
          3.5451523457967977,
          5.989919115584215,
          5.215632735170619,
          5.159899668931759,
          6.510988647054845,
          1.3288673164842875,
          2.442547963153949,
          6.546982586656992,
          7.336736734932976,
          5.114493034730756,
          3.5805483521100863,
          4.449360210569827,
          6.860866532574652,
          6.614461599136561
         ],
         "yaxis": "y"
        },
        {
         "hovertemplate": "Motif Id=46<br>M - synapse_threshold=%{x}<br>Z score=%{y}<extra></extra>",
         "legendgroup": "46",
         "marker": {
          "color": "#19d3f3",
          "symbol": "circle"
         },
         "mode": "markers",
         "name": "46",
         "orientation": "v",
         "showlegend": true,
         "type": "scatter",
         "x": [
          1,
          10,
          11,
          12,
          13,
          14,
          15,
          16,
          17,
          18,
          19,
          2,
          20,
          3,
          4,
          5,
          6,
          7,
          8,
          9
         ],
         "xaxis": "x",
         "y": [
          47.87618694034417,
          5.2983189055956075,
          8.561730439128103,
          8.856838839464483,
          8.573381317434837,
          -0.2481118850920685,
          -0.23122695089517292,
          -0.11386818846191439,
          -0.112333378713562,
          -0.12751534261266764,
          -0.10492264806007326,
          40.57353674318089,
          0,
          33.39954541563602,
          21.025069063406892,
          13.236353198924931,
          17.197995315926622,
          11.135555017539946,
          9.612332310092917,
          9.134391528586056
         ],
         "yaxis": "y"
        },
        {
         "hovertemplate": "Motif Id=74<br>M - synapse_threshold=%{x}<br>Z score=%{y}<extra></extra>",
         "legendgroup": "74",
         "marker": {
          "color": "#FF6692",
          "symbol": "circle"
         },
         "mode": "markers",
         "name": "74",
         "orientation": "v",
         "showlegend": true,
         "type": "scatter",
         "x": [
          1,
          10,
          11,
          12,
          13,
          14,
          15,
          16,
          17,
          18,
          19,
          2,
          20,
          3,
          4,
          5,
          6,
          7,
          8,
          9
         ],
         "xaxis": "x",
         "y": [
          13.649159753887039,
          3.3118761866927104,
          2.4269140761158794,
          1.576340179601286,
          2.2182264183962563,
          1.4477286308324067,
          1.2950791376804927,
          0.729295055686722,
          1.0786597577556654,
          1.0876386125496256,
          0.9495042121155283,
          8.41339410731308,
          -0.13916893275819883,
          6.878448420403953,
          4.638348283927874,
          4.681712536623187,
          3.4636837573698323,
          3.6626770408976967,
          3.1327201681031904,
          3.3120595412279186
         ],
         "yaxis": "y"
        },
        {
         "hovertemplate": "Motif Id=78<br>M - synapse_threshold=%{x}<br>Z score=%{y}<extra></extra>",
         "legendgroup": "78",
         "marker": {
          "color": "#B6E880",
          "symbol": "circle"
         },
         "mode": "markers",
         "name": "78",
         "orientation": "v",
         "showlegend": true,
         "type": "scatter",
         "x": [
          1,
          10,
          11,
          12,
          13,
          14,
          15,
          16,
          17,
          18,
          19,
          2,
          20,
          3,
          4,
          5,
          6,
          7,
          8,
          9
         ],
         "xaxis": "x",
         "y": [
          36.71108375389786,
          10.253108251038922,
          2.5206166593521706,
          5.4464772169233635,
          5.5333187477332135,
          4.504830430624028,
          -0.13981680465000706,
          -0.05485459945386285,
          -0.03163859985841663,
          -0.06337242505244779,
          -0.07088812050083358,
          16.47661073447522,
          0,
          13.878753686756975,
          5.751795148387336,
          6.513842985591707,
          9.732735913636024,
          11.344565084906915,
          8.06579906330691,
          9.267907493826776
         ],
         "yaxis": "y"
        },
        {
         "hovertemplate": "Motif Id=98<br>M - synapse_threshold=%{x}<br>Z score=%{y}<extra></extra>",
         "legendgroup": "98",
         "marker": {
          "color": "#FF97FF",
          "symbol": "circle"
         },
         "mode": "markers",
         "name": "98",
         "orientation": "v",
         "showlegend": true,
         "type": "scatter",
         "x": [
          1,
          10,
          11,
          12,
          13,
          14,
          15,
          16,
          17,
          18,
          19,
          2,
          20,
          3,
          4,
          5,
          6,
          7,
          8,
          9
         ],
         "xaxis": "x",
         "y": [
          -16.617686426890657,
          -0.943066554753875,
          -0.7810226159133271,
          -0.603010154047336,
          -0.5092527012862501,
          -0.386591273268488,
          2.4403183035214826,
          -0.21866270583345174,
          -0.20676766567910423,
          -0.17318976288085866,
          -0.21453462331873252,
          -8.68049434370401,
          -0.08396038004871989,
          -5.778151846304837,
          -3.8300159682077686,
          -3.201125993657554,
          0.47788029343138855,
          -1.2595311223956926,
          -1.4592517734942556,
          -1.2230541612216403
         ],
         "yaxis": "y"
        },
        {
         "hovertemplate": "Motif Id=102<br>M - synapse_threshold=%{x}<br>Z score=%{y}<extra></extra>",
         "legendgroup": "102",
         "marker": {
          "color": "#FECB52",
          "symbol": "circle"
         },
         "mode": "markers",
         "name": "102",
         "orientation": "v",
         "showlegend": true,
         "type": "scatter",
         "x": [
          1,
          10,
          11,
          12,
          13,
          14,
          15,
          16,
          17,
          18,
          19,
          2,
          20,
          3,
          4,
          5,
          6,
          7,
          8,
          9
         ],
         "xaxis": "x",
         "y": [
          4.70727706705934,
          -0.55962076543112,
          -0.4805444323330146,
          -0.3529805508593287,
          -0.30815191118091906,
          4.776178513007948,
          -0.20069785042142732,
          -0.04476614810358452,
          -0.04246464226290538,
          -0.07088812050083357,
          -0.06337242505244779,
          3.372352309666962,
          0,
          4.231998460277443,
          4.379224639416852,
          4.842032804131877,
          -0.13703539921661986,
          -0.022043416519686495,
          -0.7708833169545805,
          -0.6507918357417588
         ],
         "yaxis": "y"
        },
        {
         "hovertemplate": "Motif Id=108<br>M - synapse_threshold=%{x}<br>Z score=%{y}<extra></extra>",
         "legendgroup": "108",
         "marker": {
          "color": "#636efa",
          "symbol": "circle"
         },
         "mode": "markers",
         "name": "108",
         "orientation": "v",
         "showlegend": true,
         "type": "scatter",
         "x": [
          1,
          10,
          11,
          12,
          13,
          14,
          15,
          16,
          17,
          18,
          19,
          2,
          20,
          3,
          4,
          5,
          6,
          7,
          8,
          9
         ],
         "xaxis": "x",
         "y": [
          25.664480601910235,
          2.312509668764921,
          3.654583650571511,
          5.105379197979542,
          4.453666973119295,
          -0.13772614261276048,
          -0.13150664608837076,
          -0.08396038004871989,
          -0.04476614810358452,
          -0.07088812050083357,
          -0.05485459945386285,
          23.591919341162182,
          0,
          15.027490341259432,
          11.678488801010486,
          12.619338266396193,
          11.21362222244702,
          16.221185915772097,
          6.747678402750891,
          7.537063011128544
         ],
         "yaxis": "y"
        },
        {
         "hovertemplate": "Motif Id=110<br>M - synapse_threshold=%{x}<br>Z score=%{y}<extra></extra>",
         "legendgroup": "110",
         "marker": {
          "color": "#EF553B",
          "symbol": "circle"
         },
         "mode": "markers",
         "name": "110",
         "orientation": "v",
         "showlegend": true,
         "type": "scatter",
         "x": [
          1,
          10,
          11,
          12,
          13,
          14,
          15,
          16,
          17,
          18,
          19,
          2,
          20,
          3,
          4,
          5,
          6,
          7,
          8,
          9
         ],
         "xaxis": "x",
         "y": [
          50.19148551459359,
          12.536624586327793,
          9.751364464057891,
          16.903505095016452,
          19.069543413049182,
          -0.04476614810358452,
          -0.05485459945386285,
          0,
          0,
          0,
          0,
          28.591058104384352,
          0,
          14.61440284427599,
          11.07206641658374,
          8.467742732607002,
          4.250432715458599,
          4.980057025309045,
          7.757864523108939,
          9.040409857033517
         ],
         "yaxis": "y"
        },
        {
         "hovertemplate": "Motif Id=238<br>M - synapse_threshold=%{x}<br>Z score=%{y}<extra></extra>",
         "legendgroup": "238",
         "marker": {
          "color": "#00cc96",
          "symbol": "circle"
         },
         "mode": "markers",
         "name": "238",
         "orientation": "v",
         "showlegend": true,
         "type": "scatter",
         "x": [
          1,
          10,
          11,
          12,
          13,
          14,
          15,
          16,
          17,
          18,
          19,
          2,
          20,
          3,
          4,
          5,
          6,
          7,
          8,
          9
         ],
         "xaxis": "x",
         "y": [
          103.97561680276497,
          44.721381955480936,
          31.606961258558215,
          0,
          0,
          0,
          0,
          0,
          0,
          0,
          0,
          57.5745143168837,
          0,
          56.093256082196596,
          62.46506595409653,
          59.88527184086443,
          64.66655430857227,
          47.46594636428339,
          63.245561116974834,
          44.721381955480936
         ],
         "yaxis": "y"
        }
       ],
       "layout": {
        "autosize": true,
        "legend": {
         "title": {
          "text": "Motif Id"
         },
         "tracegroupgap": 0
        },
        "template": {
         "data": {
          "bar": [
           {
            "error_x": {
             "color": "#2a3f5f"
            },
            "error_y": {
             "color": "#2a3f5f"
            },
            "marker": {
             "line": {
              "color": "#E5ECF6",
              "width": 0.5
             },
             "pattern": {
              "fillmode": "overlay",
              "size": 10,
              "solidity": 0.2
             }
            },
            "type": "bar"
           }
          ],
          "barpolar": [
           {
            "marker": {
             "line": {
              "color": "#E5ECF6",
              "width": 0.5
             },
             "pattern": {
              "fillmode": "overlay",
              "size": 10,
              "solidity": 0.2
             }
            },
            "type": "barpolar"
           }
          ],
          "carpet": [
           {
            "aaxis": {
             "endlinecolor": "#2a3f5f",
             "gridcolor": "white",
             "linecolor": "white",
             "minorgridcolor": "white",
             "startlinecolor": "#2a3f5f"
            },
            "baxis": {
             "endlinecolor": "#2a3f5f",
             "gridcolor": "white",
             "linecolor": "white",
             "minorgridcolor": "white",
             "startlinecolor": "#2a3f5f"
            },
            "type": "carpet"
           }
          ],
          "choropleth": [
           {
            "colorbar": {
             "outlinewidth": 0,
             "ticks": ""
            },
            "type": "choropleth"
           }
          ],
          "contour": [
           {
            "colorbar": {
             "outlinewidth": 0,
             "ticks": ""
            },
            "colorscale": [
             [
              0,
              "#0d0887"
             ],
             [
              0.1111111111111111,
              "#46039f"
             ],
             [
              0.2222222222222222,
              "#7201a8"
             ],
             [
              0.3333333333333333,
              "#9c179e"
             ],
             [
              0.4444444444444444,
              "#bd3786"
             ],
             [
              0.5555555555555556,
              "#d8576b"
             ],
             [
              0.6666666666666666,
              "#ed7953"
             ],
             [
              0.7777777777777778,
              "#fb9f3a"
             ],
             [
              0.8888888888888888,
              "#fdca26"
             ],
             [
              1,
              "#f0f921"
             ]
            ],
            "type": "contour"
           }
          ],
          "contourcarpet": [
           {
            "colorbar": {
             "outlinewidth": 0,
             "ticks": ""
            },
            "type": "contourcarpet"
           }
          ],
          "heatmap": [
           {
            "colorbar": {
             "outlinewidth": 0,
             "ticks": ""
            },
            "colorscale": [
             [
              0,
              "#0d0887"
             ],
             [
              0.1111111111111111,
              "#46039f"
             ],
             [
              0.2222222222222222,
              "#7201a8"
             ],
             [
              0.3333333333333333,
              "#9c179e"
             ],
             [
              0.4444444444444444,
              "#bd3786"
             ],
             [
              0.5555555555555556,
              "#d8576b"
             ],
             [
              0.6666666666666666,
              "#ed7953"
             ],
             [
              0.7777777777777778,
              "#fb9f3a"
             ],
             [
              0.8888888888888888,
              "#fdca26"
             ],
             [
              1,
              "#f0f921"
             ]
            ],
            "type": "heatmap"
           }
          ],
          "heatmapgl": [
           {
            "colorbar": {
             "outlinewidth": 0,
             "ticks": ""
            },
            "colorscale": [
             [
              0,
              "#0d0887"
             ],
             [
              0.1111111111111111,
              "#46039f"
             ],
             [
              0.2222222222222222,
              "#7201a8"
             ],
             [
              0.3333333333333333,
              "#9c179e"
             ],
             [
              0.4444444444444444,
              "#bd3786"
             ],
             [
              0.5555555555555556,
              "#d8576b"
             ],
             [
              0.6666666666666666,
              "#ed7953"
             ],
             [
              0.7777777777777778,
              "#fb9f3a"
             ],
             [
              0.8888888888888888,
              "#fdca26"
             ],
             [
              1,
              "#f0f921"
             ]
            ],
            "type": "heatmapgl"
           }
          ],
          "histogram": [
           {
            "marker": {
             "pattern": {
              "fillmode": "overlay",
              "size": 10,
              "solidity": 0.2
             }
            },
            "type": "histogram"
           }
          ],
          "histogram2d": [
           {
            "colorbar": {
             "outlinewidth": 0,
             "ticks": ""
            },
            "colorscale": [
             [
              0,
              "#0d0887"
             ],
             [
              0.1111111111111111,
              "#46039f"
             ],
             [
              0.2222222222222222,
              "#7201a8"
             ],
             [
              0.3333333333333333,
              "#9c179e"
             ],
             [
              0.4444444444444444,
              "#bd3786"
             ],
             [
              0.5555555555555556,
              "#d8576b"
             ],
             [
              0.6666666666666666,
              "#ed7953"
             ],
             [
              0.7777777777777778,
              "#fb9f3a"
             ],
             [
              0.8888888888888888,
              "#fdca26"
             ],
             [
              1,
              "#f0f921"
             ]
            ],
            "type": "histogram2d"
           }
          ],
          "histogram2dcontour": [
           {
            "colorbar": {
             "outlinewidth": 0,
             "ticks": ""
            },
            "colorscale": [
             [
              0,
              "#0d0887"
             ],
             [
              0.1111111111111111,
              "#46039f"
             ],
             [
              0.2222222222222222,
              "#7201a8"
             ],
             [
              0.3333333333333333,
              "#9c179e"
             ],
             [
              0.4444444444444444,
              "#bd3786"
             ],
             [
              0.5555555555555556,
              "#d8576b"
             ],
             [
              0.6666666666666666,
              "#ed7953"
             ],
             [
              0.7777777777777778,
              "#fb9f3a"
             ],
             [
              0.8888888888888888,
              "#fdca26"
             ],
             [
              1,
              "#f0f921"
             ]
            ],
            "type": "histogram2dcontour"
           }
          ],
          "mesh3d": [
           {
            "colorbar": {
             "outlinewidth": 0,
             "ticks": ""
            },
            "type": "mesh3d"
           }
          ],
          "parcoords": [
           {
            "line": {
             "colorbar": {
              "outlinewidth": 0,
              "ticks": ""
             }
            },
            "type": "parcoords"
           }
          ],
          "pie": [
           {
            "automargin": true,
            "type": "pie"
           }
          ],
          "scatter": [
           {
            "fillpattern": {
             "fillmode": "overlay",
             "size": 10,
             "solidity": 0.2
            },
            "type": "scatter"
           }
          ],
          "scatter3d": [
           {
            "line": {
             "colorbar": {
              "outlinewidth": 0,
              "ticks": ""
             }
            },
            "marker": {
             "colorbar": {
              "outlinewidth": 0,
              "ticks": ""
             }
            },
            "type": "scatter3d"
           }
          ],
          "scattercarpet": [
           {
            "marker": {
             "colorbar": {
              "outlinewidth": 0,
              "ticks": ""
             }
            },
            "type": "scattercarpet"
           }
          ],
          "scattergeo": [
           {
            "marker": {
             "colorbar": {
              "outlinewidth": 0,
              "ticks": ""
             }
            },
            "type": "scattergeo"
           }
          ],
          "scattergl": [
           {
            "marker": {
             "colorbar": {
              "outlinewidth": 0,
              "ticks": ""
             }
            },
            "type": "scattergl"
           }
          ],
          "scattermapbox": [
           {
            "marker": {
             "colorbar": {
              "outlinewidth": 0,
              "ticks": ""
             }
            },
            "type": "scattermapbox"
           }
          ],
          "scatterpolar": [
           {
            "marker": {
             "colorbar": {
              "outlinewidth": 0,
              "ticks": ""
             }
            },
            "type": "scatterpolar"
           }
          ],
          "scatterpolargl": [
           {
            "marker": {
             "colorbar": {
              "outlinewidth": 0,
              "ticks": ""
             }
            },
            "type": "scatterpolargl"
           }
          ],
          "scatterternary": [
           {
            "marker": {
             "colorbar": {
              "outlinewidth": 0,
              "ticks": ""
             }
            },
            "type": "scatterternary"
           }
          ],
          "surface": [
           {
            "colorbar": {
             "outlinewidth": 0,
             "ticks": ""
            },
            "colorscale": [
             [
              0,
              "#0d0887"
             ],
             [
              0.1111111111111111,
              "#46039f"
             ],
             [
              0.2222222222222222,
              "#7201a8"
             ],
             [
              0.3333333333333333,
              "#9c179e"
             ],
             [
              0.4444444444444444,
              "#bd3786"
             ],
             [
              0.5555555555555556,
              "#d8576b"
             ],
             [
              0.6666666666666666,
              "#ed7953"
             ],
             [
              0.7777777777777778,
              "#fb9f3a"
             ],
             [
              0.8888888888888888,
              "#fdca26"
             ],
             [
              1,
              "#f0f921"
             ]
            ],
            "type": "surface"
           }
          ],
          "table": [
           {
            "cells": {
             "fill": {
              "color": "#EBF0F8"
             },
             "line": {
              "color": "white"
             }
            },
            "header": {
             "fill": {
              "color": "#C8D4E3"
             },
             "line": {
              "color": "white"
             }
            },
            "type": "table"
           }
          ]
         },
         "layout": {
          "annotationdefaults": {
           "arrowcolor": "#2a3f5f",
           "arrowhead": 0,
           "arrowwidth": 1
          },
          "autotypenumbers": "strict",
          "coloraxis": {
           "colorbar": {
            "outlinewidth": 0,
            "ticks": ""
           }
          },
          "colorscale": {
           "diverging": [
            [
             0,
             "#8e0152"
            ],
            [
             0.1,
             "#c51b7d"
            ],
            [
             0.2,
             "#de77ae"
            ],
            [
             0.3,
             "#f1b6da"
            ],
            [
             0.4,
             "#fde0ef"
            ],
            [
             0.5,
             "#f7f7f7"
            ],
            [
             0.6,
             "#e6f5d0"
            ],
            [
             0.7,
             "#b8e186"
            ],
            [
             0.8,
             "#7fbc41"
            ],
            [
             0.9,
             "#4d9221"
            ],
            [
             1,
             "#276419"
            ]
           ],
           "sequential": [
            [
             0,
             "#0d0887"
            ],
            [
             0.1111111111111111,
             "#46039f"
            ],
            [
             0.2222222222222222,
             "#7201a8"
            ],
            [
             0.3333333333333333,
             "#9c179e"
            ],
            [
             0.4444444444444444,
             "#bd3786"
            ],
            [
             0.5555555555555556,
             "#d8576b"
            ],
            [
             0.6666666666666666,
             "#ed7953"
            ],
            [
             0.7777777777777778,
             "#fb9f3a"
            ],
            [
             0.8888888888888888,
             "#fdca26"
            ],
            [
             1,
             "#f0f921"
            ]
           ],
           "sequentialminus": [
            [
             0,
             "#0d0887"
            ],
            [
             0.1111111111111111,
             "#46039f"
            ],
            [
             0.2222222222222222,
             "#7201a8"
            ],
            [
             0.3333333333333333,
             "#9c179e"
            ],
            [
             0.4444444444444444,
             "#bd3786"
            ],
            [
             0.5555555555555556,
             "#d8576b"
            ],
            [
             0.6666666666666666,
             "#ed7953"
            ],
            [
             0.7777777777777778,
             "#fb9f3a"
            ],
            [
             0.8888888888888888,
             "#fdca26"
            ],
            [
             1,
             "#f0f921"
            ]
           ]
          },
          "colorway": [
           "#636efa",
           "#EF553B",
           "#00cc96",
           "#ab63fa",
           "#FFA15A",
           "#19d3f3",
           "#FF6692",
           "#B6E880",
           "#FF97FF",
           "#FECB52"
          ],
          "font": {
           "color": "#2a3f5f"
          },
          "geo": {
           "bgcolor": "white",
           "lakecolor": "white",
           "landcolor": "#E5ECF6",
           "showlakes": true,
           "showland": true,
           "subunitcolor": "white"
          },
          "hoverlabel": {
           "align": "left"
          },
          "hovermode": "closest",
          "mapbox": {
           "style": "light"
          },
          "paper_bgcolor": "white",
          "plot_bgcolor": "#E5ECF6",
          "polar": {
           "angularaxis": {
            "gridcolor": "white",
            "linecolor": "white",
            "ticks": ""
           },
           "bgcolor": "#E5ECF6",
           "radialaxis": {
            "gridcolor": "white",
            "linecolor": "white",
            "ticks": ""
           }
          },
          "scene": {
           "xaxis": {
            "backgroundcolor": "#E5ECF6",
            "gridcolor": "white",
            "gridwidth": 2,
            "linecolor": "white",
            "showbackground": true,
            "ticks": "",
            "zerolinecolor": "white"
           },
           "yaxis": {
            "backgroundcolor": "#E5ECF6",
            "gridcolor": "white",
            "gridwidth": 2,
            "linecolor": "white",
            "showbackground": true,
            "ticks": "",
            "zerolinecolor": "white"
           },
           "zaxis": {
            "backgroundcolor": "#E5ECF6",
            "gridcolor": "white",
            "gridwidth": 2,
            "linecolor": "white",
            "showbackground": true,
            "ticks": "",
            "zerolinecolor": "white"
           }
          },
          "shapedefaults": {
           "line": {
            "color": "#2a3f5f"
           }
          },
          "ternary": {
           "aaxis": {
            "gridcolor": "white",
            "linecolor": "white",
            "ticks": ""
           },
           "baxis": {
            "gridcolor": "white",
            "linecolor": "white",
            "ticks": ""
           },
           "bgcolor": "#E5ECF6",
           "caxis": {
            "gridcolor": "white",
            "linecolor": "white",
            "ticks": ""
           }
          },
          "title": {
           "x": 0.05
          },
          "xaxis": {
           "automargin": true,
           "gridcolor": "white",
           "linecolor": "white",
           "ticks": "",
           "title": {
            "standoff": 15
           },
           "zerolinecolor": "white",
           "zerolinewidth": 2
          },
          "yaxis": {
           "automargin": true,
           "gridcolor": "white",
           "linecolor": "white",
           "ticks": "",
           "title": {
            "standoff": 15
           },
           "zerolinecolor": "white",
           "zerolinewidth": 2
          }
         }
        },
        "title": {
         "text": "Z-score as a function of M. network: cook"
        },
        "xaxis": {
         "anchor": "y",
         "autorange": true,
         "domain": [
          0,
          1
         ],
         "range": [
          -0.15981825365468216,
          21.15981825365468
         ],
         "title": {
          "text": "M - synapse_threshold"
         },
         "type": "linear"
        },
        "yaxis": {
         "anchor": "x",
         "autorange": true,
         "domain": [
          0,
          1
         ],
         "range": [
          -49.119708100842104,
          115.6465608537126
         ],
         "title": {
          "text": "Z score"
         },
         "type": "linear"
        }
       }
      },
      "image/png": "[encoded data removed]",
      "text/html": [
       "<div>                            <div id=\"bcb32f8d-228f-47c2-9c73-7c76058d90dd\" class=\"plotly-graph-div\" style=\"height:525px; width:100%;\"></div>            <script type=\"text/javascript\">                require([\"plotly\"], function(Plotly) {                    window.PLOTLYENV=window.PLOTLYENV || {};                                    if (document.getElementById(\"bcb32f8d-228f-47c2-9c73-7c76058d90dd\")) {                    Plotly.newPlot(                        \"bcb32f8d-228f-47c2-9c73-7c76058d90dd\",                        [{\"hovertemplate\":\"Motif Id=fan_out-6\\u003cbr\\u003eM - synapse_threshold=%{x}\\u003cbr\\u003eZ score=%{y}\\u003cextra\\u003e\\u003c\\u002fextra\\u003e\",\"legendgroup\":\"fan_out-6\",\"marker\":{\"color\":\"#636efa\",\"symbol\":\"circle\"},\"mode\":\"markers\",\"name\":\"fan_out-6\",\"orientation\":\"v\",\"showlegend\":true,\"x\":[1.0,10.0,11.0,12.0,13.0,14.0,15.0,16.0,17.0,18.0,19.0,2.0,20.0,3.0,4.0,5.0,6.0,7.0,8.0,9.0],\"xaxis\":\"x\",\"y\":[-37.44876404989448,-6.058278242018165,-4.659355971058273,-4.716413813314285,-4.397415386438907,-3.639063895933299,-2.890402088523266,-3.524502774682766,-3.4954672979039785,-3.078377537084612,-2.858511588774979,-24.4630051325811,-0.9186639743956151,-18.820990032679415,-12.331761889337292,-10.739744579370472,-9.025720928610246,-10.076897187940915,-7.855323686023378,-7.4533546986058115],\"yaxis\":\"y\",\"type\":\"scatter\"},{\"hovertemplate\":\"Motif Id=cascade-12\\u003cbr\\u003eM - synapse_threshold=%{x}\\u003cbr\\u003eZ score=%{y}\\u003cextra\\u003e\\u003c\\u002fextra\\u003e\",\"legendgroup\":\"cascade-12\",\"marker\":{\"color\":\"#EF553B\",\"symbol\":\"circle\"},\"mode\":\"markers\",\"name\":\"cascade-12\",\"orientation\":\"v\",\"showlegend\":true,\"x\":[1.0,10.0,11.0,12.0,13.0,14.0,15.0,16.0,17.0,18.0,19.0,2.0,20.0,3.0,4.0,5.0,6.0,7.0,8.0,9.0],\"xaxis\":\"x\",\"y\":[-30.79279711194421,-5.298240583124781,-3.975910053505278,-3.939348099387471,-4.180066962471013,-3.233458087935131,-2.7315998993928456,-2.748673403840285,-2.8479089580536625,-2.5602960730555777,-2.2569580802498943,-17.808686569126237,-0.48684606995702084,-13.16683168742382,-8.483882884765732,-7.9677471907559205,-6.8539180023149475,-7.420109243212313,-5.929069247887287,-5.852104745095382],\"yaxis\":\"y\",\"type\":\"scatter\"},{\"hovertemplate\":\"Motif Id=14\\u003cbr\\u003eM - synapse_threshold=%{x}\\u003cbr\\u003eZ score=%{y}\\u003cextra\\u003e\\u003c\\u002fextra\\u003e\",\"legendgroup\":\"14\",\"marker\":{\"color\":\"#00cc96\",\"symbol\":\"circle\"},\"mode\":\"markers\",\"name\":\"14\",\"orientation\":\"v\",\"showlegend\":true,\"x\":[1.0,10.0,11.0,12.0,13.0,14.0,15.0,16.0,17.0,18.0,19.0,2.0,20.0,3.0,4.0,5.0,6.0,7.0,8.0,9.0],\"xaxis\":\"x\",\"y\":[16.495588649243768,2.71566072484957,1.9456561031601496,2.0884247381297136,2.318979679502054,2.73550053993956,2.2451978509938892,1.9461807778954165,2.0551982301330027,1.7513126496136882,1.1498786408252526,10.619385948270763,-0.1901042864909089,8.062782824970403,3.817270531657642,4.029957506548427,3.3087460890654725,4.749151076650627,2.935615929555625,2.48078816729051],\"yaxis\":\"y\",\"type\":\"scatter\"},{\"hovertemplate\":\"Motif Id=fan_in-36\\u003cbr\\u003eM - synapse_threshold=%{x}\\u003cbr\\u003eZ score=%{y}\\u003cextra\\u003e\\u003c\\u002fextra\\u003e\",\"legendgroup\":\"fan_in-36\",\"marker\":{\"color\":\"#ab63fa\",\"symbol\":\"circle\"},\"mode\":\"markers\",\"name\":\"fan_in-36\",\"orientation\":\"v\",\"showlegend\":true,\"x\":[1.0,10.0,11.0,12.0,13.0,14.0,15.0,16.0,17.0,18.0,19.0,2.0,20.0,3.0,4.0,5.0,6.0,7.0,8.0,9.0],\"xaxis\":\"x\",\"y\":[-29.831897757555602,-5.765151052833322,-4.651754479630699,-4.191546524602286,-4.404581013998296,-2.8382496109288162,-2.475450482916818,-4.479655145263533,-4.450072216541128,-4.510538720550081,-4.6607664175171895,-17.560722140017173,-2.2540849103635026,-13.337667935700624,-9.302215533158511,-8.431945644137217,-6.715908594787769,-7.196111033097015,-6.152790928242743,-6.477356628222383],\"yaxis\":\"y\",\"type\":\"scatter\"},{\"hovertemplate\":\"Motif Id=feed_forward-38\\u003cbr\\u003eM - synapse_threshold=%{x}\\u003cbr\\u003eZ score=%{y}\\u003cextra\\u003e\\u003c\\u002fextra\\u003e\",\"legendgroup\":\"feed_forward-38\",\"marker\":{\"color\":\"#FFA15A\",\"symbol\":\"circle\"},\"mode\":\"markers\",\"name\":\"feed_forward-38\",\"orientation\":\"v\",\"showlegend\":true,\"x\":[1.0,10.0,11.0,12.0,13.0,14.0,15.0,16.0,17.0,18.0,19.0,2.0,20.0,3.0,4.0,5.0,6.0,7.0,8.0,9.0],\"xaxis\":\"x\",\"y\":[-11.12209681764452,3.7370426709658187,2.713261299389997,2.2551796970814633,0.03955964867319927,3.058768589091818,3.5451523457967977,5.989919115584215,5.215632735170619,5.159899668931759,6.510988647054845,1.3288673164842875,2.442547963153949,6.546982586656992,7.336736734932976,5.114493034730756,3.5805483521100863,4.449360210569827,6.860866532574652,6.614461599136561],\"yaxis\":\"y\",\"type\":\"scatter\"},{\"hovertemplate\":\"Motif Id=46\\u003cbr\\u003eM - synapse_threshold=%{x}\\u003cbr\\u003eZ score=%{y}\\u003cextra\\u003e\\u003c\\u002fextra\\u003e\",\"legendgroup\":\"46\",\"marker\":{\"color\":\"#19d3f3\",\"symbol\":\"circle\"},\"mode\":\"markers\",\"name\":\"46\",\"orientation\":\"v\",\"showlegend\":true,\"x\":[1.0,10.0,11.0,12.0,13.0,14.0,15.0,16.0,17.0,18.0,19.0,2.0,20.0,3.0,4.0,5.0,6.0,7.0,8.0,9.0],\"xaxis\":\"x\",\"y\":[47.87618694034417,5.2983189055956075,8.561730439128103,8.856838839464483,8.573381317434837,-0.2481118850920685,-0.23122695089517292,-0.11386818846191439,-0.112333378713562,-0.12751534261266764,-0.10492264806007326,40.57353674318089,0.0,33.39954541563602,21.025069063406892,13.236353198924931,17.197995315926622,11.135555017539946,9.612332310092917,9.134391528586056],\"yaxis\":\"y\",\"type\":\"scatter\"},{\"hovertemplate\":\"Motif Id=74\\u003cbr\\u003eM - synapse_threshold=%{x}\\u003cbr\\u003eZ score=%{y}\\u003cextra\\u003e\\u003c\\u002fextra\\u003e\",\"legendgroup\":\"74\",\"marker\":{\"color\":\"#FF6692\",\"symbol\":\"circle\"},\"mode\":\"markers\",\"name\":\"74\",\"orientation\":\"v\",\"showlegend\":true,\"x\":[1.0,10.0,11.0,12.0,13.0,14.0,15.0,16.0,17.0,18.0,19.0,2.0,20.0,3.0,4.0,5.0,6.0,7.0,8.0,9.0],\"xaxis\":\"x\",\"y\":[13.649159753887039,3.3118761866927104,2.4269140761158794,1.576340179601286,2.2182264183962563,1.4477286308324067,1.2950791376804927,0.729295055686722,1.0786597577556654,1.0876386125496256,0.9495042121155283,8.41339410731308,-0.13916893275819883,6.878448420403953,4.638348283927874,4.681712536623187,3.4636837573698323,3.6626770408976967,3.1327201681031904,3.3120595412279186],\"yaxis\":\"y\",\"type\":\"scatter\"},{\"hovertemplate\":\"Motif Id=78\\u003cbr\\u003eM - synapse_threshold=%{x}\\u003cbr\\u003eZ score=%{y}\\u003cextra\\u003e\\u003c\\u002fextra\\u003e\",\"legendgroup\":\"78\",\"marker\":{\"color\":\"#B6E880\",\"symbol\":\"circle\"},\"mode\":\"markers\",\"name\":\"78\",\"orientation\":\"v\",\"showlegend\":true,\"x\":[1.0,10.0,11.0,12.0,13.0,14.0,15.0,16.0,17.0,18.0,19.0,2.0,20.0,3.0,4.0,5.0,6.0,7.0,8.0,9.0],\"xaxis\":\"x\",\"y\":[36.71108375389786,10.253108251038922,2.5206166593521706,5.4464772169233635,5.5333187477332135,4.504830430624028,-0.13981680465000706,-0.05485459945386285,-0.03163859985841663,-0.06337242505244779,-0.07088812050083358,16.47661073447522,0.0,13.878753686756975,5.751795148387336,6.513842985591707,9.732735913636024,11.344565084906915,8.06579906330691,9.267907493826776],\"yaxis\":\"y\",\"type\":\"scatter\"},{\"hovertemplate\":\"Motif Id=98\\u003cbr\\u003eM - synapse_threshold=%{x}\\u003cbr\\u003eZ score=%{y}\\u003cextra\\u003e\\u003c\\u002fextra\\u003e\",\"legendgroup\":\"98\",\"marker\":{\"color\":\"#FF97FF\",\"symbol\":\"circle\"},\"mode\":\"markers\",\"name\":\"98\",\"orientation\":\"v\",\"showlegend\":true,\"x\":[1.0,10.0,11.0,12.0,13.0,14.0,15.0,16.0,17.0,18.0,19.0,2.0,20.0,3.0,4.0,5.0,6.0,7.0,8.0,9.0],\"xaxis\":\"x\",\"y\":[-16.617686426890657,-0.943066554753875,-0.7810226159133271,-0.603010154047336,-0.5092527012862501,-0.386591273268488,2.4403183035214826,-0.21866270583345174,-0.20676766567910423,-0.17318976288085866,-0.21453462331873252,-8.68049434370401,-0.08396038004871989,-5.778151846304837,-3.8300159682077686,-3.201125993657554,0.47788029343138855,-1.2595311223956926,-1.4592517734942556,-1.2230541612216403],\"yaxis\":\"y\",\"type\":\"scatter\"},{\"hovertemplate\":\"Motif Id=102\\u003cbr\\u003eM - synapse_threshold=%{x}\\u003cbr\\u003eZ score=%{y}\\u003cextra\\u003e\\u003c\\u002fextra\\u003e\",\"legendgroup\":\"102\",\"marker\":{\"color\":\"#FECB52\",\"symbol\":\"circle\"},\"mode\":\"markers\",\"name\":\"102\",\"orientation\":\"v\",\"showlegend\":true,\"x\":[1.0,10.0,11.0,12.0,13.0,14.0,15.0,16.0,17.0,18.0,19.0,2.0,20.0,3.0,4.0,5.0,6.0,7.0,8.0,9.0],\"xaxis\":\"x\",\"y\":[4.70727706705934,-0.55962076543112,-0.4805444323330146,-0.3529805508593287,-0.30815191118091906,4.776178513007948,-0.20069785042142732,-0.04476614810358452,-0.04246464226290538,-0.07088812050083357,-0.06337242505244779,3.372352309666962,0.0,4.231998460277443,4.379224639416852,4.842032804131877,-0.13703539921661986,-0.022043416519686495,-0.7708833169545805,-0.6507918357417588],\"yaxis\":\"y\",\"type\":\"scatter\"},{\"hovertemplate\":\"Motif Id=108\\u003cbr\\u003eM - synapse_threshold=%{x}\\u003cbr\\u003eZ score=%{y}\\u003cextra\\u003e\\u003c\\u002fextra\\u003e\",\"legendgroup\":\"108\",\"marker\":{\"color\":\"#636efa\",\"symbol\":\"circle\"},\"mode\":\"markers\",\"name\":\"108\",\"orientation\":\"v\",\"showlegend\":true,\"x\":[1.0,10.0,11.0,12.0,13.0,14.0,15.0,16.0,17.0,18.0,19.0,2.0,20.0,3.0,4.0,5.0,6.0,7.0,8.0,9.0],\"xaxis\":\"x\",\"y\":[25.664480601910235,2.312509668764921,3.654583650571511,5.105379197979542,4.453666973119295,-0.13772614261276048,-0.13150664608837076,-0.08396038004871989,-0.04476614810358452,-0.07088812050083357,-0.05485459945386285,23.591919341162182,0.0,15.027490341259432,11.678488801010486,12.619338266396193,11.21362222244702,16.221185915772097,6.747678402750891,7.537063011128544],\"yaxis\":\"y\",\"type\":\"scatter\"},{\"hovertemplate\":\"Motif Id=110\\u003cbr\\u003eM - synapse_threshold=%{x}\\u003cbr\\u003eZ score=%{y}\\u003cextra\\u003e\\u003c\\u002fextra\\u003e\",\"legendgroup\":\"110\",\"marker\":{\"color\":\"#EF553B\",\"symbol\":\"circle\"},\"mode\":\"markers\",\"name\":\"110\",\"orientation\":\"v\",\"showlegend\":true,\"x\":[1.0,10.0,11.0,12.0,13.0,14.0,15.0,16.0,17.0,18.0,19.0,2.0,20.0,3.0,4.0,5.0,6.0,7.0,8.0,9.0],\"xaxis\":\"x\",\"y\":[50.19148551459359,12.536624586327793,9.751364464057891,16.903505095016452,19.069543413049182,-0.04476614810358452,-0.05485459945386285,0.0,0.0,0.0,0.0,28.591058104384352,0.0,14.61440284427599,11.07206641658374,8.467742732607002,4.250432715458599,4.980057025309045,7.757864523108939,9.040409857033517],\"yaxis\":\"y\",\"type\":\"scatter\"},{\"hovertemplate\":\"Motif Id=238\\u003cbr\\u003eM - synapse_threshold=%{x}\\u003cbr\\u003eZ score=%{y}\\u003cextra\\u003e\\u003c\\u002fextra\\u003e\",\"legendgroup\":\"238\",\"marker\":{\"color\":\"#00cc96\",\"symbol\":\"circle\"},\"mode\":\"markers\",\"name\":\"238\",\"orientation\":\"v\",\"showlegend\":true,\"x\":[1.0,10.0,11.0,12.0,13.0,14.0,15.0,16.0,17.0,18.0,19.0,2.0,20.0,3.0,4.0,5.0,6.0,7.0,8.0,9.0],\"xaxis\":\"x\",\"y\":[103.97561680276497,44.721381955480936,31.606961258558215,0.0,0.0,0.0,0.0,0.0,0.0,0.0,0.0,57.5745143168837,0.0,56.093256082196596,62.46506595409653,59.88527184086443,64.66655430857227,47.46594636428339,63.245561116974834,44.721381955480936],\"yaxis\":\"y\",\"type\":\"scatter\"}],                        {\"template\":{\"data\":{\"histogram2dcontour\":[{\"type\":\"histogram2dcontour\",\"colorbar\":{\"outlinewidth\":0,\"ticks\":\"\"},\"colorscale\":[[0.0,\"#0d0887\"],[0.1111111111111111,\"#46039f\"],[0.2222222222222222,\"#7201a8\"],[0.3333333333333333,\"#9c179e\"],[0.4444444444444444,\"#bd3786\"],[0.5555555555555556,\"#d8576b\"],[0.6666666666666666,\"#ed7953\"],[0.7777777777777778,\"#fb9f3a\"],[0.8888888888888888,\"#fdca26\"],[1.0,\"#f0f921\"]]}],\"choropleth\":[{\"type\":\"choropleth\",\"colorbar\":{\"outlinewidth\":0,\"ticks\":\"\"}}],\"histogram2d\":[{\"type\":\"histogram2d\",\"colorbar\":{\"outlinewidth\":0,\"ticks\":\"\"},\"colorscale\":[[0.0,\"#0d0887\"],[0.1111111111111111,\"#46039f\"],[0.2222222222222222,\"#7201a8\"],[0.3333333333333333,\"#9c179e\"],[0.4444444444444444,\"#bd3786\"],[0.5555555555555556,\"#d8576b\"],[0.6666666666666666,\"#ed7953\"],[0.7777777777777778,\"#fb9f3a\"],[0.8888888888888888,\"#fdca26\"],[1.0,\"#f0f921\"]]}],\"heatmap\":[{\"type\":\"heatmap\",\"colorbar\":{\"outlinewidth\":0,\"ticks\":\"\"},\"colorscale\":[[0.0,\"#0d0887\"],[0.1111111111111111,\"#46039f\"],[0.2222222222222222,\"#7201a8\"],[0.3333333333333333,\"#9c179e\"],[0.4444444444444444,\"#bd3786\"],[0.5555555555555556,\"#d8576b\"],[0.6666666666666666,\"#ed7953\"],[0.7777777777777778,\"#fb9f3a\"],[0.8888888888888888,\"#fdca26\"],[1.0,\"#f0f921\"]]}],\"heatmapgl\":[{\"type\":\"heatmapgl\",\"colorbar\":{\"outlinewidth\":0,\"ticks\":\"\"},\"colorscale\":[[0.0,\"#0d0887\"],[0.1111111111111111,\"#46039f\"],[0.2222222222222222,\"#7201a8\"],[0.3333333333333333,\"#9c179e\"],[0.4444444444444444,\"#bd3786\"],[0.5555555555555556,\"#d8576b\"],[0.6666666666666666,\"#ed7953\"],[0.7777777777777778,\"#fb9f3a\"],[0.8888888888888888,\"#fdca26\"],[1.0,\"#f0f921\"]]}],\"contourcarpet\":[{\"type\":\"contourcarpet\",\"colorbar\":{\"outlinewidth\":0,\"ticks\":\"\"}}],\"contour\":[{\"type\":\"contour\",\"colorbar\":{\"outlinewidth\":0,\"ticks\":\"\"},\"colorscale\":[[0.0,\"#0d0887\"],[0.1111111111111111,\"#46039f\"],[0.2222222222222222,\"#7201a8\"],[0.3333333333333333,\"#9c179e\"],[0.4444444444444444,\"#bd3786\"],[0.5555555555555556,\"#d8576b\"],[0.6666666666666666,\"#ed7953\"],[0.7777777777777778,\"#fb9f3a\"],[0.8888888888888888,\"#fdca26\"],[1.0,\"#f0f921\"]]}],\"surface\":[{\"type\":\"surface\",\"colorbar\":{\"outlinewidth\":0,\"ticks\":\"\"},\"colorscale\":[[0.0,\"#0d0887\"],[0.1111111111111111,\"#46039f\"],[0.2222222222222222,\"#7201a8\"],[0.3333333333333333,\"#9c179e\"],[0.4444444444444444,\"#bd3786\"],[0.5555555555555556,\"#d8576b\"],[0.6666666666666666,\"#ed7953\"],[0.7777777777777778,\"#fb9f3a\"],[0.8888888888888888,\"#fdca26\"],[1.0,\"#f0f921\"]]}],\"mesh3d\":[{\"type\":\"mesh3d\",\"colorbar\":{\"outlinewidth\":0,\"ticks\":\"\"}}],\"scatter\":[{\"fillpattern\":{\"fillmode\":\"overlay\",\"size\":10,\"solidity\":0.2},\"type\":\"scatter\"}],\"parcoords\":[{\"type\":\"parcoords\",\"line\":{\"colorbar\":{\"outlinewidth\":0,\"ticks\":\"\"}}}],\"scatterpolargl\":[{\"type\":\"scatterpolargl\",\"marker\":{\"colorbar\":{\"outlinewidth\":0,\"ticks\":\"\"}}}],\"bar\":[{\"error_x\":{\"color\":\"#2a3f5f\"},\"error_y\":{\"color\":\"#2a3f5f\"},\"marker\":{\"line\":{\"color\":\"#E5ECF6\",\"width\":0.5},\"pattern\":{\"fillmode\":\"overlay\",\"size\":10,\"solidity\":0.2}},\"type\":\"bar\"}],\"scattergeo\":[{\"type\":\"scattergeo\",\"marker\":{\"colorbar\":{\"outlinewidth\":0,\"ticks\":\"\"}}}],\"scatterpolar\":[{\"type\":\"scatterpolar\",\"marker\":{\"colorbar\":{\"outlinewidth\":0,\"ticks\":\"\"}}}],\"histogram\":[{\"marker\":{\"pattern\":{\"fillmode\":\"overlay\",\"size\":10,\"solidity\":0.2}},\"type\":\"histogram\"}],\"scattergl\":[{\"type\":\"scattergl\",\"marker\":{\"colorbar\":{\"outlinewidth\":0,\"ticks\":\"\"}}}],\"scatter3d\":[{\"type\":\"scatter3d\",\"line\":{\"colorbar\":{\"outlinewidth\":0,\"ticks\":\"\"}},\"marker\":{\"colorbar\":{\"outlinewidth\":0,\"ticks\":\"\"}}}],\"scattermapbox\":[{\"type\":\"scattermapbox\",\"marker\":{\"colorbar\":{\"outlinewidth\":0,\"ticks\":\"\"}}}],\"scatterternary\":[{\"type\":\"scatterternary\",\"marker\":{\"colorbar\":{\"outlinewidth\":0,\"ticks\":\"\"}}}],\"scattercarpet\":[{\"type\":\"scattercarpet\",\"marker\":{\"colorbar\":{\"outlinewidth\":0,\"ticks\":\"\"}}}],\"carpet\":[{\"aaxis\":{\"endlinecolor\":\"#2a3f5f\",\"gridcolor\":\"white\",\"linecolor\":\"white\",\"minorgridcolor\":\"white\",\"startlinecolor\":\"#2a3f5f\"},\"baxis\":{\"endlinecolor\":\"#2a3f5f\",\"gridcolor\":\"white\",\"linecolor\":\"white\",\"minorgridcolor\":\"white\",\"startlinecolor\":\"#2a3f5f\"},\"type\":\"carpet\"}],\"table\":[{\"cells\":{\"fill\":{\"color\":\"#EBF0F8\"},\"line\":{\"color\":\"white\"}},\"header\":{\"fill\":{\"color\":\"#C8D4E3\"},\"line\":{\"color\":\"white\"}},\"type\":\"table\"}],\"barpolar\":[{\"marker\":{\"line\":{\"color\":\"#E5ECF6\",\"width\":0.5},\"pattern\":{\"fillmode\":\"overlay\",\"size\":10,\"solidity\":0.2}},\"type\":\"barpolar\"}],\"pie\":[{\"automargin\":true,\"type\":\"pie\"}]},\"layout\":{\"autotypenumbers\":\"strict\",\"colorway\":[\"#636efa\",\"#EF553B\",\"#00cc96\",\"#ab63fa\",\"#FFA15A\",\"#19d3f3\",\"#FF6692\",\"#B6E880\",\"#FF97FF\",\"#FECB52\"],\"font\":{\"color\":\"#2a3f5f\"},\"hovermode\":\"closest\",\"hoverlabel\":{\"align\":\"left\"},\"paper_bgcolor\":\"white\",\"plot_bgcolor\":\"#E5ECF6\",\"polar\":{\"bgcolor\":\"#E5ECF6\",\"angularaxis\":{\"gridcolor\":\"white\",\"linecolor\":\"white\",\"ticks\":\"\"},\"radialaxis\":{\"gridcolor\":\"white\",\"linecolor\":\"white\",\"ticks\":\"\"}},\"ternary\":{\"bgcolor\":\"#E5ECF6\",\"aaxis\":{\"gridcolor\":\"white\",\"linecolor\":\"white\",\"ticks\":\"\"},\"baxis\":{\"gridcolor\":\"white\",\"linecolor\":\"white\",\"ticks\":\"\"},\"caxis\":{\"gridcolor\":\"white\",\"linecolor\":\"white\",\"ticks\":\"\"}},\"coloraxis\":{\"colorbar\":{\"outlinewidth\":0,\"ticks\":\"\"}},\"colorscale\":{\"sequential\":[[0.0,\"#0d0887\"],[0.1111111111111111,\"#46039f\"],[0.2222222222222222,\"#7201a8\"],[0.3333333333333333,\"#9c179e\"],[0.4444444444444444,\"#bd3786\"],[0.5555555555555556,\"#d8576b\"],[0.6666666666666666,\"#ed7953\"],[0.7777777777777778,\"#fb9f3a\"],[0.8888888888888888,\"#fdca26\"],[1.0,\"#f0f921\"]],\"sequentialminus\":[[0.0,\"#0d0887\"],[0.1111111111111111,\"#46039f\"],[0.2222222222222222,\"#7201a8\"],[0.3333333333333333,\"#9c179e\"],[0.4444444444444444,\"#bd3786\"],[0.5555555555555556,\"#d8576b\"],[0.6666666666666666,\"#ed7953\"],[0.7777777777777778,\"#fb9f3a\"],[0.8888888888888888,\"#fdca26\"],[1.0,\"#f0f921\"]],\"diverging\":[[0,\"#8e0152\"],[0.1,\"#c51b7d\"],[0.2,\"#de77ae\"],[0.3,\"#f1b6da\"],[0.4,\"#fde0ef\"],[0.5,\"#f7f7f7\"],[0.6,\"#e6f5d0\"],[0.7,\"#b8e186\"],[0.8,\"#7fbc41\"],[0.9,\"#4d9221\"],[1,\"#276419\"]]},\"xaxis\":{\"gridcolor\":\"white\",\"linecolor\":\"white\",\"ticks\":\"\",\"title\":{\"standoff\":15},\"zerolinecolor\":\"white\",\"automargin\":true,\"zerolinewidth\":2},\"yaxis\":{\"gridcolor\":\"white\",\"linecolor\":\"white\",\"ticks\":\"\",\"title\":{\"standoff\":15},\"zerolinecolor\":\"white\",\"automargin\":true,\"zerolinewidth\":2},\"scene\":{\"xaxis\":{\"backgroundcolor\":\"#E5ECF6\",\"gridcolor\":\"white\",\"linecolor\":\"white\",\"showbackground\":true,\"ticks\":\"\",\"zerolinecolor\":\"white\",\"gridwidth\":2},\"yaxis\":{\"backgroundcolor\":\"#E5ECF6\",\"gridcolor\":\"white\",\"linecolor\":\"white\",\"showbackground\":true,\"ticks\":\"\",\"zerolinecolor\":\"white\",\"gridwidth\":2},\"zaxis\":{\"backgroundcolor\":\"#E5ECF6\",\"gridcolor\":\"white\",\"linecolor\":\"white\",\"showbackground\":true,\"ticks\":\"\",\"zerolinecolor\":\"white\",\"gridwidth\":2}},\"shapedefaults\":{\"line\":{\"color\":\"#2a3f5f\"}},\"annotationdefaults\":{\"arrowcolor\":\"#2a3f5f\",\"arrowhead\":0,\"arrowwidth\":1},\"geo\":{\"bgcolor\":\"white\",\"landcolor\":\"#E5ECF6\",\"subunitcolor\":\"white\",\"showland\":true,\"showlakes\":true,\"lakecolor\":\"white\"},\"title\":{\"x\":0.05},\"mapbox\":{\"style\":\"light\"}}},\"xaxis\":{\"anchor\":\"y\",\"domain\":[0.0,1.0],\"title\":{\"text\":\"M - synapse_threshold\"}},\"yaxis\":{\"anchor\":\"x\",\"domain\":[0.0,1.0],\"title\":{\"text\":\"Z score\"}},\"legend\":{\"title\":{\"text\":\"Motif Id\"},\"tracegroupgap\":0},\"title\":{\"text\":\"Z-score as a function of M. network: cook\"}},                        {\"responsive\": true}                    ).then(function(){\n",
       "                            \n",
       "var gd = document.getElementById('bcb32f8d-228f-47c2-9c73-7c76058d90dd');\n",
       "var x = new MutationObserver(function (mutations, observer) {{\n",
       "        var display = window.getComputedStyle(gd).display;\n",
       "        if (!display || display === 'none') {{\n",
       "            console.log([gd, 'removed!']);\n",
       "            Plotly.purge(gd);\n",
       "            observer.disconnect();\n",
       "        }}\n",
       "}});\n",
       "\n",
       "// Listen for the removal of the full notebook cells\n",
       "var notebookContainer = gd.closest('#notebook-container');\n",
       "if (notebookContainer) {{\n",
       "    x.observe(notebookContainer, {childList: true});\n",
       "}}\n",
       "\n",
       "// Listen for the clearing of the current output cell\n",
       "var outputEl = gd.closest('.output');\n",
       "if (outputEl) {{\n",
       "    x.observe(outputEl, {childList: true});\n",
       "}}\n",
       "\n",
       "                        })                };                });            </script>        </div>"
      ]
     },
     "metadata": {},
     "output_type": "display_data"
    }
   ],
   "source": [
    "read_z_scores_as_func_of_m('cook')"
   ]
  },
  {
   "cell_type": "code",
   "execution_count": 43,
   "id": "6eaa7a19-d552-45db-a583-d3355a2ffde4",
   "metadata": {},
   "outputs": [
    {
     "data": {
      "application/vnd.plotly.v1+json": {
       "config": {
        "plotlyServerURL": "https://plot.ly"
       },
       "data": [
        {
         "hovertemplate": "Motif Id=fan_out-6<br>M - synapse_threshold=%{x}<br>Z score=%{y}<extra></extra>",
         "legendgroup": "fan_out-6",
         "marker": {
          "color": "#636efa",
          "symbol": "circle"
         },
         "mode": "markers",
         "name": "fan_out-6",
         "orientation": "v",
         "showlegend": true,
         "type": "scatter",
         "x": [
          1,
          10,
          11,
          12,
          13,
          14,
          15,
          16,
          17,
          18,
          19,
          2,
          20,
          3,
          4,
          5,
          6,
          7,
          8,
          9
         ],
         "xaxis": "x",
         "y": [
          -24.182305481883855,
          -4.546332689400443,
          -3.174077935320887,
          -3.0831722917579105,
          -2.9812512603095684,
          -3.054580304334993,
          -1.2509044946886845,
          -1.0388675554129967,
          -0.9602078125350456,
          -1.0704664432890278,
          -0.8191499465267775,
          -23.957801119636358,
          -0.6713320296074775,
          -16.85313451655337,
          -17.035472957734836,
          -9.601052053995994,
          -9.265637243151524,
          -7.51343546673672,
          -7.456637578347052,
          -4.630798086740404
         ],
         "yaxis": "y"
        },
        {
         "hovertemplate": "Motif Id=cascade-12<br>M - synapse_threshold=%{x}<br>Z score=%{y}<extra></extra>",
         "legendgroup": "cascade-12",
         "marker": {
          "color": "#EF553B",
          "symbol": "circle"
         },
         "mode": "markers",
         "name": "cascade-12",
         "orientation": "v",
         "showlegend": true,
         "type": "scatter",
         "x": [
          1,
          10,
          11,
          12,
          13,
          14,
          15,
          16,
          17,
          18,
          19,
          2,
          20,
          3,
          4,
          5,
          6,
          7,
          8,
          9
         ],
         "xaxis": "x",
         "y": [
          -21.223526789287146,
          -3.8766047875371097,
          -3.1463083874139777,
          -2.999032986369904,
          -2.2259597928602664,
          -2.2976594562590686,
          -0.6102653336982641,
          -0.46030539322239267,
          -0.23642787118183312,
          -0.22721624984436894,
          -0.14696109599150783,
          -20.814776304418757,
          -0.10837633741240917,
          -14.283417661027993,
          -14.151536059996639,
          -8.053005146371428,
          -7.806156036725894,
          -6.395827416075812,
          -6.310564818376214,
          -3.810235393322702
         ],
         "yaxis": "y"
        },
        {
         "hovertemplate": "Motif Id=14<br>M - synapse_threshold=%{x}<br>Z score=%{y}<extra></extra>",
         "legendgroup": "14",
         "marker": {
          "color": "#00cc96",
          "symbol": "circle"
         },
         "mode": "markers",
         "name": "14",
         "orientation": "v",
         "showlegend": true,
         "type": "scatter",
         "x": [
          1,
          10,
          11,
          12,
          13,
          14,
          15,
          16,
          17,
          18,
          19,
          2,
          20,
          3,
          4,
          5,
          6,
          7,
          8,
          9
         ],
         "xaxis": "x",
         "y": [
          13.165577650166659,
          2.5276070086151217,
          2.3673762312049433,
          2.2563647961759323,
          2.2454360326832825,
          2.27446801827753,
          0.7151319614136018,
          0.5496129352129892,
          -0.3383094833175801,
          -0.34719778121143313,
          -0.2928679022352362,
          12.926217733051324,
          -0.3246900906666681,
          7.4949315878723635,
          7.397483910563478,
          3.5044826207104016,
          3.2809485592499645,
          3.2038422005926925,
          3.182065979090219,
          2.4028681793605773
         ],
         "yaxis": "y"
        },
        {
         "hovertemplate": "Motif Id=fan_in-36<br>M - synapse_threshold=%{x}<br>Z score=%{y}<extra></extra>",
         "legendgroup": "fan_in-36",
         "marker": {
          "color": "#ab63fa",
          "symbol": "circle"
         },
         "mode": "markers",
         "name": "fan_in-36",
         "orientation": "v",
         "showlegend": true,
         "type": "scatter",
         "x": [
          1,
          10,
          11,
          12,
          13,
          14,
          15,
          16,
          17,
          18,
          19,
          2,
          20,
          3,
          4,
          5,
          6,
          7,
          8,
          9
         ],
         "xaxis": "x",
         "y": [
          -22.618284450723454,
          -4.661834032084163,
          -3.9450424392469694,
          -3.808931299706702,
          -2.4019925675481812,
          -2.4790656925251717,
          -0.7535632331303312,
          -0.600660478454316,
          -1.2660940103000107,
          -1.249498951038357,
          -0.9197821452714509,
          -22.23452381371256,
          -0.9420522501197853,
          -16.37632377126962,
          -16.0038091779058,
          -9.84697673006324,
          -9.72415184012823,
          -8.14876944934211,
          -7.949361936665317,
          -4.616740066271928
         ],
         "yaxis": "y"
        },
        {
         "hovertemplate": "Motif Id=feed_forward-38<br>M - synapse_threshold=%{x}<br>Z score=%{y}<extra></extra>",
         "legendgroup": "feed_forward-38",
         "marker": {
          "color": "#FFA15A",
          "symbol": "circle"
         },
         "mode": "markers",
         "name": "feed_forward-38",
         "orientation": "v",
         "showlegend": true,
         "type": "scatter",
         "x": [
          1,
          10,
          11,
          12,
          13,
          14,
          15,
          16,
          17,
          18,
          19,
          2,
          20,
          3,
          4,
          5,
          6,
          7,
          8,
          9
         ],
         "xaxis": "x",
         "y": [
          1.9586062023470177,
          4.472633084299359,
          2.9575748342704955,
          2.8856906614818136,
          3.5953219213164633,
          3.317093808445306,
          2.1419209338403538,
          2.0924509564127693,
          2.867071261946338,
          2.948418121982598,
          2.114375218552187,
          1.9019474967343348,
          2.127103918837175,
          8.023445593546299,
          8.19396162581627,
          7.229167011408336,
          7.236771921187299,
          5.740029876736605,
          5.751091567774048,
          4.098389241660752
         ],
         "yaxis": "y"
        },
        {
         "hovertemplate": "Motif Id=46<br>M - synapse_threshold=%{x}<br>Z score=%{y}<extra></extra>",
         "legendgroup": "46",
         "marker": {
          "color": "#19d3f3",
          "symbol": "circle"
         },
         "mode": "markers",
         "name": "46",
         "orientation": "v",
         "showlegend": true,
         "type": "scatter",
         "x": [
          1,
          10,
          11,
          12,
          13,
          14,
          15,
          16,
          17,
          18,
          19,
          2,
          20,
          3,
          4,
          5,
          6,
          7,
          8,
          9
         ],
         "xaxis": "x",
         "y": [
          31.113945913622068,
          0.9620501194562976,
          -0.45860954786949676,
          -0.4417357221761637,
          -0.3409536654873341,
          -0.35520396602693344,
          -0.23174799519734166,
          -0.2532404252238921,
          -0.09692852714332871,
          -0.06723348523552919,
          -0.07088812050083357,
          31.091201831214523,
          -0.08980265101338747,
          18.8122828061249,
          19.169285058970928,
          6.96729205966482,
          6.840481569405408,
          6.249792209200274,
          7.010478635591436,
          2.5512576415938626
         ],
         "yaxis": "y"
        },
        {
         "hovertemplate": "Motif Id=74<br>M - synapse_threshold=%{x}<br>Z score=%{y}<extra></extra>",
         "legendgroup": "74",
         "marker": {
          "color": "#FF6692",
          "symbol": "circle"
         },
         "mode": "markers",
         "name": "74",
         "orientation": "v",
         "showlegend": true,
         "type": "scatter",
         "x": [
          1,
          10,
          11,
          12,
          13,
          14,
          15,
          16,
          17,
          18,
          19,
          2,
          20,
          3,
          4,
          5,
          6,
          7,
          8,
          9
         ],
         "xaxis": "x",
         "y": [
          12.355103859854813,
          2.587938431118023,
          2.556028032528714,
          2.4546405003420437,
          1.350944249239938,
          1.390766543182814,
          -0.026552570646097395,
          -0.11653289426201666,
          -0.37819633418376386,
          -0.3810824729115004,
          -0.32588157886897295,
          11.97640208933002,
          -0.33949364060000486,
          9.231251061862203,
          8.989701103239659,
          5.549530807686172,
          5.339795629329832,
          4.324307799716317,
          4.164339196273164,
          2.4658533009992767
         ],
         "yaxis": "y"
        },
        {
         "hovertemplate": "Motif Id=78<br>M - synapse_threshold=%{x}<br>Z score=%{y}<extra></extra>",
         "legendgroup": "78",
         "marker": {
          "color": "#B6E880",
          "symbol": "circle"
         },
         "mode": "markers",
         "name": "78",
         "orientation": "v",
         "showlegend": true,
         "type": "scatter",
         "x": [
          1,
          10,
          11,
          12,
          13,
          14,
          15,
          16,
          17,
          18,
          19,
          2,
          20,
          3,
          4,
          5,
          6,
          7,
          8,
          9
         ],
         "xaxis": "x",
         "y": [
          28.637587131315282,
          7.686033371022668,
          2.01230822351247,
          1.8526840613339042,
          2.459228367057829,
          2.245930771566167,
          -0.16698964031186025,
          -0.2059641818171147,
          -0.04476614810358452,
          0,
          -0.031638599858416626,
          27.062454049059635,
          0,
          20.941604264788943,
          19.514593792791988,
          10.026136809000025,
          9.453630042005368,
          5.832022325895408,
          6.12836455322894,
          7.118605525390395
         ],
         "yaxis": "y"
        },
        {
         "hovertemplate": "Motif Id=98<br>M - synapse_threshold=%{x}<br>Z score=%{y}<extra></extra>",
         "legendgroup": "98",
         "marker": {
          "color": "#FF97FF",
          "symbol": "circle"
         },
         "mode": "markers",
         "name": "98",
         "orientation": "v",
         "showlegend": true,
         "type": "scatter",
         "x": [
          1,
          10,
          11,
          12,
          13,
          14,
          15,
          16,
          17,
          18,
          19,
          2,
          20,
          3,
          4,
          5,
          6,
          7,
          8,
          9
         ],
         "xaxis": "x",
         "y": [
          -6.974829791123589,
          -0.8096948707504962,
          -0.7496154617794584,
          -0.7573825190744258,
          -0.6650990794302766,
          -0.6836393515347498,
          -0.48852110509256763,
          -0.4862892569799987,
          -0.20700127632521695,
          -0.24019223070763068,
          -0.18181818181818182,
          -7.321429605914564,
          -0.15343224377184828,
          -2.0789677426408675,
          -2.1285565992584514,
          -0.6788973050670959,
          -0.6398459090106787,
          -1.306839276372413,
          -1.3100006469140593,
          -0.8637062993321069
         ],
         "yaxis": "y"
        },
        {
         "hovertemplate": "Motif Id=102<br>M - synapse_threshold=%{x}<br>Z score=%{y}<extra></extra>",
         "legendgroup": "102",
         "marker": {
          "color": "#FECB52",
          "symbol": "circle"
         },
         "mode": "markers",
         "name": "102",
         "orientation": "v",
         "showlegend": true,
         "type": "scatter",
         "x": [
          1,
          10,
          11,
          12,
          13,
          14,
          15,
          16,
          17,
          18,
          19,
          2,
          20,
          3,
          4,
          5,
          6,
          7,
          8,
          9
         ],
         "xaxis": "x",
         "y": [
          7.7257113090384415,
          -0.42673835136256993,
          -0.4044866952860591,
          -0.4054645851739833,
          -0.37586996637057046,
          -0.37222134528481715,
          -0.2646767474204679,
          -0.24183780852147777,
          -0.10050378152592122,
          -0.11476596157913456,
          -0.06723348523552919,
          7.72870780943326,
          -0.10050378152592122,
          4.583427425182702,
          4.552833017189039,
          -0.764014996460057,
          -0.7974933716772836,
          2.3884090662451096,
          2.511511956509924,
          -0.41482320258063354
         ],
         "yaxis": "y"
        },
        {
         "hovertemplate": "Motif Id=108<br>M - synapse_threshold=%{x}<br>Z score=%{y}<extra></extra>",
         "legendgroup": "108",
         "marker": {
          "color": "#636efa",
          "symbol": "circle"
         },
         "mode": "markers",
         "name": "108",
         "orientation": "v",
         "showlegend": true,
         "type": "scatter",
         "x": [
          1,
          10,
          11,
          12,
          13,
          14,
          15,
          16,
          17,
          18,
          19,
          2,
          20,
          3,
          4,
          5,
          6,
          7,
          8,
          9
         ],
         "xaxis": "x",
         "y": [
          18.650826244158893,
          4.1551122746387374,
          6.348487999648227,
          5.912590150080065,
          -0.2531721631939904,
          -0.28415409826971644,
          -0.1697250257391052,
          -0.17011439313712282,
          -0.07769309688655059,
          -0.06337242505244779,
          -0.06337242505244779,
          18.19846676357175,
          -0.04476614810358452,
          12.537650326778552,
          12.699853296628811,
          8.174760982865667,
          9.064614140961922,
          10.212309254076654,
          9.69629187284946,
          4.03446937124439
         ],
         "yaxis": "y"
        },
        {
         "hovertemplate": "Motif Id=110<br>M - synapse_threshold=%{x}<br>Z score=%{y}<extra></extra>",
         "legendgroup": "110",
         "marker": {
          "color": "#EF553B",
          "symbol": "circle"
         },
         "mode": "markers",
         "name": "110",
         "orientation": "v",
         "showlegend": true,
         "type": "scatter",
         "x": [
          1,
          10,
          11,
          12,
          13,
          14,
          15,
          16,
          17,
          18,
          19,
          2,
          20,
          3,
          4,
          5,
          6,
          7,
          8,
          9
         ],
         "xaxis": "x",
         "y": [
          42.061860193984344,
          -0.1505182990156935,
          -0.13150664608837076,
          -0.14645975437882874,
          -0.11476596157913455,
          -0.11476596157913456,
          -0.07769309688655057,
          -0.10050378152592122,
          0,
          0,
          0,
          39.49230822226575,
          0,
          21.64641106844509,
          22.951727370698407,
          22.680710994222604,
          22.631087499508194,
          6.003553450119023,
          5.692592600593346,
          -0.156812512046795
         ],
         "yaxis": "y"
        },
        {
         "hovertemplate": "Motif Id=238<br>M - synapse_threshold=%{x}<br>Z score=%{y}<extra></extra>",
         "legendgroup": "238",
         "marker": {
          "color": "#00cc96",
          "symbol": "circle"
         },
         "mode": "markers",
         "name": "238",
         "orientation": "v",
         "showlegend": true,
         "type": "scatter",
         "x": [
          1,
          10,
          11,
          12,
          13,
          14,
          15,
          16,
          17,
          18,
          19,
          2,
          20,
          3,
          4,
          5,
          6,
          7,
          8,
          9
         ],
         "xaxis": "x",
         "y": [
          131.7999092549319,
          -0.031638599858416626,
          0,
          0,
          -0.03163859985841663,
          0,
          0,
          0,
          0,
          0,
          0,
          110.84217663053927,
          0,
          63.245561116974834,
          63.245561116974834,
          -0.03163859985841663,
          -0.03163859985841663,
          0,
          0,
          0
         ],
         "yaxis": "y"
        }
       ],
       "layout": {
        "autosize": true,
        "legend": {
         "title": {
          "text": "Motif Id"
         },
         "tracegroupgap": 0
        },
        "template": {
         "data": {
          "bar": [
           {
            "error_x": {
             "color": "#2a3f5f"
            },
            "error_y": {
             "color": "#2a3f5f"
            },
            "marker": {
             "line": {
              "color": "#E5ECF6",
              "width": 0.5
             },
             "pattern": {
              "fillmode": "overlay",
              "size": 10,
              "solidity": 0.2
             }
            },
            "type": "bar"
           }
          ],
          "barpolar": [
           {
            "marker": {
             "line": {
              "color": "#E5ECF6",
              "width": 0.5
             },
             "pattern": {
              "fillmode": "overlay",
              "size": 10,
              "solidity": 0.2
             }
            },
            "type": "barpolar"
           }
          ],
          "carpet": [
           {
            "aaxis": {
             "endlinecolor": "#2a3f5f",
             "gridcolor": "white",
             "linecolor": "white",
             "minorgridcolor": "white",
             "startlinecolor": "#2a3f5f"
            },
            "baxis": {
             "endlinecolor": "#2a3f5f",
             "gridcolor": "white",
             "linecolor": "white",
             "minorgridcolor": "white",
             "startlinecolor": "#2a3f5f"
            },
            "type": "carpet"
           }
          ],
          "choropleth": [
           {
            "colorbar": {
             "outlinewidth": 0,
             "ticks": ""
            },
            "type": "choropleth"
           }
          ],
          "contour": [
           {
            "colorbar": {
             "outlinewidth": 0,
             "ticks": ""
            },
            "colorscale": [
             [
              0,
              "#0d0887"
             ],
             [
              0.1111111111111111,
              "#46039f"
             ],
             [
              0.2222222222222222,
              "#7201a8"
             ],
             [
              0.3333333333333333,
              "#9c179e"
             ],
             [
              0.4444444444444444,
              "#bd3786"
             ],
             [
              0.5555555555555556,
              "#d8576b"
             ],
             [
              0.6666666666666666,
              "#ed7953"
             ],
             [
              0.7777777777777778,
              "#fb9f3a"
             ],
             [
              0.8888888888888888,
              "#fdca26"
             ],
             [
              1,
              "#f0f921"
             ]
            ],
            "type": "contour"
           }
          ],
          "contourcarpet": [
           {
            "colorbar": {
             "outlinewidth": 0,
             "ticks": ""
            },
            "type": "contourcarpet"
           }
          ],
          "heatmap": [
           {
            "colorbar": {
             "outlinewidth": 0,
             "ticks": ""
            },
            "colorscale": [
             [
              0,
              "#0d0887"
             ],
             [
              0.1111111111111111,
              "#46039f"
             ],
             [
              0.2222222222222222,
              "#7201a8"
             ],
             [
              0.3333333333333333,
              "#9c179e"
             ],
             [
              0.4444444444444444,
              "#bd3786"
             ],
             [
              0.5555555555555556,
              "#d8576b"
             ],
             [
              0.6666666666666666,
              "#ed7953"
             ],
             [
              0.7777777777777778,
              "#fb9f3a"
             ],
             [
              0.8888888888888888,
              "#fdca26"
             ],
             [
              1,
              "#f0f921"
             ]
            ],
            "type": "heatmap"
           }
          ],
          "heatmapgl": [
           {
            "colorbar": {
             "outlinewidth": 0,
             "ticks": ""
            },
            "colorscale": [
             [
              0,
              "#0d0887"
             ],
             [
              0.1111111111111111,
              "#46039f"
             ],
             [
              0.2222222222222222,
              "#7201a8"
             ],
             [
              0.3333333333333333,
              "#9c179e"
             ],
             [
              0.4444444444444444,
              "#bd3786"
             ],
             [
              0.5555555555555556,
              "#d8576b"
             ],
             [
              0.6666666666666666,
              "#ed7953"
             ],
             [
              0.7777777777777778,
              "#fb9f3a"
             ],
             [
              0.8888888888888888,
              "#fdca26"
             ],
             [
              1,
              "#f0f921"
             ]
            ],
            "type": "heatmapgl"
           }
          ],
          "histogram": [
           {
            "marker": {
             "pattern": {
              "fillmode": "overlay",
              "size": 10,
              "solidity": 0.2
             }
            },
            "type": "histogram"
           }
          ],
          "histogram2d": [
           {
            "colorbar": {
             "outlinewidth": 0,
             "ticks": ""
            },
            "colorscale": [
             [
              0,
              "#0d0887"
             ],
             [
              0.1111111111111111,
              "#46039f"
             ],
             [
              0.2222222222222222,
              "#7201a8"
             ],
             [
              0.3333333333333333,
              "#9c179e"
             ],
             [
              0.4444444444444444,
              "#bd3786"
             ],
             [
              0.5555555555555556,
              "#d8576b"
             ],
             [
              0.6666666666666666,
              "#ed7953"
             ],
             [
              0.7777777777777778,
              "#fb9f3a"
             ],
             [
              0.8888888888888888,
              "#fdca26"
             ],
             [
              1,
              "#f0f921"
             ]
            ],
            "type": "histogram2d"
           }
          ],
          "histogram2dcontour": [
           {
            "colorbar": {
             "outlinewidth": 0,
             "ticks": ""
            },
            "colorscale": [
             [
              0,
              "#0d0887"
             ],
             [
              0.1111111111111111,
              "#46039f"
             ],
             [
              0.2222222222222222,
              "#7201a8"
             ],
             [
              0.3333333333333333,
              "#9c179e"
             ],
             [
              0.4444444444444444,
              "#bd3786"
             ],
             [
              0.5555555555555556,
              "#d8576b"
             ],
             [
              0.6666666666666666,
              "#ed7953"
             ],
             [
              0.7777777777777778,
              "#fb9f3a"
             ],
             [
              0.8888888888888888,
              "#fdca26"
             ],
             [
              1,
              "#f0f921"
             ]
            ],
            "type": "histogram2dcontour"
           }
          ],
          "mesh3d": [
           {
            "colorbar": {
             "outlinewidth": 0,
             "ticks": ""
            },
            "type": "mesh3d"
           }
          ],
          "parcoords": [
           {
            "line": {
             "colorbar": {
              "outlinewidth": 0,
              "ticks": ""
             }
            },
            "type": "parcoords"
           }
          ],
          "pie": [
           {
            "automargin": true,
            "type": "pie"
           }
          ],
          "scatter": [
           {
            "fillpattern": {
             "fillmode": "overlay",
             "size": 10,
             "solidity": 0.2
            },
            "type": "scatter"
           }
          ],
          "scatter3d": [
           {
            "line": {
             "colorbar": {
              "outlinewidth": 0,
              "ticks": ""
             }
            },
            "marker": {
             "colorbar": {
              "outlinewidth": 0,
              "ticks": ""
             }
            },
            "type": "scatter3d"
           }
          ],
          "scattercarpet": [
           {
            "marker": {
             "colorbar": {
              "outlinewidth": 0,
              "ticks": ""
             }
            },
            "type": "scattercarpet"
           }
          ],
          "scattergeo": [
           {
            "marker": {
             "colorbar": {
              "outlinewidth": 0,
              "ticks": ""
             }
            },
            "type": "scattergeo"
           }
          ],
          "scattergl": [
           {
            "marker": {
             "colorbar": {
              "outlinewidth": 0,
              "ticks": ""
             }
            },
            "type": "scattergl"
           }
          ],
          "scattermapbox": [
           {
            "marker": {
             "colorbar": {
              "outlinewidth": 0,
              "ticks": ""
             }
            },
            "type": "scattermapbox"
           }
          ],
          "scatterpolar": [
           {
            "marker": {
             "colorbar": {
              "outlinewidth": 0,
              "ticks": ""
             }
            },
            "type": "scatterpolar"
           }
          ],
          "scatterpolargl": [
           {
            "marker": {
             "colorbar": {
              "outlinewidth": 0,
              "ticks": ""
             }
            },
            "type": "scatterpolargl"
           }
          ],
          "scatterternary": [
           {
            "marker": {
             "colorbar": {
              "outlinewidth": 0,
              "ticks": ""
             }
            },
            "type": "scatterternary"
           }
          ],
          "surface": [
           {
            "colorbar": {
             "outlinewidth": 0,
             "ticks": ""
            },
            "colorscale": [
             [
              0,
              "#0d0887"
             ],
             [
              0.1111111111111111,
              "#46039f"
             ],
             [
              0.2222222222222222,
              "#7201a8"
             ],
             [
              0.3333333333333333,
              "#9c179e"
             ],
             [
              0.4444444444444444,
              "#bd3786"
             ],
             [
              0.5555555555555556,
              "#d8576b"
             ],
             [
              0.6666666666666666,
              "#ed7953"
             ],
             [
              0.7777777777777778,
              "#fb9f3a"
             ],
             [
              0.8888888888888888,
              "#fdca26"
             ],
             [
              1,
              "#f0f921"
             ]
            ],
            "type": "surface"
           }
          ],
          "table": [
           {
            "cells": {
             "fill": {
              "color": "#EBF0F8"
             },
             "line": {
              "color": "white"
             }
            },
            "header": {
             "fill": {
              "color": "#C8D4E3"
             },
             "line": {
              "color": "white"
             }
            },
            "type": "table"
           }
          ]
         },
         "layout": {
          "annotationdefaults": {
           "arrowcolor": "#2a3f5f",
           "arrowhead": 0,
           "arrowwidth": 1
          },
          "autotypenumbers": "strict",
          "coloraxis": {
           "colorbar": {
            "outlinewidth": 0,
            "ticks": ""
           }
          },
          "colorscale": {
           "diverging": [
            [
             0,
             "#8e0152"
            ],
            [
             0.1,
             "#c51b7d"
            ],
            [
             0.2,
             "#de77ae"
            ],
            [
             0.3,
             "#f1b6da"
            ],
            [
             0.4,
             "#fde0ef"
            ],
            [
             0.5,
             "#f7f7f7"
            ],
            [
             0.6,
             "#e6f5d0"
            ],
            [
             0.7,
             "#b8e186"
            ],
            [
             0.8,
             "#7fbc41"
            ],
            [
             0.9,
             "#4d9221"
            ],
            [
             1,
             "#276419"
            ]
           ],
           "sequential": [
            [
             0,
             "#0d0887"
            ],
            [
             0.1111111111111111,
             "#46039f"
            ],
            [
             0.2222222222222222,
             "#7201a8"
            ],
            [
             0.3333333333333333,
             "#9c179e"
            ],
            [
             0.4444444444444444,
             "#bd3786"
            ],
            [
             0.5555555555555556,
             "#d8576b"
            ],
            [
             0.6666666666666666,
             "#ed7953"
            ],
            [
             0.7777777777777778,
             "#fb9f3a"
            ],
            [
             0.8888888888888888,
             "#fdca26"
            ],
            [
             1,
             "#f0f921"
            ]
           ],
           "sequentialminus": [
            [
             0,
             "#0d0887"
            ],
            [
             0.1111111111111111,
             "#46039f"
            ],
            [
             0.2222222222222222,
             "#7201a8"
            ],
            [
             0.3333333333333333,
             "#9c179e"
            ],
            [
             0.4444444444444444,
             "#bd3786"
            ],
            [
             0.5555555555555556,
             "#d8576b"
            ],
            [
             0.6666666666666666,
             "#ed7953"
            ],
            [
             0.7777777777777778,
             "#fb9f3a"
            ],
            [
             0.8888888888888888,
             "#fdca26"
            ],
            [
             1,
             "#f0f921"
            ]
           ]
          },
          "colorway": [
           "#636efa",
           "#EF553B",
           "#00cc96",
           "#ab63fa",
           "#FFA15A",
           "#19d3f3",
           "#FF6692",
           "#B6E880",
           "#FF97FF",
           "#FECB52"
          ],
          "font": {
           "color": "#2a3f5f"
          },
          "geo": {
           "bgcolor": "white",
           "lakecolor": "white",
           "landcolor": "#E5ECF6",
           "showlakes": true,
           "showland": true,
           "subunitcolor": "white"
          },
          "hoverlabel": {
           "align": "left"
          },
          "hovermode": "closest",
          "mapbox": {
           "style": "light"
          },
          "paper_bgcolor": "white",
          "plot_bgcolor": "#E5ECF6",
          "polar": {
           "angularaxis": {
            "gridcolor": "white",
            "linecolor": "white",
            "ticks": ""
           },
           "bgcolor": "#E5ECF6",
           "radialaxis": {
            "gridcolor": "white",
            "linecolor": "white",
            "ticks": ""
           }
          },
          "scene": {
           "xaxis": {
            "backgroundcolor": "#E5ECF6",
            "gridcolor": "white",
            "gridwidth": 2,
            "linecolor": "white",
            "showbackground": true,
            "ticks": "",
            "zerolinecolor": "white"
           },
           "yaxis": {
            "backgroundcolor": "#E5ECF6",
            "gridcolor": "white",
            "gridwidth": 2,
            "linecolor": "white",
            "showbackground": true,
            "ticks": "",
            "zerolinecolor": "white"
           },
           "zaxis": {
            "backgroundcolor": "#E5ECF6",
            "gridcolor": "white",
            "gridwidth": 2,
            "linecolor": "white",
            "showbackground": true,
            "ticks": "",
            "zerolinecolor": "white"
           }
          },
          "shapedefaults": {
           "line": {
            "color": "#2a3f5f"
           }
          },
          "ternary": {
           "aaxis": {
            "gridcolor": "white",
            "linecolor": "white",
            "ticks": ""
           },
           "baxis": {
            "gridcolor": "white",
            "linecolor": "white",
            "ticks": ""
           },
           "bgcolor": "#E5ECF6",
           "caxis": {
            "gridcolor": "white",
            "linecolor": "white",
            "ticks": ""
           }
          },
          "title": {
           "x": 0.05
          },
          "xaxis": {
           "automargin": true,
           "gridcolor": "white",
           "linecolor": "white",
           "ticks": "",
           "title": {
            "standoff": 15
           },
           "zerolinecolor": "white",
           "zerolinewidth": 2
          },
          "yaxis": {
           "automargin": true,
           "gridcolor": "white",
           "linecolor": "white",
           "ticks": "",
           "title": {
            "standoff": 15
           },
           "zerolinecolor": "white",
           "zerolinewidth": 2
          }
         }
        },
        "title": {
         "text": "Z-score as a function of M. network: durbin"
        },
        "xaxis": {
         "anchor": "y",
         "autorange": true,
         "domain": [
          0,
          1
         ],
         "range": [
          -0.15981825365468216,
          21.15981825365468
         ],
         "title": {
          "text": "M - synapse_threshold"
         },
         "type": "linear"
        },
        "yaxis": {
         "anchor": "x",
         "autorange": true,
         "domain": [
          0,
          1
         ],
         "range": [
          -37.054624173757,
          144.67222794680504
         ],
         "title": {
          "text": "Z score"
         },
         "type": "linear"
        }
       }
      },
      "image/png": "[encoded data removed]",
      "text/html": [
       "<div>                            <div id=\"eeb397b8-8ca9-4b33-b77a-27b20308c70a\" class=\"plotly-graph-div\" style=\"height:525px; width:100%;\"></div>            <script type=\"text/javascript\">                require([\"plotly\"], function(Plotly) {                    window.PLOTLYENV=window.PLOTLYENV || {};                                    if (document.getElementById(\"eeb397b8-8ca9-4b33-b77a-27b20308c70a\")) {                    Plotly.newPlot(                        \"eeb397b8-8ca9-4b33-b77a-27b20308c70a\",                        [{\"hovertemplate\":\"Motif Id=fan_out-6\\u003cbr\\u003eM - synapse_threshold=%{x}\\u003cbr\\u003eZ score=%{y}\\u003cextra\\u003e\\u003c\\u002fextra\\u003e\",\"legendgroup\":\"fan_out-6\",\"marker\":{\"color\":\"#636efa\",\"symbol\":\"circle\"},\"mode\":\"markers\",\"name\":\"fan_out-6\",\"orientation\":\"v\",\"showlegend\":true,\"x\":[1.0,10.0,11.0,12.0,13.0,14.0,15.0,16.0,17.0,18.0,19.0,2.0,20.0,3.0,4.0,5.0,6.0,7.0,8.0,9.0],\"xaxis\":\"x\",\"y\":[-24.182305481883855,-4.546332689400443,-3.174077935320887,-3.0831722917579105,-2.9812512603095684,-3.054580304334993,-1.2509044946886845,-1.0388675554129967,-0.9602078125350456,-1.0704664432890278,-0.8191499465267775,-23.957801119636358,-0.6713320296074775,-16.85313451655337,-17.035472957734836,-9.601052053995994,-9.265637243151524,-7.51343546673672,-7.456637578347052,-4.630798086740404],\"yaxis\":\"y\",\"type\":\"scatter\"},{\"hovertemplate\":\"Motif Id=cascade-12\\u003cbr\\u003eM - synapse_threshold=%{x}\\u003cbr\\u003eZ score=%{y}\\u003cextra\\u003e\\u003c\\u002fextra\\u003e\",\"legendgroup\":\"cascade-12\",\"marker\":{\"color\":\"#EF553B\",\"symbol\":\"circle\"},\"mode\":\"markers\",\"name\":\"cascade-12\",\"orientation\":\"v\",\"showlegend\":true,\"x\":[1.0,10.0,11.0,12.0,13.0,14.0,15.0,16.0,17.0,18.0,19.0,2.0,20.0,3.0,4.0,5.0,6.0,7.0,8.0,9.0],\"xaxis\":\"x\",\"y\":[-21.223526789287146,-3.8766047875371097,-3.1463083874139777,-2.999032986369904,-2.2259597928602664,-2.2976594562590686,-0.6102653336982641,-0.46030539322239267,-0.23642787118183312,-0.22721624984436894,-0.14696109599150783,-20.814776304418757,-0.10837633741240917,-14.283417661027993,-14.151536059996639,-8.053005146371428,-7.806156036725894,-6.395827416075812,-6.310564818376214,-3.810235393322702],\"yaxis\":\"y\",\"type\":\"scatter\"},{\"hovertemplate\":\"Motif Id=14\\u003cbr\\u003eM - synapse_threshold=%{x}\\u003cbr\\u003eZ score=%{y}\\u003cextra\\u003e\\u003c\\u002fextra\\u003e\",\"legendgroup\":\"14\",\"marker\":{\"color\":\"#00cc96\",\"symbol\":\"circle\"},\"mode\":\"markers\",\"name\":\"14\",\"orientation\":\"v\",\"showlegend\":true,\"x\":[1.0,10.0,11.0,12.0,13.0,14.0,15.0,16.0,17.0,18.0,19.0,2.0,20.0,3.0,4.0,5.0,6.0,7.0,8.0,9.0],\"xaxis\":\"x\",\"y\":[13.165577650166659,2.5276070086151217,2.3673762312049433,2.2563647961759323,2.2454360326832825,2.27446801827753,0.7151319614136018,0.5496129352129892,-0.3383094833175801,-0.34719778121143313,-0.2928679022352362,12.926217733051324,-0.3246900906666681,7.4949315878723635,7.397483910563478,3.5044826207104016,3.2809485592499645,3.2038422005926925,3.182065979090219,2.4028681793605773],\"yaxis\":\"y\",\"type\":\"scatter\"},{\"hovertemplate\":\"Motif Id=fan_in-36\\u003cbr\\u003eM - synapse_threshold=%{x}\\u003cbr\\u003eZ score=%{y}\\u003cextra\\u003e\\u003c\\u002fextra\\u003e\",\"legendgroup\":\"fan_in-36\",\"marker\":{\"color\":\"#ab63fa\",\"symbol\":\"circle\"},\"mode\":\"markers\",\"name\":\"fan_in-36\",\"orientation\":\"v\",\"showlegend\":true,\"x\":[1.0,10.0,11.0,12.0,13.0,14.0,15.0,16.0,17.0,18.0,19.0,2.0,20.0,3.0,4.0,5.0,6.0,7.0,8.0,9.0],\"xaxis\":\"x\",\"y\":[-22.618284450723454,-4.661834032084163,-3.9450424392469694,-3.808931299706702,-2.4019925675481812,-2.4790656925251717,-0.7535632331303312,-0.600660478454316,-1.2660940103000107,-1.249498951038357,-0.9197821452714509,-22.23452381371256,-0.9420522501197853,-16.37632377126962,-16.0038091779058,-9.84697673006324,-9.72415184012823,-8.14876944934211,-7.949361936665317,-4.616740066271928],\"yaxis\":\"y\",\"type\":\"scatter\"},{\"hovertemplate\":\"Motif Id=feed_forward-38\\u003cbr\\u003eM - synapse_threshold=%{x}\\u003cbr\\u003eZ score=%{y}\\u003cextra\\u003e\\u003c\\u002fextra\\u003e\",\"legendgroup\":\"feed_forward-38\",\"marker\":{\"color\":\"#FFA15A\",\"symbol\":\"circle\"},\"mode\":\"markers\",\"name\":\"feed_forward-38\",\"orientation\":\"v\",\"showlegend\":true,\"x\":[1.0,10.0,11.0,12.0,13.0,14.0,15.0,16.0,17.0,18.0,19.0,2.0,20.0,3.0,4.0,5.0,6.0,7.0,8.0,9.0],\"xaxis\":\"x\",\"y\":[1.9586062023470177,4.472633084299359,2.9575748342704955,2.8856906614818136,3.5953219213164633,3.317093808445306,2.1419209338403538,2.0924509564127693,2.867071261946338,2.948418121982598,2.114375218552187,1.9019474967343348,2.127103918837175,8.023445593546299,8.19396162581627,7.229167011408336,7.236771921187299,5.740029876736605,5.751091567774048,4.098389241660752],\"yaxis\":\"y\",\"type\":\"scatter\"},{\"hovertemplate\":\"Motif Id=46\\u003cbr\\u003eM - synapse_threshold=%{x}\\u003cbr\\u003eZ score=%{y}\\u003cextra\\u003e\\u003c\\u002fextra\\u003e\",\"legendgroup\":\"46\",\"marker\":{\"color\":\"#19d3f3\",\"symbol\":\"circle\"},\"mode\":\"markers\",\"name\":\"46\",\"orientation\":\"v\",\"showlegend\":true,\"x\":[1.0,10.0,11.0,12.0,13.0,14.0,15.0,16.0,17.0,18.0,19.0,2.0,20.0,3.0,4.0,5.0,6.0,7.0,8.0,9.0],\"xaxis\":\"x\",\"y\":[31.113945913622068,0.9620501194562976,-0.45860954786949676,-0.4417357221761637,-0.3409536654873341,-0.35520396602693344,-0.23174799519734166,-0.2532404252238921,-0.09692852714332871,-0.06723348523552919,-0.07088812050083357,31.091201831214523,-0.08980265101338747,18.8122828061249,19.169285058970928,6.96729205966482,6.840481569405408,6.249792209200274,7.010478635591436,2.5512576415938626],\"yaxis\":\"y\",\"type\":\"scatter\"},{\"hovertemplate\":\"Motif Id=74\\u003cbr\\u003eM - synapse_threshold=%{x}\\u003cbr\\u003eZ score=%{y}\\u003cextra\\u003e\\u003c\\u002fextra\\u003e\",\"legendgroup\":\"74\",\"marker\":{\"color\":\"#FF6692\",\"symbol\":\"circle\"},\"mode\":\"markers\",\"name\":\"74\",\"orientation\":\"v\",\"showlegend\":true,\"x\":[1.0,10.0,11.0,12.0,13.0,14.0,15.0,16.0,17.0,18.0,19.0,2.0,20.0,3.0,4.0,5.0,6.0,7.0,8.0,9.0],\"xaxis\":\"x\",\"y\":[12.355103859854813,2.587938431118023,2.556028032528714,2.4546405003420437,1.350944249239938,1.390766543182814,-0.026552570646097395,-0.11653289426201666,-0.37819633418376386,-0.3810824729115004,-0.32588157886897295,11.97640208933002,-0.33949364060000486,9.231251061862203,8.989701103239659,5.549530807686172,5.339795629329832,4.324307799716317,4.164339196273164,2.4658533009992767],\"yaxis\":\"y\",\"type\":\"scatter\"},{\"hovertemplate\":\"Motif Id=78\\u003cbr\\u003eM - synapse_threshold=%{x}\\u003cbr\\u003eZ score=%{y}\\u003cextra\\u003e\\u003c\\u002fextra\\u003e\",\"legendgroup\":\"78\",\"marker\":{\"color\":\"#B6E880\",\"symbol\":\"circle\"},\"mode\":\"markers\",\"name\":\"78\",\"orientation\":\"v\",\"showlegend\":true,\"x\":[1.0,10.0,11.0,12.0,13.0,14.0,15.0,16.0,17.0,18.0,19.0,2.0,20.0,3.0,4.0,5.0,6.0,7.0,8.0,9.0],\"xaxis\":\"x\",\"y\":[28.637587131315282,7.686033371022668,2.01230822351247,1.8526840613339042,2.459228367057829,2.245930771566167,-0.16698964031186025,-0.2059641818171147,-0.04476614810358452,0.0,-0.031638599858416626,27.062454049059635,0.0,20.941604264788943,19.514593792791988,10.026136809000025,9.453630042005368,5.832022325895408,6.12836455322894,7.118605525390395],\"yaxis\":\"y\",\"type\":\"scatter\"},{\"hovertemplate\":\"Motif Id=98\\u003cbr\\u003eM - synapse_threshold=%{x}\\u003cbr\\u003eZ score=%{y}\\u003cextra\\u003e\\u003c\\u002fextra\\u003e\",\"legendgroup\":\"98\",\"marker\":{\"color\":\"#FF97FF\",\"symbol\":\"circle\"},\"mode\":\"markers\",\"name\":\"98\",\"orientation\":\"v\",\"showlegend\":true,\"x\":[1.0,10.0,11.0,12.0,13.0,14.0,15.0,16.0,17.0,18.0,19.0,2.0,20.0,3.0,4.0,5.0,6.0,7.0,8.0,9.0],\"xaxis\":\"x\",\"y\":[-6.974829791123589,-0.8096948707504962,-0.7496154617794584,-0.7573825190744258,-0.6650990794302766,-0.6836393515347498,-0.48852110509256763,-0.4862892569799987,-0.20700127632521695,-0.24019223070763068,-0.18181818181818182,-7.321429605914564,-0.15343224377184828,-2.0789677426408675,-2.1285565992584514,-0.6788973050670959,-0.6398459090106787,-1.306839276372413,-1.3100006469140593,-0.8637062993321069],\"yaxis\":\"y\",\"type\":\"scatter\"},{\"hovertemplate\":\"Motif Id=102\\u003cbr\\u003eM - synapse_threshold=%{x}\\u003cbr\\u003eZ score=%{y}\\u003cextra\\u003e\\u003c\\u002fextra\\u003e\",\"legendgroup\":\"102\",\"marker\":{\"color\":\"#FECB52\",\"symbol\":\"circle\"},\"mode\":\"markers\",\"name\":\"102\",\"orientation\":\"v\",\"showlegend\":true,\"x\":[1.0,10.0,11.0,12.0,13.0,14.0,15.0,16.0,17.0,18.0,19.0,2.0,20.0,3.0,4.0,5.0,6.0,7.0,8.0,9.0],\"xaxis\":\"x\",\"y\":[7.7257113090384415,-0.42673835136256993,-0.4044866952860591,-0.4054645851739833,-0.37586996637057046,-0.37222134528481715,-0.2646767474204679,-0.24183780852147777,-0.10050378152592122,-0.11476596157913456,-0.06723348523552919,7.72870780943326,-0.10050378152592122,4.583427425182702,4.552833017189039,-0.764014996460057,-0.7974933716772836,2.3884090662451096,2.511511956509924,-0.41482320258063354],\"yaxis\":\"y\",\"type\":\"scatter\"},{\"hovertemplate\":\"Motif Id=108\\u003cbr\\u003eM - synapse_threshold=%{x}\\u003cbr\\u003eZ score=%{y}\\u003cextra\\u003e\\u003c\\u002fextra\\u003e\",\"legendgroup\":\"108\",\"marker\":{\"color\":\"#636efa\",\"symbol\":\"circle\"},\"mode\":\"markers\",\"name\":\"108\",\"orientation\":\"v\",\"showlegend\":true,\"x\":[1.0,10.0,11.0,12.0,13.0,14.0,15.0,16.0,17.0,18.0,19.0,2.0,20.0,3.0,4.0,5.0,6.0,7.0,8.0,9.0],\"xaxis\":\"x\",\"y\":[18.650826244158893,4.1551122746387374,6.348487999648227,5.912590150080065,-0.2531721631939904,-0.28415409826971644,-0.1697250257391052,-0.17011439313712282,-0.07769309688655059,-0.06337242505244779,-0.06337242505244779,18.19846676357175,-0.04476614810358452,12.537650326778552,12.699853296628811,8.174760982865667,9.064614140961922,10.212309254076654,9.69629187284946,4.03446937124439],\"yaxis\":\"y\",\"type\":\"scatter\"},{\"hovertemplate\":\"Motif Id=110\\u003cbr\\u003eM - synapse_threshold=%{x}\\u003cbr\\u003eZ score=%{y}\\u003cextra\\u003e\\u003c\\u002fextra\\u003e\",\"legendgroup\":\"110\",\"marker\":{\"color\":\"#EF553B\",\"symbol\":\"circle\"},\"mode\":\"markers\",\"name\":\"110\",\"orientation\":\"v\",\"showlegend\":true,\"x\":[1.0,10.0,11.0,12.0,13.0,14.0,15.0,16.0,17.0,18.0,19.0,2.0,20.0,3.0,4.0,5.0,6.0,7.0,8.0,9.0],\"xaxis\":\"x\",\"y\":[42.061860193984344,-0.1505182990156935,-0.13150664608837076,-0.14645975437882874,-0.11476596157913455,-0.11476596157913456,-0.07769309688655057,-0.10050378152592122,0.0,0.0,0.0,39.49230822226575,0.0,21.64641106844509,22.951727370698407,22.680710994222604,22.631087499508194,6.003553450119023,5.692592600593346,-0.156812512046795],\"yaxis\":\"y\",\"type\":\"scatter\"},{\"hovertemplate\":\"Motif Id=238\\u003cbr\\u003eM - synapse_threshold=%{x}\\u003cbr\\u003eZ score=%{y}\\u003cextra\\u003e\\u003c\\u002fextra\\u003e\",\"legendgroup\":\"238\",\"marker\":{\"color\":\"#00cc96\",\"symbol\":\"circle\"},\"mode\":\"markers\",\"name\":\"238\",\"orientation\":\"v\",\"showlegend\":true,\"x\":[1.0,10.0,11.0,12.0,13.0,14.0,15.0,16.0,17.0,18.0,19.0,2.0,20.0,3.0,4.0,5.0,6.0,7.0,8.0,9.0],\"xaxis\":\"x\",\"y\":[131.7999092549319,-0.031638599858416626,0.0,0.0,-0.03163859985841663,0.0,0.0,0.0,0.0,0.0,0.0,110.84217663053927,0.0,63.245561116974834,63.245561116974834,-0.03163859985841663,-0.03163859985841663,0.0,0.0,0.0],\"yaxis\":\"y\",\"type\":\"scatter\"}],                        {\"template\":{\"data\":{\"histogram2dcontour\":[{\"type\":\"histogram2dcontour\",\"colorbar\":{\"outlinewidth\":0,\"ticks\":\"\"},\"colorscale\":[[0.0,\"#0d0887\"],[0.1111111111111111,\"#46039f\"],[0.2222222222222222,\"#7201a8\"],[0.3333333333333333,\"#9c179e\"],[0.4444444444444444,\"#bd3786\"],[0.5555555555555556,\"#d8576b\"],[0.6666666666666666,\"#ed7953\"],[0.7777777777777778,\"#fb9f3a\"],[0.8888888888888888,\"#fdca26\"],[1.0,\"#f0f921\"]]}],\"choropleth\":[{\"type\":\"choropleth\",\"colorbar\":{\"outlinewidth\":0,\"ticks\":\"\"}}],\"histogram2d\":[{\"type\":\"histogram2d\",\"colorbar\":{\"outlinewidth\":0,\"ticks\":\"\"},\"colorscale\":[[0.0,\"#0d0887\"],[0.1111111111111111,\"#46039f\"],[0.2222222222222222,\"#7201a8\"],[0.3333333333333333,\"#9c179e\"],[0.4444444444444444,\"#bd3786\"],[0.5555555555555556,\"#d8576b\"],[0.6666666666666666,\"#ed7953\"],[0.7777777777777778,\"#fb9f3a\"],[0.8888888888888888,\"#fdca26\"],[1.0,\"#f0f921\"]]}],\"heatmap\":[{\"type\":\"heatmap\",\"colorbar\":{\"outlinewidth\":0,\"ticks\":\"\"},\"colorscale\":[[0.0,\"#0d0887\"],[0.1111111111111111,\"#46039f\"],[0.2222222222222222,\"#7201a8\"],[0.3333333333333333,\"#9c179e\"],[0.4444444444444444,\"#bd3786\"],[0.5555555555555556,\"#d8576b\"],[0.6666666666666666,\"#ed7953\"],[0.7777777777777778,\"#fb9f3a\"],[0.8888888888888888,\"#fdca26\"],[1.0,\"#f0f921\"]]}],\"heatmapgl\":[{\"type\":\"heatmapgl\",\"colorbar\":{\"outlinewidth\":0,\"ticks\":\"\"},\"colorscale\":[[0.0,\"#0d0887\"],[0.1111111111111111,\"#46039f\"],[0.2222222222222222,\"#7201a8\"],[0.3333333333333333,\"#9c179e\"],[0.4444444444444444,\"#bd3786\"],[0.5555555555555556,\"#d8576b\"],[0.6666666666666666,\"#ed7953\"],[0.7777777777777778,\"#fb9f3a\"],[0.8888888888888888,\"#fdca26\"],[1.0,\"#f0f921\"]]}],\"contourcarpet\":[{\"type\":\"contourcarpet\",\"colorbar\":{\"outlinewidth\":0,\"ticks\":\"\"}}],\"contour\":[{\"type\":\"contour\",\"colorbar\":{\"outlinewidth\":0,\"ticks\":\"\"},\"colorscale\":[[0.0,\"#0d0887\"],[0.1111111111111111,\"#46039f\"],[0.2222222222222222,\"#7201a8\"],[0.3333333333333333,\"#9c179e\"],[0.4444444444444444,\"#bd3786\"],[0.5555555555555556,\"#d8576b\"],[0.6666666666666666,\"#ed7953\"],[0.7777777777777778,\"#fb9f3a\"],[0.8888888888888888,\"#fdca26\"],[1.0,\"#f0f921\"]]}],\"surface\":[{\"type\":\"surface\",\"colorbar\":{\"outlinewidth\":0,\"ticks\":\"\"},\"colorscale\":[[0.0,\"#0d0887\"],[0.1111111111111111,\"#46039f\"],[0.2222222222222222,\"#7201a8\"],[0.3333333333333333,\"#9c179e\"],[0.4444444444444444,\"#bd3786\"],[0.5555555555555556,\"#d8576b\"],[0.6666666666666666,\"#ed7953\"],[0.7777777777777778,\"#fb9f3a\"],[0.8888888888888888,\"#fdca26\"],[1.0,\"#f0f921\"]]}],\"mesh3d\":[{\"type\":\"mesh3d\",\"colorbar\":{\"outlinewidth\":0,\"ticks\":\"\"}}],\"scatter\":[{\"fillpattern\":{\"fillmode\":\"overlay\",\"size\":10,\"solidity\":0.2},\"type\":\"scatter\"}],\"parcoords\":[{\"type\":\"parcoords\",\"line\":{\"colorbar\":{\"outlinewidth\":0,\"ticks\":\"\"}}}],\"scatterpolargl\":[{\"type\":\"scatterpolargl\",\"marker\":{\"colorbar\":{\"outlinewidth\":0,\"ticks\":\"\"}}}],\"bar\":[{\"error_x\":{\"color\":\"#2a3f5f\"},\"error_y\":{\"color\":\"#2a3f5f\"},\"marker\":{\"line\":{\"color\":\"#E5ECF6\",\"width\":0.5},\"pattern\":{\"fillmode\":\"overlay\",\"size\":10,\"solidity\":0.2}},\"type\":\"bar\"}],\"scattergeo\":[{\"type\":\"scattergeo\",\"marker\":{\"colorbar\":{\"outlinewidth\":0,\"ticks\":\"\"}}}],\"scatterpolar\":[{\"type\":\"scatterpolar\",\"marker\":{\"colorbar\":{\"outlinewidth\":0,\"ticks\":\"\"}}}],\"histogram\":[{\"marker\":{\"pattern\":{\"fillmode\":\"overlay\",\"size\":10,\"solidity\":0.2}},\"type\":\"histogram\"}],\"scattergl\":[{\"type\":\"scattergl\",\"marker\":{\"colorbar\":{\"outlinewidth\":0,\"ticks\":\"\"}}}],\"scatter3d\":[{\"type\":\"scatter3d\",\"line\":{\"colorbar\":{\"outlinewidth\":0,\"ticks\":\"\"}},\"marker\":{\"colorbar\":{\"outlinewidth\":0,\"ticks\":\"\"}}}],\"scattermapbox\":[{\"type\":\"scattermapbox\",\"marker\":{\"colorbar\":{\"outlinewidth\":0,\"ticks\":\"\"}}}],\"scatterternary\":[{\"type\":\"scatterternary\",\"marker\":{\"colorbar\":{\"outlinewidth\":0,\"ticks\":\"\"}}}],\"scattercarpet\":[{\"type\":\"scattercarpet\",\"marker\":{\"colorbar\":{\"outlinewidth\":0,\"ticks\":\"\"}}}],\"carpet\":[{\"aaxis\":{\"endlinecolor\":\"#2a3f5f\",\"gridcolor\":\"white\",\"linecolor\":\"white\",\"minorgridcolor\":\"white\",\"startlinecolor\":\"#2a3f5f\"},\"baxis\":{\"endlinecolor\":\"#2a3f5f\",\"gridcolor\":\"white\",\"linecolor\":\"white\",\"minorgridcolor\":\"white\",\"startlinecolor\":\"#2a3f5f\"},\"type\":\"carpet\"}],\"table\":[{\"cells\":{\"fill\":{\"color\":\"#EBF0F8\"},\"line\":{\"color\":\"white\"}},\"header\":{\"fill\":{\"color\":\"#C8D4E3\"},\"line\":{\"color\":\"white\"}},\"type\":\"table\"}],\"barpolar\":[{\"marker\":{\"line\":{\"color\":\"#E5ECF6\",\"width\":0.5},\"pattern\":{\"fillmode\":\"overlay\",\"size\":10,\"solidity\":0.2}},\"type\":\"barpolar\"}],\"pie\":[{\"automargin\":true,\"type\":\"pie\"}]},\"layout\":{\"autotypenumbers\":\"strict\",\"colorway\":[\"#636efa\",\"#EF553B\",\"#00cc96\",\"#ab63fa\",\"#FFA15A\",\"#19d3f3\",\"#FF6692\",\"#B6E880\",\"#FF97FF\",\"#FECB52\"],\"font\":{\"color\":\"#2a3f5f\"},\"hovermode\":\"closest\",\"hoverlabel\":{\"align\":\"left\"},\"paper_bgcolor\":\"white\",\"plot_bgcolor\":\"#E5ECF6\",\"polar\":{\"bgcolor\":\"#E5ECF6\",\"angularaxis\":{\"gridcolor\":\"white\",\"linecolor\":\"white\",\"ticks\":\"\"},\"radialaxis\":{\"gridcolor\":\"white\",\"linecolor\":\"white\",\"ticks\":\"\"}},\"ternary\":{\"bgcolor\":\"#E5ECF6\",\"aaxis\":{\"gridcolor\":\"white\",\"linecolor\":\"white\",\"ticks\":\"\"},\"baxis\":{\"gridcolor\":\"white\",\"linecolor\":\"white\",\"ticks\":\"\"},\"caxis\":{\"gridcolor\":\"white\",\"linecolor\":\"white\",\"ticks\":\"\"}},\"coloraxis\":{\"colorbar\":{\"outlinewidth\":0,\"ticks\":\"\"}},\"colorscale\":{\"sequential\":[[0.0,\"#0d0887\"],[0.1111111111111111,\"#46039f\"],[0.2222222222222222,\"#7201a8\"],[0.3333333333333333,\"#9c179e\"],[0.4444444444444444,\"#bd3786\"],[0.5555555555555556,\"#d8576b\"],[0.6666666666666666,\"#ed7953\"],[0.7777777777777778,\"#fb9f3a\"],[0.8888888888888888,\"#fdca26\"],[1.0,\"#f0f921\"]],\"sequentialminus\":[[0.0,\"#0d0887\"],[0.1111111111111111,\"#46039f\"],[0.2222222222222222,\"#7201a8\"],[0.3333333333333333,\"#9c179e\"],[0.4444444444444444,\"#bd3786\"],[0.5555555555555556,\"#d8576b\"],[0.6666666666666666,\"#ed7953\"],[0.7777777777777778,\"#fb9f3a\"],[0.8888888888888888,\"#fdca26\"],[1.0,\"#f0f921\"]],\"diverging\":[[0,\"#8e0152\"],[0.1,\"#c51b7d\"],[0.2,\"#de77ae\"],[0.3,\"#f1b6da\"],[0.4,\"#fde0ef\"],[0.5,\"#f7f7f7\"],[0.6,\"#e6f5d0\"],[0.7,\"#b8e186\"],[0.8,\"#7fbc41\"],[0.9,\"#4d9221\"],[1,\"#276419\"]]},\"xaxis\":{\"gridcolor\":\"white\",\"linecolor\":\"white\",\"ticks\":\"\",\"title\":{\"standoff\":15},\"zerolinecolor\":\"white\",\"automargin\":true,\"zerolinewidth\":2},\"yaxis\":{\"gridcolor\":\"white\",\"linecolor\":\"white\",\"ticks\":\"\",\"title\":{\"standoff\":15},\"zerolinecolor\":\"white\",\"automargin\":true,\"zerolinewidth\":2},\"scene\":{\"xaxis\":{\"backgroundcolor\":\"#E5ECF6\",\"gridcolor\":\"white\",\"linecolor\":\"white\",\"showbackground\":true,\"ticks\":\"\",\"zerolinecolor\":\"white\",\"gridwidth\":2},\"yaxis\":{\"backgroundcolor\":\"#E5ECF6\",\"gridcolor\":\"white\",\"linecolor\":\"white\",\"showbackground\":true,\"ticks\":\"\",\"zerolinecolor\":\"white\",\"gridwidth\":2},\"zaxis\":{\"backgroundcolor\":\"#E5ECF6\",\"gridcolor\":\"white\",\"linecolor\":\"white\",\"showbackground\":true,\"ticks\":\"\",\"zerolinecolor\":\"white\",\"gridwidth\":2}},\"shapedefaults\":{\"line\":{\"color\":\"#2a3f5f\"}},\"annotationdefaults\":{\"arrowcolor\":\"#2a3f5f\",\"arrowhead\":0,\"arrowwidth\":1},\"geo\":{\"bgcolor\":\"white\",\"landcolor\":\"#E5ECF6\",\"subunitcolor\":\"white\",\"showland\":true,\"showlakes\":true,\"lakecolor\":\"white\"},\"title\":{\"x\":0.05},\"mapbox\":{\"style\":\"light\"}}},\"xaxis\":{\"anchor\":\"y\",\"domain\":[0.0,1.0],\"title\":{\"text\":\"M - synapse_threshold\"}},\"yaxis\":{\"anchor\":\"x\",\"domain\":[0.0,1.0],\"title\":{\"text\":\"Z score\"}},\"legend\":{\"title\":{\"text\":\"Motif Id\"},\"tracegroupgap\":0},\"title\":{\"text\":\"Z-score as a function of M. network: durbin\"}},                        {\"responsive\": true}                    ).then(function(){\n",
       "                            \n",
       "var gd = document.getElementById('eeb397b8-8ca9-4b33-b77a-27b20308c70a');\n",
       "var x = new MutationObserver(function (mutations, observer) {{\n",
       "        var display = window.getComputedStyle(gd).display;\n",
       "        if (!display || display === 'none') {{\n",
       "            console.log([gd, 'removed!']);\n",
       "            Plotly.purge(gd);\n",
       "            observer.disconnect();\n",
       "        }}\n",
       "}});\n",
       "\n",
       "// Listen for the removal of the full notebook cells\n",
       "var notebookContainer = gd.closest('#notebook-container');\n",
       "if (notebookContainer) {{\n",
       "    x.observe(notebookContainer, {childList: true});\n",
       "}}\n",
       "\n",
       "// Listen for the clearing of the current output cell\n",
       "var outputEl = gd.closest('.output');\n",
       "if (outputEl) {{\n",
       "    x.observe(outputEl, {childList: true});\n",
       "}}\n",
       "\n",
       "                        })                };                });            </script>        </div>"
      ]
     },
     "metadata": {},
     "output_type": "display_data"
    }
   ],
   "source": [
    "read_z_scores_as_func_of_m('durbin')"
   ]
  }
 ],
 "metadata": {
  "kernelspec": {
   "display_name": "Python 3 (ipykernel)",
   "language": "python",
   "name": "python3"
  },
  "language_info": {
   "codemirror_mode": {
    "name": "ipython",
    "version": 3
   },
   "file_extension": ".py",
   "mimetype": "text/x-python",
   "name": "python",
   "nbconvert_exporter": "python",
   "pygments_lexer": "ipython3",
   "version": "3.9.13"
  }
 },
 "nbformat": 4,
 "nbformat_minor": 5
}
